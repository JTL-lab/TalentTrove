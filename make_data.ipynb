{
 "cells": [
  {
   "cell_type": "markdown",
   "source": [
    "## Talent Trove Data Generation"
   ],
   "metadata": {
    "collapsed": false
   },
   "id": "1d7b5e30237646f"
  },
  {
   "cell_type": "markdown",
   "source": [
    "In order to populate our Talent Trove database, we used real job postings from job aggregators online (e.g. Simplify by Michael Yan) for our job postings, and Mockaroo for our other tables. Additionally, we use an LLM as shown below to generate authentic-seeming reviews for the Review table text. \n",
    "\n",
    "The procedure used to obtain and preprocess each data CSV for the Talent Trove Database relations is described under its respective heading."
   ],
   "metadata": {
    "collapsed": false
   },
   "id": "ec0fd8522aae10ad"
  },
  {
   "cell_type": "markdown",
   "source": [
    "### Import Statements"
   ],
   "metadata": {
    "collapsed": false
   },
   "id": "7b276d44ce60d5be"
  },
  {
   "cell_type": "code",
   "outputs": [],
   "source": [
    "import pandas as pd\n",
    "import numpy as np\n",
    "import random"
   ],
   "metadata": {
    "collapsed": false,
    "ExecuteTime": {
     "end_time": "2024-03-01T02:54:12.398248Z",
     "start_time": "2024-03-01T02:54:12.137665Z"
    }
   },
   "id": "ec01320404d9f943",
   "execution_count": 1
  },
  {
   "cell_type": "markdown",
   "source": [
    "### Full Time Job\n",
    "- The data scraped from the above included the Role, Location, Application Link, and Date Posted for each tuple. \n",
    "\n",
    "#### Preprocessing: \n",
    "- \n",
    "- "
   ],
   "metadata": {
    "collapsed": false
   },
   "id": "1447f0172d039c04"
  },
  {
   "cell_type": "code",
   "outputs": [
    {
     "data": {
      "text/plain": "                    Company                                    Role  \\\n0       Squarepoint Capital                       Financing Trader    \n1     Altera Digital Health   Associate Software Engineer - Remote    \n2     Altera Digital Health   Associate Software Engineer - Remote    \n3                     Lucid                           Data Analyst    \n4                     Lucid                           Data Analyst    \n..                      ...                                     ...   \n475        Virtu Financial              Trading Operations Analyst    \n476  Tower Research Capital          Quantitative Research Analyst    \n477                Harmony                     AI Backend Engineer    \n478           IXL Learning          Software Engineer ‚Äì New Grad    \n479           Konrad Group      Software Developer ‚Äì Entry Level    \n\n                                              Location  \\\n0                                          London, UK    \n1                                       Remote in USA    \n2                                       Remote in USA    \n3                                         Raleigh, NC    \n4                                  Salt Lake City, UT    \n..                                                 ...   \n475                                        Austin, TX    \n476   <details><summary>**5 locations**</summary>La...   \n477                                     Palo Alto, CA    \n478                                       Raleigh, NC    \n479                             Vancouver, BC, Canada    \n\n                                      Application/Link Date Posted  \n0     <a href=\"https://boards.greenhouse.io/embed/j...     Feb 28   \n1     <a href=\"https://boards.greenhouse.io/alterad...     Feb 28   \n2     <a href=\"https://boards.greenhouse.io/alterad...     Feb 28   \n3     <a href=\"https://boards.greenhouse.io/lucidso...     Feb 28   \n4     <a href=\"https://boards.greenhouse.io/lucidso...     Feb 28   \n..                                                 ...         ...  \n475                                              üîí      Jul 19   \n476   <a href=\"https://www.tower-research.com/open-...     Jul 19   \n477                                              üîí      Jul 19   \n478                                              üîí      Jul 19   \n479                                              üîí      Jul 19   \n\n[480 rows x 5 columns]",
      "text/html": "<div>\n<style scoped>\n    .dataframe tbody tr th:only-of-type {\n        vertical-align: middle;\n    }\n\n    .dataframe tbody tr th {\n        vertical-align: top;\n    }\n\n    .dataframe thead th {\n        text-align: right;\n    }\n</style>\n<table border=\"1\" class=\"dataframe\">\n  <thead>\n    <tr style=\"text-align: right;\">\n      <th></th>\n      <th>Company</th>\n      <th>Role</th>\n      <th>Location</th>\n      <th>Application/Link</th>\n      <th>Date Posted</th>\n    </tr>\n  </thead>\n  <tbody>\n    <tr>\n      <th>0</th>\n      <td>Squarepoint Capital</td>\n      <td>Financing Trader</td>\n      <td>London, UK</td>\n      <td>&lt;a href=\"https://boards.greenhouse.io/embed/j...</td>\n      <td>Feb 28</td>\n    </tr>\n    <tr>\n      <th>1</th>\n      <td>Altera Digital Health</td>\n      <td>Associate Software Engineer - Remote</td>\n      <td>Remote in USA</td>\n      <td>&lt;a href=\"https://boards.greenhouse.io/alterad...</td>\n      <td>Feb 28</td>\n    </tr>\n    <tr>\n      <th>2</th>\n      <td>Altera Digital Health</td>\n      <td>Associate Software Engineer - Remote</td>\n      <td>Remote in USA</td>\n      <td>&lt;a href=\"https://boards.greenhouse.io/alterad...</td>\n      <td>Feb 28</td>\n    </tr>\n    <tr>\n      <th>3</th>\n      <td>Lucid</td>\n      <td>Data Analyst</td>\n      <td>Raleigh, NC</td>\n      <td>&lt;a href=\"https://boards.greenhouse.io/lucidso...</td>\n      <td>Feb 28</td>\n    </tr>\n    <tr>\n      <th>4</th>\n      <td>Lucid</td>\n      <td>Data Analyst</td>\n      <td>Salt Lake City, UT</td>\n      <td>&lt;a href=\"https://boards.greenhouse.io/lucidso...</td>\n      <td>Feb 28</td>\n    </tr>\n    <tr>\n      <th>...</th>\n      <td>...</td>\n      <td>...</td>\n      <td>...</td>\n      <td>...</td>\n      <td>...</td>\n    </tr>\n    <tr>\n      <th>475</th>\n      <td>Virtu Financial</td>\n      <td>Trading Operations Analyst</td>\n      <td>Austin, TX</td>\n      <td>üîí</td>\n      <td>Jul 19</td>\n    </tr>\n    <tr>\n      <th>476</th>\n      <td>Tower Research Capital</td>\n      <td>Quantitative Research Analyst</td>\n      <td>&lt;details&gt;&lt;summary&gt;**5 locations**&lt;/summary&gt;La...</td>\n      <td>&lt;a href=\"https://www.tower-research.com/open-...</td>\n      <td>Jul 19</td>\n    </tr>\n    <tr>\n      <th>477</th>\n      <td>Harmony</td>\n      <td>AI Backend Engineer</td>\n      <td>Palo Alto, CA</td>\n      <td>üîí</td>\n      <td>Jul 19</td>\n    </tr>\n    <tr>\n      <th>478</th>\n      <td>IXL Learning</td>\n      <td>Software Engineer ‚Äì New Grad</td>\n      <td>Raleigh, NC</td>\n      <td>üîí</td>\n      <td>Jul 19</td>\n    </tr>\n    <tr>\n      <th>479</th>\n      <td>Konrad Group</td>\n      <td>Software Developer ‚Äì Entry Level</td>\n      <td>Vancouver, BC, Canada</td>\n      <td>üîí</td>\n      <td>Jul 19</td>\n    </tr>\n  </tbody>\n</table>\n<p>480 rows × 5 columns</p>\n</div>"
     },
     "execution_count": 10,
     "metadata": {},
     "output_type": "execute_result"
    }
   ],
   "source": [
    "full_time_job_df = pd.read_csv('data/Tech_Full_Time_Roles.csv', header=0)\n",
    "full_time_job_df"
   ],
   "metadata": {
    "collapsed": false,
    "ExecuteTime": {
     "end_time": "2024-03-01T03:58:27.713008Z",
     "start_time": "2024-03-01T03:58:27.706053Z"
    }
   },
   "id": "cc12f2e657b05cf8",
   "execution_count": 10
  },
  {
   "cell_type": "code",
   "outputs": [
    {
     "name": "stdout",
     "output_type": "stream",
     "text": [
      "300\n"
     ]
    }
   ],
   "source": [
    "# Keep only 300 rows\n",
    "full_time_job_df = full_time_job_df[:300]\n",
    "print(len(full_time_job_df))"
   ],
   "metadata": {
    "collapsed": false,
    "ExecuteTime": {
     "end_time": "2024-03-01T15:38:39.819508Z",
     "start_time": "2024-03-01T15:38:39.816748Z"
    }
   },
   "id": "4cc355842ceccc8",
   "execution_count": 32
  },
  {
   "cell_type": "code",
   "outputs": [],
   "source": [],
   "metadata": {
    "collapsed": false
   },
   "id": "5a820f8f1385b4d2"
  },
  {
   "cell_type": "code",
   "outputs": [],
   "source": [
    "full_time_requirements = ['Tableau data analyst certification', 'AWS Cloud Practitioner certification']"
   ],
   "metadata": {
    "collapsed": false
   },
   "id": "89e41f4ac87e6273"
  },
  {
   "cell_type": "code",
   "outputs": [],
   "source": [
    "# Save final job postings df for full time roles in 'Full_Time_Job.csv' for Full_Time_Job relation!"
   ],
   "metadata": {
    "collapsed": false
   },
   "id": "85601a15a5fe6983"
  },
  {
   "cell_type": "markdown",
   "source": [
    "### Internship\n",
    "- Our original internship data, stored in Tech_Internship.csv, was sourced from the Github page \"Summer 2024 Tech Internships by Pitt CSC & Simplify\" owned by Simplify, found here, on February 28th: https://github.com/SimplifyJobs/Summer2024-Internships\n",
    "- This included Company, Role, Location, Application/Link, and Date Posted for each role. \n",
    "- For our Internship_Job table, we need Job_ID, Experience, Location, Requirements, Skills, Salaried (boolean), and Duration attributes.\n",
    " \n",
    "#### Preprocessing: \n",
    "- In the initial data scraped from Github, a 'Ü≥' symbol was present in certain rows' 'Company' column denoting that the company name is the same as in the row before it. We impute the correct company name for each occurrence of this symbol.\n",
    "- We dropped the Application/Link and Date Posted columns. \n",
    "- We generate a unique integer Job_ID for each internship posting.\n",
    "- We randomly impute a value for the Experience, Requirements, Skills, Saliaried, and Duration attributes."
   ],
   "metadata": {
    "collapsed": false
   },
   "id": "de460f19d689cd59"
  },
  {
   "cell_type": "code",
   "outputs": [
    {
     "data": {
      "text/plain": "                Company                                               Role  \\\n0                 Chime         Software Engineer Intern - Growth Funding    \n1                  CACI         Software Development Intern - Summer 2024    \n2       Western Digital           Summer 2024 Software Engineering Intern    \n3              Veracode   Solutions Architecture and Security Consultin...   \n4                  Roku                  Machine Learning Engineer Intern    \n...                 ...                                                ...   \n2480            Zurich                                Internship Program     \n2481              BTIG                           Software Engineer Intern    \n2482   Internet Brands                           Intern Software Engineer    \n2483         Panasonic                Software Electrical Engineer Intern    \n2484        Capital One                  Product Development Intern  üõÇ    \n\n                        Location  \\\n0                            SF    \n1                 Remote in USA    \n2                  Longmont, CO    \n3                Burlington, MA    \n4                  San Jose, CA    \n...                          ...   \n2480         Multiple Locations    \n2481         Multiple Locations    \n2482    Los Angeles, California    \n2483                         TX    \n2484   McLean, VA</br>Plano, TX    \n\n                                       Application/Link Date Posted  \n0      <a href=\"https://boards.greenhouse.io/chime/j...     Feb 28   \n1      <a href=\"https://caci.wd1.myworkdayjobs.com/E...     Feb 28   \n2      <a href=\"https://jobs.smartrecruiters.com/Wes...     Feb 27   \n3      <a href=\"https://www.veracode.com/career/job?...     Feb 27   \n4      <a href=\"https://www.weareroku.com/jobs/57580...     Feb 27   \n...                                                 ...         ...  \n2480                                              üîí    May 2023   \n2481                                              üîí    May 2023   \n2482                                              üîí    May 2023   \n2483                                              üîí    May 2023   \n2484                                              üîí    May 2023   \n\n[2485 rows x 5 columns]",
      "text/html": "<div>\n<style scoped>\n    .dataframe tbody tr th:only-of-type {\n        vertical-align: middle;\n    }\n\n    .dataframe tbody tr th {\n        vertical-align: top;\n    }\n\n    .dataframe thead th {\n        text-align: right;\n    }\n</style>\n<table border=\"1\" class=\"dataframe\">\n  <thead>\n    <tr style=\"text-align: right;\">\n      <th></th>\n      <th>Company</th>\n      <th>Role</th>\n      <th>Location</th>\n      <th>Application/Link</th>\n      <th>Date Posted</th>\n    </tr>\n  </thead>\n  <tbody>\n    <tr>\n      <th>0</th>\n      <td>Chime</td>\n      <td>Software Engineer Intern - Growth Funding</td>\n      <td>SF</td>\n      <td>&lt;a href=\"https://boards.greenhouse.io/chime/j...</td>\n      <td>Feb 28</td>\n    </tr>\n    <tr>\n      <th>1</th>\n      <td>CACI</td>\n      <td>Software Development Intern - Summer 2024</td>\n      <td>Remote in USA</td>\n      <td>&lt;a href=\"https://caci.wd1.myworkdayjobs.com/E...</td>\n      <td>Feb 28</td>\n    </tr>\n    <tr>\n      <th>2</th>\n      <td>Western Digital</td>\n      <td>Summer 2024 Software Engineering Intern</td>\n      <td>Longmont, CO</td>\n      <td>&lt;a href=\"https://jobs.smartrecruiters.com/Wes...</td>\n      <td>Feb 27</td>\n    </tr>\n    <tr>\n      <th>3</th>\n      <td>Veracode</td>\n      <td>Solutions Architecture and Security Consultin...</td>\n      <td>Burlington, MA</td>\n      <td>&lt;a href=\"https://www.veracode.com/career/job?...</td>\n      <td>Feb 27</td>\n    </tr>\n    <tr>\n      <th>4</th>\n      <td>Roku</td>\n      <td>Machine Learning Engineer Intern</td>\n      <td>San Jose, CA</td>\n      <td>&lt;a href=\"https://www.weareroku.com/jobs/57580...</td>\n      <td>Feb 27</td>\n    </tr>\n    <tr>\n      <th>...</th>\n      <td>...</td>\n      <td>...</td>\n      <td>...</td>\n      <td>...</td>\n      <td>...</td>\n    </tr>\n    <tr>\n      <th>2480</th>\n      <td>Zurich</td>\n      <td>Internship Program</td>\n      <td>Multiple Locations</td>\n      <td>üîí</td>\n      <td>May 2023</td>\n    </tr>\n    <tr>\n      <th>2481</th>\n      <td>BTIG</td>\n      <td>Software Engineer Intern</td>\n      <td>Multiple Locations</td>\n      <td>üîí</td>\n      <td>May 2023</td>\n    </tr>\n    <tr>\n      <th>2482</th>\n      <td>Internet Brands</td>\n      <td>Intern Software Engineer</td>\n      <td>Los Angeles, California</td>\n      <td>üîí</td>\n      <td>May 2023</td>\n    </tr>\n    <tr>\n      <th>2483</th>\n      <td>Panasonic</td>\n      <td>Software Electrical Engineer Intern</td>\n      <td>TX</td>\n      <td>üîí</td>\n      <td>May 2023</td>\n    </tr>\n    <tr>\n      <th>2484</th>\n      <td>Capital One</td>\n      <td>Product Development Intern  üõÇ</td>\n      <td>McLean, VA&lt;/br&gt;Plano, TX</td>\n      <td>üîí</td>\n      <td>May 2023</td>\n    </tr>\n  </tbody>\n</table>\n<p>2485 rows × 5 columns</p>\n</div>"
     },
     "execution_count": 28,
     "metadata": {},
     "output_type": "execute_result"
    }
   ],
   "source": [
    "internship_df = pd.read_csv('data/Tech_Internship.csv', header=0)\n",
    "internship_df"
   ],
   "metadata": {
    "collapsed": false,
    "ExecuteTime": {
     "end_time": "2024-03-01T15:35:04.618839Z",
     "start_time": "2024-03-01T15:35:04.603845Z"
    }
   },
   "id": "9c357b972e4cabf9",
   "execution_count": 28
  },
  {
   "cell_type": "code",
   "outputs": [
    {
     "name": "stdout",
     "output_type": "stream",
     "text": [
      "300\n"
     ]
    }
   ],
   "source": [
    "# Keep only 300 rows\n",
    "internship_df = internship_df[:300]\n",
    "print(len(internship_df))"
   ],
   "metadata": {
    "collapsed": false,
    "ExecuteTime": {
     "end_time": "2024-03-01T15:35:05.758014Z",
     "start_time": "2024-03-01T15:35:05.754935Z"
    }
   },
   "id": "1ff4213b78308e04",
   "execution_count": 29
  },
  {
   "cell_type": "code",
   "outputs": [
    {
     "name": "stdout",
     "output_type": "stream",
     "text": [
      "There are no more 'Ü≥' symbols in the 'Company' column!\n"
     ]
    },
    {
     "name": "stderr",
     "output_type": "stream",
     "text": [
      "/tmp/ipykernel_8576/1524265969.py:4: SettingWithCopyWarning: \n",
      "A value is trying to be set on a copy of a slice from a DataFrame\n",
      "\n",
      "See the caveats in the documentation: https://pandas.pydata.org/pandas-docs/stable/user_guide/indexing.html#returning-a-view-versus-a-copy\n",
      "  internship_df.loc[i, 'Company'] = internship_df.loc[i-1, 'Company']\n"
     ]
    },
    {
     "data": {
      "text/plain": "               Company                                               Role  \\\n0                Chime         Software Engineer Intern - Growth Funding    \n1                 CACI         Software Development Intern - Summer 2024    \n2      Western Digital           Summer 2024 Software Engineering Intern    \n3             Veracode   Solutions Architecture and Security Consultin...   \n4                 Roku                  Machine Learning Engineer Intern    \n..                 ...                                                ...   \n295  Inari Agriculture                    Enterprise Data Quality Intern    \n296          Quantcast         Software Engineering Intern - Summer 2024    \n297  Electric Hydrogen                       Firmware Intern Summer 2024    \n298           Niantic                        Software Engineering Intern    \n299     Marshall Wace           Technology Internship (Summer 2024) üõÇ    \n\n                Location                                   Application/Link  \\\n0                    SF    <a href=\"https://boards.greenhouse.io/chime/j...   \n1         Remote in USA    <a href=\"https://caci.wd1.myworkdayjobs.com/E...   \n2          Longmont, CO    <a href=\"https://jobs.smartrecruiters.com/Wes...   \n3        Burlington, MA    <a href=\"https://www.veracode.com/career/job?...   \n4          San Jose, CA    <a href=\"https://www.weareroku.com/jobs/57580...   \n..                   ...                                                ...   \n295       Cambridge, MA    <a href=\"https://boards.greenhouse.io/inariag...   \n296         Seattle, WA    <a href=\"https://jobs.lever.co/quantcast/9ab8...   \n297        San Jose, CA    <a href=\"https://eh2.com/careers?gh_jid=43477...   \n298   San Francisco, CA    <a href=\"https://app.ripplematch.com/v2/publi...   \n299        New York, NY    <a href=\"https://www.mwam.com/news/internship...   \n\n    Date Posted  \n0       Feb 28   \n1       Feb 28   \n2       Feb 27   \n3       Feb 27   \n4       Feb 27   \n..          ...  \n295     Dec 08   \n296     Dec 07   \n297     Dec 07   \n298     Dec 06   \n299     Dec 06   \n\n[300 rows x 5 columns]",
      "text/html": "<div>\n<style scoped>\n    .dataframe tbody tr th:only-of-type {\n        vertical-align: middle;\n    }\n\n    .dataframe tbody tr th {\n        vertical-align: top;\n    }\n\n    .dataframe thead th {\n        text-align: right;\n    }\n</style>\n<table border=\"1\" class=\"dataframe\">\n  <thead>\n    <tr style=\"text-align: right;\">\n      <th></th>\n      <th>Company</th>\n      <th>Role</th>\n      <th>Location</th>\n      <th>Application/Link</th>\n      <th>Date Posted</th>\n    </tr>\n  </thead>\n  <tbody>\n    <tr>\n      <th>0</th>\n      <td>Chime</td>\n      <td>Software Engineer Intern - Growth Funding</td>\n      <td>SF</td>\n      <td>&lt;a href=\"https://boards.greenhouse.io/chime/j...</td>\n      <td>Feb 28</td>\n    </tr>\n    <tr>\n      <th>1</th>\n      <td>CACI</td>\n      <td>Software Development Intern - Summer 2024</td>\n      <td>Remote in USA</td>\n      <td>&lt;a href=\"https://caci.wd1.myworkdayjobs.com/E...</td>\n      <td>Feb 28</td>\n    </tr>\n    <tr>\n      <th>2</th>\n      <td>Western Digital</td>\n      <td>Summer 2024 Software Engineering Intern</td>\n      <td>Longmont, CO</td>\n      <td>&lt;a href=\"https://jobs.smartrecruiters.com/Wes...</td>\n      <td>Feb 27</td>\n    </tr>\n    <tr>\n      <th>3</th>\n      <td>Veracode</td>\n      <td>Solutions Architecture and Security Consultin...</td>\n      <td>Burlington, MA</td>\n      <td>&lt;a href=\"https://www.veracode.com/career/job?...</td>\n      <td>Feb 27</td>\n    </tr>\n    <tr>\n      <th>4</th>\n      <td>Roku</td>\n      <td>Machine Learning Engineer Intern</td>\n      <td>San Jose, CA</td>\n      <td>&lt;a href=\"https://www.weareroku.com/jobs/57580...</td>\n      <td>Feb 27</td>\n    </tr>\n    <tr>\n      <th>...</th>\n      <td>...</td>\n      <td>...</td>\n      <td>...</td>\n      <td>...</td>\n      <td>...</td>\n    </tr>\n    <tr>\n      <th>295</th>\n      <td>Inari Agriculture</td>\n      <td>Enterprise Data Quality Intern</td>\n      <td>Cambridge, MA</td>\n      <td>&lt;a href=\"https://boards.greenhouse.io/inariag...</td>\n      <td>Dec 08</td>\n    </tr>\n    <tr>\n      <th>296</th>\n      <td>Quantcast</td>\n      <td>Software Engineering Intern - Summer 2024</td>\n      <td>Seattle, WA</td>\n      <td>&lt;a href=\"https://jobs.lever.co/quantcast/9ab8...</td>\n      <td>Dec 07</td>\n    </tr>\n    <tr>\n      <th>297</th>\n      <td>Electric Hydrogen</td>\n      <td>Firmware Intern Summer 2024</td>\n      <td>San Jose, CA</td>\n      <td>&lt;a href=\"https://eh2.com/careers?gh_jid=43477...</td>\n      <td>Dec 07</td>\n    </tr>\n    <tr>\n      <th>298</th>\n      <td>Niantic</td>\n      <td>Software Engineering Intern</td>\n      <td>San Francisco, CA</td>\n      <td>&lt;a href=\"https://app.ripplematch.com/v2/publi...</td>\n      <td>Dec 06</td>\n    </tr>\n    <tr>\n      <th>299</th>\n      <td>Marshall Wace</td>\n      <td>Technology Internship (Summer 2024) üõÇ</td>\n      <td>New York, NY</td>\n      <td>&lt;a href=\"https://www.mwam.com/news/internship...</td>\n      <td>Dec 06</td>\n    </tr>\n  </tbody>\n</table>\n<p>300 rows × 5 columns</p>\n</div>"
     },
     "execution_count": 30,
     "metadata": {},
     "output_type": "execute_result"
    }
   ],
   "source": [
    "# Replace 'Ü≥' symbols with correct company names, i.e. company name before that row\n",
    "for i in range(len(internship_df)): \n",
    "    if internship_df.loc[i, 'Company'] == 'Ü≥ ' or internship_df.loc[i, 'Company'] == ' ‚Ü≥ ':\n",
    "        internship_df.loc[i, 'Company'] = internship_df.loc[i-1, 'Company']\n",
    "        \n",
    "# Verify this was done correctly for all tuples\n",
    "if not (internship_df['Company'] == 'Ü≥').any() or (internship_df['Company'] == ',Ü≥').any():\n",
    "    print(\"There are no more 'Ü≥' symbols in the 'Company' column!\")\n",
    "internship_df"
   ],
   "metadata": {
    "collapsed": false,
    "ExecuteTime": {
     "end_time": "2024-03-01T15:35:07.382587Z",
     "start_time": "2024-03-01T15:35:07.364455Z"
    }
   },
   "id": "14b468a2a9279a6f",
   "execution_count": 30
  },
  {
   "cell_type": "code",
   "outputs": [
    {
     "name": "stderr",
     "output_type": "stream",
     "text": [
      "/tmp/ipykernel_8576/919899477.py:2: SettingWithCopyWarning: \n",
      "A value is trying to be set on a copy of a slice from a DataFrame\n",
      "\n",
      "See the caveats in the documentation: https://pandas.pydata.org/pandas-docs/stable/user_guide/indexing.html#returning-a-view-versus-a-copy\n",
      "  internship_df.drop_duplicates(inplace=True)\n"
     ]
    },
    {
     "data": {
      "text/plain": "               Company                                               Role  \\\n0                Chime         Software Engineer Intern - Growth Funding    \n1                 CACI         Software Development Intern - Summer 2024    \n2      Western Digital           Summer 2024 Software Engineering Intern    \n3             Veracode   Solutions Architecture and Security Consultin...   \n4                 Roku                  Machine Learning Engineer Intern    \n..                 ...                                                ...   \n295  Inari Agriculture                    Enterprise Data Quality Intern    \n296          Quantcast         Software Engineering Intern - Summer 2024    \n297  Electric Hydrogen                       Firmware Intern Summer 2024    \n298           Niantic                        Software Engineering Intern    \n299     Marshall Wace           Technology Internship (Summer 2024) üõÇ    \n\n                Location                                   Application/Link  \\\n0                    SF    <a href=\"https://boards.greenhouse.io/chime/j...   \n1         Remote in USA    <a href=\"https://caci.wd1.myworkdayjobs.com/E...   \n2          Longmont, CO    <a href=\"https://jobs.smartrecruiters.com/Wes...   \n3        Burlington, MA    <a href=\"https://www.veracode.com/career/job?...   \n4          San Jose, CA    <a href=\"https://www.weareroku.com/jobs/57580...   \n..                   ...                                                ...   \n295       Cambridge, MA    <a href=\"https://boards.greenhouse.io/inariag...   \n296         Seattle, WA    <a href=\"https://jobs.lever.co/quantcast/9ab8...   \n297        San Jose, CA    <a href=\"https://eh2.com/careers?gh_jid=43477...   \n298   San Francisco, CA    <a href=\"https://app.ripplematch.com/v2/publi...   \n299        New York, NY    <a href=\"https://www.mwam.com/news/internship...   \n\n    Date Posted  \n0       Feb 28   \n1       Feb 28   \n2       Feb 27   \n3       Feb 27   \n4       Feb 27   \n..          ...  \n295     Dec 08   \n296     Dec 07   \n297     Dec 07   \n298     Dec 06   \n299     Dec 06   \n\n[300 rows x 5 columns]",
      "text/html": "<div>\n<style scoped>\n    .dataframe tbody tr th:only-of-type {\n        vertical-align: middle;\n    }\n\n    .dataframe tbody tr th {\n        vertical-align: top;\n    }\n\n    .dataframe thead th {\n        text-align: right;\n    }\n</style>\n<table border=\"1\" class=\"dataframe\">\n  <thead>\n    <tr style=\"text-align: right;\">\n      <th></th>\n      <th>Company</th>\n      <th>Role</th>\n      <th>Location</th>\n      <th>Application/Link</th>\n      <th>Date Posted</th>\n    </tr>\n  </thead>\n  <tbody>\n    <tr>\n      <th>0</th>\n      <td>Chime</td>\n      <td>Software Engineer Intern - Growth Funding</td>\n      <td>SF</td>\n      <td>&lt;a href=\"https://boards.greenhouse.io/chime/j...</td>\n      <td>Feb 28</td>\n    </tr>\n    <tr>\n      <th>1</th>\n      <td>CACI</td>\n      <td>Software Development Intern - Summer 2024</td>\n      <td>Remote in USA</td>\n      <td>&lt;a href=\"https://caci.wd1.myworkdayjobs.com/E...</td>\n      <td>Feb 28</td>\n    </tr>\n    <tr>\n      <th>2</th>\n      <td>Western Digital</td>\n      <td>Summer 2024 Software Engineering Intern</td>\n      <td>Longmont, CO</td>\n      <td>&lt;a href=\"https://jobs.smartrecruiters.com/Wes...</td>\n      <td>Feb 27</td>\n    </tr>\n    <tr>\n      <th>3</th>\n      <td>Veracode</td>\n      <td>Solutions Architecture and Security Consultin...</td>\n      <td>Burlington, MA</td>\n      <td>&lt;a href=\"https://www.veracode.com/career/job?...</td>\n      <td>Feb 27</td>\n    </tr>\n    <tr>\n      <th>4</th>\n      <td>Roku</td>\n      <td>Machine Learning Engineer Intern</td>\n      <td>San Jose, CA</td>\n      <td>&lt;a href=\"https://www.weareroku.com/jobs/57580...</td>\n      <td>Feb 27</td>\n    </tr>\n    <tr>\n      <th>...</th>\n      <td>...</td>\n      <td>...</td>\n      <td>...</td>\n      <td>...</td>\n      <td>...</td>\n    </tr>\n    <tr>\n      <th>295</th>\n      <td>Inari Agriculture</td>\n      <td>Enterprise Data Quality Intern</td>\n      <td>Cambridge, MA</td>\n      <td>&lt;a href=\"https://boards.greenhouse.io/inariag...</td>\n      <td>Dec 08</td>\n    </tr>\n    <tr>\n      <th>296</th>\n      <td>Quantcast</td>\n      <td>Software Engineering Intern - Summer 2024</td>\n      <td>Seattle, WA</td>\n      <td>&lt;a href=\"https://jobs.lever.co/quantcast/9ab8...</td>\n      <td>Dec 07</td>\n    </tr>\n    <tr>\n      <th>297</th>\n      <td>Electric Hydrogen</td>\n      <td>Firmware Intern Summer 2024</td>\n      <td>San Jose, CA</td>\n      <td>&lt;a href=\"https://eh2.com/careers?gh_jid=43477...</td>\n      <td>Dec 07</td>\n    </tr>\n    <tr>\n      <th>298</th>\n      <td>Niantic</td>\n      <td>Software Engineering Intern</td>\n      <td>San Francisco, CA</td>\n      <td>&lt;a href=\"https://app.ripplematch.com/v2/publi...</td>\n      <td>Dec 06</td>\n    </tr>\n    <tr>\n      <th>299</th>\n      <td>Marshall Wace</td>\n      <td>Technology Internship (Summer 2024) üõÇ</td>\n      <td>New York, NY</td>\n      <td>&lt;a href=\"https://www.mwam.com/news/internship...</td>\n      <td>Dec 06</td>\n    </tr>\n  </tbody>\n</table>\n<p>300 rows × 5 columns</p>\n</div>"
     },
     "execution_count": 31,
     "metadata": {},
     "output_type": "execute_result"
    }
   ],
   "source": [
    "# Drop duplicate rows\n",
    "internship_df.drop_duplicates(inplace=True)\n",
    "internship_df"
   ],
   "metadata": {
    "collapsed": false,
    "ExecuteTime": {
     "end_time": "2024-03-01T15:35:23.917464Z",
     "start_time": "2024-03-01T15:35:23.909471Z"
    }
   },
   "id": "4ab296b7e7eb0aaa",
   "execution_count": 31
  },
  {
   "cell_type": "code",
   "outputs": [],
   "source": [
    "# Drop Date Posted"
   ],
   "metadata": {
    "collapsed": false
   },
   "id": "8b20563327d03015"
  },
  {
   "cell_type": "code",
   "outputs": [],
   "source": [
    "# Assign a Job_ID to each internship\n"
   ],
   "metadata": {
    "collapsed": false
   },
   "id": "a79016ecd4935abb"
  },
  {
   "cell_type": "code",
   "outputs": [],
   "source": [
    "# Randomly impute a value for the Experience, Requirements, Skills, Saliaried, and Duration attributes for each tuple \n",
    "intern_experience_vals = ['None Required', 'Previous industry internship experience required (>=3 months)', 'Previous research/academic experience required (>=3 months)', 'Minimum 1 year previous industry internship experience required', 'Previous research/academic highly desirable']\n",
    "intern_requirements_vals = ['Willing to relocate', 'Willing to travel up to 20%', 'Must meet base technical criteria', 'Must be proficient in Microsoft Office Suite', 'Good sense of humor', 'Ability to work independently', 'Familiar with Agile methodologies', 'Must have valid license', 'Must tolerate dogs in the workplace']\n",
    "intern_skills_vals = ['Python', 'Scala', 'Pandas', 'AI/ML frameworks', 'PyTorch', 'Keras', 'Tensorflow', 'AWS', 'Azure', 'Google Cloud Platform', 'SQL', 'Oracle Databases', 'Databases', 'Java', 'Ruby', 'Ruby SQL', 'Flask', 'SQLite', 'PostGreSQL', 'Tableau', 'PowerBI', 'Software Development', 'C++', 'C#', 'HTML/CSS', 'JavaScript', 'MongoDB', 'Neo4j', 'Agile', 'Scrum', 'Vue.js', 'React', 'Angular', 'Docker', 'Kubernetes', 'Sphinx', 'Jupyter', 'Git', 'Algorithms', 'Django', 'Problem-Solving', 'Leadership', 'Communication', 'Web Development', 'Frontend Stack', 'Backend Stack']\n",
    "duration_vals = ['4 weeks', '8 weeks', '12 weeks', '16 weeks']\n",
    "\n",
    "# Make only 5% of values Salaried = False because I don't want to live in a database world where most companies benefit off the backs of innocent, eager interns \n"
   ],
   "metadata": {
    "collapsed": false
   },
   "id": "63b36dce4f491d4c"
  },
  {
   "cell_type": "code",
   "outputs": [],
   "source": [
    "# Save final internships df in 'Internship_Job.csv' for Internship_Job relation!"
   ],
   "metadata": {
    "collapsed": false
   },
   "id": "c4cc73d184b7eb95"
  },
  {
   "cell_type": "markdown",
   "source": [
    "### Coop Job"
   ],
   "metadata": {
    "collapsed": false
   },
   "id": "8c46e1e59eb544c4"
  },
  {
   "cell_type": "code",
   "outputs": [],
   "source": [],
   "metadata": {
    "collapsed": false
   },
   "id": "4dfa36adc18aee06"
  },
  {
   "cell_type": "code",
   "outputs": [],
   "source": [],
   "metadata": {
    "collapsed": false
   },
   "id": "2604483ab9c3529"
  },
  {
   "cell_type": "markdown",
   "source": [
    "### Company\n",
    "- Mockaroo was used to obtain the Company_ID, Location, and Name column values for N rows, where N was the number of unique companies identified in our job postings. \n",
    "- We imput the Name attribute for the Company relation with Company names obtained from our job posting sources (namely, both full time roles and internship roles). There should be one entry in the Company table for each unique company found in either job postings CSV. \n",
    "- Because the location option on Mockaroo was only a street address, we impute a random city, state, and zip code as shown below.\n",
    "- Additionally, we assign a random company type for the Type column. We arbitrarily deem 80% of the companies as private corporations, 5% as non-profit, and 15% as startups. "
   ],
   "metadata": {
    "collapsed": false
   },
   "id": "9f8aeefe9e4c110f"
  },
  {
   "cell_type": "code",
   "outputs": [
    {
     "data": {
      "text/plain": "                     Company_ID                 Address          Name  Type\n0    01HQXAVCMWEXEJYR1CVK9QPZQ7          414 Havey Hill  Dazzlesphere   NaN\n1    01HQXAVCMXRWCNSE1XGC88Z5KR      8989 Swallow Plaza         Skiba   NaN\n2    01HQXAVCMXTRC4Y81YV23C1ZQ8          4778 Sage Lane      Edgeclub   NaN\n3    01HQXAVCMXCRNPED9KR90QAGJN          42 Corben Road      Gigazoom   NaN\n4    01HQXAVCMXJ11TZ0EJQNZST6SP      3 Sycamore Parkway         Quire   NaN\n..                          ...                     ...           ...   ...\n306  01HQXAVCQZT7RE42HZ1RT90XT3         23 Corscot Road        Meezzy   NaN\n307  01HQXAVCQZYF5N9HVP8QNCXW97     566 Cordelia Center        BlogXS   NaN\n308  01HQXAVCR0PX1DP6TJNR6FAJ4M    935 Old Gate Parkway        Skyble   NaN\n309  01HQXAVCR0113ZBMBE6D7ARSM2  3792 Rutledge Crossing         Mydeo   NaN\n310  01HQXAVCR009GYX7Z739EYC6DQ       9204 East Parkway       Tagopia   NaN\n\n[311 rows x 4 columns]",
      "text/html": "<div>\n<style scoped>\n    .dataframe tbody tr th:only-of-type {\n        vertical-align: middle;\n    }\n\n    .dataframe tbody tr th {\n        vertical-align: top;\n    }\n\n    .dataframe thead th {\n        text-align: right;\n    }\n</style>\n<table border=\"1\" class=\"dataframe\">\n  <thead>\n    <tr style=\"text-align: right;\">\n      <th></th>\n      <th>Company_ID</th>\n      <th>Address</th>\n      <th>Name</th>\n      <th>Type</th>\n    </tr>\n  </thead>\n  <tbody>\n    <tr>\n      <th>0</th>\n      <td>01HQXAVCMWEXEJYR1CVK9QPZQ7</td>\n      <td>414 Havey Hill</td>\n      <td>Dazzlesphere</td>\n      <td>NaN</td>\n    </tr>\n    <tr>\n      <th>1</th>\n      <td>01HQXAVCMXRWCNSE1XGC88Z5KR</td>\n      <td>8989 Swallow Plaza</td>\n      <td>Skiba</td>\n      <td>NaN</td>\n    </tr>\n    <tr>\n      <th>2</th>\n      <td>01HQXAVCMXTRC4Y81YV23C1ZQ8</td>\n      <td>4778 Sage Lane</td>\n      <td>Edgeclub</td>\n      <td>NaN</td>\n    </tr>\n    <tr>\n      <th>3</th>\n      <td>01HQXAVCMXCRNPED9KR90QAGJN</td>\n      <td>42 Corben Road</td>\n      <td>Gigazoom</td>\n      <td>NaN</td>\n    </tr>\n    <tr>\n      <th>4</th>\n      <td>01HQXAVCMXJ11TZ0EJQNZST6SP</td>\n      <td>3 Sycamore Parkway</td>\n      <td>Quire</td>\n      <td>NaN</td>\n    </tr>\n    <tr>\n      <th>...</th>\n      <td>...</td>\n      <td>...</td>\n      <td>...</td>\n      <td>...</td>\n    </tr>\n    <tr>\n      <th>306</th>\n      <td>01HQXAVCQZT7RE42HZ1RT90XT3</td>\n      <td>23 Corscot Road</td>\n      <td>Meezzy</td>\n      <td>NaN</td>\n    </tr>\n    <tr>\n      <th>307</th>\n      <td>01HQXAVCQZYF5N9HVP8QNCXW97</td>\n      <td>566 Cordelia Center</td>\n      <td>BlogXS</td>\n      <td>NaN</td>\n    </tr>\n    <tr>\n      <th>308</th>\n      <td>01HQXAVCR0PX1DP6TJNR6FAJ4M</td>\n      <td>935 Old Gate Parkway</td>\n      <td>Skyble</td>\n      <td>NaN</td>\n    </tr>\n    <tr>\n      <th>309</th>\n      <td>01HQXAVCR0113ZBMBE6D7ARSM2</td>\n      <td>3792 Rutledge Crossing</td>\n      <td>Mydeo</td>\n      <td>NaN</td>\n    </tr>\n    <tr>\n      <th>310</th>\n      <td>01HQXAVCR009GYX7Z739EYC6DQ</td>\n      <td>9204 East Parkway</td>\n      <td>Tagopia</td>\n      <td>NaN</td>\n    </tr>\n  </tbody>\n</table>\n<p>311 rows × 4 columns</p>\n</div>"
     },
     "execution_count": 64,
     "metadata": {},
     "output_type": "execute_result"
    }
   ],
   "source": [
    "company_df = pd.read_csv('data/Mockaroo/Mockaroo-Company.csv', header=0)\n",
    "company_df"
   ],
   "metadata": {
    "collapsed": false,
    "ExecuteTime": {
     "end_time": "2024-03-01T16:18:01.444427Z",
     "start_time": "2024-03-01T16:18:01.436783Z"
    }
   },
   "id": "b27b3dea9e75b14b",
   "execution_count": 64
  },
  {
   "cell_type": "code",
   "outputs": [
    {
     "name": "stdout",
     "output_type": "stream",
     "text": [
      "There are 311 companies in the dataset.\n"
     ]
    }
   ],
   "source": [
    "# Get names of all unique companies represented in the database\n",
    "full_time_companies = full_time_job_df['Company'].unique().tolist()\n",
    "internship_companies = internship_df['Company'].unique().tolist()\n",
    "all_company_names = list(set(full_time_companies + internship_companies))\n",
    "print(f\"There are {len(all_company_names)} companies in the dataset.\")"
   ],
   "metadata": {
    "collapsed": false,
    "ExecuteTime": {
     "end_time": "2024-03-01T16:18:02.748876Z",
     "start_time": "2024-03-01T16:18:02.745051Z"
    }
   },
   "id": "c0597380547c7b0",
   "execution_count": 65
  },
  {
   "cell_type": "code",
   "outputs": [
    {
     "data": {
      "text/plain": "                     Company_ID                 Address  \\\n0    01HQXAVCMWEXEJYR1CVK9QPZQ7          414 Havey Hill   \n1    01HQXAVCMXRWCNSE1XGC88Z5KR      8989 Swallow Plaza   \n2    01HQXAVCMXTRC4Y81YV23C1ZQ8          4778 Sage Lane   \n3    01HQXAVCMXCRNPED9KR90QAGJN          42 Corben Road   \n4    01HQXAVCMXJ11TZ0EJQNZST6SP      3 Sycamore Parkway   \n..                          ...                     ...   \n306  01HQXAVCQZT7RE42HZ1RT90XT3         23 Corscot Road   \n307  01HQXAVCQZYF5N9HVP8QNCXW97     566 Cordelia Center   \n308  01HQXAVCR0PX1DP6TJNR6FAJ4M    935 Old Gate Parkway   \n309  01HQXAVCR0113ZBMBE6D7ARSM2  3792 Rutledge Crossing   \n310  01HQXAVCR009GYX7Z739EYC6DQ       9204 East Parkway   \n\n                      Name  Type  \n0    Altera Digital Health   NaN  \n1                Scale AI    NaN  \n2           Voya Financial   NaN  \n3                 Formlabs   NaN  \n4             Tenstorrent    NaN  \n..                     ...   ...  \n306                   HCVT   NaN  \n307                 Zynga    NaN  \n308          Pure Storage    NaN  \n309             Grammarly    NaN  \n310           MarketAxess    NaN  \n\n[311 rows x 4 columns]",
      "text/html": "<div>\n<style scoped>\n    .dataframe tbody tr th:only-of-type {\n        vertical-align: middle;\n    }\n\n    .dataframe tbody tr th {\n        vertical-align: top;\n    }\n\n    .dataframe thead th {\n        text-align: right;\n    }\n</style>\n<table border=\"1\" class=\"dataframe\">\n  <thead>\n    <tr style=\"text-align: right;\">\n      <th></th>\n      <th>Company_ID</th>\n      <th>Address</th>\n      <th>Name</th>\n      <th>Type</th>\n    </tr>\n  </thead>\n  <tbody>\n    <tr>\n      <th>0</th>\n      <td>01HQXAVCMWEXEJYR1CVK9QPZQ7</td>\n      <td>414 Havey Hill</td>\n      <td>Altera Digital Health</td>\n      <td>NaN</td>\n    </tr>\n    <tr>\n      <th>1</th>\n      <td>01HQXAVCMXRWCNSE1XGC88Z5KR</td>\n      <td>8989 Swallow Plaza</td>\n      <td>Scale AI</td>\n      <td>NaN</td>\n    </tr>\n    <tr>\n      <th>2</th>\n      <td>01HQXAVCMXTRC4Y81YV23C1ZQ8</td>\n      <td>4778 Sage Lane</td>\n      <td>Voya Financial</td>\n      <td>NaN</td>\n    </tr>\n    <tr>\n      <th>3</th>\n      <td>01HQXAVCMXCRNPED9KR90QAGJN</td>\n      <td>42 Corben Road</td>\n      <td>Formlabs</td>\n      <td>NaN</td>\n    </tr>\n    <tr>\n      <th>4</th>\n      <td>01HQXAVCMXJ11TZ0EJQNZST6SP</td>\n      <td>3 Sycamore Parkway</td>\n      <td>Tenstorrent</td>\n      <td>NaN</td>\n    </tr>\n    <tr>\n      <th>...</th>\n      <td>...</td>\n      <td>...</td>\n      <td>...</td>\n      <td>...</td>\n    </tr>\n    <tr>\n      <th>306</th>\n      <td>01HQXAVCQZT7RE42HZ1RT90XT3</td>\n      <td>23 Corscot Road</td>\n      <td>HCVT</td>\n      <td>NaN</td>\n    </tr>\n    <tr>\n      <th>307</th>\n      <td>01HQXAVCQZYF5N9HVP8QNCXW97</td>\n      <td>566 Cordelia Center</td>\n      <td>Zynga</td>\n      <td>NaN</td>\n    </tr>\n    <tr>\n      <th>308</th>\n      <td>01HQXAVCR0PX1DP6TJNR6FAJ4M</td>\n      <td>935 Old Gate Parkway</td>\n      <td>Pure Storage</td>\n      <td>NaN</td>\n    </tr>\n    <tr>\n      <th>309</th>\n      <td>01HQXAVCR0113ZBMBE6D7ARSM2</td>\n      <td>3792 Rutledge Crossing</td>\n      <td>Grammarly</td>\n      <td>NaN</td>\n    </tr>\n    <tr>\n      <th>310</th>\n      <td>01HQXAVCR009GYX7Z739EYC6DQ</td>\n      <td>9204 East Parkway</td>\n      <td>MarketAxess</td>\n      <td>NaN</td>\n    </tr>\n  </tbody>\n</table>\n<p>311 rows × 4 columns</p>\n</div>"
     },
     "execution_count": 66,
     "metadata": {},
     "output_type": "execute_result"
    }
   ],
   "source": [
    "# Replace Company Name values with real names\n",
    "company_df['Name'] = all_company_names\n",
    "company_df"
   ],
   "metadata": {
    "collapsed": false,
    "ExecuteTime": {
     "end_time": "2024-03-01T16:18:03.578066Z",
     "start_time": "2024-03-01T16:18:03.570599Z"
    }
   },
   "id": "18a03e793dec80ce",
   "execution_count": 66
  },
  {
   "cell_type": "code",
   "outputs": [
    {
     "data": {
      "text/plain": "                     Company_ID  \\\n0    01HQXAVCMWEXEJYR1CVK9QPZQ7   \n1    01HQXAVCMXRWCNSE1XGC88Z5KR   \n2    01HQXAVCMXTRC4Y81YV23C1ZQ8   \n3    01HQXAVCMXCRNPED9KR90QAGJN   \n4    01HQXAVCMXJ11TZ0EJQNZST6SP   \n..                          ...   \n306  01HQXAVCQZT7RE42HZ1RT90XT3   \n307  01HQXAVCQZYF5N9HVP8QNCXW97   \n308  01HQXAVCR0PX1DP6TJNR6FAJ4M   \n309  01HQXAVCR0113ZBMBE6D7ARSM2   \n310  01HQXAVCR009GYX7Z739EYC6DQ   \n\n                                               Address                   Name  \\\n0             414 Havey Hill, New York, New York 10003  Altera Digital Health   \n1          8989 Swallow Plaza, Chicago, Illinois 60018              Scale AI    \n2              4778 Sage Lane, Chicago, Illinois 60007         Voya Financial   \n3      42 Corben Road, San Francisco, California 94107               Formlabs   \n4             3 Sycamore Parkway, Austin, Texas 778613           Tenstorrent    \n..                                                 ...                    ...   \n306       23 Corscot Road, Boston, Massachusetts 02110                   HCVT   \n307  566 Cordelia Center, Los Angeles, California 9...                 Zynga    \n308  935 Old Gate Parkway, San Francisco, Californi...          Pure Storage    \n309        3792 Rutledge Crossing, Austin, Texas 73301             Grammarly    \n310            9204 East Parkway, Miami, Florida 33126           MarketAxess    \n\n     Type  \n0     NaN  \n1     NaN  \n2     NaN  \n3     NaN  \n4     NaN  \n..    ...  \n306   NaN  \n307   NaN  \n308   NaN  \n309   NaN  \n310   NaN  \n\n[311 rows x 4 columns]",
      "text/html": "<div>\n<style scoped>\n    .dataframe tbody tr th:only-of-type {\n        vertical-align: middle;\n    }\n\n    .dataframe tbody tr th {\n        vertical-align: top;\n    }\n\n    .dataframe thead th {\n        text-align: right;\n    }\n</style>\n<table border=\"1\" class=\"dataframe\">\n  <thead>\n    <tr style=\"text-align: right;\">\n      <th></th>\n      <th>Company_ID</th>\n      <th>Address</th>\n      <th>Name</th>\n      <th>Type</th>\n    </tr>\n  </thead>\n  <tbody>\n    <tr>\n      <th>0</th>\n      <td>01HQXAVCMWEXEJYR1CVK9QPZQ7</td>\n      <td>414 Havey Hill, New York, New York 10003</td>\n      <td>Altera Digital Health</td>\n      <td>NaN</td>\n    </tr>\n    <tr>\n      <th>1</th>\n      <td>01HQXAVCMXRWCNSE1XGC88Z5KR</td>\n      <td>8989 Swallow Plaza, Chicago, Illinois 60018</td>\n      <td>Scale AI</td>\n      <td>NaN</td>\n    </tr>\n    <tr>\n      <th>2</th>\n      <td>01HQXAVCMXTRC4Y81YV23C1ZQ8</td>\n      <td>4778 Sage Lane, Chicago, Illinois 60007</td>\n      <td>Voya Financial</td>\n      <td>NaN</td>\n    </tr>\n    <tr>\n      <th>3</th>\n      <td>01HQXAVCMXCRNPED9KR90QAGJN</td>\n      <td>42 Corben Road, San Francisco, California 94107</td>\n      <td>Formlabs</td>\n      <td>NaN</td>\n    </tr>\n    <tr>\n      <th>4</th>\n      <td>01HQXAVCMXJ11TZ0EJQNZST6SP</td>\n      <td>3 Sycamore Parkway, Austin, Texas 778613</td>\n      <td>Tenstorrent</td>\n      <td>NaN</td>\n    </tr>\n    <tr>\n      <th>...</th>\n      <td>...</td>\n      <td>...</td>\n      <td>...</td>\n      <td>...</td>\n    </tr>\n    <tr>\n      <th>306</th>\n      <td>01HQXAVCQZT7RE42HZ1RT90XT3</td>\n      <td>23 Corscot Road, Boston, Massachusetts 02110</td>\n      <td>HCVT</td>\n      <td>NaN</td>\n    </tr>\n    <tr>\n      <th>307</th>\n      <td>01HQXAVCQZYF5N9HVP8QNCXW97</td>\n      <td>566 Cordelia Center, Los Angeles, California 9...</td>\n      <td>Zynga</td>\n      <td>NaN</td>\n    </tr>\n    <tr>\n      <th>308</th>\n      <td>01HQXAVCR0PX1DP6TJNR6FAJ4M</td>\n      <td>935 Old Gate Parkway, San Francisco, Californi...</td>\n      <td>Pure Storage</td>\n      <td>NaN</td>\n    </tr>\n    <tr>\n      <th>309</th>\n      <td>01HQXAVCR0113ZBMBE6D7ARSM2</td>\n      <td>3792 Rutledge Crossing, Austin, Texas 73301</td>\n      <td>Grammarly</td>\n      <td>NaN</td>\n    </tr>\n    <tr>\n      <th>310</th>\n      <td>01HQXAVCR009GYX7Z739EYC6DQ</td>\n      <td>9204 East Parkway, Miami, Florida 33126</td>\n      <td>MarketAxess</td>\n      <td>NaN</td>\n    </tr>\n  </tbody>\n</table>\n<p>311 rows × 4 columns</p>\n</div>"
     },
     "execution_count": 67,
     "metadata": {},
     "output_type": "execute_result"
    }
   ],
   "source": [
    "# Mapping of 'tech hub' cities, their state, and some example zip codes (making sure the city, state, and zip codes are coherent relative to each other). \n",
    "# Zip codes were obtained from Google searches. \n",
    "tech_hub_cities_mapping = {\n",
    "    'New York': {'state': 'New York', 'zip_codes': ['10001', '10002', '10003']},\n",
    "    'San Francisco': {'state': 'California', 'zip_codes': ['94102', '94103', '94107']},\n",
    "    'Los Angeles': {'state': 'California', 'zip_codes': ['90001', '90002', '90003']},\n",
    "    'Austin': {'state': 'Texas', 'zip_codes': ['73301', '73344', '778613']},\n",
    "    'Dallas': {'state': 'Texas', 'zip_codes': ['75001', '75019', '75032']},\n",
    "    'Seattle': {'state': 'Washington', 'zip_codes': ['98101', '98102', '98103']},\n",
    "    'Atlanta': {'state': 'Georgia', 'zip_codes': ['30033', '30301', '30303']},\n",
    "    'Denver': {'state': 'Colorado', 'zip_codes': ['80014', '80019', '80022']},\n",
    "    'Chicago': {'state': 'Illinois', 'zip_codes': ['60007', '60018', '60106']},\n",
    "    'Miami': {'state': 'Florida', 'zip_codes': ['33101', '33109', '33126']},\n",
    "    'Tampa': {'state': 'Florida', 'zip_codes': ['33592', '33601', '33602']},\n",
    "    'Boston': {'state': 'Massachusetts', 'zip_codes': ['02108', '02110', '02111']}\n",
    "}\n",
    "\n",
    "def generate_address(str_address):\n",
    "    \"\"\"Randomly selects a city and corresponding state and zip code from tech hub cities dictionary above.\"\"\"\n",
    "    city = random.choice(list(tech_hub_cities_mapping.keys()))\n",
    "    state = tech_hub_cities_mapping[city]['state']\n",
    "    zip_code = random.choice(tech_hub_cities_mapping[city]['zip_codes'])\n",
    "    return str_address + ', ' + city + ', ' + state + ' ' + zip_code\n",
    "\n",
    "# Assign random city, state, and zip code to each address\n",
    "company_df['Address'] = company_df['Address'].apply(lambda x: generate_address(x).strip('\"'))\n",
    "company_df['Address'] = company_df['Address'].astype(str)\n",
    "company_df "
   ],
   "metadata": {
    "collapsed": false,
    "ExecuteTime": {
     "end_time": "2024-03-01T16:18:06.972954Z",
     "start_time": "2024-03-01T16:18:06.961098Z"
    }
   },
   "id": "6c8ab412613aed29",
   "execution_count": 67
  },
  {
   "cell_type": "code",
   "outputs": [
    {
     "data": {
      "text/plain": "                     Company_ID  \\\n0    01HQXAVCMWEXEJYR1CVK9QPZQ7   \n1    01HQXAVCMXRWCNSE1XGC88Z5KR   \n2    01HQXAVCMXTRC4Y81YV23C1ZQ8   \n3    01HQXAVCMXCRNPED9KR90QAGJN   \n4    01HQXAVCMXJ11TZ0EJQNZST6SP   \n..                          ...   \n306  01HQXAVCQZT7RE42HZ1RT90XT3   \n307  01HQXAVCQZYF5N9HVP8QNCXW97   \n308  01HQXAVCR0PX1DP6TJNR6FAJ4M   \n309  01HQXAVCR0113ZBMBE6D7ARSM2   \n310  01HQXAVCR009GYX7Z739EYC6DQ   \n\n                                               Address                   Name  \\\n0             414 Havey Hill, New York, New York 10003  Altera Digital Health   \n1          8989 Swallow Plaza, Chicago, Illinois 60018              Scale AI    \n2              4778 Sage Lane, Chicago, Illinois 60007         Voya Financial   \n3      42 Corben Road, San Francisco, California 94107               Formlabs   \n4             3 Sycamore Parkway, Austin, Texas 778613           Tenstorrent    \n..                                                 ...                    ...   \n306       23 Corscot Road, Boston, Massachusetts 02110                   HCVT   \n307  566 Cordelia Center, Los Angeles, California 9...                 Zynga    \n308  935 Old Gate Parkway, San Francisco, Californi...          Pure Storage    \n309        3792 Rutledge Crossing, Austin, Texas 73301             Grammarly    \n310            9204 East Parkway, Miami, Florida 33126           MarketAxess    \n\n                    Type  \n0    Private Corporation  \n1    Private Corporation  \n2    Private Corporation  \n3    Private Corporation  \n4    Private Corporation  \n..                   ...  \n306  Private Corporation  \n307  Private Corporation  \n308              Startup  \n309  Private Corporation  \n310  Private Corporation  \n\n[311 rows x 4 columns]",
      "text/html": "<div>\n<style scoped>\n    .dataframe tbody tr th:only-of-type {\n        vertical-align: middle;\n    }\n\n    .dataframe tbody tr th {\n        vertical-align: top;\n    }\n\n    .dataframe thead th {\n        text-align: right;\n    }\n</style>\n<table border=\"1\" class=\"dataframe\">\n  <thead>\n    <tr style=\"text-align: right;\">\n      <th></th>\n      <th>Company_ID</th>\n      <th>Address</th>\n      <th>Name</th>\n      <th>Type</th>\n    </tr>\n  </thead>\n  <tbody>\n    <tr>\n      <th>0</th>\n      <td>01HQXAVCMWEXEJYR1CVK9QPZQ7</td>\n      <td>414 Havey Hill, New York, New York 10003</td>\n      <td>Altera Digital Health</td>\n      <td>Private Corporation</td>\n    </tr>\n    <tr>\n      <th>1</th>\n      <td>01HQXAVCMXRWCNSE1XGC88Z5KR</td>\n      <td>8989 Swallow Plaza, Chicago, Illinois 60018</td>\n      <td>Scale AI</td>\n      <td>Private Corporation</td>\n    </tr>\n    <tr>\n      <th>2</th>\n      <td>01HQXAVCMXTRC4Y81YV23C1ZQ8</td>\n      <td>4778 Sage Lane, Chicago, Illinois 60007</td>\n      <td>Voya Financial</td>\n      <td>Private Corporation</td>\n    </tr>\n    <tr>\n      <th>3</th>\n      <td>01HQXAVCMXCRNPED9KR90QAGJN</td>\n      <td>42 Corben Road, San Francisco, California 94107</td>\n      <td>Formlabs</td>\n      <td>Private Corporation</td>\n    </tr>\n    <tr>\n      <th>4</th>\n      <td>01HQXAVCMXJ11TZ0EJQNZST6SP</td>\n      <td>3 Sycamore Parkway, Austin, Texas 778613</td>\n      <td>Tenstorrent</td>\n      <td>Private Corporation</td>\n    </tr>\n    <tr>\n      <th>...</th>\n      <td>...</td>\n      <td>...</td>\n      <td>...</td>\n      <td>...</td>\n    </tr>\n    <tr>\n      <th>306</th>\n      <td>01HQXAVCQZT7RE42HZ1RT90XT3</td>\n      <td>23 Corscot Road, Boston, Massachusetts 02110</td>\n      <td>HCVT</td>\n      <td>Private Corporation</td>\n    </tr>\n    <tr>\n      <th>307</th>\n      <td>01HQXAVCQZYF5N9HVP8QNCXW97</td>\n      <td>566 Cordelia Center, Los Angeles, California 9...</td>\n      <td>Zynga</td>\n      <td>Private Corporation</td>\n    </tr>\n    <tr>\n      <th>308</th>\n      <td>01HQXAVCR0PX1DP6TJNR6FAJ4M</td>\n      <td>935 Old Gate Parkway, San Francisco, Californi...</td>\n      <td>Pure Storage</td>\n      <td>Startup</td>\n    </tr>\n    <tr>\n      <th>309</th>\n      <td>01HQXAVCR0113ZBMBE6D7ARSM2</td>\n      <td>3792 Rutledge Crossing, Austin, Texas 73301</td>\n      <td>Grammarly</td>\n      <td>Private Corporation</td>\n    </tr>\n    <tr>\n      <th>310</th>\n      <td>01HQXAVCR009GYX7Z739EYC6DQ</td>\n      <td>9204 East Parkway, Miami, Florida 33126</td>\n      <td>MarketAxess</td>\n      <td>Private Corporation</td>\n    </tr>\n  </tbody>\n</table>\n<p>311 rows × 4 columns</p>\n</div>"
     },
     "execution_count": 68,
     "metadata": {},
     "output_type": "execute_result"
    }
   ],
   "source": [
    "# Assign each company a random 'type' from some preset company types\n",
    "company_types = ['Private Corporation', 'Non-Profit Organization', 'Startup']\n",
    "probabilities = [0.80, 0.05, 0.15]\n",
    "company_df['Type'] = np.random.choice(company_types, size=len(company_df), p=probabilities)\n",
    "company_df"
   ],
   "metadata": {
    "collapsed": false,
    "ExecuteTime": {
     "end_time": "2024-03-01T16:18:12.350664Z",
     "start_time": "2024-03-01T16:18:12.341343Z"
    }
   },
   "id": "bd795f77d1f776d5",
   "execution_count": 68
  },
  {
   "cell_type": "code",
   "outputs": [],
   "source": [
    "# Save final company data\n",
    "company_df.to_csv('data/Company.csv', index=False)"
   ],
   "metadata": {
    "collapsed": false,
    "ExecuteTime": {
     "end_time": "2024-03-01T16:18:15.479070Z",
     "start_time": "2024-03-01T16:18:15.473273Z"
    }
   },
   "id": "21ca833163510b73",
   "execution_count": 69
  },
  {
   "cell_type": "markdown",
   "source": [
    "### Employee\n",
    "- Mockaroo was used to generate the Employee_ID, Name, Job Title, Department, and Company column values. \n",
    "- However, because Mockaroo generates either fake or random real company names that may or may not have been represented in our (real) job postings data, we modified the Company column by imputing it with random Company names sourced from our Company relation. This improves our application data's realism significantly by making the two relations more consistent with each other."
   ],
   "metadata": {
    "collapsed": false
   },
   "id": "99ad15cd8f14d769"
  },
  {
   "cell_type": "code",
   "outputs": [
    {
     "data": {
      "text/plain": "                   Employee_ID               Name  \\\n0   01HQ9SN558SBTGP3CJ0SFCNX58       Johan Debold   \n1   01HQ9SN559DXNCX8PZGSPX86DQ      Aaron Janicki   \n2   01HQ9SN55ADXDE35WM2X25FRFN   Atalanta Watting   \n3   01HQ9SN55BJ68WCF69VZ75WN9D       Kippie Caple   \n4   01HQ9SN55B1AQ4A44XRSQYVQ4B   Francklyn Jansey   \n..                         ...                ...   \n94  01HQ9SN57BECEEC1DEDFDV2HPN  Katheryn Joannidi   \n95  01HQ9SN57B6SHA3DBMQQWB97AV       Irwin Giffen   \n96  01HQ9SN57C19SH5TQ03KMD41XB      Sarette Cheel   \n97  01HQ9SN57DA8AY2Y6M4EE0KYVJ        Hillel Pero   \n98  01HQ9SN57DHCJ84D75BYFBF1JV      Natty Dagwell   \n\n                         Job Title            Department  \\\n0                  Design Engineer            Accounting   \n1   Payment Adjustment Coordinator            Accounting   \n2                Marketing Manager  Business Development   \n3                Director of Sales               Support   \n4           Administrative Officer                 Sales   \n..                             ...                   ...   \n94                       Professor               Support   \n95              Help Desk Operator              Services   \n96              Speech Pathologist    Product Management   \n97        Senior Financial Analyst  Business Development   \n98               Assistant Manager                 Sales   \n\n                      Company  \n0                    Lendbuzz  \n1                  Zeno Group  \n2        Second Order Effects  \n3                        Domo  \n4              Comerica Bank   \n..                        ...  \n94                     Tempus  \n95        Northwestern Mutual  \n96                     Skydio  \n97   The Walt Disney Company   \n98                      Ebay   \n\n[99 rows x 5 columns]",
      "text/html": "<div>\n<style scoped>\n    .dataframe tbody tr th:only-of-type {\n        vertical-align: middle;\n    }\n\n    .dataframe tbody tr th {\n        vertical-align: top;\n    }\n\n    .dataframe thead th {\n        text-align: right;\n    }\n</style>\n<table border=\"1\" class=\"dataframe\">\n  <thead>\n    <tr style=\"text-align: right;\">\n      <th></th>\n      <th>Employee_ID</th>\n      <th>Name</th>\n      <th>Job Title</th>\n      <th>Department</th>\n      <th>Company</th>\n    </tr>\n  </thead>\n  <tbody>\n    <tr>\n      <th>0</th>\n      <td>01HQ9SN558SBTGP3CJ0SFCNX58</td>\n      <td>Johan Debold</td>\n      <td>Design Engineer</td>\n      <td>Accounting</td>\n      <td>Lendbuzz</td>\n    </tr>\n    <tr>\n      <th>1</th>\n      <td>01HQ9SN559DXNCX8PZGSPX86DQ</td>\n      <td>Aaron Janicki</td>\n      <td>Payment Adjustment Coordinator</td>\n      <td>Accounting</td>\n      <td>Zeno Group</td>\n    </tr>\n    <tr>\n      <th>2</th>\n      <td>01HQ9SN55ADXDE35WM2X25FRFN</td>\n      <td>Atalanta Watting</td>\n      <td>Marketing Manager</td>\n      <td>Business Development</td>\n      <td>Second Order Effects</td>\n    </tr>\n    <tr>\n      <th>3</th>\n      <td>01HQ9SN55BJ68WCF69VZ75WN9D</td>\n      <td>Kippie Caple</td>\n      <td>Director of Sales</td>\n      <td>Support</td>\n      <td>Domo</td>\n    </tr>\n    <tr>\n      <th>4</th>\n      <td>01HQ9SN55B1AQ4A44XRSQYVQ4B</td>\n      <td>Francklyn Jansey</td>\n      <td>Administrative Officer</td>\n      <td>Sales</td>\n      <td>Comerica Bank</td>\n    </tr>\n    <tr>\n      <th>...</th>\n      <td>...</td>\n      <td>...</td>\n      <td>...</td>\n      <td>...</td>\n      <td>...</td>\n    </tr>\n    <tr>\n      <th>94</th>\n      <td>01HQ9SN57BECEEC1DEDFDV2HPN</td>\n      <td>Katheryn Joannidi</td>\n      <td>Professor</td>\n      <td>Support</td>\n      <td>Tempus</td>\n    </tr>\n    <tr>\n      <th>95</th>\n      <td>01HQ9SN57B6SHA3DBMQQWB97AV</td>\n      <td>Irwin Giffen</td>\n      <td>Help Desk Operator</td>\n      <td>Services</td>\n      <td>Northwestern Mutual</td>\n    </tr>\n    <tr>\n      <th>96</th>\n      <td>01HQ9SN57C19SH5TQ03KMD41XB</td>\n      <td>Sarette Cheel</td>\n      <td>Speech Pathologist</td>\n      <td>Product Management</td>\n      <td>Skydio</td>\n    </tr>\n    <tr>\n      <th>97</th>\n      <td>01HQ9SN57DA8AY2Y6M4EE0KYVJ</td>\n      <td>Hillel Pero</td>\n      <td>Senior Financial Analyst</td>\n      <td>Business Development</td>\n      <td>The Walt Disney Company</td>\n    </tr>\n    <tr>\n      <th>98</th>\n      <td>01HQ9SN57DHCJ84D75BYFBF1JV</td>\n      <td>Natty Dagwell</td>\n      <td>Assistant Manager</td>\n      <td>Sales</td>\n      <td>Ebay</td>\n    </tr>\n  </tbody>\n</table>\n<p>99 rows × 5 columns</p>\n</div>"
     },
     "execution_count": 56,
     "metadata": {},
     "output_type": "execute_result"
    }
   ],
   "source": [
    "employee_df = pd.read_csv('data/Mockaroo/Mockaroo-Employee.csv')\n",
    "employee_df"
   ],
   "metadata": {
    "collapsed": false,
    "ExecuteTime": {
     "end_time": "2024-03-01T16:11:05.003716Z",
     "start_time": "2024-03-01T16:11:04.996661Z"
    }
   },
   "id": "272eb4fdb7124a14",
   "execution_count": 56
  },
  {
   "cell_type": "markdown",
   "source": [
    "### Recruiter"
   ],
   "metadata": {
    "collapsed": false
   },
   "id": "b566e16fedfd48cf"
  },
  {
   "cell_type": "code",
   "outputs": [
    {
     "data": {
      "text/plain": "         Username                 Name                   Address  \\\n0      fbrafield0  Fernandina Brafield          7272 Mesta Drive   \n1         cmeech1        Corrine Meech          582 Warner Drive   \n2       dfeander2      Dalston Feander        12567 Elgar Street   \n3      rbloggett3      Rawley Bloggett           533 Orin Street   \n4      ehoulston4    Etheline Houlston            06 Pond Center   \n5        bgascar5           Ban Gascar             1 Surrey Road   \n6          lvose6             Loy Vose         3 Forest Run Road   \n7       ffossitt7   Ferdinanda Fossitt         98 Eliot Junction   \n8        abeagin8        Angela Beagin            0 Miller Place   \n9      mcrowcher9      Miltie Crowcher  3824 Messerschmidt Plaza   \n10      obrechera         Olia Brecher             02 Buhler Way   \n11       ahoutbyb          Anni Houtby            9 Fallview Way   \n12    elicciardic  Ethelbert Licciardi     95 Pine View Junction   \n13         okiddd            Otho Kidd         723 Portage Alley   \n14    mcorbridgee      Morna Corbridge      281 Heffernan Street   \n15       cvenessf      Courtney Veness         5244 Crowley Pass   \n16    jlibermoreg        Jim Libermore      64384 Bluejay Street   \n17        ctowseh        Clarita Towse         8443 Sloan Circle   \n18      ohulburdi       Odella Hulburd         415 Farragut Park   \n19     mparbrookj        Moll Parbrook         65816 Melby Alley   \n20      jmcclochk       Joeann McCloch          3 Spohn Crossing   \n21       pgambiel         Paule Gambie     0478 Reindahl Terrace   \n22        ryerbym          Ringo Yerby      16008 Straubel Trail   \n23        dchelln           Derk Chell       3496 Loeprich Court   \n24       kbrehato       Kaleena Brehat        14 Mifflin Parkway   \n25      ckedwardp         Case Kedward           65 Spenser Pass   \n26       kvivashq        Kareem Vivash        97973 Warner Place   \n27    xalexanderr    Ximenez Alexander        3 Lake View Center   \n28     bgrunnells     Belicia Grunnell       0398 Rutledge Court   \n29        rasaaft       Rosaline Asaaf             171 Ohio Pass   \n30         gjohnu            Gian John         5053 Kedzie Court   \n31   mdzenisenkav     Merry Dzenisenka                07 3rd Way   \n32     zvendittow        Zola Venditto        76 Johnson Parkway   \n33       cmethamx         Claus Metham       75959 Oakridge Road   \n34      icatfordy       Ivonne Catford          0455 Debs Avenue   \n35     kcapewellz      Keslie Capewell       62782 Bobwhite Road   \n36       rtheis10           Rudy Theis  50441 Westerfield Circle   \n37   hvanyukhin11   Herminia Vanyukhin         591 Clarendon Way   \n38      gnaisby12      Gilligan Naisby        11305 Schurz Place   \n39     ebeaufoy13        Emmit Beaufoy   59171 Doe Crossing Park   \n40    xhugonnet14     Xaviera Hugonnet           77 Bayside Park   \n41  elangcastle15  Elsinore Langcastle          1 Lillian Circle   \n42     dfarries16       Dulcie Farries         5 Ridge Oak Alley   \n43    eworledge17        Esme Worledge         387 Derek Parkway   \n44       tburet18          Tyson Buret         713 Blaine Street   \n45     agimblet19     Adelheid Gimblet       28117 School Street   \n46     kcowoppe1a       Kessia Cowoppe            5 Kedzie Place   \n47    fallerton1b       Freda Allerton    25 Charing Cross Alley   \n48       ctrodd1c         Cecile Trodd         9 Summit Junction   \n49  ssignorelli1d      Swen Signorelli        67664 Moland Court   \n\n                    Company            Specialization  \n0            Comerica Bank                 Accounting  \n1                      Domo  Research and Development  \n2                     Five9                   Support  \n3                TS Imagine                     Legal  \n4         Align Technology                  Marketing  \n5                 Linkedin       Business Development  \n6      Hudson River Trading                 Marketing  \n7                      Ramp                Accounting  \n8                   Bodo.ai                   Support  \n9          Artisan Partners           Human Resources  \n10               TS Imagine           Human Resources  \n11             Chick-fil-a            Human Resources  \n12                   Mark43                     Sales  \n13                   Lumen       Business Development  \n14           Extreme Reach   Research and Development  \n15                 SIEMENS                   Services  \n16                  Workiva                  Services  \n17               Intuitive                 Accounting  \n18               Honeywell                   Training  \n19      Wabtec Corporation                   Training  \n20                   Skydio                  Training  \n21                  Workiva                  Services  \n22   Genuine Parts Company                      Legal  \n23                     Fizz           Human Resources  \n24               TS Imagine        Product Management  \n25               Mastercard           Human Resources  \n26                   Rivian                  Training  \n27                    Five9                 Marketing  \n28                   Lumen         Product Management  \n29               TS Imagine               Engineering  \n30                    Five9                  Services  \n31               Zeno Group                     Legal  \n32             Advisor360¬∞  Research and Development  \n33                 Comcast            Human Resources  \n34                  Kitware      Business Development  \n35                 Polaris                      Legal  \n36              CesiumAstro                 Marketing  \n37              Uncountable               Engineering  \n38                   Archer                   Support  \n39     Second Order Effects                  Services  \n40                Ancestry   Research and Development  \n41                  Anduril  Research and Development  \n42        Align Technology                      Sales  \n43                  Workiva        Product Management  \n44             Chick-fil-a       Business Development  \n45             MyFitnessPal                     Legal  \n46              CesiumAstro                     Legal  \n47    Erie Insurance Group                    Support  \n48               Proofpoint           Human Resources  \n49    Generac Clean Energy   Research and Development  ",
      "text/html": "<div>\n<style scoped>\n    .dataframe tbody tr th:only-of-type {\n        vertical-align: middle;\n    }\n\n    .dataframe tbody tr th {\n        vertical-align: top;\n    }\n\n    .dataframe thead th {\n        text-align: right;\n    }\n</style>\n<table border=\"1\" class=\"dataframe\">\n  <thead>\n    <tr style=\"text-align: right;\">\n      <th></th>\n      <th>Username</th>\n      <th>Name</th>\n      <th>Address</th>\n      <th>Company</th>\n      <th>Specialization</th>\n    </tr>\n  </thead>\n  <tbody>\n    <tr>\n      <th>0</th>\n      <td>fbrafield0</td>\n      <td>Fernandina Brafield</td>\n      <td>7272 Mesta Drive</td>\n      <td>Comerica Bank</td>\n      <td>Accounting</td>\n    </tr>\n    <tr>\n      <th>1</th>\n      <td>cmeech1</td>\n      <td>Corrine Meech</td>\n      <td>582 Warner Drive</td>\n      <td>Domo</td>\n      <td>Research and Development</td>\n    </tr>\n    <tr>\n      <th>2</th>\n      <td>dfeander2</td>\n      <td>Dalston Feander</td>\n      <td>12567 Elgar Street</td>\n      <td>Five9</td>\n      <td>Support</td>\n    </tr>\n    <tr>\n      <th>3</th>\n      <td>rbloggett3</td>\n      <td>Rawley Bloggett</td>\n      <td>533 Orin Street</td>\n      <td>TS Imagine</td>\n      <td>Legal</td>\n    </tr>\n    <tr>\n      <th>4</th>\n      <td>ehoulston4</td>\n      <td>Etheline Houlston</td>\n      <td>06 Pond Center</td>\n      <td>Align Technology</td>\n      <td>Marketing</td>\n    </tr>\n    <tr>\n      <th>5</th>\n      <td>bgascar5</td>\n      <td>Ban Gascar</td>\n      <td>1 Surrey Road</td>\n      <td>Linkedin</td>\n      <td>Business Development</td>\n    </tr>\n    <tr>\n      <th>6</th>\n      <td>lvose6</td>\n      <td>Loy Vose</td>\n      <td>3 Forest Run Road</td>\n      <td>Hudson River Trading</td>\n      <td>Marketing</td>\n    </tr>\n    <tr>\n      <th>7</th>\n      <td>ffossitt7</td>\n      <td>Ferdinanda Fossitt</td>\n      <td>98 Eliot Junction</td>\n      <td>Ramp</td>\n      <td>Accounting</td>\n    </tr>\n    <tr>\n      <th>8</th>\n      <td>abeagin8</td>\n      <td>Angela Beagin</td>\n      <td>0 Miller Place</td>\n      <td>Bodo.ai</td>\n      <td>Support</td>\n    </tr>\n    <tr>\n      <th>9</th>\n      <td>mcrowcher9</td>\n      <td>Miltie Crowcher</td>\n      <td>3824 Messerschmidt Plaza</td>\n      <td>Artisan Partners</td>\n      <td>Human Resources</td>\n    </tr>\n    <tr>\n      <th>10</th>\n      <td>obrechera</td>\n      <td>Olia Brecher</td>\n      <td>02 Buhler Way</td>\n      <td>TS Imagine</td>\n      <td>Human Resources</td>\n    </tr>\n    <tr>\n      <th>11</th>\n      <td>ahoutbyb</td>\n      <td>Anni Houtby</td>\n      <td>9 Fallview Way</td>\n      <td>Chick-fil-a</td>\n      <td>Human Resources</td>\n    </tr>\n    <tr>\n      <th>12</th>\n      <td>elicciardic</td>\n      <td>Ethelbert Licciardi</td>\n      <td>95 Pine View Junction</td>\n      <td>Mark43</td>\n      <td>Sales</td>\n    </tr>\n    <tr>\n      <th>13</th>\n      <td>okiddd</td>\n      <td>Otho Kidd</td>\n      <td>723 Portage Alley</td>\n      <td>Lumen</td>\n      <td>Business Development</td>\n    </tr>\n    <tr>\n      <th>14</th>\n      <td>mcorbridgee</td>\n      <td>Morna Corbridge</td>\n      <td>281 Heffernan Street</td>\n      <td>Extreme Reach</td>\n      <td>Research and Development</td>\n    </tr>\n    <tr>\n      <th>15</th>\n      <td>cvenessf</td>\n      <td>Courtney Veness</td>\n      <td>5244 Crowley Pass</td>\n      <td>SIEMENS</td>\n      <td>Services</td>\n    </tr>\n    <tr>\n      <th>16</th>\n      <td>jlibermoreg</td>\n      <td>Jim Libermore</td>\n      <td>64384 Bluejay Street</td>\n      <td>Workiva</td>\n      <td>Services</td>\n    </tr>\n    <tr>\n      <th>17</th>\n      <td>ctowseh</td>\n      <td>Clarita Towse</td>\n      <td>8443 Sloan Circle</td>\n      <td>Intuitive</td>\n      <td>Accounting</td>\n    </tr>\n    <tr>\n      <th>18</th>\n      <td>ohulburdi</td>\n      <td>Odella Hulburd</td>\n      <td>415 Farragut Park</td>\n      <td>Honeywell</td>\n      <td>Training</td>\n    </tr>\n    <tr>\n      <th>19</th>\n      <td>mparbrookj</td>\n      <td>Moll Parbrook</td>\n      <td>65816 Melby Alley</td>\n      <td>Wabtec Corporation</td>\n      <td>Training</td>\n    </tr>\n    <tr>\n      <th>20</th>\n      <td>jmcclochk</td>\n      <td>Joeann McCloch</td>\n      <td>3 Spohn Crossing</td>\n      <td>Skydio</td>\n      <td>Training</td>\n    </tr>\n    <tr>\n      <th>21</th>\n      <td>pgambiel</td>\n      <td>Paule Gambie</td>\n      <td>0478 Reindahl Terrace</td>\n      <td>Workiva</td>\n      <td>Services</td>\n    </tr>\n    <tr>\n      <th>22</th>\n      <td>ryerbym</td>\n      <td>Ringo Yerby</td>\n      <td>16008 Straubel Trail</td>\n      <td>Genuine Parts Company</td>\n      <td>Legal</td>\n    </tr>\n    <tr>\n      <th>23</th>\n      <td>dchelln</td>\n      <td>Derk Chell</td>\n      <td>3496 Loeprich Court</td>\n      <td>Fizz</td>\n      <td>Human Resources</td>\n    </tr>\n    <tr>\n      <th>24</th>\n      <td>kbrehato</td>\n      <td>Kaleena Brehat</td>\n      <td>14 Mifflin Parkway</td>\n      <td>TS Imagine</td>\n      <td>Product Management</td>\n    </tr>\n    <tr>\n      <th>25</th>\n      <td>ckedwardp</td>\n      <td>Case Kedward</td>\n      <td>65 Spenser Pass</td>\n      <td>Mastercard</td>\n      <td>Human Resources</td>\n    </tr>\n    <tr>\n      <th>26</th>\n      <td>kvivashq</td>\n      <td>Kareem Vivash</td>\n      <td>97973 Warner Place</td>\n      <td>Rivian</td>\n      <td>Training</td>\n    </tr>\n    <tr>\n      <th>27</th>\n      <td>xalexanderr</td>\n      <td>Ximenez Alexander</td>\n      <td>3 Lake View Center</td>\n      <td>Five9</td>\n      <td>Marketing</td>\n    </tr>\n    <tr>\n      <th>28</th>\n      <td>bgrunnells</td>\n      <td>Belicia Grunnell</td>\n      <td>0398 Rutledge Court</td>\n      <td>Lumen</td>\n      <td>Product Management</td>\n    </tr>\n    <tr>\n      <th>29</th>\n      <td>rasaaft</td>\n      <td>Rosaline Asaaf</td>\n      <td>171 Ohio Pass</td>\n      <td>TS Imagine</td>\n      <td>Engineering</td>\n    </tr>\n    <tr>\n      <th>30</th>\n      <td>gjohnu</td>\n      <td>Gian John</td>\n      <td>5053 Kedzie Court</td>\n      <td>Five9</td>\n      <td>Services</td>\n    </tr>\n    <tr>\n      <th>31</th>\n      <td>mdzenisenkav</td>\n      <td>Merry Dzenisenka</td>\n      <td>07 3rd Way</td>\n      <td>Zeno Group</td>\n      <td>Legal</td>\n    </tr>\n    <tr>\n      <th>32</th>\n      <td>zvendittow</td>\n      <td>Zola Venditto</td>\n      <td>76 Johnson Parkway</td>\n      <td>Advisor360¬∞</td>\n      <td>Research and Development</td>\n    </tr>\n    <tr>\n      <th>33</th>\n      <td>cmethamx</td>\n      <td>Claus Metham</td>\n      <td>75959 Oakridge Road</td>\n      <td>Comcast</td>\n      <td>Human Resources</td>\n    </tr>\n    <tr>\n      <th>34</th>\n      <td>icatfordy</td>\n      <td>Ivonne Catford</td>\n      <td>0455 Debs Avenue</td>\n      <td>Kitware</td>\n      <td>Business Development</td>\n    </tr>\n    <tr>\n      <th>35</th>\n      <td>kcapewellz</td>\n      <td>Keslie Capewell</td>\n      <td>62782 Bobwhite Road</td>\n      <td>Polaris</td>\n      <td>Legal</td>\n    </tr>\n    <tr>\n      <th>36</th>\n      <td>rtheis10</td>\n      <td>Rudy Theis</td>\n      <td>50441 Westerfield Circle</td>\n      <td>CesiumAstro</td>\n      <td>Marketing</td>\n    </tr>\n    <tr>\n      <th>37</th>\n      <td>hvanyukhin11</td>\n      <td>Herminia Vanyukhin</td>\n      <td>591 Clarendon Way</td>\n      <td>Uncountable</td>\n      <td>Engineering</td>\n    </tr>\n    <tr>\n      <th>38</th>\n      <td>gnaisby12</td>\n      <td>Gilligan Naisby</td>\n      <td>11305 Schurz Place</td>\n      <td>Archer</td>\n      <td>Support</td>\n    </tr>\n    <tr>\n      <th>39</th>\n      <td>ebeaufoy13</td>\n      <td>Emmit Beaufoy</td>\n      <td>59171 Doe Crossing Park</td>\n      <td>Second Order Effects</td>\n      <td>Services</td>\n    </tr>\n    <tr>\n      <th>40</th>\n      <td>xhugonnet14</td>\n      <td>Xaviera Hugonnet</td>\n      <td>77 Bayside Park</td>\n      <td>Ancestry</td>\n      <td>Research and Development</td>\n    </tr>\n    <tr>\n      <th>41</th>\n      <td>elangcastle15</td>\n      <td>Elsinore Langcastle</td>\n      <td>1 Lillian Circle</td>\n      <td>Anduril</td>\n      <td>Research and Development</td>\n    </tr>\n    <tr>\n      <th>42</th>\n      <td>dfarries16</td>\n      <td>Dulcie Farries</td>\n      <td>5 Ridge Oak Alley</td>\n      <td>Align Technology</td>\n      <td>Sales</td>\n    </tr>\n    <tr>\n      <th>43</th>\n      <td>eworledge17</td>\n      <td>Esme Worledge</td>\n      <td>387 Derek Parkway</td>\n      <td>Workiva</td>\n      <td>Product Management</td>\n    </tr>\n    <tr>\n      <th>44</th>\n      <td>tburet18</td>\n      <td>Tyson Buret</td>\n      <td>713 Blaine Street</td>\n      <td>Chick-fil-a</td>\n      <td>Business Development</td>\n    </tr>\n    <tr>\n      <th>45</th>\n      <td>agimblet19</td>\n      <td>Adelheid Gimblet</td>\n      <td>28117 School Street</td>\n      <td>MyFitnessPal</td>\n      <td>Legal</td>\n    </tr>\n    <tr>\n      <th>46</th>\n      <td>kcowoppe1a</td>\n      <td>Kessia Cowoppe</td>\n      <td>5 Kedzie Place</td>\n      <td>CesiumAstro</td>\n      <td>Legal</td>\n    </tr>\n    <tr>\n      <th>47</th>\n      <td>fallerton1b</td>\n      <td>Freda Allerton</td>\n      <td>25 Charing Cross Alley</td>\n      <td>Erie Insurance Group</td>\n      <td>Support</td>\n    </tr>\n    <tr>\n      <th>48</th>\n      <td>ctrodd1c</td>\n      <td>Cecile Trodd</td>\n      <td>9 Summit Junction</td>\n      <td>Proofpoint</td>\n      <td>Human Resources</td>\n    </tr>\n    <tr>\n      <th>49</th>\n      <td>ssignorelli1d</td>\n      <td>Swen Signorelli</td>\n      <td>67664 Moland Court</td>\n      <td>Generac Clean Energy</td>\n      <td>Research and Development</td>\n    </tr>\n  </tbody>\n</table>\n</div>"
     },
     "execution_count": 57,
     "metadata": {},
     "output_type": "execute_result"
    }
   ],
   "source": [
    "recruiter_df = pd.read_csv('data/Mockaroo/Mockaroo-Recruiter.csv')\n",
    "recruiter_df"
   ],
   "metadata": {
    "collapsed": false,
    "ExecuteTime": {
     "end_time": "2024-03-01T16:11:07.381056Z",
     "start_time": "2024-03-01T16:11:07.371377Z"
    }
   },
   "id": "3a19d9c69b0639af",
   "execution_count": 57
  },
  {
   "cell_type": "markdown",
   "source": [
    "### Candidate"
   ],
   "metadata": {
    "collapsed": false
   },
   "id": "57e8f87ab026ba31"
  },
  {
   "cell_type": "code",
   "outputs": [],
   "source": [],
   "metadata": {
    "collapsed": false,
    "ExecuteTime": {
     "end_time": "2024-03-01T02:50:18.612821Z",
     "start_time": "2024-03-01T02:50:18.611362Z"
    }
   },
   "id": "cc073338c0689875",
   "execution_count": 0
  },
  {
   "cell_type": "markdown",
   "source": [
    "### Job Portal"
   ],
   "metadata": {
    "collapsed": false
   },
   "id": "7bb48c4278f22c01"
  },
  {
   "cell_type": "code",
   "outputs": [],
   "source": [],
   "metadata": {
    "collapsed": false,
    "ExecuteTime": {
     "end_time": "2024-03-01T02:50:18.614876Z",
     "start_time": "2024-03-01T02:50:18.613484Z"
    }
   },
   "id": "42d12b2cefb12cb7",
   "execution_count": 0
  },
  {
   "cell_type": "markdown",
   "source": [
    "### Job Posting"
   ],
   "metadata": {
    "collapsed": false
   },
   "id": "9e60b5ca33ed382c"
  },
  {
   "cell_type": "code",
   "outputs": [],
   "source": [],
   "metadata": {
    "collapsed": false,
    "ExecuteTime": {
     "end_time": "2024-03-01T02:50:18.768750Z",
     "start_time": "2024-03-01T02:50:18.766635Z"
    }
   },
   "id": "7f1223f34e585ca1",
   "execution_count": 0
  },
  {
   "cell_type": "markdown",
   "source": [
    "### Review"
   ],
   "metadata": {
    "collapsed": false
   },
   "id": "dfed14da682bf298"
  },
  {
   "cell_type": "code",
   "outputs": [],
   "source": [
    "# Generate Reviews using random review ID and an LLM for the Review body"
   ],
   "metadata": {
    "collapsed": false,
    "ExecuteTime": {
     "end_time": "2024-03-01T02:50:30.183414Z",
     "start_time": "2024-03-01T02:50:30.181397Z"
    }
   },
   "id": "65f8348474bf9868",
   "execution_count": null
  },
  {
   "cell_type": "code",
   "outputs": [],
   "source": [],
   "metadata": {
    "collapsed": false
   },
   "id": "497c50fd1e2f8100"
  }
 ],
 "metadata": {
  "kernelspec": {
   "display_name": "Python 3",
   "language": "python",
   "name": "python3"
  },
  "language_info": {
   "codemirror_mode": {
    "name": "ipython",
    "version": 2
   },
   "file_extension": ".py",
   "mimetype": "text/x-python",
   "name": "python",
   "nbconvert_exporter": "python",
   "pygments_lexer": "ipython2",
   "version": "2.7.6"
  }
 },
 "nbformat": 4,
 "nbformat_minor": 5
}
