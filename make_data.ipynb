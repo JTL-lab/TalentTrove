{
 "cells": [
  {
   "cell_type": "markdown",
   "source": [
    "## Talent Trove Data Generation"
   ],
   "metadata": {
    "collapsed": false
   },
   "id": "1d7b5e30237646f"
  },
  {
   "cell_type": "markdown",
   "source": [
    "In order to populate our Talent Trove database, we used real job postings from job aggregators online (e.g. Simplify by Michael Yan) for our job postings, and Mockaroo for our other tables. Additionally, we use an LLM as shown below to generate authentic-seeming reviews for the Review table text. \n",
    "\n",
    "The procedure used to obtain and preprocess each data CSV for the Talent Trove Database relations is described under its respective heading."
   ],
   "metadata": {
    "collapsed": false
   },
   "id": "ec0fd8522aae10ad"
  },
  {
   "cell_type": "markdown",
   "source": [
    "### Import Statements"
   ],
   "metadata": {
    "collapsed": false
   },
   "id": "7b276d44ce60d5be"
  },
  {
   "cell_type": "code",
   "outputs": [
    {
     "name": "stdout",
     "output_type": "stream",
     "text": [
      "Requirement already satisfied: openai in ./.venv/lib/python3.10/site-packages (1.13.3)\r\n",
      "Requirement already satisfied: anyio<5,>=3.5.0 in ./.venv/lib/python3.10/site-packages (from openai) (4.3.0)\r\n",
      "Requirement already satisfied: distro<2,>=1.7.0 in ./.venv/lib/python3.10/site-packages (from openai) (1.9.0)\r\n",
      "Requirement already satisfied: httpx<1,>=0.23.0 in ./.venv/lib/python3.10/site-packages (from openai) (0.27.0)\r\n",
      "Requirement already satisfied: pydantic<3,>=1.9.0 in ./.venv/lib/python3.10/site-packages (from openai) (2.6.3)\r\n",
      "Requirement already satisfied: sniffio in ./.venv/lib/python3.10/site-packages (from openai) (1.3.1)\r\n",
      "Requirement already satisfied: tqdm>4 in ./.venv/lib/python3.10/site-packages (from openai) (4.66.2)\r\n",
      "Requirement already satisfied: typing-extensions<5,>=4.7 in ./.venv/lib/python3.10/site-packages (from openai) (4.10.0)\r\n",
      "Requirement already satisfied: idna>=2.8 in ./.venv/lib/python3.10/site-packages (from anyio<5,>=3.5.0->openai) (3.6)\r\n",
      "Requirement already satisfied: exceptiongroup>=1.0.2 in ./.venv/lib/python3.10/site-packages (from anyio<5,>=3.5.0->openai) (1.2.0)\r\n",
      "Requirement already satisfied: certifi in ./.venv/lib/python3.10/site-packages (from httpx<1,>=0.23.0->openai) (2024.2.2)\r\n",
      "Requirement already satisfied: httpcore==1.* in ./.venv/lib/python3.10/site-packages (from httpx<1,>=0.23.0->openai) (1.0.4)\r\n",
      "Requirement already satisfied: h11<0.15,>=0.13 in ./.venv/lib/python3.10/site-packages (from httpcore==1.*->httpx<1,>=0.23.0->openai) (0.14.0)\r\n",
      "Requirement already satisfied: annotated-types>=0.4.0 in ./.venv/lib/python3.10/site-packages (from pydantic<3,>=1.9.0->openai) (0.6.0)\r\n",
      "Requirement already satisfied: pydantic-core==2.16.3 in ./.venv/lib/python3.10/site-packages (from pydantic<3,>=1.9.0->openai) (2.16.3)\r\n",
      "\r\n",
      "\u001B[1m[\u001B[0m\u001B[34;49mnotice\u001B[0m\u001B[1;39;49m]\u001B[0m\u001B[39;49m A new release of pip is available: \u001B[0m\u001B[31;49m23.2.1\u001B[0m\u001B[39;49m -> \u001B[0m\u001B[32;49m24.0\u001B[0m\r\n",
      "\u001B[1m[\u001B[0m\u001B[34;49mnotice\u001B[0m\u001B[1;39;49m]\u001B[0m\u001B[39;49m To update, run: \u001B[0m\u001B[32;49mpip install --upgrade pip\u001B[0m\r\n"
     ]
    }
   ],
   "source": [
    "import os\n",
    "import time\n",
    "import random\n",
    "! pip install openai\n",
    "import openai\n",
    "import pandas as pd\n",
    "import numpy as np\n",
    "import torch"
   ],
   "metadata": {
    "collapsed": false,
    "ExecuteTime": {
     "end_time": "2024-03-01T22:51:02.532637Z",
     "start_time": "2024-03-01T22:51:01.115700Z"
    }
   },
   "id": "ec01320404d9f943",
   "execution_count": 55
  },
  {
   "cell_type": "code",
   "outputs": [],
   "source": [
    "# Set OPENAI_API_KEY\n",
    "os.environ['OPENAI_API_KEY'] = ''"
   ],
   "metadata": {
    "collapsed": false,
    "ExecuteTime": {
     "end_time": "2024-03-01T23:21:21.787454Z",
     "start_time": "2024-03-01T23:21:21.784782Z"
    }
   },
   "id": "4cb2e2cb9de0f416",
   "execution_count": 77
  },
  {
   "cell_type": "markdown",
   "source": [
    "### Full Time Job\n",
    "- The data scraped from the above included the Role, Location, Application Link, and Date Posted for each tuple. \n",
    "- The Full_Time_Job table has the Job_ID, Experience, Location, Requirements, Skills, and AnnualSalary attributes.\n",
    "\n",
    "#### Preprocessing: \n",
    "- We keep the first 300 rows from our scraped spreadsheet.\n",
    "- We concatenate Job_IDs onto the tuples.\n",
    "- We drop the Application Link and Date Posted.\n",
    "- We rename 'Role' to 'Job_Title'. \n",
    "- We randomly populate the Experience, Requirements, Skills, and AnnualSalary values."
   ],
   "metadata": {
    "collapsed": false
   },
   "id": "1447f0172d039c04"
  },
  {
   "cell_type": "code",
   "outputs": [
    {
     "data": {
      "text/plain": "                    Company                                    Role  \\\n0       Squarepoint Capital                       Financing Trader    \n1     Altera Digital Health   Associate Software Engineer - Remote    \n2     Altera Digital Health   Associate Software Engineer - Remote    \n3                     Lucid                           Data Analyst    \n4                     Lucid                           Data Analyst    \n..                      ...                                     ...   \n475        Virtu Financial              Trading Operations Analyst    \n476  Tower Research Capital          Quantitative Research Analyst    \n477                Harmony                     AI Backend Engineer    \n478           IXL Learning          Software Engineer ‚Äì New Grad    \n479           Konrad Group      Software Developer ‚Äì Entry Level    \n\n                                              Location  \\\n0                                          London, UK    \n1                                       Remote in USA    \n2                                       Remote in USA    \n3                                         Raleigh, NC    \n4                                  Salt Lake City, UT    \n..                                                 ...   \n475                                        Austin, TX    \n476   <details><summary>**5 locations**</summary>La...   \n477                                     Palo Alto, CA    \n478                                       Raleigh, NC    \n479                             Vancouver, BC, Canada    \n\n                                      Application/Link Date Posted  \n0     <a href=\"https://boards.greenhouse.io/embed/j...     Feb 28   \n1     <a href=\"https://boards.greenhouse.io/alterad...     Feb 28   \n2     <a href=\"https://boards.greenhouse.io/alterad...     Feb 28   \n3     <a href=\"https://boards.greenhouse.io/lucidso...     Feb 28   \n4     <a href=\"https://boards.greenhouse.io/lucidso...     Feb 28   \n..                                                 ...         ...  \n475                                              üîí      Jul 19   \n476   <a href=\"https://www.tower-research.com/open-...     Jul 19   \n477                                              üîí      Jul 19   \n478                                              üîí      Jul 19   \n479                                              üîí      Jul 19   \n\n[480 rows x 5 columns]",
      "text/html": "<div>\n<style scoped>\n    .dataframe tbody tr th:only-of-type {\n        vertical-align: middle;\n    }\n\n    .dataframe tbody tr th {\n        vertical-align: top;\n    }\n\n    .dataframe thead th {\n        text-align: right;\n    }\n</style>\n<table border=\"1\" class=\"dataframe\">\n  <thead>\n    <tr style=\"text-align: right;\">\n      <th></th>\n      <th>Company</th>\n      <th>Role</th>\n      <th>Location</th>\n      <th>Application/Link</th>\n      <th>Date Posted</th>\n    </tr>\n  </thead>\n  <tbody>\n    <tr>\n      <th>0</th>\n      <td>Squarepoint Capital</td>\n      <td>Financing Trader</td>\n      <td>London, UK</td>\n      <td>&lt;a href=\"https://boards.greenhouse.io/embed/j...</td>\n      <td>Feb 28</td>\n    </tr>\n    <tr>\n      <th>1</th>\n      <td>Altera Digital Health</td>\n      <td>Associate Software Engineer - Remote</td>\n      <td>Remote in USA</td>\n      <td>&lt;a href=\"https://boards.greenhouse.io/alterad...</td>\n      <td>Feb 28</td>\n    </tr>\n    <tr>\n      <th>2</th>\n      <td>Altera Digital Health</td>\n      <td>Associate Software Engineer - Remote</td>\n      <td>Remote in USA</td>\n      <td>&lt;a href=\"https://boards.greenhouse.io/alterad...</td>\n      <td>Feb 28</td>\n    </tr>\n    <tr>\n      <th>3</th>\n      <td>Lucid</td>\n      <td>Data Analyst</td>\n      <td>Raleigh, NC</td>\n      <td>&lt;a href=\"https://boards.greenhouse.io/lucidso...</td>\n      <td>Feb 28</td>\n    </tr>\n    <tr>\n      <th>4</th>\n      <td>Lucid</td>\n      <td>Data Analyst</td>\n      <td>Salt Lake City, UT</td>\n      <td>&lt;a href=\"https://boards.greenhouse.io/lucidso...</td>\n      <td>Feb 28</td>\n    </tr>\n    <tr>\n      <th>...</th>\n      <td>...</td>\n      <td>...</td>\n      <td>...</td>\n      <td>...</td>\n      <td>...</td>\n    </tr>\n    <tr>\n      <th>475</th>\n      <td>Virtu Financial</td>\n      <td>Trading Operations Analyst</td>\n      <td>Austin, TX</td>\n      <td>üîí</td>\n      <td>Jul 19</td>\n    </tr>\n    <tr>\n      <th>476</th>\n      <td>Tower Research Capital</td>\n      <td>Quantitative Research Analyst</td>\n      <td>&lt;details&gt;&lt;summary&gt;**5 locations**&lt;/summary&gt;La...</td>\n      <td>&lt;a href=\"https://www.tower-research.com/open-...</td>\n      <td>Jul 19</td>\n    </tr>\n    <tr>\n      <th>477</th>\n      <td>Harmony</td>\n      <td>AI Backend Engineer</td>\n      <td>Palo Alto, CA</td>\n      <td>üîí</td>\n      <td>Jul 19</td>\n    </tr>\n    <tr>\n      <th>478</th>\n      <td>IXL Learning</td>\n      <td>Software Engineer ‚Äì New Grad</td>\n      <td>Raleigh, NC</td>\n      <td>üîí</td>\n      <td>Jul 19</td>\n    </tr>\n    <tr>\n      <th>479</th>\n      <td>Konrad Group</td>\n      <td>Software Developer ‚Äì Entry Level</td>\n      <td>Vancouver, BC, Canada</td>\n      <td>üîí</td>\n      <td>Jul 19</td>\n    </tr>\n  </tbody>\n</table>\n<p>480 rows × 5 columns</p>\n</div>"
     },
     "execution_count": 146,
     "metadata": {},
     "output_type": "execute_result"
    }
   ],
   "source": [
    "full_time_job_df = pd.read_csv('data/Tech_Full_Time_Roles.csv', header=0)\n",
    "full_time_job_df"
   ],
   "metadata": {
    "collapsed": false,
    "ExecuteTime": {
     "end_time": "2024-03-02T05:42:17.300291Z",
     "start_time": "2024-03-02T05:42:17.292634Z"
    }
   },
   "id": "cc12f2e657b05cf8",
   "execution_count": 146
  },
  {
   "cell_type": "code",
   "outputs": [
    {
     "name": "stdout",
     "output_type": "stream",
     "text": [
      "300\n"
     ]
    }
   ],
   "source": [
    "# Keep only 300 rows\n",
    "full_time_job_df = full_time_job_df[:300]\n",
    "print(len(full_time_job_df))"
   ],
   "metadata": {
    "collapsed": false,
    "ExecuteTime": {
     "end_time": "2024-03-02T05:42:17.993141Z",
     "start_time": "2024-03-02T05:42:17.989530Z"
    }
   },
   "id": "4cc355842ceccc8",
   "execution_count": 147
  },
  {
   "cell_type": "code",
   "outputs": [
    {
     "data": {
      "text/plain": "                         Job_ID                Company  \\\n0    01HQY593T458D022KE1X5KW3GH    Squarepoint Capital   \n1    01HQY593T4WCDYXM6WM9A6H0EN  Altera Digital Health   \n2    01HQY593T5XMCEY5W4CFFR7PDA  Altera Digital Health   \n3    01HQY593T5SCN9Y2ERYWHDH46Q                  Lucid   \n4    01HQY593T5WG867X8XF3X3WRFP                  Lucid   \n..                          ...                    ...   \n295  01HQY593WZE1AEE8N3EBPWCT8Y       Arista Networks    \n296  01HQY593WZ8NQWY5MZCXS6TEGT       Arista Networks    \n297  01HQY593WZMQYQNW7XBG37NWJW       Arista Networks    \n298  01HQY593X0HFAWF9ST87SA04JH             Connectly    \n299  01HQY593X0C6MDPFGF2ZN2FA0J               Vontive    \n\n                                                  Role  \\\n0                                    Financing Trader    \n1                Associate Software Engineer - Remote    \n2                Associate Software Engineer - Remote    \n3                                        Data Analyst    \n4                                        Data Analyst    \n..                                                 ...   \n295   UX Designer - Remote from Turkey - Hungary or...   \n296     Software Engineer - Packet Forwarding Engines    \n297               Software Engineer - Network Systems    \n298                       Software Engineer - Backend    \n299                 New Grad Software Engineer - 2023    \n\n                    Location  \\\n0                London, UK    \n1             Remote in USA    \n2             Remote in USA    \n3               Raleigh, NC    \n4        Salt Lake City, UT    \n..                       ...   \n295                  Remote    \n296   Vancouver, BC, Canada    \n297   Vancouver, BC, Canada    \n298                  Remote    \n299                      SF    \n\n                                      Application/Link Date Posted  \n0     <a href=\"https://boards.greenhouse.io/embed/j...     Feb 28   \n1     <a href=\"https://boards.greenhouse.io/alterad...     Feb 28   \n2     <a href=\"https://boards.greenhouse.io/alterad...     Feb 28   \n3     <a href=\"https://boards.greenhouse.io/lucidso...     Feb 28   \n4     <a href=\"https://boards.greenhouse.io/lucidso...     Feb 28   \n..                                                 ...         ...  \n295                                              üîí      Sep 12   \n296                                              üîí      Sep 12   \n297                                              üîí      Sep 12   \n298                                              üîí      Sep 12   \n299                                              üîí      Sep 12   \n\n[300 rows x 6 columns]",
      "text/html": "<div>\n<style scoped>\n    .dataframe tbody tr th:only-of-type {\n        vertical-align: middle;\n    }\n\n    .dataframe tbody tr th {\n        vertical-align: top;\n    }\n\n    .dataframe thead th {\n        text-align: right;\n    }\n</style>\n<table border=\"1\" class=\"dataframe\">\n  <thead>\n    <tr style=\"text-align: right;\">\n      <th></th>\n      <th>Job_ID</th>\n      <th>Company</th>\n      <th>Role</th>\n      <th>Location</th>\n      <th>Application/Link</th>\n      <th>Date Posted</th>\n    </tr>\n  </thead>\n  <tbody>\n    <tr>\n      <th>0</th>\n      <td>01HQY593T458D022KE1X5KW3GH</td>\n      <td>Squarepoint Capital</td>\n      <td>Financing Trader</td>\n      <td>London, UK</td>\n      <td>&lt;a href=\"https://boards.greenhouse.io/embed/j...</td>\n      <td>Feb 28</td>\n    </tr>\n    <tr>\n      <th>1</th>\n      <td>01HQY593T4WCDYXM6WM9A6H0EN</td>\n      <td>Altera Digital Health</td>\n      <td>Associate Software Engineer - Remote</td>\n      <td>Remote in USA</td>\n      <td>&lt;a href=\"https://boards.greenhouse.io/alterad...</td>\n      <td>Feb 28</td>\n    </tr>\n    <tr>\n      <th>2</th>\n      <td>01HQY593T5XMCEY5W4CFFR7PDA</td>\n      <td>Altera Digital Health</td>\n      <td>Associate Software Engineer - Remote</td>\n      <td>Remote in USA</td>\n      <td>&lt;a href=\"https://boards.greenhouse.io/alterad...</td>\n      <td>Feb 28</td>\n    </tr>\n    <tr>\n      <th>3</th>\n      <td>01HQY593T5SCN9Y2ERYWHDH46Q</td>\n      <td>Lucid</td>\n      <td>Data Analyst</td>\n      <td>Raleigh, NC</td>\n      <td>&lt;a href=\"https://boards.greenhouse.io/lucidso...</td>\n      <td>Feb 28</td>\n    </tr>\n    <tr>\n      <th>4</th>\n      <td>01HQY593T5WG867X8XF3X3WRFP</td>\n      <td>Lucid</td>\n      <td>Data Analyst</td>\n      <td>Salt Lake City, UT</td>\n      <td>&lt;a href=\"https://boards.greenhouse.io/lucidso...</td>\n      <td>Feb 28</td>\n    </tr>\n    <tr>\n      <th>...</th>\n      <td>...</td>\n      <td>...</td>\n      <td>...</td>\n      <td>...</td>\n      <td>...</td>\n      <td>...</td>\n    </tr>\n    <tr>\n      <th>295</th>\n      <td>01HQY593WZE1AEE8N3EBPWCT8Y</td>\n      <td>Arista Networks</td>\n      <td>UX Designer - Remote from Turkey - Hungary or...</td>\n      <td>Remote</td>\n      <td>üîí</td>\n      <td>Sep 12</td>\n    </tr>\n    <tr>\n      <th>296</th>\n      <td>01HQY593WZ8NQWY5MZCXS6TEGT</td>\n      <td>Arista Networks</td>\n      <td>Software Engineer - Packet Forwarding Engines</td>\n      <td>Vancouver, BC, Canada</td>\n      <td>üîí</td>\n      <td>Sep 12</td>\n    </tr>\n    <tr>\n      <th>297</th>\n      <td>01HQY593WZMQYQNW7XBG37NWJW</td>\n      <td>Arista Networks</td>\n      <td>Software Engineer - Network Systems</td>\n      <td>Vancouver, BC, Canada</td>\n      <td>üîí</td>\n      <td>Sep 12</td>\n    </tr>\n    <tr>\n      <th>298</th>\n      <td>01HQY593X0HFAWF9ST87SA04JH</td>\n      <td>Connectly</td>\n      <td>Software Engineer - Backend</td>\n      <td>Remote</td>\n      <td>üîí</td>\n      <td>Sep 12</td>\n    </tr>\n    <tr>\n      <th>299</th>\n      <td>01HQY593X0C6MDPFGF2ZN2FA0J</td>\n      <td>Vontive</td>\n      <td>New Grad Software Engineer - 2023</td>\n      <td>SF</td>\n      <td>üîí</td>\n      <td>Sep 12</td>\n    </tr>\n  </tbody>\n</table>\n<p>300 rows × 6 columns</p>\n</div>"
     },
     "execution_count": 148,
     "metadata": {},
     "output_type": "execute_result"
    }
   ],
   "source": [
    "# Add Job_ID column as first column (key)\n",
    "job_ids_df = pd.read_csv('data/Mockaroo/Mockaroo-Job-Postings-IDs.csv')\n",
    "job_ids_df = job_ids_df.iloc[:300]\n",
    "job_ids_df.reset_index(drop=True, inplace=True)\n",
    "\n",
    "# Concatenate selected_job_ids with internship_df\n",
    "full_time_df = pd.concat([job_ids_df, full_time_job_df.reset_index(drop=True)], axis=1)\n",
    "full_time_df"
   ],
   "metadata": {
    "collapsed": false,
    "ExecuteTime": {
     "end_time": "2024-03-02T05:42:18.834204Z",
     "start_time": "2024-03-02T05:42:18.822649Z"
    }
   },
   "id": "c1532dfc146d253d",
   "execution_count": 148
  },
  {
   "cell_type": "code",
   "outputs": [
    {
     "data": {
      "text/plain": "                         Job_ID                Company  \\\n0    01HQY593T458D022KE1X5KW3GH    Squarepoint Capital   \n1    01HQY593T4WCDYXM6WM9A6H0EN  Altera Digital Health   \n2    01HQY593T5XMCEY5W4CFFR7PDA  Altera Digital Health   \n3    01HQY593T5SCN9Y2ERYWHDH46Q                  Lucid   \n4    01HQY593T5WG867X8XF3X3WRFP                  Lucid   \n..                          ...                    ...   \n295  01HQY593WZE1AEE8N3EBPWCT8Y       Arista Networks    \n296  01HQY593WZ8NQWY5MZCXS6TEGT       Arista Networks    \n297  01HQY593WZMQYQNW7XBG37NWJW       Arista Networks    \n298  01HQY593X0HFAWF9ST87SA04JH             Connectly    \n299  01HQY593X0C6MDPFGF2ZN2FA0J               Vontive    \n\n                                             Job_Title  \\\n0                                    Financing Trader    \n1                Associate Software Engineer - Remote    \n2                Associate Software Engineer - Remote    \n3                                        Data Analyst    \n4                                        Data Analyst    \n..                                                 ...   \n295   UX Designer - Remote from Turkey - Hungary or...   \n296     Software Engineer - Packet Forwarding Engines    \n297               Software Engineer - Network Systems    \n298                       Software Engineer - Backend    \n299                 New Grad Software Engineer - 2023    \n\n                    Location  \\\n0                London, UK    \n1             Remote in USA    \n2             Remote in USA    \n3               Raleigh, NC    \n4        Salt Lake City, UT    \n..                       ...   \n295                  Remote    \n296   Vancouver, BC, Canada    \n297   Vancouver, BC, Canada    \n298                  Remote    \n299                      SF    \n\n                                      Application/Link Date Posted  \n0     <a href=\"https://boards.greenhouse.io/embed/j...     Feb 28   \n1     <a href=\"https://boards.greenhouse.io/alterad...     Feb 28   \n2     <a href=\"https://boards.greenhouse.io/alterad...     Feb 28   \n3     <a href=\"https://boards.greenhouse.io/lucidso...     Feb 28   \n4     <a href=\"https://boards.greenhouse.io/lucidso...     Feb 28   \n..                                                 ...         ...  \n295                                              üîí      Sep 12   \n296                                              üîí      Sep 12   \n297                                              üîí      Sep 12   \n298                                              üîí      Sep 12   \n299                                              üîí      Sep 12   \n\n[300 rows x 6 columns]",
      "text/html": "<div>\n<style scoped>\n    .dataframe tbody tr th:only-of-type {\n        vertical-align: middle;\n    }\n\n    .dataframe tbody tr th {\n        vertical-align: top;\n    }\n\n    .dataframe thead th {\n        text-align: right;\n    }\n</style>\n<table border=\"1\" class=\"dataframe\">\n  <thead>\n    <tr style=\"text-align: right;\">\n      <th></th>\n      <th>Job_ID</th>\n      <th>Company</th>\n      <th>Job_Title</th>\n      <th>Location</th>\n      <th>Application/Link</th>\n      <th>Date Posted</th>\n    </tr>\n  </thead>\n  <tbody>\n    <tr>\n      <th>0</th>\n      <td>01HQY593T458D022KE1X5KW3GH</td>\n      <td>Squarepoint Capital</td>\n      <td>Financing Trader</td>\n      <td>London, UK</td>\n      <td>&lt;a href=\"https://boards.greenhouse.io/embed/j...</td>\n      <td>Feb 28</td>\n    </tr>\n    <tr>\n      <th>1</th>\n      <td>01HQY593T4WCDYXM6WM9A6H0EN</td>\n      <td>Altera Digital Health</td>\n      <td>Associate Software Engineer - Remote</td>\n      <td>Remote in USA</td>\n      <td>&lt;a href=\"https://boards.greenhouse.io/alterad...</td>\n      <td>Feb 28</td>\n    </tr>\n    <tr>\n      <th>2</th>\n      <td>01HQY593T5XMCEY5W4CFFR7PDA</td>\n      <td>Altera Digital Health</td>\n      <td>Associate Software Engineer - Remote</td>\n      <td>Remote in USA</td>\n      <td>&lt;a href=\"https://boards.greenhouse.io/alterad...</td>\n      <td>Feb 28</td>\n    </tr>\n    <tr>\n      <th>3</th>\n      <td>01HQY593T5SCN9Y2ERYWHDH46Q</td>\n      <td>Lucid</td>\n      <td>Data Analyst</td>\n      <td>Raleigh, NC</td>\n      <td>&lt;a href=\"https://boards.greenhouse.io/lucidso...</td>\n      <td>Feb 28</td>\n    </tr>\n    <tr>\n      <th>4</th>\n      <td>01HQY593T5WG867X8XF3X3WRFP</td>\n      <td>Lucid</td>\n      <td>Data Analyst</td>\n      <td>Salt Lake City, UT</td>\n      <td>&lt;a href=\"https://boards.greenhouse.io/lucidso...</td>\n      <td>Feb 28</td>\n    </tr>\n    <tr>\n      <th>...</th>\n      <td>...</td>\n      <td>...</td>\n      <td>...</td>\n      <td>...</td>\n      <td>...</td>\n      <td>...</td>\n    </tr>\n    <tr>\n      <th>295</th>\n      <td>01HQY593WZE1AEE8N3EBPWCT8Y</td>\n      <td>Arista Networks</td>\n      <td>UX Designer - Remote from Turkey - Hungary or...</td>\n      <td>Remote</td>\n      <td>üîí</td>\n      <td>Sep 12</td>\n    </tr>\n    <tr>\n      <th>296</th>\n      <td>01HQY593WZ8NQWY5MZCXS6TEGT</td>\n      <td>Arista Networks</td>\n      <td>Software Engineer - Packet Forwarding Engines</td>\n      <td>Vancouver, BC, Canada</td>\n      <td>üîí</td>\n      <td>Sep 12</td>\n    </tr>\n    <tr>\n      <th>297</th>\n      <td>01HQY593WZMQYQNW7XBG37NWJW</td>\n      <td>Arista Networks</td>\n      <td>Software Engineer - Network Systems</td>\n      <td>Vancouver, BC, Canada</td>\n      <td>üîí</td>\n      <td>Sep 12</td>\n    </tr>\n    <tr>\n      <th>298</th>\n      <td>01HQY593X0HFAWF9ST87SA04JH</td>\n      <td>Connectly</td>\n      <td>Software Engineer - Backend</td>\n      <td>Remote</td>\n      <td>üîí</td>\n      <td>Sep 12</td>\n    </tr>\n    <tr>\n      <th>299</th>\n      <td>01HQY593X0C6MDPFGF2ZN2FA0J</td>\n      <td>Vontive</td>\n      <td>New Grad Software Engineer - 2023</td>\n      <td>SF</td>\n      <td>üîí</td>\n      <td>Sep 12</td>\n    </tr>\n  </tbody>\n</table>\n<p>300 rows × 6 columns</p>\n</div>"
     },
     "execution_count": 149,
     "metadata": {},
     "output_type": "execute_result"
    }
   ],
   "source": [
    "# Rename 'Role' -> 'Job_Name'\n",
    "full_time_df.rename(columns={'Role': 'Job_Title'}, inplace=True)\n",
    "full_time_df"
   ],
   "metadata": {
    "collapsed": false,
    "ExecuteTime": {
     "end_time": "2024-03-02T05:42:19.546953Z",
     "start_time": "2024-03-02T05:42:19.540401Z"
    }
   },
   "id": "2f70e55e3f9c82d0",
   "execution_count": 149
  },
  {
   "cell_type": "code",
   "outputs": [
    {
     "data": {
      "text/plain": "                         Job_ID                Company  \\\n0    01HQY593T458D022KE1X5KW3GH    Squarepoint Capital   \n1    01HQY593T4WCDYXM6WM9A6H0EN  Altera Digital Health   \n2    01HQY593T5XMCEY5W4CFFR7PDA  Altera Digital Health   \n3    01HQY593T5SCN9Y2ERYWHDH46Q                  Lucid   \n4    01HQY593T5WG867X8XF3X3WRFP                  Lucid   \n..                          ...                    ...   \n295  01HQY593WZE1AEE8N3EBPWCT8Y       Arista Networks    \n296  01HQY593WZ8NQWY5MZCXS6TEGT       Arista Networks    \n297  01HQY593WZMQYQNW7XBG37NWJW       Arista Networks    \n298  01HQY593X0HFAWF9ST87SA04JH             Connectly    \n299  01HQY593X0C6MDPFGF2ZN2FA0J               Vontive    \n\n                                             Job_Title  \\\n0                                    Financing Trader    \n1                Associate Software Engineer - Remote    \n2                Associate Software Engineer - Remote    \n3                                        Data Analyst    \n4                                        Data Analyst    \n..                                                 ...   \n295   UX Designer - Remote from Turkey - Hungary or...   \n296     Software Engineer - Packet Forwarding Engines    \n297               Software Engineer - Network Systems    \n298                       Software Engineer - Backend    \n299                 New Grad Software Engineer - 2023    \n\n                    Location  \n0                London, UK   \n1             Remote in USA   \n2             Remote in USA   \n3               Raleigh, NC   \n4        Salt Lake City, UT   \n..                       ...  \n295                  Remote   \n296   Vancouver, BC, Canada   \n297   Vancouver, BC, Canada   \n298                  Remote   \n299                      SF   \n\n[300 rows x 4 columns]",
      "text/html": "<div>\n<style scoped>\n    .dataframe tbody tr th:only-of-type {\n        vertical-align: middle;\n    }\n\n    .dataframe tbody tr th {\n        vertical-align: top;\n    }\n\n    .dataframe thead th {\n        text-align: right;\n    }\n</style>\n<table border=\"1\" class=\"dataframe\">\n  <thead>\n    <tr style=\"text-align: right;\">\n      <th></th>\n      <th>Job_ID</th>\n      <th>Company</th>\n      <th>Job_Title</th>\n      <th>Location</th>\n    </tr>\n  </thead>\n  <tbody>\n    <tr>\n      <th>0</th>\n      <td>01HQY593T458D022KE1X5KW3GH</td>\n      <td>Squarepoint Capital</td>\n      <td>Financing Trader</td>\n      <td>London, UK</td>\n    </tr>\n    <tr>\n      <th>1</th>\n      <td>01HQY593T4WCDYXM6WM9A6H0EN</td>\n      <td>Altera Digital Health</td>\n      <td>Associate Software Engineer - Remote</td>\n      <td>Remote in USA</td>\n    </tr>\n    <tr>\n      <th>2</th>\n      <td>01HQY593T5XMCEY5W4CFFR7PDA</td>\n      <td>Altera Digital Health</td>\n      <td>Associate Software Engineer - Remote</td>\n      <td>Remote in USA</td>\n    </tr>\n    <tr>\n      <th>3</th>\n      <td>01HQY593T5SCN9Y2ERYWHDH46Q</td>\n      <td>Lucid</td>\n      <td>Data Analyst</td>\n      <td>Raleigh, NC</td>\n    </tr>\n    <tr>\n      <th>4</th>\n      <td>01HQY593T5WG867X8XF3X3WRFP</td>\n      <td>Lucid</td>\n      <td>Data Analyst</td>\n      <td>Salt Lake City, UT</td>\n    </tr>\n    <tr>\n      <th>...</th>\n      <td>...</td>\n      <td>...</td>\n      <td>...</td>\n      <td>...</td>\n    </tr>\n    <tr>\n      <th>295</th>\n      <td>01HQY593WZE1AEE8N3EBPWCT8Y</td>\n      <td>Arista Networks</td>\n      <td>UX Designer - Remote from Turkey - Hungary or...</td>\n      <td>Remote</td>\n    </tr>\n    <tr>\n      <th>296</th>\n      <td>01HQY593WZ8NQWY5MZCXS6TEGT</td>\n      <td>Arista Networks</td>\n      <td>Software Engineer - Packet Forwarding Engines</td>\n      <td>Vancouver, BC, Canada</td>\n    </tr>\n    <tr>\n      <th>297</th>\n      <td>01HQY593WZMQYQNW7XBG37NWJW</td>\n      <td>Arista Networks</td>\n      <td>Software Engineer - Network Systems</td>\n      <td>Vancouver, BC, Canada</td>\n    </tr>\n    <tr>\n      <th>298</th>\n      <td>01HQY593X0HFAWF9ST87SA04JH</td>\n      <td>Connectly</td>\n      <td>Software Engineer - Backend</td>\n      <td>Remote</td>\n    </tr>\n    <tr>\n      <th>299</th>\n      <td>01HQY593X0C6MDPFGF2ZN2FA0J</td>\n      <td>Vontive</td>\n      <td>New Grad Software Engineer - 2023</td>\n      <td>SF</td>\n    </tr>\n  </tbody>\n</table>\n<p>300 rows × 4 columns</p>\n</div>"
     },
     "execution_count": 150,
     "metadata": {},
     "output_type": "execute_result"
    }
   ],
   "source": [
    "# Drop Application Link and Date Posted\n",
    "full_time_df = full_time_df.drop(columns=['Application/Link','Date Posted'])\n",
    "full_time_df"
   ],
   "metadata": {
    "collapsed": false,
    "ExecuteTime": {
     "end_time": "2024-03-02T05:42:20.330856Z",
     "start_time": "2024-03-02T05:42:20.323474Z"
    }
   },
   "id": "ba0b13f591d04a74",
   "execution_count": 150
  },
  {
   "cell_type": "code",
   "outputs": [],
   "source": [
    "full_time_requirements = ['Tableau data analyst certification', 'AWS Cloud Practitioner certification', 'Oracle SQL certification required', 'US Citizen', 'Must be willing to relocate', 'Must be willing to travel 20% of time', 'Must have experience leading cross-functional teams', 'Must have at least one year of non-internship relevant experience', 'Must have 3+ years of relevant experience', 'Must have 5+ years of relevant experience']\n",
    "\n",
    "job_skills = ['Python', 'Scala', 'Pandas', 'AI/ML frameworks', 'PyTorch', 'Keras', 'Tensorflow', 'AWS', 'Azure', 'Google Cloud Platform', 'SQL', 'Oracle Databases', 'Databases', 'Java', 'Julia', 'Pascal', 'Perl', 'LaTeX', 'Scheme', 'Ruby', 'Ruby SQL', 'Flask', 'SQLite', 'PostgreSQL', 'MySQL', 'Tableau', 'PowerBI', 'Software Development', 'C++', 'C#', 'HTML/CSS/JavaScript', 'HTML/CSS', 'JavaScript', 'MongoDB', 'Neo4j', 'Agile', 'Scrum', 'Vue.js', 'React', 'Angular', 'Docker', 'Kubernetes', 'Sphinx', 'Jupyter', 'Git', 'Algorithms', 'Django', 'Problem-Solving', 'Leadership', 'Communication', 'Web Development', 'Frontend Stack', 'Backend Stack', 'Adobe Creative Suite', 'Financial modeling', 'Spanish', 'French', 'Hindi', 'Urdu', 'German', 'Italian', 'American Sign Language', 'Cybersecurity', 'Linux', 'Bash Scripting', 'Customer Support', 'Project Management', 'Networking Fundamentals', 'Algorithms', 'Jenkins', 'Kotlin', 'Swift', 'OOP', 'Ansible', 'Snowflake', 'Databricks', 'Budgeting', 'UX/UI Design', 'Graphic Design', 'Content Marketing', 'Technical Writing', 'SEO/SEM', 'Social Media Marketing', 'Hootsuite']\n",
    "\n",
    "job_experience = ['0-1 years relevant experience', '1-2 years relevant experience', '3+ years relevant experience', '5+ years relevant experience']\n",
    "\n",
    "annual_salaries = [30000, 40000, 45000, 50000, 60000, 70000, 80000, 90000, 100000, 120000, 130000, 140000, 150000, 180000, 200000, 250000, 300000]"
   ],
   "metadata": {
    "collapsed": false,
    "ExecuteTime": {
     "end_time": "2024-03-02T05:42:21.430791Z",
     "start_time": "2024-03-02T05:42:21.426740Z"
    }
   },
   "id": "5a820f8f1385b4d2",
   "execution_count": 151
  },
  {
   "cell_type": "code",
   "outputs": [],
   "source": [
    "def get_random_skills(job_skills):\n",
    "    # Pick random number of skills between 3 and 15\n",
    "    num_skills = random.randint(3, 15)\n",
    "    skills = []\n",
    "    for i in range(num_skills):\n",
    "        skills.append(random.choice(job_skills))\n",
    "    skills = list(set(skills))\n",
    "    skills_str = ', '.join(skills)\n",
    "    return skills_str"
   ],
   "metadata": {
    "collapsed": false,
    "ExecuteTime": {
     "end_time": "2024-03-02T05:42:22.788384Z",
     "start_time": "2024-03-02T05:42:22.785461Z"
    }
   },
   "id": "3d715720d790dd38",
   "execution_count": 152
  },
  {
   "cell_type": "code",
   "outputs": [
    {
     "data": {
      "text/plain": "                         Job_ID                Company  \\\n0    01HQY593T458D022KE1X5KW3GH    Squarepoint Capital   \n1    01HQY593T4WCDYXM6WM9A6H0EN  Altera Digital Health   \n2    01HQY593T5XMCEY5W4CFFR7PDA  Altera Digital Health   \n3    01HQY593T5SCN9Y2ERYWHDH46Q                  Lucid   \n4    01HQY593T5WG867X8XF3X3WRFP                  Lucid   \n..                          ...                    ...   \n295  01HQY593WZE1AEE8N3EBPWCT8Y       Arista Networks    \n296  01HQY593WZ8NQWY5MZCXS6TEGT       Arista Networks    \n297  01HQY593WZMQYQNW7XBG37NWJW       Arista Networks    \n298  01HQY593X0HFAWF9ST87SA04JH             Connectly    \n299  01HQY593X0C6MDPFGF2ZN2FA0J               Vontive    \n\n                                             Job_Title  \\\n0                                    Financing Trader    \n1                Associate Software Engineer - Remote    \n2                Associate Software Engineer - Remote    \n3                                        Data Analyst    \n4                                        Data Analyst    \n..                                                 ...   \n295   UX Designer - Remote from Turkey - Hungary or...   \n296     Software Engineer - Packet Forwarding Engines    \n297               Software Engineer - Network Systems    \n298                       Software Engineer - Backend    \n299                 New Grad Software Engineer - 2023    \n\n                    Location                     Experience  \\\n0                London, UK    5+ years relevant experience   \n1             Remote in USA    3+ years relevant experience   \n2             Remote in USA    3+ years relevant experience   \n3               Raleigh, NC   0-1 years relevant experience   \n4        Salt Lake City, UT   1-2 years relevant experience   \n..                       ...                            ...   \n295                  Remote   0-1 years relevant experience   \n296   Vancouver, BC, Canada    3+ years relevant experience   \n297   Vancouver, BC, Canada   0-1 years relevant experience   \n298                  Remote    5+ years relevant experience   \n299                      SF   0-1 years relevant experience   \n\n                                          Requirements  \\\n0                   Tableau data analyst certification   \n1                 AWS Cloud Practitioner certification   \n2            Must have 3+ years of relevant experience   \n3                   Tableau data analyst certification   \n4                                           US Citizen   \n..                                                 ...   \n295          Must have 3+ years of relevant experience   \n296          Must have 5+ years of relevant experience   \n297                 Tableau data analyst certification   \n298          Must have 5+ years of relevant experience   \n299  Must have at least one year of non-internship ...   \n\n                                                Skills  AnnualSalary  \n0    SQL, Adobe Creative Suite, PostgreSQL, Pascal,...         40000  \n1    Budgeting, Scrum, Vue.js, American Sign Langua...         40000  \n2                      Ansible, MongoDB, Agile, Pascal        130000  \n3    Urdu, Content Marketing, Frontend Stack, Azure...        100000  \n4    Git, Sphinx, Customer Support, Graphic Design,...         60000  \n..                                                 ...           ...  \n295  Urdu, SEO/SEM, UX/UI Design, Social Media Mark...         70000  \n296  SQL, OOP, Django, Jenkins, PowerBI, JavaScript...        130000  \n297  Git, Spanish, Italian, Perl, Ruby, German, Ame...         40000  \n298  Julia, Azure, Customer Support, Kotlin, Americ...        140000  \n299  AWS, Jupyter, Snowflake, LaTeX, Tensorflow, Co...        200000  \n\n[300 rows x 8 columns]",
      "text/html": "<div>\n<style scoped>\n    .dataframe tbody tr th:only-of-type {\n        vertical-align: middle;\n    }\n\n    .dataframe tbody tr th {\n        vertical-align: top;\n    }\n\n    .dataframe thead th {\n        text-align: right;\n    }\n</style>\n<table border=\"1\" class=\"dataframe\">\n  <thead>\n    <tr style=\"text-align: right;\">\n      <th></th>\n      <th>Job_ID</th>\n      <th>Company</th>\n      <th>Job_Title</th>\n      <th>Location</th>\n      <th>Experience</th>\n      <th>Requirements</th>\n      <th>Skills</th>\n      <th>AnnualSalary</th>\n    </tr>\n  </thead>\n  <tbody>\n    <tr>\n      <th>0</th>\n      <td>01HQY593T458D022KE1X5KW3GH</td>\n      <td>Squarepoint Capital</td>\n      <td>Financing Trader</td>\n      <td>London, UK</td>\n      <td>5+ years relevant experience</td>\n      <td>Tableau data analyst certification</td>\n      <td>SQL, Adobe Creative Suite, PostgreSQL, Pascal,...</td>\n      <td>40000</td>\n    </tr>\n    <tr>\n      <th>1</th>\n      <td>01HQY593T4WCDYXM6WM9A6H0EN</td>\n      <td>Altera Digital Health</td>\n      <td>Associate Software Engineer - Remote</td>\n      <td>Remote in USA</td>\n      <td>3+ years relevant experience</td>\n      <td>AWS Cloud Practitioner certification</td>\n      <td>Budgeting, Scrum, Vue.js, American Sign Langua...</td>\n      <td>40000</td>\n    </tr>\n    <tr>\n      <th>2</th>\n      <td>01HQY593T5XMCEY5W4CFFR7PDA</td>\n      <td>Altera Digital Health</td>\n      <td>Associate Software Engineer - Remote</td>\n      <td>Remote in USA</td>\n      <td>3+ years relevant experience</td>\n      <td>Must have 3+ years of relevant experience</td>\n      <td>Ansible, MongoDB, Agile, Pascal</td>\n      <td>130000</td>\n    </tr>\n    <tr>\n      <th>3</th>\n      <td>01HQY593T5SCN9Y2ERYWHDH46Q</td>\n      <td>Lucid</td>\n      <td>Data Analyst</td>\n      <td>Raleigh, NC</td>\n      <td>0-1 years relevant experience</td>\n      <td>Tableau data analyst certification</td>\n      <td>Urdu, Content Marketing, Frontend Stack, Azure...</td>\n      <td>100000</td>\n    </tr>\n    <tr>\n      <th>4</th>\n      <td>01HQY593T5WG867X8XF3X3WRFP</td>\n      <td>Lucid</td>\n      <td>Data Analyst</td>\n      <td>Salt Lake City, UT</td>\n      <td>1-2 years relevant experience</td>\n      <td>US Citizen</td>\n      <td>Git, Sphinx, Customer Support, Graphic Design,...</td>\n      <td>60000</td>\n    </tr>\n    <tr>\n      <th>...</th>\n      <td>...</td>\n      <td>...</td>\n      <td>...</td>\n      <td>...</td>\n      <td>...</td>\n      <td>...</td>\n      <td>...</td>\n      <td>...</td>\n    </tr>\n    <tr>\n      <th>295</th>\n      <td>01HQY593WZE1AEE8N3EBPWCT8Y</td>\n      <td>Arista Networks</td>\n      <td>UX Designer - Remote from Turkey - Hungary or...</td>\n      <td>Remote</td>\n      <td>0-1 years relevant experience</td>\n      <td>Must have 3+ years of relevant experience</td>\n      <td>Urdu, SEO/SEM, UX/UI Design, Social Media Mark...</td>\n      <td>70000</td>\n    </tr>\n    <tr>\n      <th>296</th>\n      <td>01HQY593WZ8NQWY5MZCXS6TEGT</td>\n      <td>Arista Networks</td>\n      <td>Software Engineer - Packet Forwarding Engines</td>\n      <td>Vancouver, BC, Canada</td>\n      <td>3+ years relevant experience</td>\n      <td>Must have 5+ years of relevant experience</td>\n      <td>SQL, OOP, Django, Jenkins, PowerBI, JavaScript...</td>\n      <td>130000</td>\n    </tr>\n    <tr>\n      <th>297</th>\n      <td>01HQY593WZMQYQNW7XBG37NWJW</td>\n      <td>Arista Networks</td>\n      <td>Software Engineer - Network Systems</td>\n      <td>Vancouver, BC, Canada</td>\n      <td>0-1 years relevant experience</td>\n      <td>Tableau data analyst certification</td>\n      <td>Git, Spanish, Italian, Perl, Ruby, German, Ame...</td>\n      <td>40000</td>\n    </tr>\n    <tr>\n      <th>298</th>\n      <td>01HQY593X0HFAWF9ST87SA04JH</td>\n      <td>Connectly</td>\n      <td>Software Engineer - Backend</td>\n      <td>Remote</td>\n      <td>5+ years relevant experience</td>\n      <td>Must have 5+ years of relevant experience</td>\n      <td>Julia, Azure, Customer Support, Kotlin, Americ...</td>\n      <td>140000</td>\n    </tr>\n    <tr>\n      <th>299</th>\n      <td>01HQY593X0C6MDPFGF2ZN2FA0J</td>\n      <td>Vontive</td>\n      <td>New Grad Software Engineer - 2023</td>\n      <td>SF</td>\n      <td>0-1 years relevant experience</td>\n      <td>Must have at least one year of non-internship ...</td>\n      <td>AWS, Jupyter, Snowflake, LaTeX, Tensorflow, Co...</td>\n      <td>200000</td>\n    </tr>\n  </tbody>\n</table>\n<p>300 rows × 8 columns</p>\n</div>"
     },
     "execution_count": 154,
     "metadata": {},
     "output_type": "execute_result"
    }
   ],
   "source": [
    "full_time_df['Experience'] = full_time_df.apply(lambda row: random.choice(job_experience), axis=1)\n",
    "full_time_df['Requirements'] = full_time_df.apply(lambda row: random.choice(full_time_requirements), axis=1)\n",
    "full_time_df['Skills'] = full_time_df.apply(lambda row: get_random_skills(job_skills), axis=1)\n",
    "full_time_df['AnnualSalary'] = full_time_df.apply(lambda row: random.choice(annual_salaries), axis=1)\n",
    "full_time_df"
   ],
   "metadata": {
    "collapsed": false,
    "ExecuteTime": {
     "end_time": "2024-03-02T05:45:08.309914Z",
     "start_time": "2024-03-02T05:45:08.298274Z"
    }
   },
   "id": "89e41f4ac87e6273",
   "execution_count": 154
  },
  {
   "cell_type": "code",
   "outputs": [],
   "source": [
    "# Save final job postings df for full time roles in 'Full_Time_Job.csv' for Full_Time_Job relation!\n",
    "full_time_df.to_csv('data/Full_Time_Job.csv', index=False)"
   ],
   "metadata": {
    "collapsed": false,
    "ExecuteTime": {
     "end_time": "2024-03-02T05:46:16.226296Z",
     "start_time": "2024-03-02T05:46:16.222041Z"
    }
   },
   "id": "85601a15a5fe6983",
   "execution_count": 155
  },
  {
   "cell_type": "markdown",
   "source": [
    "### Internship\n",
    "- Our original internship data, stored in Tech_Internship.csv, was sourced from the Github page \"Summer 2024 Tech Internships by Pitt CSC & Simplify\" owned by Simplify, found here, on February 28th: https://github.com/SimplifyJobs/Summer2024-Internships\n",
    "- This included Company, Role, Location, Application/Link, and Date Posted for each role. \n",
    "- For our Internship_Job table, we need Job_ID, Company, Experience, Location, Requirements, Skills, Salaried (boolean), and Duration attributes.\n",
    " \n",
    "#### Preprocessing: \n",
    "- In the initial data scraped from Github, a 'Ü≥' symbol was present in certain rows' 'Company' column denoting that the company name is the same as in the row before it. We impute the correct company name for each occurrence of this symbol.\n",
    "- We dropped the Application/Link and Date Posted columns. \n",
    "- We generate a unique integer Job_ID for each internship posting.\n",
    "- We randomly impute a value for the Experience, Requirements, Skills, Saliaried, and Duration attributes."
   ],
   "metadata": {
    "collapsed": false
   },
   "id": "de460f19d689cd59"
  },
  {
   "cell_type": "code",
   "outputs": [
    {
     "data": {
      "text/plain": "                Company                                               Role  \\\n0                 Chime         Software Engineer Intern - Growth Funding    \n1                  CACI         Software Development Intern - Summer 2024    \n2       Western Digital           Summer 2024 Software Engineering Intern    \n3              Veracode   Solutions Architecture and Security Consultin...   \n4                  Roku                  Machine Learning Engineer Intern    \n...                 ...                                                ...   \n2480            Zurich                                Internship Program     \n2481              BTIG                           Software Engineer Intern    \n2482   Internet Brands                           Intern Software Engineer    \n2483         Panasonic                Software Electrical Engineer Intern    \n2484        Capital One                  Product Development Intern  üõÇ    \n\n                        Location  \\\n0                            SF    \n1                 Remote in USA    \n2                  Longmont, CO    \n3                Burlington, MA    \n4                  San Jose, CA    \n...                          ...   \n2480         Multiple Locations    \n2481         Multiple Locations    \n2482    Los Angeles, California    \n2483                         TX    \n2484   McLean, VA</br>Plano, TX    \n\n                                       Application/Link Date Posted  \n0      <a href=\"https://boards.greenhouse.io/chime/j...     Feb 28   \n1      <a href=\"https://caci.wd1.myworkdayjobs.com/E...     Feb 28   \n2      <a href=\"https://jobs.smartrecruiters.com/Wes...     Feb 27   \n3      <a href=\"https://www.veracode.com/career/job?...     Feb 27   \n4      <a href=\"https://www.weareroku.com/jobs/57580...     Feb 27   \n...                                                 ...         ...  \n2480                                              üîí    May 2023   \n2481                                              üîí    May 2023   \n2482                                              üîí    May 2023   \n2483                                              üîí    May 2023   \n2484                                              üîí    May 2023   \n\n[2485 rows x 5 columns]",
      "text/html": "<div>\n<style scoped>\n    .dataframe tbody tr th:only-of-type {\n        vertical-align: middle;\n    }\n\n    .dataframe tbody tr th {\n        vertical-align: top;\n    }\n\n    .dataframe thead th {\n        text-align: right;\n    }\n</style>\n<table border=\"1\" class=\"dataframe\">\n  <thead>\n    <tr style=\"text-align: right;\">\n      <th></th>\n      <th>Company</th>\n      <th>Role</th>\n      <th>Location</th>\n      <th>Application/Link</th>\n      <th>Date Posted</th>\n    </tr>\n  </thead>\n  <tbody>\n    <tr>\n      <th>0</th>\n      <td>Chime</td>\n      <td>Software Engineer Intern - Growth Funding</td>\n      <td>SF</td>\n      <td>&lt;a href=\"https://boards.greenhouse.io/chime/j...</td>\n      <td>Feb 28</td>\n    </tr>\n    <tr>\n      <th>1</th>\n      <td>CACI</td>\n      <td>Software Development Intern - Summer 2024</td>\n      <td>Remote in USA</td>\n      <td>&lt;a href=\"https://caci.wd1.myworkdayjobs.com/E...</td>\n      <td>Feb 28</td>\n    </tr>\n    <tr>\n      <th>2</th>\n      <td>Western Digital</td>\n      <td>Summer 2024 Software Engineering Intern</td>\n      <td>Longmont, CO</td>\n      <td>&lt;a href=\"https://jobs.smartrecruiters.com/Wes...</td>\n      <td>Feb 27</td>\n    </tr>\n    <tr>\n      <th>3</th>\n      <td>Veracode</td>\n      <td>Solutions Architecture and Security Consultin...</td>\n      <td>Burlington, MA</td>\n      <td>&lt;a href=\"https://www.veracode.com/career/job?...</td>\n      <td>Feb 27</td>\n    </tr>\n    <tr>\n      <th>4</th>\n      <td>Roku</td>\n      <td>Machine Learning Engineer Intern</td>\n      <td>San Jose, CA</td>\n      <td>&lt;a href=\"https://www.weareroku.com/jobs/57580...</td>\n      <td>Feb 27</td>\n    </tr>\n    <tr>\n      <th>...</th>\n      <td>...</td>\n      <td>...</td>\n      <td>...</td>\n      <td>...</td>\n      <td>...</td>\n    </tr>\n    <tr>\n      <th>2480</th>\n      <td>Zurich</td>\n      <td>Internship Program</td>\n      <td>Multiple Locations</td>\n      <td>üîí</td>\n      <td>May 2023</td>\n    </tr>\n    <tr>\n      <th>2481</th>\n      <td>BTIG</td>\n      <td>Software Engineer Intern</td>\n      <td>Multiple Locations</td>\n      <td>üîí</td>\n      <td>May 2023</td>\n    </tr>\n    <tr>\n      <th>2482</th>\n      <td>Internet Brands</td>\n      <td>Intern Software Engineer</td>\n      <td>Los Angeles, California</td>\n      <td>üîí</td>\n      <td>May 2023</td>\n    </tr>\n    <tr>\n      <th>2483</th>\n      <td>Panasonic</td>\n      <td>Software Electrical Engineer Intern</td>\n      <td>TX</td>\n      <td>üîí</td>\n      <td>May 2023</td>\n    </tr>\n    <tr>\n      <th>2484</th>\n      <td>Capital One</td>\n      <td>Product Development Intern  üõÇ</td>\n      <td>McLean, VA&lt;/br&gt;Plano, TX</td>\n      <td>üîí</td>\n      <td>May 2023</td>\n    </tr>\n  </tbody>\n</table>\n<p>2485 rows × 5 columns</p>\n</div>"
     },
     "execution_count": 163,
     "metadata": {},
     "output_type": "execute_result"
    }
   ],
   "source": [
    "internship_df = pd.read_csv('data/Tech_Internship.csv', header=0)\n",
    "internship_df"
   ],
   "metadata": {
    "collapsed": false,
    "ExecuteTime": {
     "end_time": "2024-03-02T05:49:11.285208Z",
     "start_time": "2024-03-02T05:49:11.273911Z"
    }
   },
   "id": "9c357b972e4cabf9",
   "execution_count": 163
  },
  {
   "cell_type": "code",
   "outputs": [
    {
     "name": "stdout",
     "output_type": "stream",
     "text": [
      "150\n"
     ]
    }
   ],
   "source": [
    "# Keep only 150 rows\n",
    "internship_df = internship_df[:150]\n",
    "print(len(internship_df))"
   ],
   "metadata": {
    "collapsed": false,
    "ExecuteTime": {
     "end_time": "2024-03-02T05:49:23.484156Z",
     "start_time": "2024-03-02T05:49:23.481143Z"
    }
   },
   "id": "1ff4213b78308e04",
   "execution_count": 164
  },
  {
   "cell_type": "code",
   "outputs": [
    {
     "name": "stdout",
     "output_type": "stream",
     "text": [
      "There are no more 'Ü≥' symbols in the 'Company' column!\n"
     ]
    },
    {
     "name": "stderr",
     "output_type": "stream",
     "text": [
      "/tmp/ipykernel_49711/1524265969.py:4: SettingWithCopyWarning: \n",
      "A value is trying to be set on a copy of a slice from a DataFrame\n",
      "\n",
      "See the caveats in the documentation: https://pandas.pydata.org/pandas-docs/stable/user_guide/indexing.html#returning-a-view-versus-a-copy\n",
      "  internship_df.loc[i, 'Company'] = internship_df.loc[i-1, 'Company']\n"
     ]
    },
    {
     "data": {
      "text/plain": "               Company                                               Role  \\\n0                Chime         Software Engineer Intern - Growth Funding    \n1                 CACI         Software Development Intern - Summer 2024    \n2      Western Digital           Summer 2024 Software Engineering Intern    \n3             Veracode   Solutions Architecture and Security Consultin...   \n4                 Roku                  Machine Learning Engineer Intern    \n..                 ...                                                ...   \n145    Elevance Health   Data Analyst Internship - Summer 2024 - Under...   \n146    Elevance Health   Data Analyst Internship - Summer 2024 - Under...   \n147    Elevance Health   Data Analytics Internship - Undergrad - Summe...   \n148  Chamberlain Group        Intern ‚Äì Software Engineer - Summer 2024    \n149               CACI    Junior Software Developer Intern - Summer 2024    \n\n                  Location                                   Application/Link  \\\n0                      SF    <a href=\"https://boards.greenhouse.io/chime/j...   \n1           Remote in USA    <a href=\"https://caci.wd1.myworkdayjobs.com/E...   \n2            Longmont, CO    <a href=\"https://jobs.smartrecruiters.com/Wes...   \n3          Burlington, MA    <a href=\"https://www.veracode.com/career/job?...   \n4            San Jose, CA    <a href=\"https://www.weareroku.com/jobs/57580...   \n..                     ...                                                ...   \n145           Atlanta, GA    <a href=\"https://elevancehealth.wd1.myworkday...   \n146           Atlanta, GA    <a href=\"https://elevancehealth.wd1.myworkday...   \n147        Burlington, MA    <a href=\"https://elevancehealth.wd1.myworkday...   \n148   Western Springs, IL    <a href=\"https://chamberlain.wd1.myworkdayjob...   \n149      Fort Belvoir, VA    <a href=\"https://caci.wd1.myworkdayjobs.com/E...   \n\n    Date Posted  \n0       Feb 28   \n1       Feb 28   \n2       Feb 27   \n3       Feb 27   \n4       Feb 27   \n..          ...  \n145     Feb 05   \n146     Feb 05   \n147     Feb 05   \n148     Feb 05   \n149     Feb 05   \n\n[150 rows x 5 columns]",
      "text/html": "<div>\n<style scoped>\n    .dataframe tbody tr th:only-of-type {\n        vertical-align: middle;\n    }\n\n    .dataframe tbody tr th {\n        vertical-align: top;\n    }\n\n    .dataframe thead th {\n        text-align: right;\n    }\n</style>\n<table border=\"1\" class=\"dataframe\">\n  <thead>\n    <tr style=\"text-align: right;\">\n      <th></th>\n      <th>Company</th>\n      <th>Role</th>\n      <th>Location</th>\n      <th>Application/Link</th>\n      <th>Date Posted</th>\n    </tr>\n  </thead>\n  <tbody>\n    <tr>\n      <th>0</th>\n      <td>Chime</td>\n      <td>Software Engineer Intern - Growth Funding</td>\n      <td>SF</td>\n      <td>&lt;a href=\"https://boards.greenhouse.io/chime/j...</td>\n      <td>Feb 28</td>\n    </tr>\n    <tr>\n      <th>1</th>\n      <td>CACI</td>\n      <td>Software Development Intern - Summer 2024</td>\n      <td>Remote in USA</td>\n      <td>&lt;a href=\"https://caci.wd1.myworkdayjobs.com/E...</td>\n      <td>Feb 28</td>\n    </tr>\n    <tr>\n      <th>2</th>\n      <td>Western Digital</td>\n      <td>Summer 2024 Software Engineering Intern</td>\n      <td>Longmont, CO</td>\n      <td>&lt;a href=\"https://jobs.smartrecruiters.com/Wes...</td>\n      <td>Feb 27</td>\n    </tr>\n    <tr>\n      <th>3</th>\n      <td>Veracode</td>\n      <td>Solutions Architecture and Security Consultin...</td>\n      <td>Burlington, MA</td>\n      <td>&lt;a href=\"https://www.veracode.com/career/job?...</td>\n      <td>Feb 27</td>\n    </tr>\n    <tr>\n      <th>4</th>\n      <td>Roku</td>\n      <td>Machine Learning Engineer Intern</td>\n      <td>San Jose, CA</td>\n      <td>&lt;a href=\"https://www.weareroku.com/jobs/57580...</td>\n      <td>Feb 27</td>\n    </tr>\n    <tr>\n      <th>...</th>\n      <td>...</td>\n      <td>...</td>\n      <td>...</td>\n      <td>...</td>\n      <td>...</td>\n    </tr>\n    <tr>\n      <th>145</th>\n      <td>Elevance Health</td>\n      <td>Data Analyst Internship - Summer 2024 - Under...</td>\n      <td>Atlanta, GA</td>\n      <td>&lt;a href=\"https://elevancehealth.wd1.myworkday...</td>\n      <td>Feb 05</td>\n    </tr>\n    <tr>\n      <th>146</th>\n      <td>Elevance Health</td>\n      <td>Data Analyst Internship - Summer 2024 - Under...</td>\n      <td>Atlanta, GA</td>\n      <td>&lt;a href=\"https://elevancehealth.wd1.myworkday...</td>\n      <td>Feb 05</td>\n    </tr>\n    <tr>\n      <th>147</th>\n      <td>Elevance Health</td>\n      <td>Data Analytics Internship - Undergrad - Summe...</td>\n      <td>Burlington, MA</td>\n      <td>&lt;a href=\"https://elevancehealth.wd1.myworkday...</td>\n      <td>Feb 05</td>\n    </tr>\n    <tr>\n      <th>148</th>\n      <td>Chamberlain Group</td>\n      <td>Intern ‚Äì Software Engineer - Summer 2024</td>\n      <td>Western Springs, IL</td>\n      <td>&lt;a href=\"https://chamberlain.wd1.myworkdayjob...</td>\n      <td>Feb 05</td>\n    </tr>\n    <tr>\n      <th>149</th>\n      <td>CACI</td>\n      <td>Junior Software Developer Intern - Summer 2024</td>\n      <td>Fort Belvoir, VA</td>\n      <td>&lt;a href=\"https://caci.wd1.myworkdayjobs.com/E...</td>\n      <td>Feb 05</td>\n    </tr>\n  </tbody>\n</table>\n<p>150 rows × 5 columns</p>\n</div>"
     },
     "execution_count": 165,
     "metadata": {},
     "output_type": "execute_result"
    }
   ],
   "source": [
    "# Replace 'Ü≥' symbols with correct company names, i.e. company name before that row\n",
    "for i in range(len(internship_df)): \n",
    "    if internship_df.loc[i, 'Company'] == 'Ü≥ ' or internship_df.loc[i, 'Company'] == ' ‚Ü≥ ':\n",
    "        internship_df.loc[i, 'Company'] = internship_df.loc[i-1, 'Company']\n",
    "        \n",
    "# Verify this was done correctly for all tuples\n",
    "if not (internship_df['Company'] == 'Ü≥').any() or (internship_df['Company'] == ',Ü≥').any():\n",
    "    print(\"There are no more 'Ü≥' symbols in the 'Company' column!\")\n",
    "internship_df"
   ],
   "metadata": {
    "collapsed": false,
    "ExecuteTime": {
     "end_time": "2024-03-02T05:49:25.793614Z",
     "start_time": "2024-03-02T05:49:25.780462Z"
    }
   },
   "id": "14b468a2a9279a6f",
   "execution_count": 165
  },
  {
   "cell_type": "code",
   "outputs": [
    {
     "name": "stderr",
     "output_type": "stream",
     "text": [
      "/tmp/ipykernel_49711/919899477.py:2: SettingWithCopyWarning: \n",
      "A value is trying to be set on a copy of a slice from a DataFrame\n",
      "\n",
      "See the caveats in the documentation: https://pandas.pydata.org/pandas-docs/stable/user_guide/indexing.html#returning-a-view-versus-a-copy\n",
      "  internship_df.drop_duplicates(inplace=True)\n"
     ]
    },
    {
     "data": {
      "text/plain": "               Company                                               Role  \\\n0                Chime         Software Engineer Intern - Growth Funding    \n1                 CACI         Software Development Intern - Summer 2024    \n2      Western Digital           Summer 2024 Software Engineering Intern    \n3             Veracode   Solutions Architecture and Security Consultin...   \n4                 Roku                  Machine Learning Engineer Intern    \n..                 ...                                                ...   \n145    Elevance Health   Data Analyst Internship - Summer 2024 - Under...   \n146    Elevance Health   Data Analyst Internship - Summer 2024 - Under...   \n147    Elevance Health   Data Analytics Internship - Undergrad - Summe...   \n148  Chamberlain Group        Intern ‚Äì Software Engineer - Summer 2024    \n149               CACI    Junior Software Developer Intern - Summer 2024    \n\n                  Location                                   Application/Link  \\\n0                      SF    <a href=\"https://boards.greenhouse.io/chime/j...   \n1           Remote in USA    <a href=\"https://caci.wd1.myworkdayjobs.com/E...   \n2            Longmont, CO    <a href=\"https://jobs.smartrecruiters.com/Wes...   \n3          Burlington, MA    <a href=\"https://www.veracode.com/career/job?...   \n4            San Jose, CA    <a href=\"https://www.weareroku.com/jobs/57580...   \n..                     ...                                                ...   \n145           Atlanta, GA    <a href=\"https://elevancehealth.wd1.myworkday...   \n146           Atlanta, GA    <a href=\"https://elevancehealth.wd1.myworkday...   \n147        Burlington, MA    <a href=\"https://elevancehealth.wd1.myworkday...   \n148   Western Springs, IL    <a href=\"https://chamberlain.wd1.myworkdayjob...   \n149      Fort Belvoir, VA    <a href=\"https://caci.wd1.myworkdayjobs.com/E...   \n\n    Date Posted  \n0       Feb 28   \n1       Feb 28   \n2       Feb 27   \n3       Feb 27   \n4       Feb 27   \n..          ...  \n145     Feb 05   \n146     Feb 05   \n147     Feb 05   \n148     Feb 05   \n149     Feb 05   \n\n[150 rows x 5 columns]",
      "text/html": "<div>\n<style scoped>\n    .dataframe tbody tr th:only-of-type {\n        vertical-align: middle;\n    }\n\n    .dataframe tbody tr th {\n        vertical-align: top;\n    }\n\n    .dataframe thead th {\n        text-align: right;\n    }\n</style>\n<table border=\"1\" class=\"dataframe\">\n  <thead>\n    <tr style=\"text-align: right;\">\n      <th></th>\n      <th>Company</th>\n      <th>Role</th>\n      <th>Location</th>\n      <th>Application/Link</th>\n      <th>Date Posted</th>\n    </tr>\n  </thead>\n  <tbody>\n    <tr>\n      <th>0</th>\n      <td>Chime</td>\n      <td>Software Engineer Intern - Growth Funding</td>\n      <td>SF</td>\n      <td>&lt;a href=\"https://boards.greenhouse.io/chime/j...</td>\n      <td>Feb 28</td>\n    </tr>\n    <tr>\n      <th>1</th>\n      <td>CACI</td>\n      <td>Software Development Intern - Summer 2024</td>\n      <td>Remote in USA</td>\n      <td>&lt;a href=\"https://caci.wd1.myworkdayjobs.com/E...</td>\n      <td>Feb 28</td>\n    </tr>\n    <tr>\n      <th>2</th>\n      <td>Western Digital</td>\n      <td>Summer 2024 Software Engineering Intern</td>\n      <td>Longmont, CO</td>\n      <td>&lt;a href=\"https://jobs.smartrecruiters.com/Wes...</td>\n      <td>Feb 27</td>\n    </tr>\n    <tr>\n      <th>3</th>\n      <td>Veracode</td>\n      <td>Solutions Architecture and Security Consultin...</td>\n      <td>Burlington, MA</td>\n      <td>&lt;a href=\"https://www.veracode.com/career/job?...</td>\n      <td>Feb 27</td>\n    </tr>\n    <tr>\n      <th>4</th>\n      <td>Roku</td>\n      <td>Machine Learning Engineer Intern</td>\n      <td>San Jose, CA</td>\n      <td>&lt;a href=\"https://www.weareroku.com/jobs/57580...</td>\n      <td>Feb 27</td>\n    </tr>\n    <tr>\n      <th>...</th>\n      <td>...</td>\n      <td>...</td>\n      <td>...</td>\n      <td>...</td>\n      <td>...</td>\n    </tr>\n    <tr>\n      <th>145</th>\n      <td>Elevance Health</td>\n      <td>Data Analyst Internship - Summer 2024 - Under...</td>\n      <td>Atlanta, GA</td>\n      <td>&lt;a href=\"https://elevancehealth.wd1.myworkday...</td>\n      <td>Feb 05</td>\n    </tr>\n    <tr>\n      <th>146</th>\n      <td>Elevance Health</td>\n      <td>Data Analyst Internship - Summer 2024 - Under...</td>\n      <td>Atlanta, GA</td>\n      <td>&lt;a href=\"https://elevancehealth.wd1.myworkday...</td>\n      <td>Feb 05</td>\n    </tr>\n    <tr>\n      <th>147</th>\n      <td>Elevance Health</td>\n      <td>Data Analytics Internship - Undergrad - Summe...</td>\n      <td>Burlington, MA</td>\n      <td>&lt;a href=\"https://elevancehealth.wd1.myworkday...</td>\n      <td>Feb 05</td>\n    </tr>\n    <tr>\n      <th>148</th>\n      <td>Chamberlain Group</td>\n      <td>Intern ‚Äì Software Engineer - Summer 2024</td>\n      <td>Western Springs, IL</td>\n      <td>&lt;a href=\"https://chamberlain.wd1.myworkdayjob...</td>\n      <td>Feb 05</td>\n    </tr>\n    <tr>\n      <th>149</th>\n      <td>CACI</td>\n      <td>Junior Software Developer Intern - Summer 2024</td>\n      <td>Fort Belvoir, VA</td>\n      <td>&lt;a href=\"https://caci.wd1.myworkdayjobs.com/E...</td>\n      <td>Feb 05</td>\n    </tr>\n  </tbody>\n</table>\n<p>150 rows × 5 columns</p>\n</div>"
     },
     "execution_count": 166,
     "metadata": {},
     "output_type": "execute_result"
    }
   ],
   "source": [
    "# Drop duplicate rows\n",
    "internship_df.drop_duplicates(inplace=True)\n",
    "internship_df"
   ],
   "metadata": {
    "collapsed": false,
    "ExecuteTime": {
     "end_time": "2024-03-02T05:49:28.334147Z",
     "start_time": "2024-03-02T05:49:28.325533Z"
    }
   },
   "id": "4ab296b7e7eb0aaa",
   "execution_count": 166
  },
  {
   "cell_type": "code",
   "outputs": [
    {
     "data": {
      "text/plain": "               Company                                               Role  \\\n0                Chime         Software Engineer Intern - Growth Funding    \n1                 CACI         Software Development Intern - Summer 2024    \n2      Western Digital           Summer 2024 Software Engineering Intern    \n3             Veracode   Solutions Architecture and Security Consultin...   \n4                 Roku                  Machine Learning Engineer Intern    \n..                 ...                                                ...   \n145    Elevance Health   Data Analyst Internship - Summer 2024 - Under...   \n146    Elevance Health   Data Analyst Internship - Summer 2024 - Under...   \n147    Elevance Health   Data Analytics Internship - Undergrad - Summe...   \n148  Chamberlain Group        Intern ‚Äì Software Engineer - Summer 2024    \n149               CACI    Junior Software Developer Intern - Summer 2024    \n\n                  Location  \n0                      SF   \n1           Remote in USA   \n2            Longmont, CO   \n3          Burlington, MA   \n4            San Jose, CA   \n..                     ...  \n145           Atlanta, GA   \n146           Atlanta, GA   \n147        Burlington, MA   \n148   Western Springs, IL   \n149      Fort Belvoir, VA   \n\n[150 rows x 3 columns]",
      "text/html": "<div>\n<style scoped>\n    .dataframe tbody tr th:only-of-type {\n        vertical-align: middle;\n    }\n\n    .dataframe tbody tr th {\n        vertical-align: top;\n    }\n\n    .dataframe thead th {\n        text-align: right;\n    }\n</style>\n<table border=\"1\" class=\"dataframe\">\n  <thead>\n    <tr style=\"text-align: right;\">\n      <th></th>\n      <th>Company</th>\n      <th>Role</th>\n      <th>Location</th>\n    </tr>\n  </thead>\n  <tbody>\n    <tr>\n      <th>0</th>\n      <td>Chime</td>\n      <td>Software Engineer Intern - Growth Funding</td>\n      <td>SF</td>\n    </tr>\n    <tr>\n      <th>1</th>\n      <td>CACI</td>\n      <td>Software Development Intern - Summer 2024</td>\n      <td>Remote in USA</td>\n    </tr>\n    <tr>\n      <th>2</th>\n      <td>Western Digital</td>\n      <td>Summer 2024 Software Engineering Intern</td>\n      <td>Longmont, CO</td>\n    </tr>\n    <tr>\n      <th>3</th>\n      <td>Veracode</td>\n      <td>Solutions Architecture and Security Consultin...</td>\n      <td>Burlington, MA</td>\n    </tr>\n    <tr>\n      <th>4</th>\n      <td>Roku</td>\n      <td>Machine Learning Engineer Intern</td>\n      <td>San Jose, CA</td>\n    </tr>\n    <tr>\n      <th>...</th>\n      <td>...</td>\n      <td>...</td>\n      <td>...</td>\n    </tr>\n    <tr>\n      <th>145</th>\n      <td>Elevance Health</td>\n      <td>Data Analyst Internship - Summer 2024 - Under...</td>\n      <td>Atlanta, GA</td>\n    </tr>\n    <tr>\n      <th>146</th>\n      <td>Elevance Health</td>\n      <td>Data Analyst Internship - Summer 2024 - Under...</td>\n      <td>Atlanta, GA</td>\n    </tr>\n    <tr>\n      <th>147</th>\n      <td>Elevance Health</td>\n      <td>Data Analytics Internship - Undergrad - Summe...</td>\n      <td>Burlington, MA</td>\n    </tr>\n    <tr>\n      <th>148</th>\n      <td>Chamberlain Group</td>\n      <td>Intern ‚Äì Software Engineer - Summer 2024</td>\n      <td>Western Springs, IL</td>\n    </tr>\n    <tr>\n      <th>149</th>\n      <td>CACI</td>\n      <td>Junior Software Developer Intern - Summer 2024</td>\n      <td>Fort Belvoir, VA</td>\n    </tr>\n  </tbody>\n</table>\n<p>150 rows × 3 columns</p>\n</div>"
     },
     "execution_count": 167,
     "metadata": {},
     "output_type": "execute_result"
    }
   ],
   "source": [
    "# Drop Date Posted\n",
    "internship_df = internship_df.drop(columns=['Application/Link', 'Date Posted'])\n",
    "internship_df"
   ],
   "metadata": {
    "collapsed": false,
    "ExecuteTime": {
     "end_time": "2024-03-02T05:49:32.031437Z",
     "start_time": "2024-03-02T05:49:32.025695Z"
    }
   },
   "id": "8b20563327d03015",
   "execution_count": 167
  },
  {
   "cell_type": "code",
   "outputs": [
    {
     "data": {
      "text/plain": "    Job_ID            Company  \\\n0      NaN              Chime   \n1      NaN               CACI   \n2      NaN    Western Digital   \n3      NaN           Veracode   \n4      NaN               Roku   \n..     ...                ...   \n145    NaN    Elevance Health   \n146    NaN    Elevance Health   \n147    NaN    Elevance Health   \n148    NaN  Chamberlain Group   \n149    NaN               CACI   \n\n                                                  Role               Location  \n0           Software Engineer Intern - Growth Funding                     SF   \n1           Software Development Intern - Summer 2024          Remote in USA   \n2             Summer 2024 Software Engineering Intern           Longmont, CO   \n3     Solutions Architecture and Security Consultin...        Burlington, MA   \n4                    Machine Learning Engineer Intern           San Jose, CA   \n..                                                 ...                    ...  \n145   Data Analyst Internship - Summer 2024 - Under...           Atlanta, GA   \n146   Data Analyst Internship - Summer 2024 - Under...           Atlanta, GA   \n147   Data Analytics Internship - Undergrad - Summe...        Burlington, MA   \n148        Intern ‚Äì Software Engineer - Summer 2024    Western Springs, IL   \n149    Junior Software Developer Intern - Summer 2024       Fort Belvoir, VA   \n\n[150 rows x 4 columns]",
      "text/html": "<div>\n<style scoped>\n    .dataframe tbody tr th:only-of-type {\n        vertical-align: middle;\n    }\n\n    .dataframe tbody tr th {\n        vertical-align: top;\n    }\n\n    .dataframe thead th {\n        text-align: right;\n    }\n</style>\n<table border=\"1\" class=\"dataframe\">\n  <thead>\n    <tr style=\"text-align: right;\">\n      <th></th>\n      <th>Job_ID</th>\n      <th>Company</th>\n      <th>Role</th>\n      <th>Location</th>\n    </tr>\n  </thead>\n  <tbody>\n    <tr>\n      <th>0</th>\n      <td>NaN</td>\n      <td>Chime</td>\n      <td>Software Engineer Intern - Growth Funding</td>\n      <td>SF</td>\n    </tr>\n    <tr>\n      <th>1</th>\n      <td>NaN</td>\n      <td>CACI</td>\n      <td>Software Development Intern - Summer 2024</td>\n      <td>Remote in USA</td>\n    </tr>\n    <tr>\n      <th>2</th>\n      <td>NaN</td>\n      <td>Western Digital</td>\n      <td>Summer 2024 Software Engineering Intern</td>\n      <td>Longmont, CO</td>\n    </tr>\n    <tr>\n      <th>3</th>\n      <td>NaN</td>\n      <td>Veracode</td>\n      <td>Solutions Architecture and Security Consultin...</td>\n      <td>Burlington, MA</td>\n    </tr>\n    <tr>\n      <th>4</th>\n      <td>NaN</td>\n      <td>Roku</td>\n      <td>Machine Learning Engineer Intern</td>\n      <td>San Jose, CA</td>\n    </tr>\n    <tr>\n      <th>...</th>\n      <td>...</td>\n      <td>...</td>\n      <td>...</td>\n      <td>...</td>\n    </tr>\n    <tr>\n      <th>145</th>\n      <td>NaN</td>\n      <td>Elevance Health</td>\n      <td>Data Analyst Internship - Summer 2024 - Under...</td>\n      <td>Atlanta, GA</td>\n    </tr>\n    <tr>\n      <th>146</th>\n      <td>NaN</td>\n      <td>Elevance Health</td>\n      <td>Data Analyst Internship - Summer 2024 - Under...</td>\n      <td>Atlanta, GA</td>\n    </tr>\n    <tr>\n      <th>147</th>\n      <td>NaN</td>\n      <td>Elevance Health</td>\n      <td>Data Analytics Internship - Undergrad - Summe...</td>\n      <td>Burlington, MA</td>\n    </tr>\n    <tr>\n      <th>148</th>\n      <td>NaN</td>\n      <td>Chamberlain Group</td>\n      <td>Intern ‚Äì Software Engineer - Summer 2024</td>\n      <td>Western Springs, IL</td>\n    </tr>\n    <tr>\n      <th>149</th>\n      <td>NaN</td>\n      <td>CACI</td>\n      <td>Junior Software Developer Intern - Summer 2024</td>\n      <td>Fort Belvoir, VA</td>\n    </tr>\n  </tbody>\n</table>\n<p>150 rows × 4 columns</p>\n</div>"
     },
     "execution_count": 169,
     "metadata": {},
     "output_type": "execute_result"
    }
   ],
   "source": [
    "# Assign a Job_ID to each internship\n",
    "job_ids_df = job_ids_df.iloc[301:451]\n",
    "job_ids_df.reset_index(drop=True, inplace=True)\n",
    "\n",
    "# Concatenate selected_job_ids with internship_df\n",
    "internship_df = pd.concat([job_ids_df, internship_df.reset_index(drop=True)], axis=1)\n",
    "internship_df"
   ],
   "metadata": {
    "collapsed": false,
    "ExecuteTime": {
     "end_time": "2024-03-02T05:51:33.970809Z",
     "start_time": "2024-03-02T05:51:33.963106Z"
    }
   },
   "id": "a79016ecd4935abb",
   "execution_count": 169
  },
  {
   "cell_type": "code",
   "outputs": [],
   "source": [
    "# Randomly impute a value for the Experience, Requirements, Skills, Saliaried, and Duration attributes for each tuple \n",
    "intern_experience_vals = ['None Required', 'Previous industry internship experience required (>=3 months)', 'Previous research/academic experience required (>=3 months)', 'Minimum 1 year previous industry internship experience required', 'Previous research/academic highly desirable']"
   ],
   "metadata": {
    "collapsed": false,
    "ExecuteTime": {
     "end_time": "2024-03-01T22:12:24.754562Z",
     "start_time": "2024-03-01T22:12:24.751924Z"
    }
   },
   "id": "63b36dce4f491d4c",
   "execution_count": 12
  },
  {
   "cell_type": "code",
   "outputs": [],
   "source": [
    "intern_requirements_vals = ['Willing to relocate', 'Willing to travel up to 20%', 'Must meet base technical criteria', 'Must be proficient in Microsoft Office Suite', 'Good sense of humor', 'Ability to work independently', 'Familiar with Agile methodologies', 'Must have valid license', 'Must tolerate dogs in the workplace']"
   ],
   "metadata": {
    "collapsed": false,
    "ExecuteTime": {
     "end_time": "2024-03-01T22:12:25.254708Z",
     "start_time": "2024-03-01T22:12:25.251460Z"
    }
   },
   "id": "a2c745b7eb211d3b",
   "execution_count": 13
  },
  {
   "cell_type": "code",
   "outputs": [],
   "source": [
    "def get_random_skills(job_skills):\n",
    "    # Pick random number of skills between 3 and 12\n",
    "    num_skills = random.randint(5, 12)\n",
    "    skills = []\n",
    "    for i in range(num_skills):\n",
    "        skills.append(random.choice(job_skills))\n",
    "    skills = list(set(skills))\n",
    "    skills_str = ', '.join(skills)\n",
    "    return skills_str"
   ],
   "metadata": {
    "collapsed": false,
    "ExecuteTime": {
     "end_time": "2024-03-02T05:39:21.882037Z",
     "start_time": "2024-03-02T05:39:21.878441Z"
    }
   },
   "id": "d16211046a323238",
   "execution_count": 138
  },
  {
   "cell_type": "code",
   "outputs": [],
   "source": [
    "duration_vals = ['4 weeks', '8 weeks', '12 weeks', '16 weeks']"
   ],
   "metadata": {
    "collapsed": false,
    "ExecuteTime": {
     "end_time": "2024-03-01T22:12:26.948313Z",
     "start_time": "2024-03-01T22:12:26.945498Z"
    }
   },
   "id": "a1e58152af7c8f0e",
   "execution_count": 15
  },
  {
   "cell_type": "code",
   "outputs": [
    {
     "name": "stderr",
     "output_type": "stream",
     "text": [
      "/tmp/ipykernel_47495/898184630.py:4: SettingWithCopyWarning: \n",
      "A value is trying to be set on a copy of a slice from a DataFrame.\n",
      "Try using .loc[row_indexer,col_indexer] = value instead\n",
      "\n",
      "See the caveats in the documentation: https://pandas.pydata.org/pandas-docs/stable/user_guide/indexing.html#returning-a-view-versus-a-copy\n",
      "  internship_df['Salaried'] = np.random.choice(salaried, size=len(internship_df), p=salary_probs)\n"
     ]
    },
    {
     "data": {
      "text/plain": "               Company                                               Role  \\\n0                Chime         Software Engineer Intern - Growth Funding    \n1                 CACI         Software Development Intern - Summer 2024    \n2      Western Digital           Summer 2024 Software Engineering Intern    \n3             Veracode   Solutions Architecture and Security Consultin...   \n4                 Roku                  Machine Learning Engineer Intern    \n..                 ...                                                ...   \n295  Inari Agriculture                    Enterprise Data Quality Intern    \n296          Quantcast         Software Engineering Intern - Summer 2024    \n297  Electric Hydrogen                       Firmware Intern Summer 2024    \n298           Niantic                        Software Engineering Intern    \n299     Marshall Wace           Technology Internship (Summer 2024) üõÇ    \n\n                Location                                   Application/Link  \\\n0                    SF    <a href=\"https://boards.greenhouse.io/chime/j...   \n1         Remote in USA    <a href=\"https://caci.wd1.myworkdayjobs.com/E...   \n2          Longmont, CO    <a href=\"https://jobs.smartrecruiters.com/Wes...   \n3        Burlington, MA    <a href=\"https://www.veracode.com/career/job?...   \n4          San Jose, CA    <a href=\"https://www.weareroku.com/jobs/57580...   \n..                   ...                                                ...   \n295       Cambridge, MA    <a href=\"https://boards.greenhouse.io/inariag...   \n296         Seattle, WA    <a href=\"https://jobs.lever.co/quantcast/9ab8...   \n297        San Jose, CA    <a href=\"https://eh2.com/careers?gh_jid=43477...   \n298   San Francisco, CA    <a href=\"https://app.ripplematch.com/v2/publi...   \n299        New York, NY    <a href=\"https://www.mwam.com/news/internship...   \n\n    Date Posted  Salaried  \n0       Feb 28       True  \n1       Feb 28       True  \n2       Feb 27       True  \n3       Feb 27       True  \n4       Feb 27       True  \n..          ...       ...  \n295     Dec 08       True  \n296     Dec 07       True  \n297     Dec 07       True  \n298     Dec 06       True  \n299     Dec 06       True  \n\n[300 rows x 6 columns]",
      "text/html": "<div>\n<style scoped>\n    .dataframe tbody tr th:only-of-type {\n        vertical-align: middle;\n    }\n\n    .dataframe tbody tr th {\n        vertical-align: top;\n    }\n\n    .dataframe thead th {\n        text-align: right;\n    }\n</style>\n<table border=\"1\" class=\"dataframe\">\n  <thead>\n    <tr style=\"text-align: right;\">\n      <th></th>\n      <th>Company</th>\n      <th>Role</th>\n      <th>Location</th>\n      <th>Application/Link</th>\n      <th>Date Posted</th>\n      <th>Salaried</th>\n    </tr>\n  </thead>\n  <tbody>\n    <tr>\n      <th>0</th>\n      <td>Chime</td>\n      <td>Software Engineer Intern - Growth Funding</td>\n      <td>SF</td>\n      <td>&lt;a href=\"https://boards.greenhouse.io/chime/j...</td>\n      <td>Feb 28</td>\n      <td>True</td>\n    </tr>\n    <tr>\n      <th>1</th>\n      <td>CACI</td>\n      <td>Software Development Intern - Summer 2024</td>\n      <td>Remote in USA</td>\n      <td>&lt;a href=\"https://caci.wd1.myworkdayjobs.com/E...</td>\n      <td>Feb 28</td>\n      <td>True</td>\n    </tr>\n    <tr>\n      <th>2</th>\n      <td>Western Digital</td>\n      <td>Summer 2024 Software Engineering Intern</td>\n      <td>Longmont, CO</td>\n      <td>&lt;a href=\"https://jobs.smartrecruiters.com/Wes...</td>\n      <td>Feb 27</td>\n      <td>True</td>\n    </tr>\n    <tr>\n      <th>3</th>\n      <td>Veracode</td>\n      <td>Solutions Architecture and Security Consultin...</td>\n      <td>Burlington, MA</td>\n      <td>&lt;a href=\"https://www.veracode.com/career/job?...</td>\n      <td>Feb 27</td>\n      <td>True</td>\n    </tr>\n    <tr>\n      <th>4</th>\n      <td>Roku</td>\n      <td>Machine Learning Engineer Intern</td>\n      <td>San Jose, CA</td>\n      <td>&lt;a href=\"https://www.weareroku.com/jobs/57580...</td>\n      <td>Feb 27</td>\n      <td>True</td>\n    </tr>\n    <tr>\n      <th>...</th>\n      <td>...</td>\n      <td>...</td>\n      <td>...</td>\n      <td>...</td>\n      <td>...</td>\n      <td>...</td>\n    </tr>\n    <tr>\n      <th>295</th>\n      <td>Inari Agriculture</td>\n      <td>Enterprise Data Quality Intern</td>\n      <td>Cambridge, MA</td>\n      <td>&lt;a href=\"https://boards.greenhouse.io/inariag...</td>\n      <td>Dec 08</td>\n      <td>True</td>\n    </tr>\n    <tr>\n      <th>296</th>\n      <td>Quantcast</td>\n      <td>Software Engineering Intern - Summer 2024</td>\n      <td>Seattle, WA</td>\n      <td>&lt;a href=\"https://jobs.lever.co/quantcast/9ab8...</td>\n      <td>Dec 07</td>\n      <td>True</td>\n    </tr>\n    <tr>\n      <th>297</th>\n      <td>Electric Hydrogen</td>\n      <td>Firmware Intern Summer 2024</td>\n      <td>San Jose, CA</td>\n      <td>&lt;a href=\"https://eh2.com/careers?gh_jid=43477...</td>\n      <td>Dec 07</td>\n      <td>True</td>\n    </tr>\n    <tr>\n      <th>298</th>\n      <td>Niantic</td>\n      <td>Software Engineering Intern</td>\n      <td>San Francisco, CA</td>\n      <td>&lt;a href=\"https://app.ripplematch.com/v2/publi...</td>\n      <td>Dec 06</td>\n      <td>True</td>\n    </tr>\n    <tr>\n      <th>299</th>\n      <td>Marshall Wace</td>\n      <td>Technology Internship (Summer 2024) üõÇ</td>\n      <td>New York, NY</td>\n      <td>&lt;a href=\"https://www.mwam.com/news/internship...</td>\n      <td>Dec 06</td>\n      <td>True</td>\n    </tr>\n  </tbody>\n</table>\n<p>300 rows × 6 columns</p>\n</div>"
     },
     "execution_count": 16,
     "metadata": {},
     "output_type": "execute_result"
    }
   ],
   "source": [
    "# Make only 3% of values Salaried = False because I don't want to live in a database world where most companies benefit off the backs of innocent, eager interns \n",
    "salaried = [True, False]\n",
    "salary_probs = [0.97, 0.03]\n",
    "internship_df['Salaried'] = np.random.choice(salaried, size=len(internship_df), p=salary_probs)\n",
    "internship_df"
   ],
   "metadata": {
    "collapsed": false,
    "ExecuteTime": {
     "end_time": "2024-03-01T20:39:20.592730Z",
     "start_time": "2024-03-01T20:39:20.574616Z"
    }
   },
   "id": "3b439eb062b99e42",
   "execution_count": 16
  },
  {
   "cell_type": "code",
   "outputs": [],
   "source": [
    "# Save final internships df in 'Internship_Job.csv' for Internship_Job relation!"
   ],
   "metadata": {
    "collapsed": false
   },
   "id": "c4cc73d184b7eb95"
  },
  {
   "cell_type": "markdown",
   "source": [
    "### Coop Job"
   ],
   "metadata": {
    "collapsed": false
   },
   "id": "8c46e1e59eb544c4"
  },
  {
   "cell_type": "code",
   "outputs": [],
   "source": [],
   "metadata": {
    "collapsed": false
   },
   "id": "4dfa36adc18aee06"
  },
  {
   "cell_type": "code",
   "outputs": [],
   "source": [],
   "metadata": {
    "collapsed": false
   },
   "id": "2604483ab9c3529"
  },
  {
   "cell_type": "markdown",
   "source": [
    "### Company\n",
    "- Mockaroo was used to obtain the Company_ID, Location, and Name column values for N rows, where N was the number of unique companies identified in our job postings. \n",
    "- We imput the Name attribute for the Company relation with Company names obtained from our job posting sources (namely, both full time roles and internship roles). There should be one entry in the Company table for each unique company found in either job postings CSV. \n",
    "- Because the location option on Mockaroo was only a street address, we impute a random city, state, and zip code as shown below.\n",
    "- Additionally, we assign a random company type for the Type column. We arbitrarily deem 80% of the companies as private corporations, 5% as non-profit, and 15% as startups. "
   ],
   "metadata": {
    "collapsed": false
   },
   "id": "9f8aeefe9e4c110f"
  },
  {
   "cell_type": "code",
   "outputs": [
    {
     "data": {
      "text/plain": "                     Company_ID                 Address          Name  Type\n0    01HQXAVCMWEXEJYR1CVK9QPZQ7          414 Havey Hill  Dazzlesphere   NaN\n1    01HQXAVCMXRWCNSE1XGC88Z5KR      8989 Swallow Plaza         Skiba   NaN\n2    01HQXAVCMXTRC4Y81YV23C1ZQ8          4778 Sage Lane      Edgeclub   NaN\n3    01HQXAVCMXCRNPED9KR90QAGJN          42 Corben Road      Gigazoom   NaN\n4    01HQXAVCMXJ11TZ0EJQNZST6SP      3 Sycamore Parkway         Quire   NaN\n..                          ...                     ...           ...   ...\n306  01HQXAVCQZT7RE42HZ1RT90XT3         23 Corscot Road        Meezzy   NaN\n307  01HQXAVCQZYF5N9HVP8QNCXW97     566 Cordelia Center        BlogXS   NaN\n308  01HQXAVCR0PX1DP6TJNR6FAJ4M    935 Old Gate Parkway        Skyble   NaN\n309  01HQXAVCR0113ZBMBE6D7ARSM2  3792 Rutledge Crossing         Mydeo   NaN\n310  01HQXAVCR009GYX7Z739EYC6DQ       9204 East Parkway       Tagopia   NaN\n\n[311 rows x 4 columns]",
      "text/html": "<div>\n<style scoped>\n    .dataframe tbody tr th:only-of-type {\n        vertical-align: middle;\n    }\n\n    .dataframe tbody tr th {\n        vertical-align: top;\n    }\n\n    .dataframe thead th {\n        text-align: right;\n    }\n</style>\n<table border=\"1\" class=\"dataframe\">\n  <thead>\n    <tr style=\"text-align: right;\">\n      <th></th>\n      <th>Company_ID</th>\n      <th>Address</th>\n      <th>Name</th>\n      <th>Type</th>\n    </tr>\n  </thead>\n  <tbody>\n    <tr>\n      <th>0</th>\n      <td>01HQXAVCMWEXEJYR1CVK9QPZQ7</td>\n      <td>414 Havey Hill</td>\n      <td>Dazzlesphere</td>\n      <td>NaN</td>\n    </tr>\n    <tr>\n      <th>1</th>\n      <td>01HQXAVCMXRWCNSE1XGC88Z5KR</td>\n      <td>8989 Swallow Plaza</td>\n      <td>Skiba</td>\n      <td>NaN</td>\n    </tr>\n    <tr>\n      <th>2</th>\n      <td>01HQXAVCMXTRC4Y81YV23C1ZQ8</td>\n      <td>4778 Sage Lane</td>\n      <td>Edgeclub</td>\n      <td>NaN</td>\n    </tr>\n    <tr>\n      <th>3</th>\n      <td>01HQXAVCMXCRNPED9KR90QAGJN</td>\n      <td>42 Corben Road</td>\n      <td>Gigazoom</td>\n      <td>NaN</td>\n    </tr>\n    <tr>\n      <th>4</th>\n      <td>01HQXAVCMXJ11TZ0EJQNZST6SP</td>\n      <td>3 Sycamore Parkway</td>\n      <td>Quire</td>\n      <td>NaN</td>\n    </tr>\n    <tr>\n      <th>...</th>\n      <td>...</td>\n      <td>...</td>\n      <td>...</td>\n      <td>...</td>\n    </tr>\n    <tr>\n      <th>306</th>\n      <td>01HQXAVCQZT7RE42HZ1RT90XT3</td>\n      <td>23 Corscot Road</td>\n      <td>Meezzy</td>\n      <td>NaN</td>\n    </tr>\n    <tr>\n      <th>307</th>\n      <td>01HQXAVCQZYF5N9HVP8QNCXW97</td>\n      <td>566 Cordelia Center</td>\n      <td>BlogXS</td>\n      <td>NaN</td>\n    </tr>\n    <tr>\n      <th>308</th>\n      <td>01HQXAVCR0PX1DP6TJNR6FAJ4M</td>\n      <td>935 Old Gate Parkway</td>\n      <td>Skyble</td>\n      <td>NaN</td>\n    </tr>\n    <tr>\n      <th>309</th>\n      <td>01HQXAVCR0113ZBMBE6D7ARSM2</td>\n      <td>3792 Rutledge Crossing</td>\n      <td>Mydeo</td>\n      <td>NaN</td>\n    </tr>\n    <tr>\n      <th>310</th>\n      <td>01HQXAVCR009GYX7Z739EYC6DQ</td>\n      <td>9204 East Parkway</td>\n      <td>Tagopia</td>\n      <td>NaN</td>\n    </tr>\n  </tbody>\n</table>\n<p>311 rows × 4 columns</p>\n</div>"
     },
     "execution_count": 16,
     "metadata": {},
     "output_type": "execute_result"
    }
   ],
   "source": [
    "company_df = pd.read_csv('data/Mockaroo/Mockaroo-Company.csv', header=0)[:311]\n",
    "company_df"
   ],
   "metadata": {
    "collapsed": false,
    "ExecuteTime": {
     "end_time": "2024-03-01T22:12:32.015534Z",
     "start_time": "2024-03-01T22:12:32.005589Z"
    }
   },
   "id": "b27b3dea9e75b14b",
   "execution_count": 16
  },
  {
   "cell_type": "code",
   "outputs": [
    {
     "name": "stdout",
     "output_type": "stream",
     "text": [
      "There are 311 companies in the dataset.\n"
     ]
    }
   ],
   "source": [
    "# Get names of all unique companies represented in the database\n",
    "full_time_companies = full_time_job_df['Company'].unique().tolist()\n",
    "internship_companies = internship_df['Company'].unique().tolist()\n",
    "all_company_names = list(set(full_time_companies + internship_companies))\n",
    "print(f\"There are {len(all_company_names)} companies in the dataset.\")"
   ],
   "metadata": {
    "collapsed": false,
    "ExecuteTime": {
     "end_time": "2024-03-01T22:12:34.915987Z",
     "start_time": "2024-03-01T22:12:34.912631Z"
    }
   },
   "id": "c0597380547c7b0",
   "execution_count": 17
  },
  {
   "cell_type": "code",
   "outputs": [
    {
     "data": {
      "text/plain": "                     Company_ID                 Address              Name  \\\n0    01HQXAVCMWEXEJYR1CVK9QPZQ7          414 Havey Hill             Hudl    \n1    01HQXAVCMXRWCNSE1XGC88Z5KR      8989 Swallow Plaza         Alarm.com   \n2    01HQXAVCMXTRC4Y81YV23C1ZQ8          4778 Sage Lane            Forbes   \n3    01HQXAVCMXCRNPED9KR90QAGJN          42 Corben Road      Konrad Group   \n4    01HQXAVCMXJ11TZ0EJQNZST6SP      3 Sycamore Parkway  Ascend Analytics   \n..                          ...                     ...               ...   \n306  01HQXAVCQZT7RE42HZ1RT90XT3         23 Corscot Road            Zynga    \n307  01HQXAVCQZYF5N9HVP8QNCXW97     566 Cordelia Center          Workato    \n308  01HQXAVCR0PX1DP6TJNR6FAJ4M    935 Old Gate Parkway              Wisk   \n309  01HQXAVCR0113ZBMBE6D7ARSM2  3792 Rutledge Crossing         Moveworks   \n310  01HQXAVCR009GYX7Z739EYC6DQ       9204 East Parkway            PlusAI   \n\n     Type  \n0     NaN  \n1     NaN  \n2     NaN  \n3     NaN  \n4     NaN  \n..    ...  \n306   NaN  \n307   NaN  \n308   NaN  \n309   NaN  \n310   NaN  \n\n[311 rows x 4 columns]",
      "text/html": "<div>\n<style scoped>\n    .dataframe tbody tr th:only-of-type {\n        vertical-align: middle;\n    }\n\n    .dataframe tbody tr th {\n        vertical-align: top;\n    }\n\n    .dataframe thead th {\n        text-align: right;\n    }\n</style>\n<table border=\"1\" class=\"dataframe\">\n  <thead>\n    <tr style=\"text-align: right;\">\n      <th></th>\n      <th>Company_ID</th>\n      <th>Address</th>\n      <th>Name</th>\n      <th>Type</th>\n    </tr>\n  </thead>\n  <tbody>\n    <tr>\n      <th>0</th>\n      <td>01HQXAVCMWEXEJYR1CVK9QPZQ7</td>\n      <td>414 Havey Hill</td>\n      <td>Hudl</td>\n      <td>NaN</td>\n    </tr>\n    <tr>\n      <th>1</th>\n      <td>01HQXAVCMXRWCNSE1XGC88Z5KR</td>\n      <td>8989 Swallow Plaza</td>\n      <td>Alarm.com</td>\n      <td>NaN</td>\n    </tr>\n    <tr>\n      <th>2</th>\n      <td>01HQXAVCMXTRC4Y81YV23C1ZQ8</td>\n      <td>4778 Sage Lane</td>\n      <td>Forbes</td>\n      <td>NaN</td>\n    </tr>\n    <tr>\n      <th>3</th>\n      <td>01HQXAVCMXCRNPED9KR90QAGJN</td>\n      <td>42 Corben Road</td>\n      <td>Konrad Group</td>\n      <td>NaN</td>\n    </tr>\n    <tr>\n      <th>4</th>\n      <td>01HQXAVCMXJ11TZ0EJQNZST6SP</td>\n      <td>3 Sycamore Parkway</td>\n      <td>Ascend Analytics</td>\n      <td>NaN</td>\n    </tr>\n    <tr>\n      <th>...</th>\n      <td>...</td>\n      <td>...</td>\n      <td>...</td>\n      <td>...</td>\n    </tr>\n    <tr>\n      <th>306</th>\n      <td>01HQXAVCQZT7RE42HZ1RT90XT3</td>\n      <td>23 Corscot Road</td>\n      <td>Zynga</td>\n      <td>NaN</td>\n    </tr>\n    <tr>\n      <th>307</th>\n      <td>01HQXAVCQZYF5N9HVP8QNCXW97</td>\n      <td>566 Cordelia Center</td>\n      <td>Workato</td>\n      <td>NaN</td>\n    </tr>\n    <tr>\n      <th>308</th>\n      <td>01HQXAVCR0PX1DP6TJNR6FAJ4M</td>\n      <td>935 Old Gate Parkway</td>\n      <td>Wisk</td>\n      <td>NaN</td>\n    </tr>\n    <tr>\n      <th>309</th>\n      <td>01HQXAVCR0113ZBMBE6D7ARSM2</td>\n      <td>3792 Rutledge Crossing</td>\n      <td>Moveworks</td>\n      <td>NaN</td>\n    </tr>\n    <tr>\n      <th>310</th>\n      <td>01HQXAVCR009GYX7Z739EYC6DQ</td>\n      <td>9204 East Parkway</td>\n      <td>PlusAI</td>\n      <td>NaN</td>\n    </tr>\n  </tbody>\n</table>\n<p>311 rows × 4 columns</p>\n</div>"
     },
     "execution_count": 18,
     "metadata": {},
     "output_type": "execute_result"
    }
   ],
   "source": [
    "# Replace Company Name values with real names\n",
    "company_df['Name'] = all_company_names\n",
    "company_df"
   ],
   "metadata": {
    "collapsed": false,
    "ExecuteTime": {
     "end_time": "2024-03-01T22:12:41.638504Z",
     "start_time": "2024-03-01T22:12:41.631217Z"
    }
   },
   "id": "18a03e793dec80ce",
   "execution_count": 18
  },
  {
   "cell_type": "code",
   "outputs": [
    {
     "data": {
      "text/plain": "                     Company_ID  \\\n0    01HQXAVCMWEXEJYR1CVK9QPZQ7   \n1    01HQXAVCMXRWCNSE1XGC88Z5KR   \n2    01HQXAVCMXTRC4Y81YV23C1ZQ8   \n3    01HQXAVCMXCRNPED9KR90QAGJN   \n4    01HQXAVCMXJ11TZ0EJQNZST6SP   \n..                          ...   \n306  01HQXAVCQZT7RE42HZ1RT90XT3   \n307  01HQXAVCQZYF5N9HVP8QNCXW97   \n308  01HQXAVCR0PX1DP6TJNR6FAJ4M   \n309  01HQXAVCR0113ZBMBE6D7ARSM2   \n310  01HQXAVCR009GYX7Z739EYC6DQ   \n\n                                               Address              Name  Type  \n0                  414 Havey Hill, Austin, Texas 73344             Hudl    NaN  \n1    8989 Swallow Plaza, Los Angeles, California 90003         Alarm.com   NaN  \n2                  4778 Sage Lane, Dallas, Texas 75032            Forbes   NaN  \n3      42 Corben Road, San Francisco, California 94103      Konrad Group   NaN  \n4              3 Sycamore Parkway, Austin, Texas 73344  Ascend Analytics   NaN  \n..                                                 ...               ...   ...  \n306               23 Corscot Road, Austin, Texas 73301            Zynga    NaN  \n307      566 Cordelia Center, New York, New York 10001          Workato    NaN  \n308       935 Old Gate Parkway, Denver, Colorado 80019              Wisk   NaN  \n309  3792 Rutledge Crossing, Los Angeles, Californi...         Moveworks   NaN  \n310          9204 East Parkway, Atlanta, Georgia 30033            PlusAI   NaN  \n\n[311 rows x 4 columns]",
      "text/html": "<div>\n<style scoped>\n    .dataframe tbody tr th:only-of-type {\n        vertical-align: middle;\n    }\n\n    .dataframe tbody tr th {\n        vertical-align: top;\n    }\n\n    .dataframe thead th {\n        text-align: right;\n    }\n</style>\n<table border=\"1\" class=\"dataframe\">\n  <thead>\n    <tr style=\"text-align: right;\">\n      <th></th>\n      <th>Company_ID</th>\n      <th>Address</th>\n      <th>Name</th>\n      <th>Type</th>\n    </tr>\n  </thead>\n  <tbody>\n    <tr>\n      <th>0</th>\n      <td>01HQXAVCMWEXEJYR1CVK9QPZQ7</td>\n      <td>414 Havey Hill, Austin, Texas 73344</td>\n      <td>Hudl</td>\n      <td>NaN</td>\n    </tr>\n    <tr>\n      <th>1</th>\n      <td>01HQXAVCMXRWCNSE1XGC88Z5KR</td>\n      <td>8989 Swallow Plaza, Los Angeles, California 90003</td>\n      <td>Alarm.com</td>\n      <td>NaN</td>\n    </tr>\n    <tr>\n      <th>2</th>\n      <td>01HQXAVCMXTRC4Y81YV23C1ZQ8</td>\n      <td>4778 Sage Lane, Dallas, Texas 75032</td>\n      <td>Forbes</td>\n      <td>NaN</td>\n    </tr>\n    <tr>\n      <th>3</th>\n      <td>01HQXAVCMXCRNPED9KR90QAGJN</td>\n      <td>42 Corben Road, San Francisco, California 94103</td>\n      <td>Konrad Group</td>\n      <td>NaN</td>\n    </tr>\n    <tr>\n      <th>4</th>\n      <td>01HQXAVCMXJ11TZ0EJQNZST6SP</td>\n      <td>3 Sycamore Parkway, Austin, Texas 73344</td>\n      <td>Ascend Analytics</td>\n      <td>NaN</td>\n    </tr>\n    <tr>\n      <th>...</th>\n      <td>...</td>\n      <td>...</td>\n      <td>...</td>\n      <td>...</td>\n    </tr>\n    <tr>\n      <th>306</th>\n      <td>01HQXAVCQZT7RE42HZ1RT90XT3</td>\n      <td>23 Corscot Road, Austin, Texas 73301</td>\n      <td>Zynga</td>\n      <td>NaN</td>\n    </tr>\n    <tr>\n      <th>307</th>\n      <td>01HQXAVCQZYF5N9HVP8QNCXW97</td>\n      <td>566 Cordelia Center, New York, New York 10001</td>\n      <td>Workato</td>\n      <td>NaN</td>\n    </tr>\n    <tr>\n      <th>308</th>\n      <td>01HQXAVCR0PX1DP6TJNR6FAJ4M</td>\n      <td>935 Old Gate Parkway, Denver, Colorado 80019</td>\n      <td>Wisk</td>\n      <td>NaN</td>\n    </tr>\n    <tr>\n      <th>309</th>\n      <td>01HQXAVCR0113ZBMBE6D7ARSM2</td>\n      <td>3792 Rutledge Crossing, Los Angeles, Californi...</td>\n      <td>Moveworks</td>\n      <td>NaN</td>\n    </tr>\n    <tr>\n      <th>310</th>\n      <td>01HQXAVCR009GYX7Z739EYC6DQ</td>\n      <td>9204 East Parkway, Atlanta, Georgia 30033</td>\n      <td>PlusAI</td>\n      <td>NaN</td>\n    </tr>\n  </tbody>\n</table>\n<p>311 rows × 4 columns</p>\n</div>"
     },
     "execution_count": 19,
     "metadata": {},
     "output_type": "execute_result"
    }
   ],
   "source": [
    "# Mapping of 'tech hub' cities, their state, and some example zip codes (making sure the city, state, and zip codes are coherent relative to each other). \n",
    "# Zip codes were obtained from Google searches. \n",
    "tech_hub_cities_mapping = {\n",
    "    'New York': {'state': 'New York', 'zip_codes': ['10001', '10002', '10003']},\n",
    "    'San Francisco': {'state': 'California', 'zip_codes': ['94102', '94103', '94107']},\n",
    "    'Los Angeles': {'state': 'California', 'zip_codes': ['90001', '90002', '90003']},\n",
    "    'Austin': {'state': 'Texas', 'zip_codes': ['73301', '73344', '778613']},\n",
    "    'Dallas': {'state': 'Texas', 'zip_codes': ['75001', '75019', '75032']},\n",
    "    'Seattle': {'state': 'Washington', 'zip_codes': ['98101', '98102', '98103']},\n",
    "    'Atlanta': {'state': 'Georgia', 'zip_codes': ['30033', '30301', '30303']},\n",
    "    'Denver': {'state': 'Colorado', 'zip_codes': ['80014', '80019', '80022']},\n",
    "    'Chicago': {'state': 'Illinois', 'zip_codes': ['60007', '60018', '60106']},\n",
    "    'Miami': {'state': 'Florida', 'zip_codes': ['33101', '33109', '33126']},\n",
    "    'Tampa': {'state': 'Florida', 'zip_codes': ['33592', '33601', '33602']},\n",
    "    'Boston': {'state': 'Massachusetts', 'zip_codes': ['02108', '02110', '02111']}\n",
    "}\n",
    "\n",
    "def generate_address(str_address):\n",
    "    \"\"\"Randomly selects a city and corresponding state and zip code from tech hub cities dictionary above.\"\"\"\n",
    "    city = random.choice(list(tech_hub_cities_mapping.keys()))\n",
    "    state = tech_hub_cities_mapping[city]['state']\n",
    "    zip_code = random.choice(tech_hub_cities_mapping[city]['zip_codes'])\n",
    "    return str_address + ', ' + city + ', ' + state + ' ' + zip_code\n",
    "\n",
    "# Assign random city, state, and zip code to each address\n",
    "company_df['Address'] = company_df['Address'].apply(lambda x: generate_address(x).strip('\"'))\n",
    "company_df['Address'] = company_df['Address'].astype(str)\n",
    "company_df "
   ],
   "metadata": {
    "collapsed": false,
    "ExecuteTime": {
     "end_time": "2024-03-01T22:12:45.406771Z",
     "start_time": "2024-03-01T22:12:45.397233Z"
    }
   },
   "id": "6c8ab412613aed29",
   "execution_count": 19
  },
  {
   "cell_type": "code",
   "outputs": [
    {
     "data": {
      "text/plain": "                     Company_ID  \\\n0    01HQXAVCMWEXEJYR1CVK9QPZQ7   \n1    01HQXAVCMXRWCNSE1XGC88Z5KR   \n2    01HQXAVCMXTRC4Y81YV23C1ZQ8   \n3    01HQXAVCMXCRNPED9KR90QAGJN   \n4    01HQXAVCMXJ11TZ0EJQNZST6SP   \n..                          ...   \n306  01HQXAVCQZT7RE42HZ1RT90XT3   \n307  01HQXAVCQZYF5N9HVP8QNCXW97   \n308  01HQXAVCR0PX1DP6TJNR6FAJ4M   \n309  01HQXAVCR0113ZBMBE6D7ARSM2   \n310  01HQXAVCR009GYX7Z739EYC6DQ   \n\n                                               Address              Name  \\\n0                  414 Havey Hill, Austin, Texas 73344             Hudl    \n1    8989 Swallow Plaza, Los Angeles, California 90003         Alarm.com   \n2                  4778 Sage Lane, Dallas, Texas 75032            Forbes   \n3      42 Corben Road, San Francisco, California 94103      Konrad Group   \n4              3 Sycamore Parkway, Austin, Texas 73344  Ascend Analytics   \n..                                                 ...               ...   \n306               23 Corscot Road, Austin, Texas 73301            Zynga    \n307      566 Cordelia Center, New York, New York 10001          Workato    \n308       935 Old Gate Parkway, Denver, Colorado 80019              Wisk   \n309  3792 Rutledge Crossing, Los Angeles, Californi...         Moveworks   \n310          9204 East Parkway, Atlanta, Georgia 30033            PlusAI   \n\n                    Type  \n0    Private Corporation  \n1    Private Corporation  \n2                Startup  \n3    Private Corporation  \n4    Private Corporation  \n..                   ...  \n306  Private Corporation  \n307  Private Corporation  \n308  Private Corporation  \n309  Private Corporation  \n310  Private Corporation  \n\n[311 rows x 4 columns]",
      "text/html": "<div>\n<style scoped>\n    .dataframe tbody tr th:only-of-type {\n        vertical-align: middle;\n    }\n\n    .dataframe tbody tr th {\n        vertical-align: top;\n    }\n\n    .dataframe thead th {\n        text-align: right;\n    }\n</style>\n<table border=\"1\" class=\"dataframe\">\n  <thead>\n    <tr style=\"text-align: right;\">\n      <th></th>\n      <th>Company_ID</th>\n      <th>Address</th>\n      <th>Name</th>\n      <th>Type</th>\n    </tr>\n  </thead>\n  <tbody>\n    <tr>\n      <th>0</th>\n      <td>01HQXAVCMWEXEJYR1CVK9QPZQ7</td>\n      <td>414 Havey Hill, Austin, Texas 73344</td>\n      <td>Hudl</td>\n      <td>Private Corporation</td>\n    </tr>\n    <tr>\n      <th>1</th>\n      <td>01HQXAVCMXRWCNSE1XGC88Z5KR</td>\n      <td>8989 Swallow Plaza, Los Angeles, California 90003</td>\n      <td>Alarm.com</td>\n      <td>Private Corporation</td>\n    </tr>\n    <tr>\n      <th>2</th>\n      <td>01HQXAVCMXTRC4Y81YV23C1ZQ8</td>\n      <td>4778 Sage Lane, Dallas, Texas 75032</td>\n      <td>Forbes</td>\n      <td>Startup</td>\n    </tr>\n    <tr>\n      <th>3</th>\n      <td>01HQXAVCMXCRNPED9KR90QAGJN</td>\n      <td>42 Corben Road, San Francisco, California 94103</td>\n      <td>Konrad Group</td>\n      <td>Private Corporation</td>\n    </tr>\n    <tr>\n      <th>4</th>\n      <td>01HQXAVCMXJ11TZ0EJQNZST6SP</td>\n      <td>3 Sycamore Parkway, Austin, Texas 73344</td>\n      <td>Ascend Analytics</td>\n      <td>Private Corporation</td>\n    </tr>\n    <tr>\n      <th>...</th>\n      <td>...</td>\n      <td>...</td>\n      <td>...</td>\n      <td>...</td>\n    </tr>\n    <tr>\n      <th>306</th>\n      <td>01HQXAVCQZT7RE42HZ1RT90XT3</td>\n      <td>23 Corscot Road, Austin, Texas 73301</td>\n      <td>Zynga</td>\n      <td>Private Corporation</td>\n    </tr>\n    <tr>\n      <th>307</th>\n      <td>01HQXAVCQZYF5N9HVP8QNCXW97</td>\n      <td>566 Cordelia Center, New York, New York 10001</td>\n      <td>Workato</td>\n      <td>Private Corporation</td>\n    </tr>\n    <tr>\n      <th>308</th>\n      <td>01HQXAVCR0PX1DP6TJNR6FAJ4M</td>\n      <td>935 Old Gate Parkway, Denver, Colorado 80019</td>\n      <td>Wisk</td>\n      <td>Private Corporation</td>\n    </tr>\n    <tr>\n      <th>309</th>\n      <td>01HQXAVCR0113ZBMBE6D7ARSM2</td>\n      <td>3792 Rutledge Crossing, Los Angeles, Californi...</td>\n      <td>Moveworks</td>\n      <td>Private Corporation</td>\n    </tr>\n    <tr>\n      <th>310</th>\n      <td>01HQXAVCR009GYX7Z739EYC6DQ</td>\n      <td>9204 East Parkway, Atlanta, Georgia 30033</td>\n      <td>PlusAI</td>\n      <td>Private Corporation</td>\n    </tr>\n  </tbody>\n</table>\n<p>311 rows × 4 columns</p>\n</div>"
     },
     "execution_count": 20,
     "metadata": {},
     "output_type": "execute_result"
    }
   ],
   "source": [
    "# Assign each company a random 'type' from some preset company types\n",
    "company_types = ['Private Corporation', 'Non-Profit Organization', 'Startup']\n",
    "probabilities = [0.80, 0.05, 0.15]\n",
    "company_df['Type'] = np.random.choice(company_types, size=len(company_df), p=probabilities)\n",
    "company_df"
   ],
   "metadata": {
    "collapsed": false,
    "ExecuteTime": {
     "end_time": "2024-03-01T22:12:49.722208Z",
     "start_time": "2024-03-01T22:12:49.707052Z"
    }
   },
   "id": "bd795f77d1f776d5",
   "execution_count": 20
  },
  {
   "cell_type": "code",
   "outputs": [],
   "source": [
    "# Save final company data\n",
    "company_df.to_csv('data/Company.csv', index=False)"
   ],
   "metadata": {
    "collapsed": false,
    "ExecuteTime": {
     "end_time": "2024-03-01T16:18:15.479070Z",
     "start_time": "2024-03-01T16:18:15.473273Z"
    }
   },
   "id": "21ca833163510b73",
   "execution_count": 69
  },
  {
   "cell_type": "markdown",
   "source": [
    "### Employee\n",
    "- Mockaroo was used to generate the Employee_ID, Name, Job Title, Department, and Company column values. \n",
    "- However, because Mockaroo generates either fake or random real company names that may or may not have been represented in our (real) job postings data, we modified the Company column by imputing it with random Company names sourced from our Company relation. This improves our application data's realism significantly by making the two relations more consistent with each other."
   ],
   "metadata": {
    "collapsed": false
   },
   "id": "99ad15cd8f14d769"
  },
  {
   "cell_type": "code",
   "outputs": [
    {
     "data": {
      "text/plain": "                   Employee_ID               Name  \\\n0   01HQ9SN558SBTGP3CJ0SFCNX58       Johan Debold   \n1   01HQ9SN559DXNCX8PZGSPX86DQ      Aaron Janicki   \n2   01HQ9SN55ADXDE35WM2X25FRFN   Atalanta Watting   \n3   01HQ9SN55BJ68WCF69VZ75WN9D       Kippie Caple   \n4   01HQ9SN55B1AQ4A44XRSQYVQ4B   Francklyn Jansey   \n..                         ...                ...   \n94  01HQ9SN57BECEEC1DEDFDV2HPN  Katheryn Joannidi   \n95  01HQ9SN57B6SHA3DBMQQWB97AV       Irwin Giffen   \n96  01HQ9SN57C19SH5TQ03KMD41XB      Sarette Cheel   \n97  01HQ9SN57DA8AY2Y6M4EE0KYVJ        Hillel Pero   \n98  01HQ9SN57DHCJ84D75BYFBF1JV      Natty Dagwell   \n\n                         Job Title            Department  \\\n0                  Design Engineer            Accounting   \n1   Payment Adjustment Coordinator            Accounting   \n2                Marketing Manager  Business Development   \n3                Director of Sales               Support   \n4           Administrative Officer                 Sales   \n..                             ...                   ...   \n94                       Professor               Support   \n95              Help Desk Operator              Services   \n96              Speech Pathologist    Product Management   \n97        Senior Financial Analyst  Business Development   \n98               Assistant Manager                 Sales   \n\n                      Company  \n0                    Lendbuzz  \n1                  Zeno Group  \n2        Second Order Effects  \n3                        Domo  \n4              Comerica Bank   \n..                        ...  \n94                     Tempus  \n95        Northwestern Mutual  \n96                     Skydio  \n97   The Walt Disney Company   \n98                      Ebay   \n\n[99 rows x 5 columns]",
      "text/html": "<div>\n<style scoped>\n    .dataframe tbody tr th:only-of-type {\n        vertical-align: middle;\n    }\n\n    .dataframe tbody tr th {\n        vertical-align: top;\n    }\n\n    .dataframe thead th {\n        text-align: right;\n    }\n</style>\n<table border=\"1\" class=\"dataframe\">\n  <thead>\n    <tr style=\"text-align: right;\">\n      <th></th>\n      <th>Employee_ID</th>\n      <th>Name</th>\n      <th>Job Title</th>\n      <th>Department</th>\n      <th>Company</th>\n    </tr>\n  </thead>\n  <tbody>\n    <tr>\n      <th>0</th>\n      <td>01HQ9SN558SBTGP3CJ0SFCNX58</td>\n      <td>Johan Debold</td>\n      <td>Design Engineer</td>\n      <td>Accounting</td>\n      <td>Lendbuzz</td>\n    </tr>\n    <tr>\n      <th>1</th>\n      <td>01HQ9SN559DXNCX8PZGSPX86DQ</td>\n      <td>Aaron Janicki</td>\n      <td>Payment Adjustment Coordinator</td>\n      <td>Accounting</td>\n      <td>Zeno Group</td>\n    </tr>\n    <tr>\n      <th>2</th>\n      <td>01HQ9SN55ADXDE35WM2X25FRFN</td>\n      <td>Atalanta Watting</td>\n      <td>Marketing Manager</td>\n      <td>Business Development</td>\n      <td>Second Order Effects</td>\n    </tr>\n    <tr>\n      <th>3</th>\n      <td>01HQ9SN55BJ68WCF69VZ75WN9D</td>\n      <td>Kippie Caple</td>\n      <td>Director of Sales</td>\n      <td>Support</td>\n      <td>Domo</td>\n    </tr>\n    <tr>\n      <th>4</th>\n      <td>01HQ9SN55B1AQ4A44XRSQYVQ4B</td>\n      <td>Francklyn Jansey</td>\n      <td>Administrative Officer</td>\n      <td>Sales</td>\n      <td>Comerica Bank</td>\n    </tr>\n    <tr>\n      <th>...</th>\n      <td>...</td>\n      <td>...</td>\n      <td>...</td>\n      <td>...</td>\n      <td>...</td>\n    </tr>\n    <tr>\n      <th>94</th>\n      <td>01HQ9SN57BECEEC1DEDFDV2HPN</td>\n      <td>Katheryn Joannidi</td>\n      <td>Professor</td>\n      <td>Support</td>\n      <td>Tempus</td>\n    </tr>\n    <tr>\n      <th>95</th>\n      <td>01HQ9SN57B6SHA3DBMQQWB97AV</td>\n      <td>Irwin Giffen</td>\n      <td>Help Desk Operator</td>\n      <td>Services</td>\n      <td>Northwestern Mutual</td>\n    </tr>\n    <tr>\n      <th>96</th>\n      <td>01HQ9SN57C19SH5TQ03KMD41XB</td>\n      <td>Sarette Cheel</td>\n      <td>Speech Pathologist</td>\n      <td>Product Management</td>\n      <td>Skydio</td>\n    </tr>\n    <tr>\n      <th>97</th>\n      <td>01HQ9SN57DA8AY2Y6M4EE0KYVJ</td>\n      <td>Hillel Pero</td>\n      <td>Senior Financial Analyst</td>\n      <td>Business Development</td>\n      <td>The Walt Disney Company</td>\n    </tr>\n    <tr>\n      <th>98</th>\n      <td>01HQ9SN57DHCJ84D75BYFBF1JV</td>\n      <td>Natty Dagwell</td>\n      <td>Assistant Manager</td>\n      <td>Sales</td>\n      <td>Ebay</td>\n    </tr>\n  </tbody>\n</table>\n<p>99 rows × 5 columns</p>\n</div>"
     },
     "execution_count": 21,
     "metadata": {},
     "output_type": "execute_result"
    }
   ],
   "source": [
    "employee_df = pd.read_csv('data/Mockaroo/Mockaroo-Employee.csv')\n",
    "employee_df"
   ],
   "metadata": {
    "collapsed": false,
    "ExecuteTime": {
     "end_time": "2024-03-01T22:12:52.864027Z",
     "start_time": "2024-03-01T22:12:52.854582Z"
    }
   },
   "id": "272eb4fdb7124a14",
   "execution_count": 21
  },
  {
   "cell_type": "code",
   "outputs": [],
   "source": [
    "employee_df.to_csv('data/Employee.csv', index=False)"
   ],
   "metadata": {
    "collapsed": false,
    "ExecuteTime": {
     "end_time": "2024-03-01T16:27:20.975954Z",
     "start_time": "2024-03-01T16:27:20.971648Z"
    }
   },
   "id": "6510b7dc60aa33bb",
   "execution_count": 70
  },
  {
   "cell_type": "markdown",
   "source": [
    "### Recruiter\n",
    "- The initial Recruiter table data with a Username, Name, Address, Company, and Specialization for each row was generated using Mockaroo.\n",
    "- Similar to the above Employee table, we impute the random Company names with Company names that are represented in the job postings to add realism.\n",
    "- Similar to what was done for the Company table, given that Mockaroo can only generate street addresses, we also imputed each address with a random city and corresponding state and zip code."
   ],
   "metadata": {
    "collapsed": false
   },
   "id": "b566e16fedfd48cf"
  },
  {
   "cell_type": "code",
   "outputs": [
    {
     "data": {
      "text/plain": "         Username                 Name                   Address  \\\n0      fbrafield0  Fernandina Brafield          7272 Mesta Drive   \n1         cmeech1        Corrine Meech          582 Warner Drive   \n2       dfeander2      Dalston Feander        12567 Elgar Street   \n3      rbloggett3      Rawley Bloggett           533 Orin Street   \n4      ehoulston4    Etheline Houlston            06 Pond Center   \n5        bgascar5           Ban Gascar             1 Surrey Road   \n6          lvose6             Loy Vose         3 Forest Run Road   \n7       ffossitt7   Ferdinanda Fossitt         98 Eliot Junction   \n8        abeagin8        Angela Beagin            0 Miller Place   \n9      mcrowcher9      Miltie Crowcher  3824 Messerschmidt Plaza   \n10      obrechera         Olia Brecher             02 Buhler Way   \n11       ahoutbyb          Anni Houtby            9 Fallview Way   \n12    elicciardic  Ethelbert Licciardi     95 Pine View Junction   \n13         okiddd            Otho Kidd         723 Portage Alley   \n14    mcorbridgee      Morna Corbridge      281 Heffernan Street   \n15       cvenessf      Courtney Veness         5244 Crowley Pass   \n16    jlibermoreg        Jim Libermore      64384 Bluejay Street   \n17        ctowseh        Clarita Towse         8443 Sloan Circle   \n18      ohulburdi       Odella Hulburd         415 Farragut Park   \n19     mparbrookj        Moll Parbrook         65816 Melby Alley   \n20      jmcclochk       Joeann McCloch          3 Spohn Crossing   \n21       pgambiel         Paule Gambie     0478 Reindahl Terrace   \n22        ryerbym          Ringo Yerby      16008 Straubel Trail   \n23        dchelln           Derk Chell       3496 Loeprich Court   \n24       kbrehato       Kaleena Brehat        14 Mifflin Parkway   \n25      ckedwardp         Case Kedward           65 Spenser Pass   \n26       kvivashq        Kareem Vivash        97973 Warner Place   \n27    xalexanderr    Ximenez Alexander        3 Lake View Center   \n28     bgrunnells     Belicia Grunnell       0398 Rutledge Court   \n29        rasaaft       Rosaline Asaaf             171 Ohio Pass   \n30         gjohnu            Gian John         5053 Kedzie Court   \n31   mdzenisenkav     Merry Dzenisenka                07 3rd Way   \n32     zvendittow        Zola Venditto        76 Johnson Parkway   \n33       cmethamx         Claus Metham       75959 Oakridge Road   \n34      icatfordy       Ivonne Catford          0455 Debs Avenue   \n35     kcapewellz      Keslie Capewell       62782 Bobwhite Road   \n36       rtheis10           Rudy Theis  50441 Westerfield Circle   \n37   hvanyukhin11   Herminia Vanyukhin         591 Clarendon Way   \n38      gnaisby12      Gilligan Naisby        11305 Schurz Place   \n39     ebeaufoy13        Emmit Beaufoy   59171 Doe Crossing Park   \n40    xhugonnet14     Xaviera Hugonnet           77 Bayside Park   \n41  elangcastle15  Elsinore Langcastle          1 Lillian Circle   \n42     dfarries16       Dulcie Farries         5 Ridge Oak Alley   \n43    eworledge17        Esme Worledge         387 Derek Parkway   \n44       tburet18          Tyson Buret         713 Blaine Street   \n45     agimblet19     Adelheid Gimblet       28117 School Street   \n46     kcowoppe1a       Kessia Cowoppe            5 Kedzie Place   \n47    fallerton1b       Freda Allerton    25 Charing Cross Alley   \n48       ctrodd1c         Cecile Trodd         9 Summit Junction   \n49  ssignorelli1d      Swen Signorelli        67664 Moland Court   \n\n                    Company            Specialization  \n0            Comerica Bank                 Accounting  \n1                      Domo  Research and Development  \n2                     Five9                   Support  \n3                TS Imagine                     Legal  \n4         Align Technology                  Marketing  \n5                 Linkedin       Business Development  \n6      Hudson River Trading                 Marketing  \n7                      Ramp                Accounting  \n8                   Bodo.ai                   Support  \n9          Artisan Partners           Human Resources  \n10               TS Imagine           Human Resources  \n11             Chick-fil-a            Human Resources  \n12                   Mark43                     Sales  \n13                   Lumen       Business Development  \n14           Extreme Reach   Research and Development  \n15                 SIEMENS                   Services  \n16                  Workiva                  Services  \n17               Intuitive                 Accounting  \n18               Honeywell                   Training  \n19      Wabtec Corporation                   Training  \n20                   Skydio                  Training  \n21                  Workiva                  Services  \n22   Genuine Parts Company                      Legal  \n23                     Fizz           Human Resources  \n24               TS Imagine        Product Management  \n25               Mastercard           Human Resources  \n26                   Rivian                  Training  \n27                    Five9                 Marketing  \n28                   Lumen         Product Management  \n29               TS Imagine               Engineering  \n30                    Five9                  Services  \n31               Zeno Group                     Legal  \n32             Advisor360¬∞  Research and Development  \n33                 Comcast            Human Resources  \n34                  Kitware      Business Development  \n35                 Polaris                      Legal  \n36              CesiumAstro                 Marketing  \n37              Uncountable               Engineering  \n38                   Archer                   Support  \n39     Second Order Effects                  Services  \n40                Ancestry   Research and Development  \n41                  Anduril  Research and Development  \n42        Align Technology                      Sales  \n43                  Workiva        Product Management  \n44             Chick-fil-a       Business Development  \n45             MyFitnessPal                     Legal  \n46              CesiumAstro                     Legal  \n47    Erie Insurance Group                    Support  \n48               Proofpoint           Human Resources  \n49    Generac Clean Energy   Research and Development  ",
      "text/html": "<div>\n<style scoped>\n    .dataframe tbody tr th:only-of-type {\n        vertical-align: middle;\n    }\n\n    .dataframe tbody tr th {\n        vertical-align: top;\n    }\n\n    .dataframe thead th {\n        text-align: right;\n    }\n</style>\n<table border=\"1\" class=\"dataframe\">\n  <thead>\n    <tr style=\"text-align: right;\">\n      <th></th>\n      <th>Username</th>\n      <th>Name</th>\n      <th>Address</th>\n      <th>Company</th>\n      <th>Specialization</th>\n    </tr>\n  </thead>\n  <tbody>\n    <tr>\n      <th>0</th>\n      <td>fbrafield0</td>\n      <td>Fernandina Brafield</td>\n      <td>7272 Mesta Drive</td>\n      <td>Comerica Bank</td>\n      <td>Accounting</td>\n    </tr>\n    <tr>\n      <th>1</th>\n      <td>cmeech1</td>\n      <td>Corrine Meech</td>\n      <td>582 Warner Drive</td>\n      <td>Domo</td>\n      <td>Research and Development</td>\n    </tr>\n    <tr>\n      <th>2</th>\n      <td>dfeander2</td>\n      <td>Dalston Feander</td>\n      <td>12567 Elgar Street</td>\n      <td>Five9</td>\n      <td>Support</td>\n    </tr>\n    <tr>\n      <th>3</th>\n      <td>rbloggett3</td>\n      <td>Rawley Bloggett</td>\n      <td>533 Orin Street</td>\n      <td>TS Imagine</td>\n      <td>Legal</td>\n    </tr>\n    <tr>\n      <th>4</th>\n      <td>ehoulston4</td>\n      <td>Etheline Houlston</td>\n      <td>06 Pond Center</td>\n      <td>Align Technology</td>\n      <td>Marketing</td>\n    </tr>\n    <tr>\n      <th>5</th>\n      <td>bgascar5</td>\n      <td>Ban Gascar</td>\n      <td>1 Surrey Road</td>\n      <td>Linkedin</td>\n      <td>Business Development</td>\n    </tr>\n    <tr>\n      <th>6</th>\n      <td>lvose6</td>\n      <td>Loy Vose</td>\n      <td>3 Forest Run Road</td>\n      <td>Hudson River Trading</td>\n      <td>Marketing</td>\n    </tr>\n    <tr>\n      <th>7</th>\n      <td>ffossitt7</td>\n      <td>Ferdinanda Fossitt</td>\n      <td>98 Eliot Junction</td>\n      <td>Ramp</td>\n      <td>Accounting</td>\n    </tr>\n    <tr>\n      <th>8</th>\n      <td>abeagin8</td>\n      <td>Angela Beagin</td>\n      <td>0 Miller Place</td>\n      <td>Bodo.ai</td>\n      <td>Support</td>\n    </tr>\n    <tr>\n      <th>9</th>\n      <td>mcrowcher9</td>\n      <td>Miltie Crowcher</td>\n      <td>3824 Messerschmidt Plaza</td>\n      <td>Artisan Partners</td>\n      <td>Human Resources</td>\n    </tr>\n    <tr>\n      <th>10</th>\n      <td>obrechera</td>\n      <td>Olia Brecher</td>\n      <td>02 Buhler Way</td>\n      <td>TS Imagine</td>\n      <td>Human Resources</td>\n    </tr>\n    <tr>\n      <th>11</th>\n      <td>ahoutbyb</td>\n      <td>Anni Houtby</td>\n      <td>9 Fallview Way</td>\n      <td>Chick-fil-a</td>\n      <td>Human Resources</td>\n    </tr>\n    <tr>\n      <th>12</th>\n      <td>elicciardic</td>\n      <td>Ethelbert Licciardi</td>\n      <td>95 Pine View Junction</td>\n      <td>Mark43</td>\n      <td>Sales</td>\n    </tr>\n    <tr>\n      <th>13</th>\n      <td>okiddd</td>\n      <td>Otho Kidd</td>\n      <td>723 Portage Alley</td>\n      <td>Lumen</td>\n      <td>Business Development</td>\n    </tr>\n    <tr>\n      <th>14</th>\n      <td>mcorbridgee</td>\n      <td>Morna Corbridge</td>\n      <td>281 Heffernan Street</td>\n      <td>Extreme Reach</td>\n      <td>Research and Development</td>\n    </tr>\n    <tr>\n      <th>15</th>\n      <td>cvenessf</td>\n      <td>Courtney Veness</td>\n      <td>5244 Crowley Pass</td>\n      <td>SIEMENS</td>\n      <td>Services</td>\n    </tr>\n    <tr>\n      <th>16</th>\n      <td>jlibermoreg</td>\n      <td>Jim Libermore</td>\n      <td>64384 Bluejay Street</td>\n      <td>Workiva</td>\n      <td>Services</td>\n    </tr>\n    <tr>\n      <th>17</th>\n      <td>ctowseh</td>\n      <td>Clarita Towse</td>\n      <td>8443 Sloan Circle</td>\n      <td>Intuitive</td>\n      <td>Accounting</td>\n    </tr>\n    <tr>\n      <th>18</th>\n      <td>ohulburdi</td>\n      <td>Odella Hulburd</td>\n      <td>415 Farragut Park</td>\n      <td>Honeywell</td>\n      <td>Training</td>\n    </tr>\n    <tr>\n      <th>19</th>\n      <td>mparbrookj</td>\n      <td>Moll Parbrook</td>\n      <td>65816 Melby Alley</td>\n      <td>Wabtec Corporation</td>\n      <td>Training</td>\n    </tr>\n    <tr>\n      <th>20</th>\n      <td>jmcclochk</td>\n      <td>Joeann McCloch</td>\n      <td>3 Spohn Crossing</td>\n      <td>Skydio</td>\n      <td>Training</td>\n    </tr>\n    <tr>\n      <th>21</th>\n      <td>pgambiel</td>\n      <td>Paule Gambie</td>\n      <td>0478 Reindahl Terrace</td>\n      <td>Workiva</td>\n      <td>Services</td>\n    </tr>\n    <tr>\n      <th>22</th>\n      <td>ryerbym</td>\n      <td>Ringo Yerby</td>\n      <td>16008 Straubel Trail</td>\n      <td>Genuine Parts Company</td>\n      <td>Legal</td>\n    </tr>\n    <tr>\n      <th>23</th>\n      <td>dchelln</td>\n      <td>Derk Chell</td>\n      <td>3496 Loeprich Court</td>\n      <td>Fizz</td>\n      <td>Human Resources</td>\n    </tr>\n    <tr>\n      <th>24</th>\n      <td>kbrehato</td>\n      <td>Kaleena Brehat</td>\n      <td>14 Mifflin Parkway</td>\n      <td>TS Imagine</td>\n      <td>Product Management</td>\n    </tr>\n    <tr>\n      <th>25</th>\n      <td>ckedwardp</td>\n      <td>Case Kedward</td>\n      <td>65 Spenser Pass</td>\n      <td>Mastercard</td>\n      <td>Human Resources</td>\n    </tr>\n    <tr>\n      <th>26</th>\n      <td>kvivashq</td>\n      <td>Kareem Vivash</td>\n      <td>97973 Warner Place</td>\n      <td>Rivian</td>\n      <td>Training</td>\n    </tr>\n    <tr>\n      <th>27</th>\n      <td>xalexanderr</td>\n      <td>Ximenez Alexander</td>\n      <td>3 Lake View Center</td>\n      <td>Five9</td>\n      <td>Marketing</td>\n    </tr>\n    <tr>\n      <th>28</th>\n      <td>bgrunnells</td>\n      <td>Belicia Grunnell</td>\n      <td>0398 Rutledge Court</td>\n      <td>Lumen</td>\n      <td>Product Management</td>\n    </tr>\n    <tr>\n      <th>29</th>\n      <td>rasaaft</td>\n      <td>Rosaline Asaaf</td>\n      <td>171 Ohio Pass</td>\n      <td>TS Imagine</td>\n      <td>Engineering</td>\n    </tr>\n    <tr>\n      <th>30</th>\n      <td>gjohnu</td>\n      <td>Gian John</td>\n      <td>5053 Kedzie Court</td>\n      <td>Five9</td>\n      <td>Services</td>\n    </tr>\n    <tr>\n      <th>31</th>\n      <td>mdzenisenkav</td>\n      <td>Merry Dzenisenka</td>\n      <td>07 3rd Way</td>\n      <td>Zeno Group</td>\n      <td>Legal</td>\n    </tr>\n    <tr>\n      <th>32</th>\n      <td>zvendittow</td>\n      <td>Zola Venditto</td>\n      <td>76 Johnson Parkway</td>\n      <td>Advisor360¬∞</td>\n      <td>Research and Development</td>\n    </tr>\n    <tr>\n      <th>33</th>\n      <td>cmethamx</td>\n      <td>Claus Metham</td>\n      <td>75959 Oakridge Road</td>\n      <td>Comcast</td>\n      <td>Human Resources</td>\n    </tr>\n    <tr>\n      <th>34</th>\n      <td>icatfordy</td>\n      <td>Ivonne Catford</td>\n      <td>0455 Debs Avenue</td>\n      <td>Kitware</td>\n      <td>Business Development</td>\n    </tr>\n    <tr>\n      <th>35</th>\n      <td>kcapewellz</td>\n      <td>Keslie Capewell</td>\n      <td>62782 Bobwhite Road</td>\n      <td>Polaris</td>\n      <td>Legal</td>\n    </tr>\n    <tr>\n      <th>36</th>\n      <td>rtheis10</td>\n      <td>Rudy Theis</td>\n      <td>50441 Westerfield Circle</td>\n      <td>CesiumAstro</td>\n      <td>Marketing</td>\n    </tr>\n    <tr>\n      <th>37</th>\n      <td>hvanyukhin11</td>\n      <td>Herminia Vanyukhin</td>\n      <td>591 Clarendon Way</td>\n      <td>Uncountable</td>\n      <td>Engineering</td>\n    </tr>\n    <tr>\n      <th>38</th>\n      <td>gnaisby12</td>\n      <td>Gilligan Naisby</td>\n      <td>11305 Schurz Place</td>\n      <td>Archer</td>\n      <td>Support</td>\n    </tr>\n    <tr>\n      <th>39</th>\n      <td>ebeaufoy13</td>\n      <td>Emmit Beaufoy</td>\n      <td>59171 Doe Crossing Park</td>\n      <td>Second Order Effects</td>\n      <td>Services</td>\n    </tr>\n    <tr>\n      <th>40</th>\n      <td>xhugonnet14</td>\n      <td>Xaviera Hugonnet</td>\n      <td>77 Bayside Park</td>\n      <td>Ancestry</td>\n      <td>Research and Development</td>\n    </tr>\n    <tr>\n      <th>41</th>\n      <td>elangcastle15</td>\n      <td>Elsinore Langcastle</td>\n      <td>1 Lillian Circle</td>\n      <td>Anduril</td>\n      <td>Research and Development</td>\n    </tr>\n    <tr>\n      <th>42</th>\n      <td>dfarries16</td>\n      <td>Dulcie Farries</td>\n      <td>5 Ridge Oak Alley</td>\n      <td>Align Technology</td>\n      <td>Sales</td>\n    </tr>\n    <tr>\n      <th>43</th>\n      <td>eworledge17</td>\n      <td>Esme Worledge</td>\n      <td>387 Derek Parkway</td>\n      <td>Workiva</td>\n      <td>Product Management</td>\n    </tr>\n    <tr>\n      <th>44</th>\n      <td>tburet18</td>\n      <td>Tyson Buret</td>\n      <td>713 Blaine Street</td>\n      <td>Chick-fil-a</td>\n      <td>Business Development</td>\n    </tr>\n    <tr>\n      <th>45</th>\n      <td>agimblet19</td>\n      <td>Adelheid Gimblet</td>\n      <td>28117 School Street</td>\n      <td>MyFitnessPal</td>\n      <td>Legal</td>\n    </tr>\n    <tr>\n      <th>46</th>\n      <td>kcowoppe1a</td>\n      <td>Kessia Cowoppe</td>\n      <td>5 Kedzie Place</td>\n      <td>CesiumAstro</td>\n      <td>Legal</td>\n    </tr>\n    <tr>\n      <th>47</th>\n      <td>fallerton1b</td>\n      <td>Freda Allerton</td>\n      <td>25 Charing Cross Alley</td>\n      <td>Erie Insurance Group</td>\n      <td>Support</td>\n    </tr>\n    <tr>\n      <th>48</th>\n      <td>ctrodd1c</td>\n      <td>Cecile Trodd</td>\n      <td>9 Summit Junction</td>\n      <td>Proofpoint</td>\n      <td>Human Resources</td>\n    </tr>\n    <tr>\n      <th>49</th>\n      <td>ssignorelli1d</td>\n      <td>Swen Signorelli</td>\n      <td>67664 Moland Court</td>\n      <td>Generac Clean Energy</td>\n      <td>Research and Development</td>\n    </tr>\n  </tbody>\n</table>\n</div>"
     },
     "execution_count": 22,
     "metadata": {},
     "output_type": "execute_result"
    }
   ],
   "source": [
    "recruiter_df = pd.read_csv('data/Mockaroo/Mockaroo-Recruiter.csv')\n",
    "recruiter_df"
   ],
   "metadata": {
    "collapsed": false,
    "ExecuteTime": {
     "end_time": "2024-03-01T22:12:55.630639Z",
     "start_time": "2024-03-01T22:12:55.612591Z"
    }
   },
   "id": "3a19d9c69b0639af",
   "execution_count": 22
  },
  {
   "cell_type": "code",
   "outputs": [
    {
     "data": {
      "text/plain": "         Username                 Name  \\\n0      fbrafield0  Fernandina Brafield   \n1         cmeech1        Corrine Meech   \n2       dfeander2      Dalston Feander   \n3      rbloggett3      Rawley Bloggett   \n4      ehoulston4    Etheline Houlston   \n5        bgascar5           Ban Gascar   \n6          lvose6             Loy Vose   \n7       ffossitt7   Ferdinanda Fossitt   \n8        abeagin8        Angela Beagin   \n9      mcrowcher9      Miltie Crowcher   \n10      obrechera         Olia Brecher   \n11       ahoutbyb          Anni Houtby   \n12    elicciardic  Ethelbert Licciardi   \n13         okiddd            Otho Kidd   \n14    mcorbridgee      Morna Corbridge   \n15       cvenessf      Courtney Veness   \n16    jlibermoreg        Jim Libermore   \n17        ctowseh        Clarita Towse   \n18      ohulburdi       Odella Hulburd   \n19     mparbrookj        Moll Parbrook   \n20      jmcclochk       Joeann McCloch   \n21       pgambiel         Paule Gambie   \n22        ryerbym          Ringo Yerby   \n23        dchelln           Derk Chell   \n24       kbrehato       Kaleena Brehat   \n25      ckedwardp         Case Kedward   \n26       kvivashq        Kareem Vivash   \n27    xalexanderr    Ximenez Alexander   \n28     bgrunnells     Belicia Grunnell   \n29        rasaaft       Rosaline Asaaf   \n30         gjohnu            Gian John   \n31   mdzenisenkav     Merry Dzenisenka   \n32     zvendittow        Zola Venditto   \n33       cmethamx         Claus Metham   \n34      icatfordy       Ivonne Catford   \n35     kcapewellz      Keslie Capewell   \n36       rtheis10           Rudy Theis   \n37   hvanyukhin11   Herminia Vanyukhin   \n38      gnaisby12      Gilligan Naisby   \n39     ebeaufoy13        Emmit Beaufoy   \n40    xhugonnet14     Xaviera Hugonnet   \n41  elangcastle15  Elsinore Langcastle   \n42     dfarries16       Dulcie Farries   \n43    eworledge17        Esme Worledge   \n44       tburet18          Tyson Buret   \n45     agimblet19     Adelheid Gimblet   \n46     kcowoppe1a       Kessia Cowoppe   \n47    fallerton1b       Freda Allerton   \n48       ctrodd1c         Cecile Trodd   \n49  ssignorelli1d      Swen Signorelli   \n\n                                              Address  \\\n0         7272 Mesta Drive, Seattle, Washington 98102   \n1            582 Warner Drive, Denver, Colorado 80019   \n2     12567 Elgar Street, Boston, Massachusetts 02110   \n3      533 Orin Street, Los Angeles, California 90002   \n4                 06 Pond Center, Austin, Texas 73301   \n5            1 Surrey Road, Seattle, Washington 98102   \n6    3 Forest Run Road, Los Angeles, California 90003   \n7             98 Eliot Junction, Miami, Florida 33126   \n8                 0 Miller Place, Dallas, Texas 75032   \n9      3824 Messerschmidt Plaza, Tampa, Florida 33592   \n10                 02 Buhler Way, Austin, Texas 73344   \n11            9 Fallview Way, Chicago, Illinois 60018   \n12  95 Pine View Junction, Los Angeles, California...   \n13  723 Portage Alley, San Francisco, California 9...   \n14         281 Heffernan Street, Austin, Texas 778613   \n15            5244 Crowley Pass, Tampa, Florida 33602   \n16  64384 Bluejay Street, Boston, Massachusetts 02110   \n17         8443 Sloan Circle, Chicago, Illinois 60007   \n18             415 Farragut Park, Austin, Texas 73301   \n19            65816 Melby Alley, Miami, Florida 33126   \n20             3 Spohn Crossing, Miami, Florida 33109   \n21   0478 Reindahl Terrace, Seattle, Washington 98101   \n22    16008 Straubel Trail, Seattle, Washington 98103   \n23          3496 Loeprich Court, Miami, Florida 33126   \n24            14 Mifflin Parkway, Dallas, Texas 75001   \n25     65 Spenser Pass, Los Angeles, California 90002   \n26       97973 Warner Place, New York, New York 10003   \n27         3 Lake View Center, Denver, Colorado 80014   \n28          0398 Rutledge Court, Miami, Florida 33101   \n29       171 Ohio Pass, Los Angeles, California 90003   \n30            5053 Kedzie Court, Tampa, Florida 33601   \n31                    07 3rd Way, Austin, Texas 73344   \n32           76 Johnson Parkway, Tampa, Florida 33601   \n33  75959 Oakridge Road, San Francisco, California...   \n34    0455 Debs Avenue, Los Angeles, California 90003   \n35   62782 Bobwhite Road, Boston, Massachusetts 02110   \n36  50441 Westerfield Circle, San Francisco, Calif...   \n37     591 Clarendon Way, Boston, Massachusetts 02111   \n38       11305 Schurz Place, New York, New York 10001   \n39  59171 Doe Crossing Park, New York, New York 10003   \n40              77 Bayside Park, Tampa, Florida 33592   \n41             1 Lillian Circle, Tampa, Florida 33602   \n42            5 Ridge Oak Alley, Tampa, Florida 33592   \n43            387 Derek Parkway, Tampa, Florida 33601   \n44            713 Blaine Street, Tampa, Florida 33592   \n45        28117 School Street, Atlanta, Georgia 30303   \n46        5 Kedzie Place, Boston, Massachusetts 02108   \n47     25 Charing Cross Alley, Atlanta, Georgia 30303   \n48        9 Summit Junction, New York, New York 10002   \n49        67664 Moland Court, Chicago, Illinois 60018   \n\n                    Company            Specialization  \n0            Comerica Bank                 Accounting  \n1                      Domo  Research and Development  \n2                     Five9                   Support  \n3                TS Imagine                     Legal  \n4         Align Technology                  Marketing  \n5                 Linkedin       Business Development  \n6      Hudson River Trading                 Marketing  \n7                      Ramp                Accounting  \n8                   Bodo.ai                   Support  \n9          Artisan Partners           Human Resources  \n10               TS Imagine           Human Resources  \n11             Chick-fil-a            Human Resources  \n12                   Mark43                     Sales  \n13                   Lumen       Business Development  \n14           Extreme Reach   Research and Development  \n15                 SIEMENS                   Services  \n16                  Workiva                  Services  \n17               Intuitive                 Accounting  \n18               Honeywell                   Training  \n19      Wabtec Corporation                   Training  \n20                   Skydio                  Training  \n21                  Workiva                  Services  \n22   Genuine Parts Company                      Legal  \n23                     Fizz           Human Resources  \n24               TS Imagine        Product Management  \n25               Mastercard           Human Resources  \n26                   Rivian                  Training  \n27                    Five9                 Marketing  \n28                   Lumen         Product Management  \n29               TS Imagine               Engineering  \n30                    Five9                  Services  \n31               Zeno Group                     Legal  \n32             Advisor360¬∞  Research and Development  \n33                 Comcast            Human Resources  \n34                  Kitware      Business Development  \n35                 Polaris                      Legal  \n36              CesiumAstro                 Marketing  \n37              Uncountable               Engineering  \n38                   Archer                   Support  \n39     Second Order Effects                  Services  \n40                Ancestry   Research and Development  \n41                  Anduril  Research and Development  \n42        Align Technology                      Sales  \n43                  Workiva        Product Management  \n44             Chick-fil-a       Business Development  \n45             MyFitnessPal                     Legal  \n46              CesiumAstro                     Legal  \n47    Erie Insurance Group                    Support  \n48               Proofpoint           Human Resources  \n49    Generac Clean Energy   Research and Development  ",
      "text/html": "<div>\n<style scoped>\n    .dataframe tbody tr th:only-of-type {\n        vertical-align: middle;\n    }\n\n    .dataframe tbody tr th {\n        vertical-align: top;\n    }\n\n    .dataframe thead th {\n        text-align: right;\n    }\n</style>\n<table border=\"1\" class=\"dataframe\">\n  <thead>\n    <tr style=\"text-align: right;\">\n      <th></th>\n      <th>Username</th>\n      <th>Name</th>\n      <th>Address</th>\n      <th>Company</th>\n      <th>Specialization</th>\n    </tr>\n  </thead>\n  <tbody>\n    <tr>\n      <th>0</th>\n      <td>fbrafield0</td>\n      <td>Fernandina Brafield</td>\n      <td>7272 Mesta Drive, Seattle, Washington 98102</td>\n      <td>Comerica Bank</td>\n      <td>Accounting</td>\n    </tr>\n    <tr>\n      <th>1</th>\n      <td>cmeech1</td>\n      <td>Corrine Meech</td>\n      <td>582 Warner Drive, Denver, Colorado 80019</td>\n      <td>Domo</td>\n      <td>Research and Development</td>\n    </tr>\n    <tr>\n      <th>2</th>\n      <td>dfeander2</td>\n      <td>Dalston Feander</td>\n      <td>12567 Elgar Street, Boston, Massachusetts 02110</td>\n      <td>Five9</td>\n      <td>Support</td>\n    </tr>\n    <tr>\n      <th>3</th>\n      <td>rbloggett3</td>\n      <td>Rawley Bloggett</td>\n      <td>533 Orin Street, Los Angeles, California 90002</td>\n      <td>TS Imagine</td>\n      <td>Legal</td>\n    </tr>\n    <tr>\n      <th>4</th>\n      <td>ehoulston4</td>\n      <td>Etheline Houlston</td>\n      <td>06 Pond Center, Austin, Texas 73301</td>\n      <td>Align Technology</td>\n      <td>Marketing</td>\n    </tr>\n    <tr>\n      <th>5</th>\n      <td>bgascar5</td>\n      <td>Ban Gascar</td>\n      <td>1 Surrey Road, Seattle, Washington 98102</td>\n      <td>Linkedin</td>\n      <td>Business Development</td>\n    </tr>\n    <tr>\n      <th>6</th>\n      <td>lvose6</td>\n      <td>Loy Vose</td>\n      <td>3 Forest Run Road, Los Angeles, California 90003</td>\n      <td>Hudson River Trading</td>\n      <td>Marketing</td>\n    </tr>\n    <tr>\n      <th>7</th>\n      <td>ffossitt7</td>\n      <td>Ferdinanda Fossitt</td>\n      <td>98 Eliot Junction, Miami, Florida 33126</td>\n      <td>Ramp</td>\n      <td>Accounting</td>\n    </tr>\n    <tr>\n      <th>8</th>\n      <td>abeagin8</td>\n      <td>Angela Beagin</td>\n      <td>0 Miller Place, Dallas, Texas 75032</td>\n      <td>Bodo.ai</td>\n      <td>Support</td>\n    </tr>\n    <tr>\n      <th>9</th>\n      <td>mcrowcher9</td>\n      <td>Miltie Crowcher</td>\n      <td>3824 Messerschmidt Plaza, Tampa, Florida 33592</td>\n      <td>Artisan Partners</td>\n      <td>Human Resources</td>\n    </tr>\n    <tr>\n      <th>10</th>\n      <td>obrechera</td>\n      <td>Olia Brecher</td>\n      <td>02 Buhler Way, Austin, Texas 73344</td>\n      <td>TS Imagine</td>\n      <td>Human Resources</td>\n    </tr>\n    <tr>\n      <th>11</th>\n      <td>ahoutbyb</td>\n      <td>Anni Houtby</td>\n      <td>9 Fallview Way, Chicago, Illinois 60018</td>\n      <td>Chick-fil-a</td>\n      <td>Human Resources</td>\n    </tr>\n    <tr>\n      <th>12</th>\n      <td>elicciardic</td>\n      <td>Ethelbert Licciardi</td>\n      <td>95 Pine View Junction, Los Angeles, California...</td>\n      <td>Mark43</td>\n      <td>Sales</td>\n    </tr>\n    <tr>\n      <th>13</th>\n      <td>okiddd</td>\n      <td>Otho Kidd</td>\n      <td>723 Portage Alley, San Francisco, California 9...</td>\n      <td>Lumen</td>\n      <td>Business Development</td>\n    </tr>\n    <tr>\n      <th>14</th>\n      <td>mcorbridgee</td>\n      <td>Morna Corbridge</td>\n      <td>281 Heffernan Street, Austin, Texas 778613</td>\n      <td>Extreme Reach</td>\n      <td>Research and Development</td>\n    </tr>\n    <tr>\n      <th>15</th>\n      <td>cvenessf</td>\n      <td>Courtney Veness</td>\n      <td>5244 Crowley Pass, Tampa, Florida 33602</td>\n      <td>SIEMENS</td>\n      <td>Services</td>\n    </tr>\n    <tr>\n      <th>16</th>\n      <td>jlibermoreg</td>\n      <td>Jim Libermore</td>\n      <td>64384 Bluejay Street, Boston, Massachusetts 02110</td>\n      <td>Workiva</td>\n      <td>Services</td>\n    </tr>\n    <tr>\n      <th>17</th>\n      <td>ctowseh</td>\n      <td>Clarita Towse</td>\n      <td>8443 Sloan Circle, Chicago, Illinois 60007</td>\n      <td>Intuitive</td>\n      <td>Accounting</td>\n    </tr>\n    <tr>\n      <th>18</th>\n      <td>ohulburdi</td>\n      <td>Odella Hulburd</td>\n      <td>415 Farragut Park, Austin, Texas 73301</td>\n      <td>Honeywell</td>\n      <td>Training</td>\n    </tr>\n    <tr>\n      <th>19</th>\n      <td>mparbrookj</td>\n      <td>Moll Parbrook</td>\n      <td>65816 Melby Alley, Miami, Florida 33126</td>\n      <td>Wabtec Corporation</td>\n      <td>Training</td>\n    </tr>\n    <tr>\n      <th>20</th>\n      <td>jmcclochk</td>\n      <td>Joeann McCloch</td>\n      <td>3 Spohn Crossing, Miami, Florida 33109</td>\n      <td>Skydio</td>\n      <td>Training</td>\n    </tr>\n    <tr>\n      <th>21</th>\n      <td>pgambiel</td>\n      <td>Paule Gambie</td>\n      <td>0478 Reindahl Terrace, Seattle, Washington 98101</td>\n      <td>Workiva</td>\n      <td>Services</td>\n    </tr>\n    <tr>\n      <th>22</th>\n      <td>ryerbym</td>\n      <td>Ringo Yerby</td>\n      <td>16008 Straubel Trail, Seattle, Washington 98103</td>\n      <td>Genuine Parts Company</td>\n      <td>Legal</td>\n    </tr>\n    <tr>\n      <th>23</th>\n      <td>dchelln</td>\n      <td>Derk Chell</td>\n      <td>3496 Loeprich Court, Miami, Florida 33126</td>\n      <td>Fizz</td>\n      <td>Human Resources</td>\n    </tr>\n    <tr>\n      <th>24</th>\n      <td>kbrehato</td>\n      <td>Kaleena Brehat</td>\n      <td>14 Mifflin Parkway, Dallas, Texas 75001</td>\n      <td>TS Imagine</td>\n      <td>Product Management</td>\n    </tr>\n    <tr>\n      <th>25</th>\n      <td>ckedwardp</td>\n      <td>Case Kedward</td>\n      <td>65 Spenser Pass, Los Angeles, California 90002</td>\n      <td>Mastercard</td>\n      <td>Human Resources</td>\n    </tr>\n    <tr>\n      <th>26</th>\n      <td>kvivashq</td>\n      <td>Kareem Vivash</td>\n      <td>97973 Warner Place, New York, New York 10003</td>\n      <td>Rivian</td>\n      <td>Training</td>\n    </tr>\n    <tr>\n      <th>27</th>\n      <td>xalexanderr</td>\n      <td>Ximenez Alexander</td>\n      <td>3 Lake View Center, Denver, Colorado 80014</td>\n      <td>Five9</td>\n      <td>Marketing</td>\n    </tr>\n    <tr>\n      <th>28</th>\n      <td>bgrunnells</td>\n      <td>Belicia Grunnell</td>\n      <td>0398 Rutledge Court, Miami, Florida 33101</td>\n      <td>Lumen</td>\n      <td>Product Management</td>\n    </tr>\n    <tr>\n      <th>29</th>\n      <td>rasaaft</td>\n      <td>Rosaline Asaaf</td>\n      <td>171 Ohio Pass, Los Angeles, California 90003</td>\n      <td>TS Imagine</td>\n      <td>Engineering</td>\n    </tr>\n    <tr>\n      <th>30</th>\n      <td>gjohnu</td>\n      <td>Gian John</td>\n      <td>5053 Kedzie Court, Tampa, Florida 33601</td>\n      <td>Five9</td>\n      <td>Services</td>\n    </tr>\n    <tr>\n      <th>31</th>\n      <td>mdzenisenkav</td>\n      <td>Merry Dzenisenka</td>\n      <td>07 3rd Way, Austin, Texas 73344</td>\n      <td>Zeno Group</td>\n      <td>Legal</td>\n    </tr>\n    <tr>\n      <th>32</th>\n      <td>zvendittow</td>\n      <td>Zola Venditto</td>\n      <td>76 Johnson Parkway, Tampa, Florida 33601</td>\n      <td>Advisor360¬∞</td>\n      <td>Research and Development</td>\n    </tr>\n    <tr>\n      <th>33</th>\n      <td>cmethamx</td>\n      <td>Claus Metham</td>\n      <td>75959 Oakridge Road, San Francisco, California...</td>\n      <td>Comcast</td>\n      <td>Human Resources</td>\n    </tr>\n    <tr>\n      <th>34</th>\n      <td>icatfordy</td>\n      <td>Ivonne Catford</td>\n      <td>0455 Debs Avenue, Los Angeles, California 90003</td>\n      <td>Kitware</td>\n      <td>Business Development</td>\n    </tr>\n    <tr>\n      <th>35</th>\n      <td>kcapewellz</td>\n      <td>Keslie Capewell</td>\n      <td>62782 Bobwhite Road, Boston, Massachusetts 02110</td>\n      <td>Polaris</td>\n      <td>Legal</td>\n    </tr>\n    <tr>\n      <th>36</th>\n      <td>rtheis10</td>\n      <td>Rudy Theis</td>\n      <td>50441 Westerfield Circle, San Francisco, Calif...</td>\n      <td>CesiumAstro</td>\n      <td>Marketing</td>\n    </tr>\n    <tr>\n      <th>37</th>\n      <td>hvanyukhin11</td>\n      <td>Herminia Vanyukhin</td>\n      <td>591 Clarendon Way, Boston, Massachusetts 02111</td>\n      <td>Uncountable</td>\n      <td>Engineering</td>\n    </tr>\n    <tr>\n      <th>38</th>\n      <td>gnaisby12</td>\n      <td>Gilligan Naisby</td>\n      <td>11305 Schurz Place, New York, New York 10001</td>\n      <td>Archer</td>\n      <td>Support</td>\n    </tr>\n    <tr>\n      <th>39</th>\n      <td>ebeaufoy13</td>\n      <td>Emmit Beaufoy</td>\n      <td>59171 Doe Crossing Park, New York, New York 10003</td>\n      <td>Second Order Effects</td>\n      <td>Services</td>\n    </tr>\n    <tr>\n      <th>40</th>\n      <td>xhugonnet14</td>\n      <td>Xaviera Hugonnet</td>\n      <td>77 Bayside Park, Tampa, Florida 33592</td>\n      <td>Ancestry</td>\n      <td>Research and Development</td>\n    </tr>\n    <tr>\n      <th>41</th>\n      <td>elangcastle15</td>\n      <td>Elsinore Langcastle</td>\n      <td>1 Lillian Circle, Tampa, Florida 33602</td>\n      <td>Anduril</td>\n      <td>Research and Development</td>\n    </tr>\n    <tr>\n      <th>42</th>\n      <td>dfarries16</td>\n      <td>Dulcie Farries</td>\n      <td>5 Ridge Oak Alley, Tampa, Florida 33592</td>\n      <td>Align Technology</td>\n      <td>Sales</td>\n    </tr>\n    <tr>\n      <th>43</th>\n      <td>eworledge17</td>\n      <td>Esme Worledge</td>\n      <td>387 Derek Parkway, Tampa, Florida 33601</td>\n      <td>Workiva</td>\n      <td>Product Management</td>\n    </tr>\n    <tr>\n      <th>44</th>\n      <td>tburet18</td>\n      <td>Tyson Buret</td>\n      <td>713 Blaine Street, Tampa, Florida 33592</td>\n      <td>Chick-fil-a</td>\n      <td>Business Development</td>\n    </tr>\n    <tr>\n      <th>45</th>\n      <td>agimblet19</td>\n      <td>Adelheid Gimblet</td>\n      <td>28117 School Street, Atlanta, Georgia 30303</td>\n      <td>MyFitnessPal</td>\n      <td>Legal</td>\n    </tr>\n    <tr>\n      <th>46</th>\n      <td>kcowoppe1a</td>\n      <td>Kessia Cowoppe</td>\n      <td>5 Kedzie Place, Boston, Massachusetts 02108</td>\n      <td>CesiumAstro</td>\n      <td>Legal</td>\n    </tr>\n    <tr>\n      <th>47</th>\n      <td>fallerton1b</td>\n      <td>Freda Allerton</td>\n      <td>25 Charing Cross Alley, Atlanta, Georgia 30303</td>\n      <td>Erie Insurance Group</td>\n      <td>Support</td>\n    </tr>\n    <tr>\n      <th>48</th>\n      <td>ctrodd1c</td>\n      <td>Cecile Trodd</td>\n      <td>9 Summit Junction, New York, New York 10002</td>\n      <td>Proofpoint</td>\n      <td>Human Resources</td>\n    </tr>\n    <tr>\n      <th>49</th>\n      <td>ssignorelli1d</td>\n      <td>Swen Signorelli</td>\n      <td>67664 Moland Court, Chicago, Illinois 60018</td>\n      <td>Generac Clean Energy</td>\n      <td>Research and Development</td>\n    </tr>\n  </tbody>\n</table>\n</div>"
     },
     "execution_count": 23,
     "metadata": {},
     "output_type": "execute_result"
    }
   ],
   "source": [
    "# Adjust street addresses to also have city, state, and zip code\n",
    "recruiter_df['Address'] = recruiter_df['Address'].apply(lambda x: generate_address(x).strip('\"'))\n",
    "recruiter_df['Address'] = recruiter_df['Address'].astype(str)\n",
    "recruiter_df "
   ],
   "metadata": {
    "collapsed": false,
    "ExecuteTime": {
     "end_time": "2024-03-01T22:12:59.298039Z",
     "start_time": "2024-03-01T22:12:59.289360Z"
    }
   },
   "id": "216131982d95e93f",
   "execution_count": 23
  },
  {
   "cell_type": "code",
   "outputs": [],
   "source": [
    "recruiter_df.to_csv('data/Recruiter.csv', index=False)"
   ],
   "metadata": {
    "collapsed": false,
    "ExecuteTime": {
     "end_time": "2024-03-01T16:28:23.945509Z",
     "start_time": "2024-03-01T16:28:23.941910Z"
    }
   },
   "id": "8d63db3c66ffacb0",
   "execution_count": 73
  },
  {
   "cell_type": "markdown",
   "source": [
    "### Candidate\n",
    "- The original candidate data containing a Username, Name, Address, Education, and Email for each candidate was generated using Mockaroo.\n",
    "- We add a city, state, and zip code to each of the street addresses Mockaroo generated.\n",
    "- Because Mockaroo was only able to populate university names in the education column, we modify these entries below to include a random degree (followed by the university name).\n",
    "- Skills are populated randomly based on the list of skills used to populate job postings.\n",
    "- A plaintext resume for each candidate was generated using an OpenAI assistant as shown below. \n",
    "- The PastApplications column, which keeps track of the total number of applications a user has made in the past, is randomly generated."
   ],
   "metadata": {
    "collapsed": false
   },
   "id": "57e8f87ab026ba31"
  },
  {
   "cell_type": "code",
   "outputs": [
    {
     "data": {
      "text/plain": "         Username                Name               Address  \\\n0        pashlin0      Phyllis Ashlin    72188 Welch Circle   \n1         arowly1       Angelle Rowly    5227 Elka Junction   \n2        kkumaar2          Kim Kumaar    25 Magdeline Trail   \n3     kmalthouse3  Kakalina Malthouse      884 Donald Drive   \n4          ldrew4       Lorianna Drew    688 Myrtle Terrace   \n..            ...                 ...                   ...   \n295  pduquesnay87    Pancho Duquesnay    79868 Schurz Place   \n296     lgaydon88      Lonnard Gaydon  158 Ridge Oak Avenue   \n297   dchristie89        Des Christie       80412 Grim Pass   \n298      hmorse8a       Hillary Morse    31 Riverside Alley   \n299       jkull8b         Jdavie Kull        903 Erie Point   \n\n                                        Education                      Email  \n0                          University of Victoria         pashlin0@skype.com  \n1    Universidad Capitain General Gerardo Barrios      arowly1@hostgator.com  \n2                Sri Padmavati Women's University           kkumaar2@ihg.com  \n3         State University of New York at Buffalo    kmalthouse3@comsenz.com  \n4                            Beni Suef University            ldrew4@yale.edu  \n..                                            ...                        ...  \n295                            New Era University     pduquesnay87@europa.eu  \n296                    Copenhagen Business School          lgaydon88@php.net  \n297                         Universitas Brawijaya  dchristie89@discovery.com  \n298        Uzbek State World Languages University      hmorse8a@blogspot.com  \n299               New York Instiute of Technology    jkull8b@hugedomains.com  \n\n[300 rows x 5 columns]",
      "text/html": "<div>\n<style scoped>\n    .dataframe tbody tr th:only-of-type {\n        vertical-align: middle;\n    }\n\n    .dataframe tbody tr th {\n        vertical-align: top;\n    }\n\n    .dataframe thead th {\n        text-align: right;\n    }\n</style>\n<table border=\"1\" class=\"dataframe\">\n  <thead>\n    <tr style=\"text-align: right;\">\n      <th></th>\n      <th>Username</th>\n      <th>Name</th>\n      <th>Address</th>\n      <th>Education</th>\n      <th>Email</th>\n    </tr>\n  </thead>\n  <tbody>\n    <tr>\n      <th>0</th>\n      <td>pashlin0</td>\n      <td>Phyllis Ashlin</td>\n      <td>72188 Welch Circle</td>\n      <td>University of Victoria</td>\n      <td>pashlin0@skype.com</td>\n    </tr>\n    <tr>\n      <th>1</th>\n      <td>arowly1</td>\n      <td>Angelle Rowly</td>\n      <td>5227 Elka Junction</td>\n      <td>Universidad Capitain General Gerardo Barrios</td>\n      <td>arowly1@hostgator.com</td>\n    </tr>\n    <tr>\n      <th>2</th>\n      <td>kkumaar2</td>\n      <td>Kim Kumaar</td>\n      <td>25 Magdeline Trail</td>\n      <td>Sri Padmavati Women's University</td>\n      <td>kkumaar2@ihg.com</td>\n    </tr>\n    <tr>\n      <th>3</th>\n      <td>kmalthouse3</td>\n      <td>Kakalina Malthouse</td>\n      <td>884 Donald Drive</td>\n      <td>State University of New York at Buffalo</td>\n      <td>kmalthouse3@comsenz.com</td>\n    </tr>\n    <tr>\n      <th>4</th>\n      <td>ldrew4</td>\n      <td>Lorianna Drew</td>\n      <td>688 Myrtle Terrace</td>\n      <td>Beni Suef University</td>\n      <td>ldrew4@yale.edu</td>\n    </tr>\n    <tr>\n      <th>...</th>\n      <td>...</td>\n      <td>...</td>\n      <td>...</td>\n      <td>...</td>\n      <td>...</td>\n    </tr>\n    <tr>\n      <th>295</th>\n      <td>pduquesnay87</td>\n      <td>Pancho Duquesnay</td>\n      <td>79868 Schurz Place</td>\n      <td>New Era University</td>\n      <td>pduquesnay87@europa.eu</td>\n    </tr>\n    <tr>\n      <th>296</th>\n      <td>lgaydon88</td>\n      <td>Lonnard Gaydon</td>\n      <td>158 Ridge Oak Avenue</td>\n      <td>Copenhagen Business School</td>\n      <td>lgaydon88@php.net</td>\n    </tr>\n    <tr>\n      <th>297</th>\n      <td>dchristie89</td>\n      <td>Des Christie</td>\n      <td>80412 Grim Pass</td>\n      <td>Universitas Brawijaya</td>\n      <td>dchristie89@discovery.com</td>\n    </tr>\n    <tr>\n      <th>298</th>\n      <td>hmorse8a</td>\n      <td>Hillary Morse</td>\n      <td>31 Riverside Alley</td>\n      <td>Uzbek State World Languages University</td>\n      <td>hmorse8a@blogspot.com</td>\n    </tr>\n    <tr>\n      <th>299</th>\n      <td>jkull8b</td>\n      <td>Jdavie Kull</td>\n      <td>903 Erie Point</td>\n      <td>New York Instiute of Technology</td>\n      <td>jkull8b@hugedomains.com</td>\n    </tr>\n  </tbody>\n</table>\n<p>300 rows × 5 columns</p>\n</div>"
     },
     "execution_count": 123,
     "metadata": {},
     "output_type": "execute_result"
    }
   ],
   "source": [
    "candidate_df = pd.read_csv('data/Mockaroo/Mockaroo-Candidate.csv')\n",
    "candidate_df"
   ],
   "metadata": {
    "collapsed": false,
    "ExecuteTime": {
     "end_time": "2024-03-02T05:04:01.827046Z",
     "start_time": "2024-03-02T05:04:01.819978Z"
    }
   },
   "id": "cc073338c0689875",
   "execution_count": 123
  },
  {
   "cell_type": "code",
   "outputs": [
    {
     "data": {
      "text/plain": "         Username                Name  \\\n0        pashlin0      Phyllis Ashlin   \n1         arowly1       Angelle Rowly   \n2        kkumaar2          Kim Kumaar   \n3     kmalthouse3  Kakalina Malthouse   \n4          ldrew4       Lorianna Drew   \n..            ...                 ...   \n295  pduquesnay87    Pancho Duquesnay   \n296     lgaydon88      Lonnard Gaydon   \n297   dchristie89        Des Christie   \n298      hmorse8a       Hillary Morse   \n299       jkull8b         Jdavie Kull   \n\n                                               Address  \\\n0             72188 Welch Circle, Miami, Florida 33109   \n1           5227 Elka Junction, Denver, Colorado 80022   \n2          25 Magdeline Trail, Chicago, Illinois 60007   \n3             884 Donald Drive, Atlanta, Georgia 30303   \n4             688 Myrtle Terrace, Miami, Florida 33101   \n..                                                 ...   \n295  79868 Schurz Place, Los Angeles, California 90003   \n296      158 Ridge Oak Avenue, Chicago, Illinois 60018   \n297     80412 Grim Pass, Los Angeles, California 90003   \n298        31 Riverside Alley, Chicago, Illinois 60018   \n299             903 Erie Point, Atlanta, Georgia 30303   \n\n                                        Education                      Email  \n0                          University of Victoria         pashlin0@skype.com  \n1    Universidad Capitain General Gerardo Barrios      arowly1@hostgator.com  \n2                Sri Padmavati Women's University           kkumaar2@ihg.com  \n3         State University of New York at Buffalo    kmalthouse3@comsenz.com  \n4                            Beni Suef University            ldrew4@yale.edu  \n..                                            ...                        ...  \n295                            New Era University     pduquesnay87@europa.eu  \n296                    Copenhagen Business School          lgaydon88@php.net  \n297                         Universitas Brawijaya  dchristie89@discovery.com  \n298        Uzbek State World Languages University      hmorse8a@blogspot.com  \n299               New York Instiute of Technology    jkull8b@hugedomains.com  \n\n[300 rows x 5 columns]",
      "text/html": "<div>\n<style scoped>\n    .dataframe tbody tr th:only-of-type {\n        vertical-align: middle;\n    }\n\n    .dataframe tbody tr th {\n        vertical-align: top;\n    }\n\n    .dataframe thead th {\n        text-align: right;\n    }\n</style>\n<table border=\"1\" class=\"dataframe\">\n  <thead>\n    <tr style=\"text-align: right;\">\n      <th></th>\n      <th>Username</th>\n      <th>Name</th>\n      <th>Address</th>\n      <th>Education</th>\n      <th>Email</th>\n    </tr>\n  </thead>\n  <tbody>\n    <tr>\n      <th>0</th>\n      <td>pashlin0</td>\n      <td>Phyllis Ashlin</td>\n      <td>72188 Welch Circle, Miami, Florida 33109</td>\n      <td>University of Victoria</td>\n      <td>pashlin0@skype.com</td>\n    </tr>\n    <tr>\n      <th>1</th>\n      <td>arowly1</td>\n      <td>Angelle Rowly</td>\n      <td>5227 Elka Junction, Denver, Colorado 80022</td>\n      <td>Universidad Capitain General Gerardo Barrios</td>\n      <td>arowly1@hostgator.com</td>\n    </tr>\n    <tr>\n      <th>2</th>\n      <td>kkumaar2</td>\n      <td>Kim Kumaar</td>\n      <td>25 Magdeline Trail, Chicago, Illinois 60007</td>\n      <td>Sri Padmavati Women's University</td>\n      <td>kkumaar2@ihg.com</td>\n    </tr>\n    <tr>\n      <th>3</th>\n      <td>kmalthouse3</td>\n      <td>Kakalina Malthouse</td>\n      <td>884 Donald Drive, Atlanta, Georgia 30303</td>\n      <td>State University of New York at Buffalo</td>\n      <td>kmalthouse3@comsenz.com</td>\n    </tr>\n    <tr>\n      <th>4</th>\n      <td>ldrew4</td>\n      <td>Lorianna Drew</td>\n      <td>688 Myrtle Terrace, Miami, Florida 33101</td>\n      <td>Beni Suef University</td>\n      <td>ldrew4@yale.edu</td>\n    </tr>\n    <tr>\n      <th>...</th>\n      <td>...</td>\n      <td>...</td>\n      <td>...</td>\n      <td>...</td>\n      <td>...</td>\n    </tr>\n    <tr>\n      <th>295</th>\n      <td>pduquesnay87</td>\n      <td>Pancho Duquesnay</td>\n      <td>79868 Schurz Place, Los Angeles, California 90003</td>\n      <td>New Era University</td>\n      <td>pduquesnay87@europa.eu</td>\n    </tr>\n    <tr>\n      <th>296</th>\n      <td>lgaydon88</td>\n      <td>Lonnard Gaydon</td>\n      <td>158 Ridge Oak Avenue, Chicago, Illinois 60018</td>\n      <td>Copenhagen Business School</td>\n      <td>lgaydon88@php.net</td>\n    </tr>\n    <tr>\n      <th>297</th>\n      <td>dchristie89</td>\n      <td>Des Christie</td>\n      <td>80412 Grim Pass, Los Angeles, California 90003</td>\n      <td>Universitas Brawijaya</td>\n      <td>dchristie89@discovery.com</td>\n    </tr>\n    <tr>\n      <th>298</th>\n      <td>hmorse8a</td>\n      <td>Hillary Morse</td>\n      <td>31 Riverside Alley, Chicago, Illinois 60018</td>\n      <td>Uzbek State World Languages University</td>\n      <td>hmorse8a@blogspot.com</td>\n    </tr>\n    <tr>\n      <th>299</th>\n      <td>jkull8b</td>\n      <td>Jdavie Kull</td>\n      <td>903 Erie Point, Atlanta, Georgia 30303</td>\n      <td>New York Instiute of Technology</td>\n      <td>jkull8b@hugedomains.com</td>\n    </tr>\n  </tbody>\n</table>\n<p>300 rows × 5 columns</p>\n</div>"
     },
     "execution_count": 124,
     "metadata": {},
     "output_type": "execute_result"
    }
   ],
   "source": [
    "# Adjust street addresses to also have city, state, and zip code\n",
    "candidate_df['Address'] = candidate_df['Address'].apply(lambda x: generate_address(x).strip('\"'))\n",
    "candidate_df['Address'] = candidate_df['Address'].astype(str)\n",
    "candidate_df"
   ],
   "metadata": {
    "collapsed": false,
    "ExecuteTime": {
     "end_time": "2024-03-02T05:04:03.835083Z",
     "start_time": "2024-03-02T05:04:03.828650Z"
    }
   },
   "id": "89627a36a89bc04e",
   "execution_count": 124
  },
  {
   "cell_type": "code",
   "outputs": [
    {
     "data": {
      "text/plain": "         Username                Name  \\\n0        pashlin0      Phyllis Ashlin   \n1         arowly1       Angelle Rowly   \n2        kkumaar2          Kim Kumaar   \n3     kmalthouse3  Kakalina Malthouse   \n4          ldrew4       Lorianna Drew   \n..            ...                 ...   \n295  pduquesnay87    Pancho Duquesnay   \n296     lgaydon88      Lonnard Gaydon   \n297   dchristie89        Des Christie   \n298      hmorse8a       Hillary Morse   \n299       jkull8b         Jdavie Kull   \n\n                                               Address  \\\n0             72188 Welch Circle, Miami, Florida 33109   \n1           5227 Elka Junction, Denver, Colorado 80022   \n2          25 Magdeline Trail, Chicago, Illinois 60007   \n3             884 Donald Drive, Atlanta, Georgia 30303   \n4             688 Myrtle Terrace, Miami, Florida 33101   \n..                                                 ...   \n295  79868 Schurz Place, Los Angeles, California 90003   \n296      158 Ridge Oak Avenue, Chicago, Illinois 60018   \n297     80412 Grim Pass, Los Angeles, California 90003   \n298        31 Riverside Alley, Chicago, Illinois 60018   \n299             903 Erie Point, Atlanta, Georgia 30303   \n\n                                             Education  \\\n0      PhD in Computer Science, University of Victoria   \n1    Bachelor of Arts, Universidad Capitain General...   \n2    Bachelor of Science, Sri Padmavati Women's Uni...   \n3    Bachelor of Arts, State University of New York...   \n4            Bachelor of Science, Beni Suef University   \n..                                                 ...   \n295            Bachelor of Science, New Era University   \n296       Bachelor of Arts, Copenhagen Business School   \n297            Bachelor of Arts, Universitas Brawijaya   \n298  Bachelor of Science, Uzbek State World Languag...   \n299  Bachelor of Science, New York Instiute of Tech...   \n\n                         Email  \n0           pashlin0@skype.com  \n1        arowly1@hostgator.com  \n2             kkumaar2@ihg.com  \n3      kmalthouse3@comsenz.com  \n4              ldrew4@yale.edu  \n..                         ...  \n295     pduquesnay87@europa.eu  \n296          lgaydon88@php.net  \n297  dchristie89@discovery.com  \n298      hmorse8a@blogspot.com  \n299    jkull8b@hugedomains.com  \n\n[300 rows x 5 columns]",
      "text/html": "<div>\n<style scoped>\n    .dataframe tbody tr th:only-of-type {\n        vertical-align: middle;\n    }\n\n    .dataframe tbody tr th {\n        vertical-align: top;\n    }\n\n    .dataframe thead th {\n        text-align: right;\n    }\n</style>\n<table border=\"1\" class=\"dataframe\">\n  <thead>\n    <tr style=\"text-align: right;\">\n      <th></th>\n      <th>Username</th>\n      <th>Name</th>\n      <th>Address</th>\n      <th>Education</th>\n      <th>Email</th>\n    </tr>\n  </thead>\n  <tbody>\n    <tr>\n      <th>0</th>\n      <td>pashlin0</td>\n      <td>Phyllis Ashlin</td>\n      <td>72188 Welch Circle, Miami, Florida 33109</td>\n      <td>PhD in Computer Science, University of Victoria</td>\n      <td>pashlin0@skype.com</td>\n    </tr>\n    <tr>\n      <th>1</th>\n      <td>arowly1</td>\n      <td>Angelle Rowly</td>\n      <td>5227 Elka Junction, Denver, Colorado 80022</td>\n      <td>Bachelor of Arts, Universidad Capitain General...</td>\n      <td>arowly1@hostgator.com</td>\n    </tr>\n    <tr>\n      <th>2</th>\n      <td>kkumaar2</td>\n      <td>Kim Kumaar</td>\n      <td>25 Magdeline Trail, Chicago, Illinois 60007</td>\n      <td>Bachelor of Science, Sri Padmavati Women's Uni...</td>\n      <td>kkumaar2@ihg.com</td>\n    </tr>\n    <tr>\n      <th>3</th>\n      <td>kmalthouse3</td>\n      <td>Kakalina Malthouse</td>\n      <td>884 Donald Drive, Atlanta, Georgia 30303</td>\n      <td>Bachelor of Arts, State University of New York...</td>\n      <td>kmalthouse3@comsenz.com</td>\n    </tr>\n    <tr>\n      <th>4</th>\n      <td>ldrew4</td>\n      <td>Lorianna Drew</td>\n      <td>688 Myrtle Terrace, Miami, Florida 33101</td>\n      <td>Bachelor of Science, Beni Suef University</td>\n      <td>ldrew4@yale.edu</td>\n    </tr>\n    <tr>\n      <th>...</th>\n      <td>...</td>\n      <td>...</td>\n      <td>...</td>\n      <td>...</td>\n      <td>...</td>\n    </tr>\n    <tr>\n      <th>295</th>\n      <td>pduquesnay87</td>\n      <td>Pancho Duquesnay</td>\n      <td>79868 Schurz Place, Los Angeles, California 90003</td>\n      <td>Bachelor of Science, New Era University</td>\n      <td>pduquesnay87@europa.eu</td>\n    </tr>\n    <tr>\n      <th>296</th>\n      <td>lgaydon88</td>\n      <td>Lonnard Gaydon</td>\n      <td>158 Ridge Oak Avenue, Chicago, Illinois 60018</td>\n      <td>Bachelor of Arts, Copenhagen Business School</td>\n      <td>lgaydon88@php.net</td>\n    </tr>\n    <tr>\n      <th>297</th>\n      <td>dchristie89</td>\n      <td>Des Christie</td>\n      <td>80412 Grim Pass, Los Angeles, California 90003</td>\n      <td>Bachelor of Arts, Universitas Brawijaya</td>\n      <td>dchristie89@discovery.com</td>\n    </tr>\n    <tr>\n      <th>298</th>\n      <td>hmorse8a</td>\n      <td>Hillary Morse</td>\n      <td>31 Riverside Alley, Chicago, Illinois 60018</td>\n      <td>Bachelor of Science, Uzbek State World Languag...</td>\n      <td>hmorse8a@blogspot.com</td>\n    </tr>\n    <tr>\n      <th>299</th>\n      <td>jkull8b</td>\n      <td>Jdavie Kull</td>\n      <td>903 Erie Point, Atlanta, Georgia 30303</td>\n      <td>Bachelor of Science, New York Instiute of Tech...</td>\n      <td>jkull8b@hugedomains.com</td>\n    </tr>\n  </tbody>\n</table>\n<p>300 rows × 5 columns</p>\n</div>"
     },
     "execution_count": 125,
     "metadata": {},
     "output_type": "execute_result"
    }
   ],
   "source": [
    "# Populate Education column with random degrees \n",
    "degree_options = ['High School Diploma', 'Bachelor of Science', 'Bachelor of Arts', 'Master of Science', 'Master of Arts', 'PhD in Computer Science']\n",
    "probabilities_degree = [0.03, 0.60, 0.15, 0.15, 0.05, 0.02]\n",
    "degrees = np.random.choice(degree_options, size=len(candidate_df), p=probabilities_degree)\n",
    "candidate_df['Education'] = candidate_df.apply(lambda row: f\"{degrees[row.name]}, {row['Education']}\" if row['Education'] != 'High School Diploma' and degrees[row.name] != 'High School Diploma' else 'High School Diploma', axis=1)\n",
    "candidate_df"
   ],
   "metadata": {
    "collapsed": false,
    "ExecuteTime": {
     "end_time": "2024-03-02T05:04:09.110113Z",
     "start_time": "2024-03-02T05:04:09.101342Z"
    }
   },
   "id": "ec66aa57de77c844",
   "execution_count": 125
  },
  {
   "cell_type": "code",
   "outputs": [
    {
     "data": {
      "text/plain": "         Username                Name  \\\n0        pashlin0      Phyllis Ashlin   \n1         arowly1       Angelle Rowly   \n2        kkumaar2          Kim Kumaar   \n3     kmalthouse3  Kakalina Malthouse   \n4          ldrew4       Lorianna Drew   \n..            ...                 ...   \n295  pduquesnay87    Pancho Duquesnay   \n296     lgaydon88      Lonnard Gaydon   \n297   dchristie89        Des Christie   \n298      hmorse8a       Hillary Morse   \n299       jkull8b         Jdavie Kull   \n\n                                               Address  \\\n0             72188 Welch Circle, Miami, Florida 33109   \n1           5227 Elka Junction, Denver, Colorado 80022   \n2          25 Magdeline Trail, Chicago, Illinois 60007   \n3             884 Donald Drive, Atlanta, Georgia 30303   \n4             688 Myrtle Terrace, Miami, Florida 33101   \n..                                                 ...   \n295  79868 Schurz Place, Los Angeles, California 90003   \n296      158 Ridge Oak Avenue, Chicago, Illinois 60018   \n297     80412 Grim Pass, Los Angeles, California 90003   \n298        31 Riverside Alley, Chicago, Illinois 60018   \n299             903 Erie Point, Atlanta, Georgia 30303   \n\n                                             Education  \\\n0      PhD in Computer Science, University of Victoria   \n1    Bachelor of Arts, Universidad Capitain General...   \n2    Bachelor of Science, Sri Padmavati Women's Uni...   \n3    Bachelor of Arts, State University of New York...   \n4            Bachelor of Science, Beni Suef University   \n..                                                 ...   \n295            Bachelor of Science, New Era University   \n296       Bachelor of Arts, Copenhagen Business School   \n297            Bachelor of Arts, Universitas Brawijaya   \n298  Bachelor of Science, Uzbek State World Languag...   \n299  Bachelor of Science, New York Instiute of Tech...   \n\n                         Email  \\\n0           pashlin0@skype.com   \n1        arowly1@hostgator.com   \n2             kkumaar2@ihg.com   \n3      kmalthouse3@comsenz.com   \n4              ldrew4@yale.edu   \n..                         ...   \n295     pduquesnay87@europa.eu   \n296          lgaydon88@php.net   \n297  dchristie89@discovery.com   \n298      hmorse8a@blogspot.com   \n299    jkull8b@hugedomains.com   \n\n                                                Skills  \n0    Urdu, PostgreSQL, Databases, German, Hootsuite...  \n1    Git, Julia, JavaScript, SEO/SEM, Project Manag...  \n2    SQL, Azure, Customer Support, Google Cloud Pla...  \n3    Flask, SEO/SEM, UX/UI Design, Python, Kotlin, ...  \n4    Julia, PostgreSQL, Google Cloud Platform, Vue....  \n..                                                 ...  \n295  Project Management, React, AI/ML frameworks, M...  \n296  Backend Stack, Google Cloud Platform, Scrum, K...  \n297  SQL, OOP, Adobe Creative Suite, Julia, UX/UI D...  \n298  Backend Stack, Adobe Creative Suite, Jupyter, ...  \n299  UX/UI Design, Snowflake, Sphinx, Tableau, Pyth...  \n\n[300 rows x 6 columns]",
      "text/html": "<div>\n<style scoped>\n    .dataframe tbody tr th:only-of-type {\n        vertical-align: middle;\n    }\n\n    .dataframe tbody tr th {\n        vertical-align: top;\n    }\n\n    .dataframe thead th {\n        text-align: right;\n    }\n</style>\n<table border=\"1\" class=\"dataframe\">\n  <thead>\n    <tr style=\"text-align: right;\">\n      <th></th>\n      <th>Username</th>\n      <th>Name</th>\n      <th>Address</th>\n      <th>Education</th>\n      <th>Email</th>\n      <th>Skills</th>\n    </tr>\n  </thead>\n  <tbody>\n    <tr>\n      <th>0</th>\n      <td>pashlin0</td>\n      <td>Phyllis Ashlin</td>\n      <td>72188 Welch Circle, Miami, Florida 33109</td>\n      <td>PhD in Computer Science, University of Victoria</td>\n      <td>pashlin0@skype.com</td>\n      <td>Urdu, PostgreSQL, Databases, German, Hootsuite...</td>\n    </tr>\n    <tr>\n      <th>1</th>\n      <td>arowly1</td>\n      <td>Angelle Rowly</td>\n      <td>5227 Elka Junction, Denver, Colorado 80022</td>\n      <td>Bachelor of Arts, Universidad Capitain General...</td>\n      <td>arowly1@hostgator.com</td>\n      <td>Git, Julia, JavaScript, SEO/SEM, Project Manag...</td>\n    </tr>\n    <tr>\n      <th>2</th>\n      <td>kkumaar2</td>\n      <td>Kim Kumaar</td>\n      <td>25 Magdeline Trail, Chicago, Illinois 60007</td>\n      <td>Bachelor of Science, Sri Padmavati Women's Uni...</td>\n      <td>kkumaar2@ihg.com</td>\n      <td>SQL, Azure, Customer Support, Google Cloud Pla...</td>\n    </tr>\n    <tr>\n      <th>3</th>\n      <td>kmalthouse3</td>\n      <td>Kakalina Malthouse</td>\n      <td>884 Donald Drive, Atlanta, Georgia 30303</td>\n      <td>Bachelor of Arts, State University of New York...</td>\n      <td>kmalthouse3@comsenz.com</td>\n      <td>Flask, SEO/SEM, UX/UI Design, Python, Kotlin, ...</td>\n    </tr>\n    <tr>\n      <th>4</th>\n      <td>ldrew4</td>\n      <td>Lorianna Drew</td>\n      <td>688 Myrtle Terrace, Miami, Florida 33101</td>\n      <td>Bachelor of Science, Beni Suef University</td>\n      <td>ldrew4@yale.edu</td>\n      <td>Julia, PostgreSQL, Google Cloud Platform, Vue....</td>\n    </tr>\n    <tr>\n      <th>...</th>\n      <td>...</td>\n      <td>...</td>\n      <td>...</td>\n      <td>...</td>\n      <td>...</td>\n      <td>...</td>\n    </tr>\n    <tr>\n      <th>295</th>\n      <td>pduquesnay87</td>\n      <td>Pancho Duquesnay</td>\n      <td>79868 Schurz Place, Los Angeles, California 90003</td>\n      <td>Bachelor of Science, New Era University</td>\n      <td>pduquesnay87@europa.eu</td>\n      <td>Project Management, React, AI/ML frameworks, M...</td>\n    </tr>\n    <tr>\n      <th>296</th>\n      <td>lgaydon88</td>\n      <td>Lonnard Gaydon</td>\n      <td>158 Ridge Oak Avenue, Chicago, Illinois 60018</td>\n      <td>Bachelor of Arts, Copenhagen Business School</td>\n      <td>lgaydon88@php.net</td>\n      <td>Backend Stack, Google Cloud Platform, Scrum, K...</td>\n    </tr>\n    <tr>\n      <th>297</th>\n      <td>dchristie89</td>\n      <td>Des Christie</td>\n      <td>80412 Grim Pass, Los Angeles, California 90003</td>\n      <td>Bachelor of Arts, Universitas Brawijaya</td>\n      <td>dchristie89@discovery.com</td>\n      <td>SQL, OOP, Adobe Creative Suite, Julia, UX/UI D...</td>\n    </tr>\n    <tr>\n      <th>298</th>\n      <td>hmorse8a</td>\n      <td>Hillary Morse</td>\n      <td>31 Riverside Alley, Chicago, Illinois 60018</td>\n      <td>Bachelor of Science, Uzbek State World Languag...</td>\n      <td>hmorse8a@blogspot.com</td>\n      <td>Backend Stack, Adobe Creative Suite, Jupyter, ...</td>\n    </tr>\n    <tr>\n      <th>299</th>\n      <td>jkull8b</td>\n      <td>Jdavie Kull</td>\n      <td>903 Erie Point, Atlanta, Georgia 30303</td>\n      <td>Bachelor of Science, New York Instiute of Tech...</td>\n      <td>jkull8b@hugedomains.com</td>\n      <td>UX/UI Design, Snowflake, Sphinx, Tableau, Pyth...</td>\n    </tr>\n  </tbody>\n</table>\n<p>300 rows × 6 columns</p>\n</div>"
     },
     "execution_count": 126,
     "metadata": {},
     "output_type": "execute_result"
    }
   ],
   "source": [
    "# Populate Skills column randomly using skills used to populate job postings\n",
    "skills_vals = [get_random_skills(job_skills) for i in range(len(candidate_df))]\n",
    "candidate_df = candidate_df.assign(Skills=skills_vals)\n",
    "candidate_df"
   ],
   "metadata": {
    "collapsed": false,
    "ExecuteTime": {
     "end_time": "2024-03-02T05:04:18.321445Z",
     "start_time": "2024-03-02T05:04:18.312790Z"
    }
   },
   "id": "6d76d8f300d98943",
   "execution_count": 126
  },
  {
   "cell_type": "code",
   "outputs": [
    {
     "data": {
      "text/plain": "         Username                Name  \\\n0        pashlin0      Phyllis Ashlin   \n1         arowly1       Angelle Rowly   \n2        kkumaar2          Kim Kumaar   \n3     kmalthouse3  Kakalina Malthouse   \n4          ldrew4       Lorianna Drew   \n..            ...                 ...   \n295  pduquesnay87    Pancho Duquesnay   \n296     lgaydon88      Lonnard Gaydon   \n297   dchristie89        Des Christie   \n298      hmorse8a       Hillary Morse   \n299       jkull8b         Jdavie Kull   \n\n                                               Address  \\\n0             72188 Welch Circle, Miami, Florida 33109   \n1           5227 Elka Junction, Denver, Colorado 80022   \n2          25 Magdeline Trail, Chicago, Illinois 60007   \n3             884 Donald Drive, Atlanta, Georgia 30303   \n4             688 Myrtle Terrace, Miami, Florida 33101   \n..                                                 ...   \n295  79868 Schurz Place, Los Angeles, California 90003   \n296      158 Ridge Oak Avenue, Chicago, Illinois 60018   \n297     80412 Grim Pass, Los Angeles, California 90003   \n298        31 Riverside Alley, Chicago, Illinois 60018   \n299             903 Erie Point, Atlanta, Georgia 30303   \n\n                                             Education  \\\n0      PhD in Computer Science, University of Victoria   \n1    Bachelor of Arts, Universidad Capitain General...   \n2    Bachelor of Science, Sri Padmavati Women's Uni...   \n3    Bachelor of Arts, State University of New York...   \n4            Bachelor of Science, Beni Suef University   \n..                                                 ...   \n295            Bachelor of Science, New Era University   \n296       Bachelor of Arts, Copenhagen Business School   \n297            Bachelor of Arts, Universitas Brawijaya   \n298  Bachelor of Science, Uzbek State World Languag...   \n299  Bachelor of Science, New York Instiute of Tech...   \n\n                         Email  \\\n0           pashlin0@skype.com   \n1        arowly1@hostgator.com   \n2             kkumaar2@ihg.com   \n3      kmalthouse3@comsenz.com   \n4              ldrew4@yale.edu   \n..                         ...   \n295     pduquesnay87@europa.eu   \n296          lgaydon88@php.net   \n297  dchristie89@discovery.com   \n298      hmorse8a@blogspot.com   \n299    jkull8b@hugedomains.com   \n\n                                                Skills  \\\n0    Urdu, PostgreSQL, Databases, German, Hootsuite...   \n1    Git, Julia, JavaScript, SEO/SEM, Project Manag...   \n2    SQL, Azure, Customer Support, Google Cloud Pla...   \n3    Flask, SEO/SEM, UX/UI Design, Python, Kotlin, ...   \n4    Julia, PostgreSQL, Google Cloud Platform, Vue....   \n..                                                 ...   \n295  Project Management, React, AI/ML frameworks, M...   \n296  Backend Stack, Google Cloud Platform, Scrum, K...   \n297  SQL, OOP, Adobe Creative Suite, Julia, UX/UI D...   \n298  Backend Stack, Adobe Creative Suite, Jupyter, ...   \n299  UX/UI Design, Snowflake, Sphinx, Tableau, Pyth...   \n\n                                                Resume  \n0    Phyllis Ashlin\\n    72188 Welch Circle, Miami,...  \n1    Angelle Rowly\\n    5227 Elka Junction, Denver,...  \n2    Kim Kumaar\\n    25 Magdeline Trail, Chicago, I...  \n3    Kakalina Malthouse\\n    884 Donald Drive, Atla...  \n4    Lorianna Drew\\n    688 Myrtle Terrace, Miami, ...  \n..                                                 ...  \n295  Pancho Duquesnay\\n    79868 Schurz Place, Los ...  \n296  Lonnard Gaydon\\n    158 Ridge Oak Avenue, Chic...  \n297  Des Christie\\n    80412 Grim Pass, Los Angeles...  \n298  Hillary Morse\\n    31 Riverside Alley, Chicago...  \n299  Jdavie Kull\\n    903 Erie Point, Atlanta, Geor...  \n\n[300 rows x 7 columns]",
      "text/html": "<div>\n<style scoped>\n    .dataframe tbody tr th:only-of-type {\n        vertical-align: middle;\n    }\n\n    .dataframe tbody tr th {\n        vertical-align: top;\n    }\n\n    .dataframe thead th {\n        text-align: right;\n    }\n</style>\n<table border=\"1\" class=\"dataframe\">\n  <thead>\n    <tr style=\"text-align: right;\">\n      <th></th>\n      <th>Username</th>\n      <th>Name</th>\n      <th>Address</th>\n      <th>Education</th>\n      <th>Email</th>\n      <th>Skills</th>\n      <th>Resume</th>\n    </tr>\n  </thead>\n  <tbody>\n    <tr>\n      <th>0</th>\n      <td>pashlin0</td>\n      <td>Phyllis Ashlin</td>\n      <td>72188 Welch Circle, Miami, Florida 33109</td>\n      <td>PhD in Computer Science, University of Victoria</td>\n      <td>pashlin0@skype.com</td>\n      <td>Urdu, PostgreSQL, Databases, German, Hootsuite...</td>\n      <td>Phyllis Ashlin\\n    72188 Welch Circle, Miami,...</td>\n    </tr>\n    <tr>\n      <th>1</th>\n      <td>arowly1</td>\n      <td>Angelle Rowly</td>\n      <td>5227 Elka Junction, Denver, Colorado 80022</td>\n      <td>Bachelor of Arts, Universidad Capitain General...</td>\n      <td>arowly1@hostgator.com</td>\n      <td>Git, Julia, JavaScript, SEO/SEM, Project Manag...</td>\n      <td>Angelle Rowly\\n    5227 Elka Junction, Denver,...</td>\n    </tr>\n    <tr>\n      <th>2</th>\n      <td>kkumaar2</td>\n      <td>Kim Kumaar</td>\n      <td>25 Magdeline Trail, Chicago, Illinois 60007</td>\n      <td>Bachelor of Science, Sri Padmavati Women's Uni...</td>\n      <td>kkumaar2@ihg.com</td>\n      <td>SQL, Azure, Customer Support, Google Cloud Pla...</td>\n      <td>Kim Kumaar\\n    25 Magdeline Trail, Chicago, I...</td>\n    </tr>\n    <tr>\n      <th>3</th>\n      <td>kmalthouse3</td>\n      <td>Kakalina Malthouse</td>\n      <td>884 Donald Drive, Atlanta, Georgia 30303</td>\n      <td>Bachelor of Arts, State University of New York...</td>\n      <td>kmalthouse3@comsenz.com</td>\n      <td>Flask, SEO/SEM, UX/UI Design, Python, Kotlin, ...</td>\n      <td>Kakalina Malthouse\\n    884 Donald Drive, Atla...</td>\n    </tr>\n    <tr>\n      <th>4</th>\n      <td>ldrew4</td>\n      <td>Lorianna Drew</td>\n      <td>688 Myrtle Terrace, Miami, Florida 33101</td>\n      <td>Bachelor of Science, Beni Suef University</td>\n      <td>ldrew4@yale.edu</td>\n      <td>Julia, PostgreSQL, Google Cloud Platform, Vue....</td>\n      <td>Lorianna Drew\\n    688 Myrtle Terrace, Miami, ...</td>\n    </tr>\n    <tr>\n      <th>...</th>\n      <td>...</td>\n      <td>...</td>\n      <td>...</td>\n      <td>...</td>\n      <td>...</td>\n      <td>...</td>\n      <td>...</td>\n    </tr>\n    <tr>\n      <th>295</th>\n      <td>pduquesnay87</td>\n      <td>Pancho Duquesnay</td>\n      <td>79868 Schurz Place, Los Angeles, California 90003</td>\n      <td>Bachelor of Science, New Era University</td>\n      <td>pduquesnay87@europa.eu</td>\n      <td>Project Management, React, AI/ML frameworks, M...</td>\n      <td>Pancho Duquesnay\\n    79868 Schurz Place, Los ...</td>\n    </tr>\n    <tr>\n      <th>296</th>\n      <td>lgaydon88</td>\n      <td>Lonnard Gaydon</td>\n      <td>158 Ridge Oak Avenue, Chicago, Illinois 60018</td>\n      <td>Bachelor of Arts, Copenhagen Business School</td>\n      <td>lgaydon88@php.net</td>\n      <td>Backend Stack, Google Cloud Platform, Scrum, K...</td>\n      <td>Lonnard Gaydon\\n    158 Ridge Oak Avenue, Chic...</td>\n    </tr>\n    <tr>\n      <th>297</th>\n      <td>dchristie89</td>\n      <td>Des Christie</td>\n      <td>80412 Grim Pass, Los Angeles, California 90003</td>\n      <td>Bachelor of Arts, Universitas Brawijaya</td>\n      <td>dchristie89@discovery.com</td>\n      <td>SQL, OOP, Adobe Creative Suite, Julia, UX/UI D...</td>\n      <td>Des Christie\\n    80412 Grim Pass, Los Angeles...</td>\n    </tr>\n    <tr>\n      <th>298</th>\n      <td>hmorse8a</td>\n      <td>Hillary Morse</td>\n      <td>31 Riverside Alley, Chicago, Illinois 60018</td>\n      <td>Bachelor of Science, Uzbek State World Languag...</td>\n      <td>hmorse8a@blogspot.com</td>\n      <td>Backend Stack, Adobe Creative Suite, Jupyter, ...</td>\n      <td>Hillary Morse\\n    31 Riverside Alley, Chicago...</td>\n    </tr>\n    <tr>\n      <th>299</th>\n      <td>jkull8b</td>\n      <td>Jdavie Kull</td>\n      <td>903 Erie Point, Atlanta, Georgia 30303</td>\n      <td>Bachelor of Science, New York Instiute of Tech...</td>\n      <td>jkull8b@hugedomains.com</td>\n      <td>UX/UI Design, Snowflake, Sphinx, Tableau, Pyth...</td>\n      <td>Jdavie Kull\\n    903 Erie Point, Atlanta, Geor...</td>\n    </tr>\n  </tbody>\n</table>\n<p>300 rows × 7 columns</p>\n</div>"
     },
     "execution_count": 129,
     "metadata": {},
     "output_type": "execute_result"
    }
   ],
   "source": [
    "# Generate plaintext resume for each candidate tuple based on their other tuple attributes.\n",
    "def generate_unique_resume(row):\n",
    "    name = row['Name']\n",
    "    address = row['Address']\n",
    "    email = row['Email']\n",
    "    education = row['Education']\n",
    "    skills = row['Skills']\n",
    "    skill_list = skills.split(', ')\n",
    "    work_experience_1 = f\"Developed a {skill_list[0]}-based analytics tool that increased data processing efficiency by 25%.\"\n",
    "    work_experience_2 = f\"Led a team of 25 individuals in {skill_list[1]}-based project that increased company revenue by 5%.\"\n",
    "    work_experience_3 = f\"Coordinated a {skill_list[2]}-based study that led to the company-wide adoption of a policy improving workplace productivity by 30% daily.\"\n",
    "    resume = f\"\"\"\n",
    "    {name}\n",
    "    {address}\n",
    "    Email: {email}\n",
    "\n",
    "    Objective:\n",
    "    Dedicated professional with a {education}. Skilled in {skills}. Eager to contribute to a dynamic team and further develop my expertise.\n",
    "\n",
    "    Education:\n",
    "    {education}\n",
    "\n",
    "    Skills:\n",
    "    - {skills}\n",
    "\n",
    "    Experience:\n",
    "    - {work_experience_1}\n",
    "    - {work_experience_2}\n",
    "    - {work_experience_3}\n",
    "\n",
    "    References:\n",
    "    Available upon request.\n",
    "    \"\"\"\n",
    "    return resume.strip()\n",
    "\n",
    "candidate_df['Resume'] = candidate_df.apply(generate_unique_resume, axis=1)\n",
    "candidate_df"
   ],
   "metadata": {
    "collapsed": false,
    "ExecuteTime": {
     "end_time": "2024-03-02T05:24:51.263056Z",
     "start_time": "2024-03-02T05:24:51.251356Z"
    }
   },
   "id": "a795598a75940762",
   "execution_count": 129
  },
  {
   "cell_type": "code",
   "outputs": [
    {
     "data": {
      "text/plain": "         Username                Name  \\\n0        pashlin0      Phyllis Ashlin   \n1         arowly1       Angelle Rowly   \n2        kkumaar2          Kim Kumaar   \n3     kmalthouse3  Kakalina Malthouse   \n4          ldrew4       Lorianna Drew   \n..            ...                 ...   \n295  pduquesnay87    Pancho Duquesnay   \n296     lgaydon88      Lonnard Gaydon   \n297   dchristie89        Des Christie   \n298      hmorse8a       Hillary Morse   \n299       jkull8b         Jdavie Kull   \n\n                                               Address  \\\n0             72188 Welch Circle, Miami, Florida 33109   \n1           5227 Elka Junction, Denver, Colorado 80022   \n2          25 Magdeline Trail, Chicago, Illinois 60007   \n3             884 Donald Drive, Atlanta, Georgia 30303   \n4             688 Myrtle Terrace, Miami, Florida 33101   \n..                                                 ...   \n295  79868 Schurz Place, Los Angeles, California 90003   \n296      158 Ridge Oak Avenue, Chicago, Illinois 60018   \n297     80412 Grim Pass, Los Angeles, California 90003   \n298        31 Riverside Alley, Chicago, Illinois 60018   \n299             903 Erie Point, Atlanta, Georgia 30303   \n\n                                             Education  \\\n0      PhD in Computer Science, University of Victoria   \n1    Bachelor of Arts, Universidad Capitain General...   \n2    Bachelor of Science, Sri Padmavati Women's Uni...   \n3    Bachelor of Arts, State University of New York...   \n4            Bachelor of Science, Beni Suef University   \n..                                                 ...   \n295            Bachelor of Science, New Era University   \n296       Bachelor of Arts, Copenhagen Business School   \n297            Bachelor of Arts, Universitas Brawijaya   \n298  Bachelor of Science, Uzbek State World Languag...   \n299  Bachelor of Science, New York Instiute of Tech...   \n\n                         Email  \\\n0           pashlin0@skype.com   \n1        arowly1@hostgator.com   \n2             kkumaar2@ihg.com   \n3      kmalthouse3@comsenz.com   \n4              ldrew4@yale.edu   \n..                         ...   \n295     pduquesnay87@europa.eu   \n296          lgaydon88@php.net   \n297  dchristie89@discovery.com   \n298      hmorse8a@blogspot.com   \n299    jkull8b@hugedomains.com   \n\n                                                Skills  \\\n0    Urdu, PostgreSQL, Databases, German, Hootsuite...   \n1    Git, Julia, JavaScript, SEO/SEM, Project Manag...   \n2    SQL, Azure, Customer Support, Google Cloud Pla...   \n3    Flask, SEO/SEM, UX/UI Design, Python, Kotlin, ...   \n4    Julia, PostgreSQL, Google Cloud Platform, Vue....   \n..                                                 ...   \n295  Project Management, React, AI/ML frameworks, M...   \n296  Backend Stack, Google Cloud Platform, Scrum, K...   \n297  SQL, OOP, Adobe Creative Suite, Julia, UX/UI D...   \n298  Backend Stack, Adobe Creative Suite, Jupyter, ...   \n299  UX/UI Design, Snowflake, Sphinx, Tableau, Pyth...   \n\n                                                Resume  PastApplications  \n0    Phyllis Ashlin\\n    72188 Welch Circle, Miami,...                 7  \n1    Angelle Rowly\\n    5227 Elka Junction, Denver,...                46  \n2    Kim Kumaar\\n    25 Magdeline Trail, Chicago, I...                27  \n3    Kakalina Malthouse\\n    884 Donald Drive, Atla...                48  \n4    Lorianna Drew\\n    688 Myrtle Terrace, Miami, ...                10  \n..                                                 ...               ...  \n295  Pancho Duquesnay\\n    79868 Schurz Place, Los ...                10  \n296  Lonnard Gaydon\\n    158 Ridge Oak Avenue, Chic...                28  \n297  Des Christie\\n    80412 Grim Pass, Los Angeles...                38  \n298  Hillary Morse\\n    31 Riverside Alley, Chicago...                 7  \n299  Jdavie Kull\\n    903 Erie Point, Atlanta, Geor...                18  \n\n[300 rows x 8 columns]",
      "text/html": "<div>\n<style scoped>\n    .dataframe tbody tr th:only-of-type {\n        vertical-align: middle;\n    }\n\n    .dataframe tbody tr th {\n        vertical-align: top;\n    }\n\n    .dataframe thead th {\n        text-align: right;\n    }\n</style>\n<table border=\"1\" class=\"dataframe\">\n  <thead>\n    <tr style=\"text-align: right;\">\n      <th></th>\n      <th>Username</th>\n      <th>Name</th>\n      <th>Address</th>\n      <th>Education</th>\n      <th>Email</th>\n      <th>Skills</th>\n      <th>Resume</th>\n      <th>PastApplications</th>\n    </tr>\n  </thead>\n  <tbody>\n    <tr>\n      <th>0</th>\n      <td>pashlin0</td>\n      <td>Phyllis Ashlin</td>\n      <td>72188 Welch Circle, Miami, Florida 33109</td>\n      <td>PhD in Computer Science, University of Victoria</td>\n      <td>pashlin0@skype.com</td>\n      <td>Urdu, PostgreSQL, Databases, German, Hootsuite...</td>\n      <td>Phyllis Ashlin\\n    72188 Welch Circle, Miami,...</td>\n      <td>7</td>\n    </tr>\n    <tr>\n      <th>1</th>\n      <td>arowly1</td>\n      <td>Angelle Rowly</td>\n      <td>5227 Elka Junction, Denver, Colorado 80022</td>\n      <td>Bachelor of Arts, Universidad Capitain General...</td>\n      <td>arowly1@hostgator.com</td>\n      <td>Git, Julia, JavaScript, SEO/SEM, Project Manag...</td>\n      <td>Angelle Rowly\\n    5227 Elka Junction, Denver,...</td>\n      <td>46</td>\n    </tr>\n    <tr>\n      <th>2</th>\n      <td>kkumaar2</td>\n      <td>Kim Kumaar</td>\n      <td>25 Magdeline Trail, Chicago, Illinois 60007</td>\n      <td>Bachelor of Science, Sri Padmavati Women's Uni...</td>\n      <td>kkumaar2@ihg.com</td>\n      <td>SQL, Azure, Customer Support, Google Cloud Pla...</td>\n      <td>Kim Kumaar\\n    25 Magdeline Trail, Chicago, I...</td>\n      <td>27</td>\n    </tr>\n    <tr>\n      <th>3</th>\n      <td>kmalthouse3</td>\n      <td>Kakalina Malthouse</td>\n      <td>884 Donald Drive, Atlanta, Georgia 30303</td>\n      <td>Bachelor of Arts, State University of New York...</td>\n      <td>kmalthouse3@comsenz.com</td>\n      <td>Flask, SEO/SEM, UX/UI Design, Python, Kotlin, ...</td>\n      <td>Kakalina Malthouse\\n    884 Donald Drive, Atla...</td>\n      <td>48</td>\n    </tr>\n    <tr>\n      <th>4</th>\n      <td>ldrew4</td>\n      <td>Lorianna Drew</td>\n      <td>688 Myrtle Terrace, Miami, Florida 33101</td>\n      <td>Bachelor of Science, Beni Suef University</td>\n      <td>ldrew4@yale.edu</td>\n      <td>Julia, PostgreSQL, Google Cloud Platform, Vue....</td>\n      <td>Lorianna Drew\\n    688 Myrtle Terrace, Miami, ...</td>\n      <td>10</td>\n    </tr>\n    <tr>\n      <th>...</th>\n      <td>...</td>\n      <td>...</td>\n      <td>...</td>\n      <td>...</td>\n      <td>...</td>\n      <td>...</td>\n      <td>...</td>\n      <td>...</td>\n    </tr>\n    <tr>\n      <th>295</th>\n      <td>pduquesnay87</td>\n      <td>Pancho Duquesnay</td>\n      <td>79868 Schurz Place, Los Angeles, California 90003</td>\n      <td>Bachelor of Science, New Era University</td>\n      <td>pduquesnay87@europa.eu</td>\n      <td>Project Management, React, AI/ML frameworks, M...</td>\n      <td>Pancho Duquesnay\\n    79868 Schurz Place, Los ...</td>\n      <td>10</td>\n    </tr>\n    <tr>\n      <th>296</th>\n      <td>lgaydon88</td>\n      <td>Lonnard Gaydon</td>\n      <td>158 Ridge Oak Avenue, Chicago, Illinois 60018</td>\n      <td>Bachelor of Arts, Copenhagen Business School</td>\n      <td>lgaydon88@php.net</td>\n      <td>Backend Stack, Google Cloud Platform, Scrum, K...</td>\n      <td>Lonnard Gaydon\\n    158 Ridge Oak Avenue, Chic...</td>\n      <td>28</td>\n    </tr>\n    <tr>\n      <th>297</th>\n      <td>dchristie89</td>\n      <td>Des Christie</td>\n      <td>80412 Grim Pass, Los Angeles, California 90003</td>\n      <td>Bachelor of Arts, Universitas Brawijaya</td>\n      <td>dchristie89@discovery.com</td>\n      <td>SQL, OOP, Adobe Creative Suite, Julia, UX/UI D...</td>\n      <td>Des Christie\\n    80412 Grim Pass, Los Angeles...</td>\n      <td>38</td>\n    </tr>\n    <tr>\n      <th>298</th>\n      <td>hmorse8a</td>\n      <td>Hillary Morse</td>\n      <td>31 Riverside Alley, Chicago, Illinois 60018</td>\n      <td>Bachelor of Science, Uzbek State World Languag...</td>\n      <td>hmorse8a@blogspot.com</td>\n      <td>Backend Stack, Adobe Creative Suite, Jupyter, ...</td>\n      <td>Hillary Morse\\n    31 Riverside Alley, Chicago...</td>\n      <td>7</td>\n    </tr>\n    <tr>\n      <th>299</th>\n      <td>jkull8b</td>\n      <td>Jdavie Kull</td>\n      <td>903 Erie Point, Atlanta, Georgia 30303</td>\n      <td>Bachelor of Science, New York Instiute of Tech...</td>\n      <td>jkull8b@hugedomains.com</td>\n      <td>UX/UI Design, Snowflake, Sphinx, Tableau, Pyth...</td>\n      <td>Jdavie Kull\\n    903 Erie Point, Atlanta, Geor...</td>\n      <td>18</td>\n    </tr>\n  </tbody>\n</table>\n<p>300 rows × 8 columns</p>\n</div>"
     },
     "execution_count": 130,
     "metadata": {},
     "output_type": "execute_result"
    }
   ],
   "source": [
    "# Populate PastApplications attribute values by randomly choosing a number between 0 and 50 for each candidate\n",
    "candidate_df = candidate_df.assign(PastApplications=[random.randint(0, 50) for _ in range(len(candidate_df))])\n",
    "candidate_df"
   ],
   "metadata": {
    "collapsed": false,
    "ExecuteTime": {
     "end_time": "2024-03-02T05:25:59.642486Z",
     "start_time": "2024-03-02T05:25:59.633927Z"
    }
   },
   "id": "67d390b8831be6f5",
   "execution_count": 130
  },
  {
   "cell_type": "code",
   "outputs": [],
   "source": [
    "candidate_df.to_csv('data/Candidate.csv', index=False)"
   ],
   "metadata": {
    "collapsed": false,
    "ExecuteTime": {
     "end_time": "2024-03-02T05:26:09.853655Z",
     "start_time": "2024-03-02T05:26:09.846717Z"
    }
   },
   "id": "16467c8718910fad",
   "execution_count": 131
  },
  {
   "cell_type": "markdown",
   "source": [
    "### Job Portal\n",
    "- For each Company represented in our data, we generated a random Portal ID and Name (corresponding to the Company name)."
   ],
   "metadata": {
    "collapsed": false
   },
   "id": "7bb48c4278f22c01"
  },
  {
   "cell_type": "code",
   "outputs": [
    {
     "data": {
      "text/plain": "                      Portal_ID     Company\n0    01HQY4F1HC1XGPARVQC09JMXXB      Skinte\n1    01HQY4F1HCVSC3ECXQQ0181Z9Y   Topicware\n2    01HQY4F1HDQFA6E50X5N6AB7P7     Yakidoo\n3    01HQY4F1HDDE43MHBEJD2ZG5AB    Innotype\n4    01HQY4F1HDZAG3B5F4D146GEXR      Meeveo\n..                          ...         ...\n306  01HQY4F1KTJGBN9QB2FVECCD3F      Tekfly\n307  01HQY4F1KTTVY1YM1ZAMPGP66N        Mita\n308  01HQY4F1KTD55SYC08WZ3410WP  Browseblab\n309  01HQY4F1KTGG0WCW2SH8FCMM4G      Podcat\n310  01HQY4F1KVW1FK5ACZ1DCRFFYG      Wikido\n\n[311 rows x 2 columns]",
      "text/html": "<div>\n<style scoped>\n    .dataframe tbody tr th:only-of-type {\n        vertical-align: middle;\n    }\n\n    .dataframe tbody tr th {\n        vertical-align: top;\n    }\n\n    .dataframe thead th {\n        text-align: right;\n    }\n</style>\n<table border=\"1\" class=\"dataframe\">\n  <thead>\n    <tr style=\"text-align: right;\">\n      <th></th>\n      <th>Portal_ID</th>\n      <th>Company</th>\n    </tr>\n  </thead>\n  <tbody>\n    <tr>\n      <th>0</th>\n      <td>01HQY4F1HC1XGPARVQC09JMXXB</td>\n      <td>Skinte</td>\n    </tr>\n    <tr>\n      <th>1</th>\n      <td>01HQY4F1HCVSC3ECXQQ0181Z9Y</td>\n      <td>Topicware</td>\n    </tr>\n    <tr>\n      <th>2</th>\n      <td>01HQY4F1HDQFA6E50X5N6AB7P7</td>\n      <td>Yakidoo</td>\n    </tr>\n    <tr>\n      <th>3</th>\n      <td>01HQY4F1HDDE43MHBEJD2ZG5AB</td>\n      <td>Innotype</td>\n    </tr>\n    <tr>\n      <th>4</th>\n      <td>01HQY4F1HDZAG3B5F4D146GEXR</td>\n      <td>Meeveo</td>\n    </tr>\n    <tr>\n      <th>...</th>\n      <td>...</td>\n      <td>...</td>\n    </tr>\n    <tr>\n      <th>306</th>\n      <td>01HQY4F1KTJGBN9QB2FVECCD3F</td>\n      <td>Tekfly</td>\n    </tr>\n    <tr>\n      <th>307</th>\n      <td>01HQY4F1KTTVY1YM1ZAMPGP66N</td>\n      <td>Mita</td>\n    </tr>\n    <tr>\n      <th>308</th>\n      <td>01HQY4F1KTD55SYC08WZ3410WP</td>\n      <td>Browseblab</td>\n    </tr>\n    <tr>\n      <th>309</th>\n      <td>01HQY4F1KTGG0WCW2SH8FCMM4G</td>\n      <td>Podcat</td>\n    </tr>\n    <tr>\n      <th>310</th>\n      <td>01HQY4F1KVW1FK5ACZ1DCRFFYG</td>\n      <td>Wikido</td>\n    </tr>\n  </tbody>\n</table>\n<p>311 rows × 2 columns</p>\n</div>"
     },
     "execution_count": 72,
     "metadata": {},
     "output_type": "execute_result"
    }
   ],
   "source": [
    "portal_df = pd.read_csv('data/Mockaroo/Mockaroo-Job_Portal.csv')\n",
    "portal_df"
   ],
   "metadata": {
    "collapsed": false,
    "ExecuteTime": {
     "end_time": "2024-03-01T23:10:26.426460Z",
     "start_time": "2024-03-01T23:10:26.419579Z"
    }
   },
   "id": "42d12b2cefb12cb7",
   "execution_count": 72
  },
  {
   "cell_type": "code",
   "outputs": [
    {
     "data": {
      "text/plain": "                      Portal_ID           Company\n0    01HQY4F1HC1XGPARVQC09JMXXB             Hudl \n1    01HQY4F1HCVSC3ECXQQ0181Z9Y         Alarm.com\n2    01HQY4F1HDQFA6E50X5N6AB7P7            Forbes\n3    01HQY4F1HDDE43MHBEJD2ZG5AB      Konrad Group\n4    01HQY4F1HDZAG3B5F4D146GEXR  Ascend Analytics\n..                          ...               ...\n306  01HQY4F1KTJGBN9QB2FVECCD3F            Zynga \n307  01HQY4F1KTTVY1YM1ZAMPGP66N          Workato \n308  01HQY4F1KTD55SYC08WZ3410WP              Wisk\n309  01HQY4F1KTGG0WCW2SH8FCMM4G         Moveworks\n310  01HQY4F1KVW1FK5ACZ1DCRFFYG            PlusAI\n\n[311 rows x 2 columns]",
      "text/html": "<div>\n<style scoped>\n    .dataframe tbody tr th:only-of-type {\n        vertical-align: middle;\n    }\n\n    .dataframe tbody tr th {\n        vertical-align: top;\n    }\n\n    .dataframe thead th {\n        text-align: right;\n    }\n</style>\n<table border=\"1\" class=\"dataframe\">\n  <thead>\n    <tr style=\"text-align: right;\">\n      <th></th>\n      <th>Portal_ID</th>\n      <th>Company</th>\n    </tr>\n  </thead>\n  <tbody>\n    <tr>\n      <th>0</th>\n      <td>01HQY4F1HC1XGPARVQC09JMXXB</td>\n      <td>Hudl</td>\n    </tr>\n    <tr>\n      <th>1</th>\n      <td>01HQY4F1HCVSC3ECXQQ0181Z9Y</td>\n      <td>Alarm.com</td>\n    </tr>\n    <tr>\n      <th>2</th>\n      <td>01HQY4F1HDQFA6E50X5N6AB7P7</td>\n      <td>Forbes</td>\n    </tr>\n    <tr>\n      <th>3</th>\n      <td>01HQY4F1HDDE43MHBEJD2ZG5AB</td>\n      <td>Konrad Group</td>\n    </tr>\n    <tr>\n      <th>4</th>\n      <td>01HQY4F1HDZAG3B5F4D146GEXR</td>\n      <td>Ascend Analytics</td>\n    </tr>\n    <tr>\n      <th>...</th>\n      <td>...</td>\n      <td>...</td>\n    </tr>\n    <tr>\n      <th>306</th>\n      <td>01HQY4F1KTJGBN9QB2FVECCD3F</td>\n      <td>Zynga</td>\n    </tr>\n    <tr>\n      <th>307</th>\n      <td>01HQY4F1KTTVY1YM1ZAMPGP66N</td>\n      <td>Workato</td>\n    </tr>\n    <tr>\n      <th>308</th>\n      <td>01HQY4F1KTD55SYC08WZ3410WP</td>\n      <td>Wisk</td>\n    </tr>\n    <tr>\n      <th>309</th>\n      <td>01HQY4F1KTGG0WCW2SH8FCMM4G</td>\n      <td>Moveworks</td>\n    </tr>\n    <tr>\n      <th>310</th>\n      <td>01HQY4F1KVW1FK5ACZ1DCRFFYG</td>\n      <td>PlusAI</td>\n    </tr>\n  </tbody>\n</table>\n<p>311 rows × 2 columns</p>\n</div>"
     },
     "execution_count": 74,
     "metadata": {},
     "output_type": "execute_result"
    }
   ],
   "source": [
    "portal_df['Company'] = all_company_names\n",
    "portal_df"
   ],
   "metadata": {
    "collapsed": false,
    "ExecuteTime": {
     "end_time": "2024-03-01T23:12:04.149353Z",
     "start_time": "2024-03-01T23:12:04.142539Z"
    }
   },
   "id": "7f1223f34e585ca1",
   "execution_count": 74
  },
  {
   "cell_type": "code",
   "outputs": [],
   "source": [
    "portal_df.to_csv('data/Job_Portal.csv', index=False)"
   ],
   "metadata": {
    "collapsed": false,
    "ExecuteTime": {
     "end_time": "2024-03-02T01:00:42.362937Z",
     "start_time": "2024-03-02T01:00:42.359028Z"
    }
   },
   "id": "287e1116e4b84b60",
   "execution_count": 92
  },
  {
   "cell_type": "markdown",
   "source": [
    "### Review"
   ],
   "metadata": {
    "collapsed": false
   },
   "id": "dfed14da682bf298"
  },
  {
   "cell_type": "code",
   "outputs": [
    {
     "data": {
      "text/plain": "                     Review_ID\n0   01HQY51HEE22CQ4TP0V5FF2Y08\n1   01HQY51HEFV66CSX0SEKRBYREM\n2   01HQY51HEF7X8GYJPYRWSD4NKY\n3   01HQY51HEFNC331TMCZ1AYQS05\n4   01HQY51HEF7KSK0NPDCVH0YXZX\n5   01HQY51HEGMR0D46GTWPF8BX9B\n6   01HQY51HEGKST6END3KV094C6W\n7   01HQY51HEG9Z3NB6NB31YVRRBC\n8   01HQY51HEGFCFBX8GEV5W74Z8D\n9   01HQY51HEHB5JKXTAZ0YYFF1R4\n10  01HQY51HEH8MC9GGP4ZJ4XSRQG\n11  01HQY51HEH2P2RXGQG8MES4GQB\n12  01HQY51HEHYF3AGPB7E9V8CQ4Z\n13  01HQY51HEHPFZ5V8ZZG8RMS2S6\n14  01HQY51HEJCDMR7QSQG5GGT1KR\n15  01HQY51HEJH0FFDN5J9ZKACWHX\n16  01HQY51HEJFJEVMFJATFHHGQJD\n17  01HQY51HEKH191BNN19VDR7Y2M\n18  01HQY51HEKYJ83707V5TTXG742\n19  01HQY51HEMMDYVWS2GP30YFKW1\n20  01HQY51HEMRJZV7240858D378W\n21  01HQY51HENTT0TQMV4CD7WV5WB\n22  01HQY51HENYRM1N97X3H871BB8\n23  01HQY51HENPTV0YPXXYZHK3HE1\n24  01HQY51HEPM0V0NNWC6FEY80R7\n25  01HQY51HEPNMHN96D1C2H36J5H\n26  01HQY51HEPKZRDTA9HSGEBBD7D\n27  01HQY51HEPN7DP4Q580YND1HXB\n28  01HQY51HEP32GJFD6S6PH4PC0T\n29  01HQY51HEQFYV08QSB2V020FZV\n30  01HQY51HEQX605HS7AFTHF6TWG\n31  01HQY51HERHZ3A99GW63ZGNV74\n32  01HQY51HER8N58N8VFQANETRAF\n33  01HQY51HER4FPG661H5BAV1VK7\n34  01HQY51HESEC88MTZ2EEXHXJ9F\n35  01HQY51HES690GSEHQXWTB6TAJ\n36  01HQY51HESCFDQNAV3MFRFE4TJ\n37  01HQY51HES98RJAZ4FX6HTD13K\n38  01HQY51HETKQFMC0RAHWDEAW7N\n39  01HQY51HETMNPKXH41GWHVNDFJ\n40  01HQY51HETHD7DRSXMP8S5P92Z\n41  01HQY51HEVCAWQ4G4NBD87DRR0\n42  01HQY51HEV2NW11GJN7FBH0GGV\n43  01HQY51HEV3NWRRYF2GDEEEVR9\n44  01HQY51HEVYM0CNC9J58PQ5YJV\n45  01HQY51HEWHH6XK81D9BB79RB5\n46  01HQY51HEW253RJGBJT248ZZEJ\n47  01HQY51HEW4T14ZS9H39TQJWG4\n48  01HQY51HEXQXKPHCM4A4F3S963\n49  01HQY51HEYCF72DRBB8P92XBG3",
      "text/html": "<div>\n<style scoped>\n    .dataframe tbody tr th:only-of-type {\n        vertical-align: middle;\n    }\n\n    .dataframe tbody tr th {\n        vertical-align: top;\n    }\n\n    .dataframe thead th {\n        text-align: right;\n    }\n</style>\n<table border=\"1\" class=\"dataframe\">\n  <thead>\n    <tr style=\"text-align: right;\">\n      <th></th>\n      <th>Review_ID</th>\n    </tr>\n  </thead>\n  <tbody>\n    <tr>\n      <th>0</th>\n      <td>01HQY51HEE22CQ4TP0V5FF2Y08</td>\n    </tr>\n    <tr>\n      <th>1</th>\n      <td>01HQY51HEFV66CSX0SEKRBYREM</td>\n    </tr>\n    <tr>\n      <th>2</th>\n      <td>01HQY51HEF7X8GYJPYRWSD4NKY</td>\n    </tr>\n    <tr>\n      <th>3</th>\n      <td>01HQY51HEFNC331TMCZ1AYQS05</td>\n    </tr>\n    <tr>\n      <th>4</th>\n      <td>01HQY51HEF7KSK0NPDCVH0YXZX</td>\n    </tr>\n    <tr>\n      <th>5</th>\n      <td>01HQY51HEGMR0D46GTWPF8BX9B</td>\n    </tr>\n    <tr>\n      <th>6</th>\n      <td>01HQY51HEGKST6END3KV094C6W</td>\n    </tr>\n    <tr>\n      <th>7</th>\n      <td>01HQY51HEG9Z3NB6NB31YVRRBC</td>\n    </tr>\n    <tr>\n      <th>8</th>\n      <td>01HQY51HEGFCFBX8GEV5W74Z8D</td>\n    </tr>\n    <tr>\n      <th>9</th>\n      <td>01HQY51HEHB5JKXTAZ0YYFF1R4</td>\n    </tr>\n    <tr>\n      <th>10</th>\n      <td>01HQY51HEH8MC9GGP4ZJ4XSRQG</td>\n    </tr>\n    <tr>\n      <th>11</th>\n      <td>01HQY51HEH2P2RXGQG8MES4GQB</td>\n    </tr>\n    <tr>\n      <th>12</th>\n      <td>01HQY51HEHYF3AGPB7E9V8CQ4Z</td>\n    </tr>\n    <tr>\n      <th>13</th>\n      <td>01HQY51HEHPFZ5V8ZZG8RMS2S6</td>\n    </tr>\n    <tr>\n      <th>14</th>\n      <td>01HQY51HEJCDMR7QSQG5GGT1KR</td>\n    </tr>\n    <tr>\n      <th>15</th>\n      <td>01HQY51HEJH0FFDN5J9ZKACWHX</td>\n    </tr>\n    <tr>\n      <th>16</th>\n      <td>01HQY51HEJFJEVMFJATFHHGQJD</td>\n    </tr>\n    <tr>\n      <th>17</th>\n      <td>01HQY51HEKH191BNN19VDR7Y2M</td>\n    </tr>\n    <tr>\n      <th>18</th>\n      <td>01HQY51HEKYJ83707V5TTXG742</td>\n    </tr>\n    <tr>\n      <th>19</th>\n      <td>01HQY51HEMMDYVWS2GP30YFKW1</td>\n    </tr>\n    <tr>\n      <th>20</th>\n      <td>01HQY51HEMRJZV7240858D378W</td>\n    </tr>\n    <tr>\n      <th>21</th>\n      <td>01HQY51HENTT0TQMV4CD7WV5WB</td>\n    </tr>\n    <tr>\n      <th>22</th>\n      <td>01HQY51HENYRM1N97X3H871BB8</td>\n    </tr>\n    <tr>\n      <th>23</th>\n      <td>01HQY51HENPTV0YPXXYZHK3HE1</td>\n    </tr>\n    <tr>\n      <th>24</th>\n      <td>01HQY51HEPM0V0NNWC6FEY80R7</td>\n    </tr>\n    <tr>\n      <th>25</th>\n      <td>01HQY51HEPNMHN96D1C2H36J5H</td>\n    </tr>\n    <tr>\n      <th>26</th>\n      <td>01HQY51HEPKZRDTA9HSGEBBD7D</td>\n    </tr>\n    <tr>\n      <th>27</th>\n      <td>01HQY51HEPN7DP4Q580YND1HXB</td>\n    </tr>\n    <tr>\n      <th>28</th>\n      <td>01HQY51HEP32GJFD6S6PH4PC0T</td>\n    </tr>\n    <tr>\n      <th>29</th>\n      <td>01HQY51HEQFYV08QSB2V020FZV</td>\n    </tr>\n    <tr>\n      <th>30</th>\n      <td>01HQY51HEQX605HS7AFTHF6TWG</td>\n    </tr>\n    <tr>\n      <th>31</th>\n      <td>01HQY51HERHZ3A99GW63ZGNV74</td>\n    </tr>\n    <tr>\n      <th>32</th>\n      <td>01HQY51HER8N58N8VFQANETRAF</td>\n    </tr>\n    <tr>\n      <th>33</th>\n      <td>01HQY51HER4FPG661H5BAV1VK7</td>\n    </tr>\n    <tr>\n      <th>34</th>\n      <td>01HQY51HESEC88MTZ2EEXHXJ9F</td>\n    </tr>\n    <tr>\n      <th>35</th>\n      <td>01HQY51HES690GSEHQXWTB6TAJ</td>\n    </tr>\n    <tr>\n      <th>36</th>\n      <td>01HQY51HESCFDQNAV3MFRFE4TJ</td>\n    </tr>\n    <tr>\n      <th>37</th>\n      <td>01HQY51HES98RJAZ4FX6HTD13K</td>\n    </tr>\n    <tr>\n      <th>38</th>\n      <td>01HQY51HETKQFMC0RAHWDEAW7N</td>\n    </tr>\n    <tr>\n      <th>39</th>\n      <td>01HQY51HETMNPKXH41GWHVNDFJ</td>\n    </tr>\n    <tr>\n      <th>40</th>\n      <td>01HQY51HETHD7DRSXMP8S5P92Z</td>\n    </tr>\n    <tr>\n      <th>41</th>\n      <td>01HQY51HEVCAWQ4G4NBD87DRR0</td>\n    </tr>\n    <tr>\n      <th>42</th>\n      <td>01HQY51HEV2NW11GJN7FBH0GGV</td>\n    </tr>\n    <tr>\n      <th>43</th>\n      <td>01HQY51HEV3NWRRYF2GDEEEVR9</td>\n    </tr>\n    <tr>\n      <th>44</th>\n      <td>01HQY51HEVYM0CNC9J58PQ5YJV</td>\n    </tr>\n    <tr>\n      <th>45</th>\n      <td>01HQY51HEWHH6XK81D9BB79RB5</td>\n    </tr>\n    <tr>\n      <th>46</th>\n      <td>01HQY51HEW253RJGBJT248ZZEJ</td>\n    </tr>\n    <tr>\n      <th>47</th>\n      <td>01HQY51HEW4T14ZS9H39TQJWG4</td>\n    </tr>\n    <tr>\n      <th>48</th>\n      <td>01HQY51HEXQXKPHCM4A4F3S963</td>\n    </tr>\n    <tr>\n      <th>49</th>\n      <td>01HQY51HEYCF72DRBB8P92XBG3</td>\n    </tr>\n  </tbody>\n</table>\n</div>"
     },
     "execution_count": 116,
     "metadata": {},
     "output_type": "execute_result"
    }
   ],
   "source": [
    "review_mock_df = pd.read_csv('data/Mockaroo/Mockaroo-Review.csv')\n",
    "review_mock_df"
   ],
   "metadata": {
    "collapsed": false,
    "ExecuteTime": {
     "end_time": "2024-03-02T01:23:47.818519Z",
     "start_time": "2024-03-02T01:23:47.811765Z"
    }
   },
   "id": "6bee203cc920b1a6",
   "execution_count": 116
  },
  {
   "cell_type": "code",
   "outputs": [],
   "source": [
    "# Generate 50 sample Employee Reviews using ChatGPT.\n",
    "prompt = \"Generate 50 fictional reviews that are 100-300 words in length written by fictional employees (don't mention their names or any identifiers) for mock data for a platform where employees can post about their experience working at a company. If you want to mention the company name in some of them, just write COMPANY.\"\n",
    "\n",
    "employee_reviews = [\n",
    "    \"Working at COMPANY has been a transformative experience. The supportive team and innovative culture have contributed significantly to my professional growth.\",\n",
    "    \"I've been with COMPANY for two years, and it's been a fantastic journey. The work-life balance and management's care for employee well-being are commendable.\",\n",
    "    \"COMPANY has a dynamic environment that keeps you on your toes. The collaborative atmosphere and supportive colleagues make it a great place to work.\",\n",
    "    \"As a recent graduate, COMPANY provided a great start to my career. The mentorship program and exposure to cutting-edge technologies have been invaluable.\",\n",
    "    \"The diversity and inclusion efforts at COMPANY are commendable. It's refreshing to work in an environment where everyone's ideas are valued.\",\n",
    "    \"I've been with COMPANY for over five years, and it's been rewarding. The company's clear vision and the leadership team's transparency have created a collaborative work environment.\",\n",
    "    \"COMPANY offers a unique blend of creativity and technical challenges. Working on a variety of projects has pushed the boundaries of my skills.\",\n",
    "    \"One thing I appreciate about COMPANY is the focus on employee development. The ample training programs and workshops have helped me enhance my skills.\",\n",
    "    \"The work culture at COMPANY is unlike any other I've experienced. The emphasis on teamwork and collective success has fostered a supportive atmosphere.\",\n",
    "    \"COMPANY is a place where innovation thrives. The entrepreneurial spirit is encouraged, and employees are empowered to take ownership of their projects.\",\n",
    "    \"I've been part of the COMPANY team for three years, and it's been fulfilling. The company values hard work and dedication, which is reflected in how employees are treated.\",\n",
    "    \"The sense of community at COMPANY is strong. Regular team-building events and social activities have helped build a tight-knit and friendly work environment.\",\n",
    "    \"Working at COMPANY has been an eye-opening experience. Being part of the company's journey in industry innovations has been incredibly rewarding.\",\n",
    "    \"The commitment to sustainability and social responsibility at COMPANY is impressive. Working for a company that focuses on making a positive impact is inspiring.\",\n",
    "    \"COMPANY has a vibrant work environment. The open office layout and modern amenities foster creativity and collaboration.\",\n",
    "    \"I've had the pleasure of working at COMPANY for four years, and it's been remarkable. The company's growth mindset and focus on innovation have opened up numerous opportunities.\",\n",
    "    \"The leadership team at COMPANY is exceptional. They lead by example and are always available to provide guidance and support.\",\n",
    "    \"COMPANY's approach to problem-solving and project management is top-notch. The emphasis on data-driven decisions has led to the successful execution of complex projects.\",\n",
    "    \"As a software engineer at COMPANY, I've worked with a talented team on cutting-edge projects. The company's commitment to using the latest technologies has allowed me to grow my technical skills.\",\n",
    "    \"The inclusive culture at COMPANY has made it a wonderful place to work. The company celebrates diversity and fosters an environment where everyone feels welcome.\",\n",
    "    \"COMPANY's focus on customer satisfaction is evident in everything we do. It's rewarding to be part of a team that prioritizes delivering high-quality products and services.\",\n",
    "    \"While COMPANY has provided some growth opportunities, I've found the pace of career advancement to be slower than expected. More clarity on promotion paths would be helpful.\",\n",
    "    \"The work at COMPANY can be quite demanding, with tight deadlines and high expectations. A better balance between challenging projects and manageable workloads would be appreciated.\",\n",
    "    \"While COMPANY has a strong focus on innovation, I've noticed a resistance to change in some departments. Encouraging more openness to new ideas could enhance our adaptability.\",\n",
    "    \"I've experienced some communication issues at COMPANY, where important information is not always shared promptly. Improving internal communication channels could increase efficiency.\",\n",
    "    \"Working at COMPANY has been an average experience. The work is routine, and there's little room for creativity or innovation.\",\n",
    "    \"I've been with COMPANY for a year now, and it's been underwhelming. The lack of clear direction and communication from management is frustrating.\",\n",
    "    \"COMPANY's work environment is quite stressful. The constant pressure to meet unrealistic deadlines has taken a toll on my work-life balance.\",\n",
    "    \"As an employee at COMPANY, I've found the opportunities for career advancement to be limited. It's disheartening to see little recognition for hard work.\",\n",
    "    \"The company culture at COMPANY is not as inclusive as I had hoped. There's a noticeable lack of diversity in leadership positions.\",\n",
    "    \"I've experienced a lack of support from my team at COMPANY. Collaboration is rare, and it often feels like everyone is working in silos.\",\n",
    "    \"The workload at COMPANY is overwhelming. There's an expectation to be available 24/7, which is unsustainable in the long term.\",\n",
    "    \"I've noticed a high turnover rate at COMPANY, which is concerning. It seems like many talented individuals are leaving due to dissatisfaction.\",\n",
    "    \"The training and development opportunities at COMPANY are inadequate. There's a clear need for more investment in employee growth.\",\n",
    "    \"The office politics at COMPANY can be draining. It often feels like progress is more about who you know rather than what you know.\",\n",
    "    \"I've found the feedback culture at COMPANY to be lacking. Constructive criticism is rare, and it's challenging to know where you stand.\",\n",
    "    \"The benefits package at COMPANY is subpar. It's disappointing to see minimal effort put into employee well-being and perks.\",\n",
    "    \"I've encountered a lack of transparency at COMPANY. Decisions are made behind closed doors, leaving employees in the dark.\",\n",
    "    \"The innovation at COMPANY is stagnant. There's a resistance to new ideas, which hinders growth and progress.\",\n",
    "    \"I've felt undervalued at COMPANY. Despite putting in extra effort, there's little acknowledgment or reward.\",\n",
    "    \"The work-life balance at COMPANY is non-existent. The expectation to prioritize work over personal life is unreasonable.\",\n",
    "    \"I've noticed a lack of ethical practices at COMPANY. There are instances where profits are prioritized over integrity.\",\n",
    "    \"The communication at COMPANY is poor. Important information is often not disseminated effectively, leading to confusion and errors.\",\n",
    "    \"I've experienced a toxic work environment at COMPANY. There's a culture of blame and negativity that's demoralizing.\",\n",
    "    \"The leadership at COMPANY is disconnected from the employees. There's a lack of understanding of the challenges faced by the team.\",\n",
    "    \"I've observed a lack of accountability at COMPANY. When things go wrong, there's a tendency to pass the buck rather than address the issue.\",\n",
    "    \"The focus on short-term gains at COMPANY is frustrating. There's a lack of long-term vision and planning.\",\n",
    "    \"I've found the performance evaluation process at COMPANY to be unfair. It seems biased and doesn't accurately reflect contributions.\",\n",
    "    \"The work environment at COMPANY is uninspiring. The office is outdated, and there's a lack of resources to do our best work.\",\n",
    "    \"I've felt isolated at COMPANY. There's a lack of camaraderie and team spirit, which makes it a lonely place to work.\"\n",
    "]"
   ],
   "metadata": {
    "collapsed": false,
    "ExecuteTime": {
     "end_time": "2024-03-02T01:23:48.270330Z",
     "start_time": "2024-03-02T01:23:48.265670Z"
    }
   },
   "id": "65f8348474bf9868",
   "execution_count": 117
  },
  {
   "cell_type": "code",
   "outputs": [],
   "source": [
    "# Generate 50 sample Candidate Reviews using ChatGPT. \n",
    "prompt = \"Generate 50 fictional reviews that are 100-300 words in length written by fictional job candidates (don't mention their names or any identifiers) for mock data for a platform where job candidates can post about their experience interviewing at a company. If you want to mention the company name in some of them, just write COMPANY.\"\n",
    "\n",
    "interview_reviews = [\n",
    "    \"The interview process at COMPANY was well-organized and professional. The recruiters were communicative and provided clear instructions at each step.\",\n",
    "    \"I had a positive experience interviewing with COMPANY. The interviewers were friendly and asked relevant questions that allowed me to showcase my skills.\",\n",
    "    \"My interview at COMPANY was a bit intimidating. The questions were challenging, and I felt underprepared for some of the technical aspects.\",\n",
    "    \"COMPANY's interview process was thorough and fair. I appreciated the opportunity to meet with multiple team members and get a sense of the company culture.\",\n",
    "    \"I found the interview experience at COMPANY to be quite stressful. The expectations were not clearly communicated, and the process felt disorganized.\",\n",
    "    \"Interviewing with COMPANY was a great learning experience. The feedback provided after the interview was constructive and helpful for my future interviews.\",\n",
    "    \"The interview process at COMPANY felt very impersonal. It was difficult to connect with the interviewers, and I left feeling unsure about the company.\",\n",
    "    \"I was impressed by the efficiency of COMPANY's interview process. The use of practical assessments gave me a good idea of what working there would be like.\",\n",
    "    \"My interview experience at COMPANY was mixed. While the initial stages were smooth, the final round felt rushed and left me with unanswered questions.\",\n",
    "    \"I appreciated the transparency of COMPANY's interview process. The clear communication of expectations and timelines made the experience less stressful.\",\n",
    "    \"The interview at COMPANY was challenging but fair. The questions tested my problem-solving skills and ability to think on my feet.\",\n",
    "    \"I found the interviewers at COMPANY to be very approachable and knowledgeable. They made the interview feel more like a conversation than an interrogation.\",\n",
    "    \"The virtual interview process with COMPANY had some technical difficulties, which was frustrating. However, the interviewers were understanding and accommodating.\",\n",
    "    \"Interviewing at COMPANY was an eye-opening experience. The focus on cultural fit and values alignment was refreshing and made me more interested in the company.\",\n",
    "    \"I felt that the interview process at COMPANY lacked diversity. The panel did not seem representative of the company's stated commitment to inclusivity.\",\n",
    "    \"The interview experience at COMPANY was enjoyable. The relaxed atmosphere and engaging questions made me feel comfortable and confident.\",\n",
    "    \"I was disappointed by the lack of feedback after my interview with COMPANY. It would have been helpful to know where I could improve for future opportunities.\",\n",
    "    \"The interview process at COMPANY was lengthy but worthwhile. Each stage was designed to assess different skills, which I found to be a comprehensive approach.\",\n",
    "    \"I was surprised by the informal nature of the interview at COMPANY. While it was a pleasant experience, I was unsure of how to gauge my performance.\",\n",
    "    \"The interviewers at COMPANY were very professional and provided clear explanations of the role and expectations. I left the interview with a positive impression of the company.\",\n",
    "    \"I found the interview process at COMPANY to be somewhat disorganized. The scheduling was inconsistent, and there was a lack of communication between stages.\",\n",
    "    \"Interviewing with COMPANY was a confidence-boosting experience. The positive reinforcement and constructive feedback from the interviewers were encouraging.\",\n",
    "    \"The group interview at COMPANY was a unique experience. It was interesting to see how different candidates approached the same problems.\",\n",
    "    \"I appreciated the focus on work-life balance during my interview with COMPANY. The questions about managing stress and maintaining productivity were insightful.\",\n",
    "    \"The interview process at COMPANY was intense. The technical assessments were challenging, and I had to thoroughly prepare to meet their high standards.\",\n",
    "    \"The interview process at COMPANY was average. It was a standard procedure with no standout moments or particularly engaging interactions.\",\n",
    "    \"I found the interview at COMPANY to be disorganized. The interviewers seemed unprepared, and there were scheduling mix-ups.\",\n",
    "    \"My experience interviewing with COMPANY was stressful. The interviewers were cold, and the atmosphere was intimidating.\",\n",
    "    \"The interview at COMPANY felt one-sided. It was more of an interrogation than a conversation, and I didn't get a chance to ask questions.\",\n",
    "    \"I was unimpressed with the interview process at COMPANY. It lacked structure, and there was no clear explanation of the next steps.\",\n",
    "    \"The interviewers at COMPANY seemed disinterested. It felt like they had already made up their minds, which was discouraging.\",\n",
    "    \"I had a negative experience interviewing at COMPANY. The questions were irrelevant to the role, and the process felt rushed.\",\n",
    "    \"The virtual interview with COMPANY had technical issues. It was frustrating, and the interviewers didn't handle it well.\",\n",
    "    \"I felt unwelcome during my interview at COMPANY. The interviewers were dismissive, and there was a lack of warmth or friendliness.\",\n",
    "    \"The interview process at COMPANY was excessively long. It dragged on with too many rounds, which felt unnecessary.\",\n",
    "    \"I left the interview at COMPANY feeling uncertain. There was a lack of clarity about the role and the company's expectations.\",\n",
    "    \"The feedback after my interview with COMPANY was vague. It didn't provide any useful insights or areas for improvement.\",\n",
    "    \"I found the interviewers at COMPANY to be arrogant. They talked down to me, which was off-putting and unprofessional.\",\n",
    "    \"The interview at COMPANY lacked diversity. All the interviewers were from similar backgrounds, which raised concerns about inclusivity.\",\n",
    "    \"My interview experience at COMPANY was forgettable. It was a standard process with nothing that made the company stand out.\",\n",
    "    \"I felt rushed during my interview at COMPANY. The interviewers seemed like they were in a hurry, which made it hard to connect.\",\n",
    "    \"The questions asked during the interview at COMPANY were generic. They didn't allow me to showcase my unique skills or experiences.\",\n",
    "    \"I was disappointed by the lack of follow-up after my interview with COMPANY. I had to reach out multiple times to get any response.\",\n",
    "    \"The interviewers at COMPANY seemed distracted. It was as if they had more important things to do, which was disheartening.\",\n",
    "    \"I had a negative impression of COMPANY after the interview. The company culture seemed rigid and unwelcoming.\",\n",
    "    \"The interview process at COMPANY felt impersonal. It was hard to get a sense of the company's values or what it would be like to work there.\",\n",
    "    \"I was put off by the aggressive questioning during my interview at COMPANY. It felt more like an interrogation than an opportunity to discuss my qualifications.\",\n",
    "    \"The lack of enthusiasm from the interviewers at COMPANY was noticeable. It made me question whether I would want to work in such an environment.\",\n",
    "    \"I found the interview at COMPANY to be uninspiring. The questions were predictable, and there was no opportunity for meaningful dialogue.\",\n",
    "    \"My interview experience at COMPANY was disappointing. The overall vibe was cold, and it didn't leave me with a positive impression of the company.\"\n",
    "]"
   ],
   "metadata": {
    "collapsed": false,
    "ExecuteTime": {
     "end_time": "2024-03-02T01:23:48.795759Z",
     "start_time": "2024-03-02T01:23:48.791476Z"
    }
   },
   "id": "497c50fd1e2f8100",
   "execution_count": 118
  },
  {
   "cell_type": "code",
   "outputs": [],
   "source": [
    "# Impute a real, random company name wherever COMPANY appears in a Review\n",
    "def replace_company_name_review(review_1, review_2):\n",
    "    company_name = random.choice(all_company_names).strip(' ')\n",
    "    review_1 = review_1.replace('COMPANY', company_name)\n",
    "    review_2 = review_2.replace('COMPANY', company_name)\n",
    "    return review_1, review_2\n",
    "\n",
    "for i in range(len(employee_reviews)):\n",
    "    review_1 = employee_reviews[i]\n",
    "    review_2 = interview_reviews[i]\n",
    "    review_1, review_2 = replace_company_name_review(review_1, review_2)\n",
    "    employee_reviews[i] = review_1\n",
    "    interview_reviews[i] = review_2"
   ],
   "metadata": {
    "collapsed": false,
    "ExecuteTime": {
     "end_time": "2024-03-02T01:23:49.533923Z",
     "start_time": "2024-03-02T01:23:49.530728Z"
    }
   },
   "id": "bb6a92be8b9d5c46",
   "execution_count": 119
  },
  {
   "cell_type": "code",
   "outputs": [
    {
     "data": {
      "text/plain": "                                   Interview_Feedback  \\\n0   The interview process at Intel was well-organi...   \n1   I had a positive experience interviewing with ...   \n2   My interview at Chamberlain Group was a bit in...   \n3   Similarweb's interview process was thorough an...   \n4   I found the interview experience at Exiger to ...   \n5   Interviewing with Western Digital was a great ...   \n6   The interview process at Rockwell Automation f...   \n7   I was impressed by the efficiency of Edward Da...   \n8   My interview experience at Canonical was mixed...   \n9   I appreciated the transparency of Episode Six'...   \n10  The interview at Tegus was challenging but fai...   \n11  I found the interviewers at Arsiem Corporation...   \n12  The virtual interview process with Caldera had...   \n13  Interviewing at Alarm.com was an eye-opening e...   \n14  I felt that the interview process at Interacti...   \n15  The interview experience at Pinterest was enjo...   \n16  I was disappointed by the lack of feedback aft...   \n17  The interview process at Jerry was lengthy but...   \n18  I was surprised by the informal nature of the ...   \n19  The interviewers at Old Mission were very prof...   \n20  I found the interview process at OptionMetrics...   \n21  Interviewing with Elevance Health was a confid...   \n22  The group interview at Raptor Maps was a uniqu...   \n23  I appreciated the focus on work-life balance d...   \n24  The interview process at Harbinger Motors was ...   \n25  The interview process at Skyways was average. ...   \n26  I found the interview at PlusAI to be disorgan...   \n27  My experience interviewing with Cohere Health ...   \n28  The interview at Osmo felt one-sided. It was m...   \n29  I was unimpressed with the interview process a...   \n30  The interviewers at Exiger seemed disintereste...   \n31  I had a negative experience interviewing at Sp...   \n32  The virtual interview with FreedomPay had tech...   \n33  I felt unwelcome during my interview at Weiss ...   \n34  The interview process at Navan (fka TripAction...   \n35  I left the interview at WeRide feeling uncerta...   \n36  The feedback after my interview with Tinder wa...   \n37  I found the interviewers at Tinder to be arrog...   \n38  The interview at Lacework lacked diversity. Al...   \n39  My interview experience at Altera Digital Heal...   \n40  I felt rushed during my interview at Voya Fina...   \n41  The questions asked during the interview at Sp...   \n42  I was disappointed by the lack of follow-up af...   \n43  The interviewers at Western Digital seemed dis...   \n44  I had a negative impression of Arsiem Corporat...   \n45  The interview process at Skyways felt imperson...   \n46  I was put off by the aggressive questioning du...   \n47  The lack of enthusiasm from the interviewers a...   \n48  I found the interview at Hex Technologies to b...   \n49  My interview experience at Ample was disappoin...   \n\n                                     Company_Feedback  \n0   Working at Intel has been a transformative exp...  \n1   I've been with NVIDIA for two years, and it's ...  \n2   Chamberlain Group has a dynamic environment th...  \n3   As a recent graduate, Similarweb provided a gr...  \n4   The diversity and inclusion efforts at Exiger ...  \n5   I've been with Western Digital for over five y...  \n6   Rockwell Automation offers a unique blend of c...  \n7   One thing I appreciate about Edward Daniels Gr...  \n8   The work culture at Canonical is unlike any ot...  \n9   Episode Six is a place where innovation thrive...  \n10  I've been part of the Tegus team for three yea...  \n11  The sense of community at Arsiem Corporation i...  \n12  Working at Caldera has been an eye-opening exp...  \n13  The commitment to sustainability and social re...  \n14  Interactive Brokers has a vibrant work environ...  \n15  I've had the pleasure of working at Pinterest ...  \n16  The leadership team at Oshkosh is exceptional....  \n17  Jerry's approach to problem-solving and projec...  \n18  As a software engineer at Forbes, I've worked ...  \n19  The inclusive culture at Old Mission has made ...  \n20  OptionMetrics's focus on customer satisfaction...  \n21  While Elevance Health has provided some growth...  \n22  The work at Raptor Maps can be quite demanding...  \n23  While Live Nation Entertainment has a strong f...  \n24  I've experienced some communication issues at ...  \n25  Working at Skyways has been an average experie...  \n26  I've been with PlusAI for a year now, and it's...  \n27  Cohere Health's work environment is quite stre...  \n28  As an employee at Osmo, I've found the opportu...  \n29  The company culture at Formlabs is not as incl...  \n30  I've experienced a lack of support from my tea...  \n31  The workload at Spot Freight is overwhelming. ...  \n32  I've noticed a high turnover rate at FreedomPa...  \n33  The training and development opportunities at ...  \n34  The office politics at Navan (fka TripActions)...  \n35  I've found the feedback culture at WeRide to b...  \n36  The benefits package at Tinder is subpar. It's...  \n37  I've encountered a lack of transparency at Tin...  \n38  The innovation at Lacework is stagnant. There'...  \n39  I've felt undervalued at Altera Digital Health...  \n40  The work-life balance at Voya Financial is non...  \n41  I've noticed a lack of ethical practices at Sp...  \n42  The communication at EquipmentShare is poor. I...  \n43  I've experienced a toxic work environment at W...  \n44  The leadership at Arsiem Corporation is discon...  \n45  I've observed a lack of accountability at Skyw...  \n46  The focus on short-term gains at dunnhumby is ...  \n47  I've found the performance evaluation process ...  \n48  The work environment at Hex Technologies is un...  \n49  I've felt isolated at Ample. There's a lack of...  ",
      "text/html": "<div>\n<style scoped>\n    .dataframe tbody tr th:only-of-type {\n        vertical-align: middle;\n    }\n\n    .dataframe tbody tr th {\n        vertical-align: top;\n    }\n\n    .dataframe thead th {\n        text-align: right;\n    }\n</style>\n<table border=\"1\" class=\"dataframe\">\n  <thead>\n    <tr style=\"text-align: right;\">\n      <th></th>\n      <th>Interview_Feedback</th>\n      <th>Company_Feedback</th>\n    </tr>\n  </thead>\n  <tbody>\n    <tr>\n      <th>0</th>\n      <td>The interview process at Intel was well-organi...</td>\n      <td>Working at Intel has been a transformative exp...</td>\n    </tr>\n    <tr>\n      <th>1</th>\n      <td>I had a positive experience interviewing with ...</td>\n      <td>I've been with NVIDIA for two years, and it's ...</td>\n    </tr>\n    <tr>\n      <th>2</th>\n      <td>My interview at Chamberlain Group was a bit in...</td>\n      <td>Chamberlain Group has a dynamic environment th...</td>\n    </tr>\n    <tr>\n      <th>3</th>\n      <td>Similarweb's interview process was thorough an...</td>\n      <td>As a recent graduate, Similarweb provided a gr...</td>\n    </tr>\n    <tr>\n      <th>4</th>\n      <td>I found the interview experience at Exiger to ...</td>\n      <td>The diversity and inclusion efforts at Exiger ...</td>\n    </tr>\n    <tr>\n      <th>5</th>\n      <td>Interviewing with Western Digital was a great ...</td>\n      <td>I've been with Western Digital for over five y...</td>\n    </tr>\n    <tr>\n      <th>6</th>\n      <td>The interview process at Rockwell Automation f...</td>\n      <td>Rockwell Automation offers a unique blend of c...</td>\n    </tr>\n    <tr>\n      <th>7</th>\n      <td>I was impressed by the efficiency of Edward Da...</td>\n      <td>One thing I appreciate about Edward Daniels Gr...</td>\n    </tr>\n    <tr>\n      <th>8</th>\n      <td>My interview experience at Canonical was mixed...</td>\n      <td>The work culture at Canonical is unlike any ot...</td>\n    </tr>\n    <tr>\n      <th>9</th>\n      <td>I appreciated the transparency of Episode Six'...</td>\n      <td>Episode Six is a place where innovation thrive...</td>\n    </tr>\n    <tr>\n      <th>10</th>\n      <td>The interview at Tegus was challenging but fai...</td>\n      <td>I've been part of the Tegus team for three yea...</td>\n    </tr>\n    <tr>\n      <th>11</th>\n      <td>I found the interviewers at Arsiem Corporation...</td>\n      <td>The sense of community at Arsiem Corporation i...</td>\n    </tr>\n    <tr>\n      <th>12</th>\n      <td>The virtual interview process with Caldera had...</td>\n      <td>Working at Caldera has been an eye-opening exp...</td>\n    </tr>\n    <tr>\n      <th>13</th>\n      <td>Interviewing at Alarm.com was an eye-opening e...</td>\n      <td>The commitment to sustainability and social re...</td>\n    </tr>\n    <tr>\n      <th>14</th>\n      <td>I felt that the interview process at Interacti...</td>\n      <td>Interactive Brokers has a vibrant work environ...</td>\n    </tr>\n    <tr>\n      <th>15</th>\n      <td>The interview experience at Pinterest was enjo...</td>\n      <td>I've had the pleasure of working at Pinterest ...</td>\n    </tr>\n    <tr>\n      <th>16</th>\n      <td>I was disappointed by the lack of feedback aft...</td>\n      <td>The leadership team at Oshkosh is exceptional....</td>\n    </tr>\n    <tr>\n      <th>17</th>\n      <td>The interview process at Jerry was lengthy but...</td>\n      <td>Jerry's approach to problem-solving and projec...</td>\n    </tr>\n    <tr>\n      <th>18</th>\n      <td>I was surprised by the informal nature of the ...</td>\n      <td>As a software engineer at Forbes, I've worked ...</td>\n    </tr>\n    <tr>\n      <th>19</th>\n      <td>The interviewers at Old Mission were very prof...</td>\n      <td>The inclusive culture at Old Mission has made ...</td>\n    </tr>\n    <tr>\n      <th>20</th>\n      <td>I found the interview process at OptionMetrics...</td>\n      <td>OptionMetrics's focus on customer satisfaction...</td>\n    </tr>\n    <tr>\n      <th>21</th>\n      <td>Interviewing with Elevance Health was a confid...</td>\n      <td>While Elevance Health has provided some growth...</td>\n    </tr>\n    <tr>\n      <th>22</th>\n      <td>The group interview at Raptor Maps was a uniqu...</td>\n      <td>The work at Raptor Maps can be quite demanding...</td>\n    </tr>\n    <tr>\n      <th>23</th>\n      <td>I appreciated the focus on work-life balance d...</td>\n      <td>While Live Nation Entertainment has a strong f...</td>\n    </tr>\n    <tr>\n      <th>24</th>\n      <td>The interview process at Harbinger Motors was ...</td>\n      <td>I've experienced some communication issues at ...</td>\n    </tr>\n    <tr>\n      <th>25</th>\n      <td>The interview process at Skyways was average. ...</td>\n      <td>Working at Skyways has been an average experie...</td>\n    </tr>\n    <tr>\n      <th>26</th>\n      <td>I found the interview at PlusAI to be disorgan...</td>\n      <td>I've been with PlusAI for a year now, and it's...</td>\n    </tr>\n    <tr>\n      <th>27</th>\n      <td>My experience interviewing with Cohere Health ...</td>\n      <td>Cohere Health's work environment is quite stre...</td>\n    </tr>\n    <tr>\n      <th>28</th>\n      <td>The interview at Osmo felt one-sided. It was m...</td>\n      <td>As an employee at Osmo, I've found the opportu...</td>\n    </tr>\n    <tr>\n      <th>29</th>\n      <td>I was unimpressed with the interview process a...</td>\n      <td>The company culture at Formlabs is not as incl...</td>\n    </tr>\n    <tr>\n      <th>30</th>\n      <td>The interviewers at Exiger seemed disintereste...</td>\n      <td>I've experienced a lack of support from my tea...</td>\n    </tr>\n    <tr>\n      <th>31</th>\n      <td>I had a negative experience interviewing at Sp...</td>\n      <td>The workload at Spot Freight is overwhelming. ...</td>\n    </tr>\n    <tr>\n      <th>32</th>\n      <td>The virtual interview with FreedomPay had tech...</td>\n      <td>I've noticed a high turnover rate at FreedomPa...</td>\n    </tr>\n    <tr>\n      <th>33</th>\n      <td>I felt unwelcome during my interview at Weiss ...</td>\n      <td>The training and development opportunities at ...</td>\n    </tr>\n    <tr>\n      <th>34</th>\n      <td>The interview process at Navan (fka TripAction...</td>\n      <td>The office politics at Navan (fka TripActions)...</td>\n    </tr>\n    <tr>\n      <th>35</th>\n      <td>I left the interview at WeRide feeling uncerta...</td>\n      <td>I've found the feedback culture at WeRide to b...</td>\n    </tr>\n    <tr>\n      <th>36</th>\n      <td>The feedback after my interview with Tinder wa...</td>\n      <td>The benefits package at Tinder is subpar. It's...</td>\n    </tr>\n    <tr>\n      <th>37</th>\n      <td>I found the interviewers at Tinder to be arrog...</td>\n      <td>I've encountered a lack of transparency at Tin...</td>\n    </tr>\n    <tr>\n      <th>38</th>\n      <td>The interview at Lacework lacked diversity. Al...</td>\n      <td>The innovation at Lacework is stagnant. There'...</td>\n    </tr>\n    <tr>\n      <th>39</th>\n      <td>My interview experience at Altera Digital Heal...</td>\n      <td>I've felt undervalued at Altera Digital Health...</td>\n    </tr>\n    <tr>\n      <th>40</th>\n      <td>I felt rushed during my interview at Voya Fina...</td>\n      <td>The work-life balance at Voya Financial is non...</td>\n    </tr>\n    <tr>\n      <th>41</th>\n      <td>The questions asked during the interview at Sp...</td>\n      <td>I've noticed a lack of ethical practices at Sp...</td>\n    </tr>\n    <tr>\n      <th>42</th>\n      <td>I was disappointed by the lack of follow-up af...</td>\n      <td>The communication at EquipmentShare is poor. I...</td>\n    </tr>\n    <tr>\n      <th>43</th>\n      <td>The interviewers at Western Digital seemed dis...</td>\n      <td>I've experienced a toxic work environment at W...</td>\n    </tr>\n    <tr>\n      <th>44</th>\n      <td>I had a negative impression of Arsiem Corporat...</td>\n      <td>The leadership at Arsiem Corporation is discon...</td>\n    </tr>\n    <tr>\n      <th>45</th>\n      <td>The interview process at Skyways felt imperson...</td>\n      <td>I've observed a lack of accountability at Skyw...</td>\n    </tr>\n    <tr>\n      <th>46</th>\n      <td>I was put off by the aggressive questioning du...</td>\n      <td>The focus on short-term gains at dunnhumby is ...</td>\n    </tr>\n    <tr>\n      <th>47</th>\n      <td>The lack of enthusiasm from the interviewers a...</td>\n      <td>I've found the performance evaluation process ...</td>\n    </tr>\n    <tr>\n      <th>48</th>\n      <td>I found the interview at Hex Technologies to b...</td>\n      <td>The work environment at Hex Technologies is un...</td>\n    </tr>\n    <tr>\n      <th>49</th>\n      <td>My interview experience at Ample was disappoin...</td>\n      <td>I've felt isolated at Ample. There's a lack of...</td>\n    </tr>\n  </tbody>\n</table>\n</div>"
     },
     "execution_count": 120,
     "metadata": {},
     "output_type": "execute_result"
    }
   ],
   "source": [
    "# Create Reviews Dataframe and concatenate it with the Review_ID dataframe\n",
    "reviews_df = pd.DataFrame({\n",
    "    'Interview_Feedback': interview_reviews,\n",
    "    'Company_Feedback': employee_reviews,\n",
    "})\n",
    "reviews_df"
   ],
   "metadata": {
    "collapsed": false,
    "ExecuteTime": {
     "end_time": "2024-03-02T01:24:03.996739Z",
     "start_time": "2024-03-02T01:24:03.990704Z"
    }
   },
   "id": "7cbb10b33405c5e5",
   "execution_count": 120
  },
  {
   "cell_type": "code",
   "outputs": [
    {
     "data": {
      "text/plain": "                     Review_ID  \\\n0   01HQY51HEE22CQ4TP0V5FF2Y08   \n1   01HQY51HEFV66CSX0SEKRBYREM   \n2   01HQY51HEF7X8GYJPYRWSD4NKY   \n3   01HQY51HEFNC331TMCZ1AYQS05   \n4   01HQY51HEF7KSK0NPDCVH0YXZX   \n5   01HQY51HEGMR0D46GTWPF8BX9B   \n6   01HQY51HEGKST6END3KV094C6W   \n7   01HQY51HEG9Z3NB6NB31YVRRBC   \n8   01HQY51HEGFCFBX8GEV5W74Z8D   \n9   01HQY51HEHB5JKXTAZ0YYFF1R4   \n10  01HQY51HEH8MC9GGP4ZJ4XSRQG   \n11  01HQY51HEH2P2RXGQG8MES4GQB   \n12  01HQY51HEHYF3AGPB7E9V8CQ4Z   \n13  01HQY51HEHPFZ5V8ZZG8RMS2S6   \n14  01HQY51HEJCDMR7QSQG5GGT1KR   \n15  01HQY51HEJH0FFDN5J9ZKACWHX   \n16  01HQY51HEJFJEVMFJATFHHGQJD   \n17  01HQY51HEKH191BNN19VDR7Y2M   \n18  01HQY51HEKYJ83707V5TTXG742   \n19  01HQY51HEMMDYVWS2GP30YFKW1   \n20  01HQY51HEMRJZV7240858D378W   \n21  01HQY51HENTT0TQMV4CD7WV5WB   \n22  01HQY51HENYRM1N97X3H871BB8   \n23  01HQY51HENPTV0YPXXYZHK3HE1   \n24  01HQY51HEPM0V0NNWC6FEY80R7   \n25  01HQY51HEPNMHN96D1C2H36J5H   \n26  01HQY51HEPKZRDTA9HSGEBBD7D   \n27  01HQY51HEPN7DP4Q580YND1HXB   \n28  01HQY51HEP32GJFD6S6PH4PC0T   \n29  01HQY51HEQFYV08QSB2V020FZV   \n30  01HQY51HEQX605HS7AFTHF6TWG   \n31  01HQY51HERHZ3A99GW63ZGNV74   \n32  01HQY51HER8N58N8VFQANETRAF   \n33  01HQY51HER4FPG661H5BAV1VK7   \n34  01HQY51HESEC88MTZ2EEXHXJ9F   \n35  01HQY51HES690GSEHQXWTB6TAJ   \n36  01HQY51HESCFDQNAV3MFRFE4TJ   \n37  01HQY51HES98RJAZ4FX6HTD13K   \n38  01HQY51HETKQFMC0RAHWDEAW7N   \n39  01HQY51HETMNPKXH41GWHVNDFJ   \n40  01HQY51HETHD7DRSXMP8S5P92Z   \n41  01HQY51HEVCAWQ4G4NBD87DRR0   \n42  01HQY51HEV2NW11GJN7FBH0GGV   \n43  01HQY51HEV3NWRRYF2GDEEEVR9   \n44  01HQY51HEVYM0CNC9J58PQ5YJV   \n45  01HQY51HEWHH6XK81D9BB79RB5   \n46  01HQY51HEW253RJGBJT248ZZEJ   \n47  01HQY51HEW4T14ZS9H39TQJWG4   \n48  01HQY51HEXQXKPHCM4A4F3S963   \n49  01HQY51HEYCF72DRBB8P92XBG3   \n\n                                   Interview_Feedback  \\\n0   The interview process at Intel was well-organi...   \n1   I had a positive experience interviewing with ...   \n2   My interview at Chamberlain Group was a bit in...   \n3   Similarweb's interview process was thorough an...   \n4   I found the interview experience at Exiger to ...   \n5   Interviewing with Western Digital was a great ...   \n6   The interview process at Rockwell Automation f...   \n7   I was impressed by the efficiency of Edward Da...   \n8   My interview experience at Canonical was mixed...   \n9   I appreciated the transparency of Episode Six'...   \n10  The interview at Tegus was challenging but fai...   \n11  I found the interviewers at Arsiem Corporation...   \n12  The virtual interview process with Caldera had...   \n13  Interviewing at Alarm.com was an eye-opening e...   \n14  I felt that the interview process at Interacti...   \n15  The interview experience at Pinterest was enjo...   \n16  I was disappointed by the lack of feedback aft...   \n17  The interview process at Jerry was lengthy but...   \n18  I was surprised by the informal nature of the ...   \n19  The interviewers at Old Mission were very prof...   \n20  I found the interview process at OptionMetrics...   \n21  Interviewing with Elevance Health was a confid...   \n22  The group interview at Raptor Maps was a uniqu...   \n23  I appreciated the focus on work-life balance d...   \n24  The interview process at Harbinger Motors was ...   \n25  The interview process at Skyways was average. ...   \n26  I found the interview at PlusAI to be disorgan...   \n27  My experience interviewing with Cohere Health ...   \n28  The interview at Osmo felt one-sided. It was m...   \n29  I was unimpressed with the interview process a...   \n30  The interviewers at Exiger seemed disintereste...   \n31  I had a negative experience interviewing at Sp...   \n32  The virtual interview with FreedomPay had tech...   \n33  I felt unwelcome during my interview at Weiss ...   \n34  The interview process at Navan (fka TripAction...   \n35  I left the interview at WeRide feeling uncerta...   \n36  The feedback after my interview with Tinder wa...   \n37  I found the interviewers at Tinder to be arrog...   \n38  The interview at Lacework lacked diversity. Al...   \n39  My interview experience at Altera Digital Heal...   \n40  I felt rushed during my interview at Voya Fina...   \n41  The questions asked during the interview at Sp...   \n42  I was disappointed by the lack of follow-up af...   \n43  The interviewers at Western Digital seemed dis...   \n44  I had a negative impression of Arsiem Corporat...   \n45  The interview process at Skyways felt imperson...   \n46  I was put off by the aggressive questioning du...   \n47  The lack of enthusiasm from the interviewers a...   \n48  I found the interview at Hex Technologies to b...   \n49  My interview experience at Ample was disappoin...   \n\n                                     Company_Feedback  \n0   Working at Intel has been a transformative exp...  \n1   I've been with NVIDIA for two years, and it's ...  \n2   Chamberlain Group has a dynamic environment th...  \n3   As a recent graduate, Similarweb provided a gr...  \n4   The diversity and inclusion efforts at Exiger ...  \n5   I've been with Western Digital for over five y...  \n6   Rockwell Automation offers a unique blend of c...  \n7   One thing I appreciate about Edward Daniels Gr...  \n8   The work culture at Canonical is unlike any ot...  \n9   Episode Six is a place where innovation thrive...  \n10  I've been part of the Tegus team for three yea...  \n11  The sense of community at Arsiem Corporation i...  \n12  Working at Caldera has been an eye-opening exp...  \n13  The commitment to sustainability and social re...  \n14  Interactive Brokers has a vibrant work environ...  \n15  I've had the pleasure of working at Pinterest ...  \n16  The leadership team at Oshkosh is exceptional....  \n17  Jerry's approach to problem-solving and projec...  \n18  As a software engineer at Forbes, I've worked ...  \n19  The inclusive culture at Old Mission has made ...  \n20  OptionMetrics's focus on customer satisfaction...  \n21  While Elevance Health has provided some growth...  \n22  The work at Raptor Maps can be quite demanding...  \n23  While Live Nation Entertainment has a strong f...  \n24  I've experienced some communication issues at ...  \n25  Working at Skyways has been an average experie...  \n26  I've been with PlusAI for a year now, and it's...  \n27  Cohere Health's work environment is quite stre...  \n28  As an employee at Osmo, I've found the opportu...  \n29  The company culture at Formlabs is not as incl...  \n30  I've experienced a lack of support from my tea...  \n31  The workload at Spot Freight is overwhelming. ...  \n32  I've noticed a high turnover rate at FreedomPa...  \n33  The training and development opportunities at ...  \n34  The office politics at Navan (fka TripActions)...  \n35  I've found the feedback culture at WeRide to b...  \n36  The benefits package at Tinder is subpar. It's...  \n37  I've encountered a lack of transparency at Tin...  \n38  The innovation at Lacework is stagnant. There'...  \n39  I've felt undervalued at Altera Digital Health...  \n40  The work-life balance at Voya Financial is non...  \n41  I've noticed a lack of ethical practices at Sp...  \n42  The communication at EquipmentShare is poor. I...  \n43  I've experienced a toxic work environment at W...  \n44  The leadership at Arsiem Corporation is discon...  \n45  I've observed a lack of accountability at Skyw...  \n46  The focus on short-term gains at dunnhumby is ...  \n47  I've found the performance evaluation process ...  \n48  The work environment at Hex Technologies is un...  \n49  I've felt isolated at Ample. There's a lack of...  ",
      "text/html": "<div>\n<style scoped>\n    .dataframe tbody tr th:only-of-type {\n        vertical-align: middle;\n    }\n\n    .dataframe tbody tr th {\n        vertical-align: top;\n    }\n\n    .dataframe thead th {\n        text-align: right;\n    }\n</style>\n<table border=\"1\" class=\"dataframe\">\n  <thead>\n    <tr style=\"text-align: right;\">\n      <th></th>\n      <th>Review_ID</th>\n      <th>Interview_Feedback</th>\n      <th>Company_Feedback</th>\n    </tr>\n  </thead>\n  <tbody>\n    <tr>\n      <th>0</th>\n      <td>01HQY51HEE22CQ4TP0V5FF2Y08</td>\n      <td>The interview process at Intel was well-organi...</td>\n      <td>Working at Intel has been a transformative exp...</td>\n    </tr>\n    <tr>\n      <th>1</th>\n      <td>01HQY51HEFV66CSX0SEKRBYREM</td>\n      <td>I had a positive experience interviewing with ...</td>\n      <td>I've been with NVIDIA for two years, and it's ...</td>\n    </tr>\n    <tr>\n      <th>2</th>\n      <td>01HQY51HEF7X8GYJPYRWSD4NKY</td>\n      <td>My interview at Chamberlain Group was a bit in...</td>\n      <td>Chamberlain Group has a dynamic environment th...</td>\n    </tr>\n    <tr>\n      <th>3</th>\n      <td>01HQY51HEFNC331TMCZ1AYQS05</td>\n      <td>Similarweb's interview process was thorough an...</td>\n      <td>As a recent graduate, Similarweb provided a gr...</td>\n    </tr>\n    <tr>\n      <th>4</th>\n      <td>01HQY51HEF7KSK0NPDCVH0YXZX</td>\n      <td>I found the interview experience at Exiger to ...</td>\n      <td>The diversity and inclusion efforts at Exiger ...</td>\n    </tr>\n    <tr>\n      <th>5</th>\n      <td>01HQY51HEGMR0D46GTWPF8BX9B</td>\n      <td>Interviewing with Western Digital was a great ...</td>\n      <td>I've been with Western Digital for over five y...</td>\n    </tr>\n    <tr>\n      <th>6</th>\n      <td>01HQY51HEGKST6END3KV094C6W</td>\n      <td>The interview process at Rockwell Automation f...</td>\n      <td>Rockwell Automation offers a unique blend of c...</td>\n    </tr>\n    <tr>\n      <th>7</th>\n      <td>01HQY51HEG9Z3NB6NB31YVRRBC</td>\n      <td>I was impressed by the efficiency of Edward Da...</td>\n      <td>One thing I appreciate about Edward Daniels Gr...</td>\n    </tr>\n    <tr>\n      <th>8</th>\n      <td>01HQY51HEGFCFBX8GEV5W74Z8D</td>\n      <td>My interview experience at Canonical was mixed...</td>\n      <td>The work culture at Canonical is unlike any ot...</td>\n    </tr>\n    <tr>\n      <th>9</th>\n      <td>01HQY51HEHB5JKXTAZ0YYFF1R4</td>\n      <td>I appreciated the transparency of Episode Six'...</td>\n      <td>Episode Six is a place where innovation thrive...</td>\n    </tr>\n    <tr>\n      <th>10</th>\n      <td>01HQY51HEH8MC9GGP4ZJ4XSRQG</td>\n      <td>The interview at Tegus was challenging but fai...</td>\n      <td>I've been part of the Tegus team for three yea...</td>\n    </tr>\n    <tr>\n      <th>11</th>\n      <td>01HQY51HEH2P2RXGQG8MES4GQB</td>\n      <td>I found the interviewers at Arsiem Corporation...</td>\n      <td>The sense of community at Arsiem Corporation i...</td>\n    </tr>\n    <tr>\n      <th>12</th>\n      <td>01HQY51HEHYF3AGPB7E9V8CQ4Z</td>\n      <td>The virtual interview process with Caldera had...</td>\n      <td>Working at Caldera has been an eye-opening exp...</td>\n    </tr>\n    <tr>\n      <th>13</th>\n      <td>01HQY51HEHPFZ5V8ZZG8RMS2S6</td>\n      <td>Interviewing at Alarm.com was an eye-opening e...</td>\n      <td>The commitment to sustainability and social re...</td>\n    </tr>\n    <tr>\n      <th>14</th>\n      <td>01HQY51HEJCDMR7QSQG5GGT1KR</td>\n      <td>I felt that the interview process at Interacti...</td>\n      <td>Interactive Brokers has a vibrant work environ...</td>\n    </tr>\n    <tr>\n      <th>15</th>\n      <td>01HQY51HEJH0FFDN5J9ZKACWHX</td>\n      <td>The interview experience at Pinterest was enjo...</td>\n      <td>I've had the pleasure of working at Pinterest ...</td>\n    </tr>\n    <tr>\n      <th>16</th>\n      <td>01HQY51HEJFJEVMFJATFHHGQJD</td>\n      <td>I was disappointed by the lack of feedback aft...</td>\n      <td>The leadership team at Oshkosh is exceptional....</td>\n    </tr>\n    <tr>\n      <th>17</th>\n      <td>01HQY51HEKH191BNN19VDR7Y2M</td>\n      <td>The interview process at Jerry was lengthy but...</td>\n      <td>Jerry's approach to problem-solving and projec...</td>\n    </tr>\n    <tr>\n      <th>18</th>\n      <td>01HQY51HEKYJ83707V5TTXG742</td>\n      <td>I was surprised by the informal nature of the ...</td>\n      <td>As a software engineer at Forbes, I've worked ...</td>\n    </tr>\n    <tr>\n      <th>19</th>\n      <td>01HQY51HEMMDYVWS2GP30YFKW1</td>\n      <td>The interviewers at Old Mission were very prof...</td>\n      <td>The inclusive culture at Old Mission has made ...</td>\n    </tr>\n    <tr>\n      <th>20</th>\n      <td>01HQY51HEMRJZV7240858D378W</td>\n      <td>I found the interview process at OptionMetrics...</td>\n      <td>OptionMetrics's focus on customer satisfaction...</td>\n    </tr>\n    <tr>\n      <th>21</th>\n      <td>01HQY51HENTT0TQMV4CD7WV5WB</td>\n      <td>Interviewing with Elevance Health was a confid...</td>\n      <td>While Elevance Health has provided some growth...</td>\n    </tr>\n    <tr>\n      <th>22</th>\n      <td>01HQY51HENYRM1N97X3H871BB8</td>\n      <td>The group interview at Raptor Maps was a uniqu...</td>\n      <td>The work at Raptor Maps can be quite demanding...</td>\n    </tr>\n    <tr>\n      <th>23</th>\n      <td>01HQY51HENPTV0YPXXYZHK3HE1</td>\n      <td>I appreciated the focus on work-life balance d...</td>\n      <td>While Live Nation Entertainment has a strong f...</td>\n    </tr>\n    <tr>\n      <th>24</th>\n      <td>01HQY51HEPM0V0NNWC6FEY80R7</td>\n      <td>The interview process at Harbinger Motors was ...</td>\n      <td>I've experienced some communication issues at ...</td>\n    </tr>\n    <tr>\n      <th>25</th>\n      <td>01HQY51HEPNMHN96D1C2H36J5H</td>\n      <td>The interview process at Skyways was average. ...</td>\n      <td>Working at Skyways has been an average experie...</td>\n    </tr>\n    <tr>\n      <th>26</th>\n      <td>01HQY51HEPKZRDTA9HSGEBBD7D</td>\n      <td>I found the interview at PlusAI to be disorgan...</td>\n      <td>I've been with PlusAI for a year now, and it's...</td>\n    </tr>\n    <tr>\n      <th>27</th>\n      <td>01HQY51HEPN7DP4Q580YND1HXB</td>\n      <td>My experience interviewing with Cohere Health ...</td>\n      <td>Cohere Health's work environment is quite stre...</td>\n    </tr>\n    <tr>\n      <th>28</th>\n      <td>01HQY51HEP32GJFD6S6PH4PC0T</td>\n      <td>The interview at Osmo felt one-sided. It was m...</td>\n      <td>As an employee at Osmo, I've found the opportu...</td>\n    </tr>\n    <tr>\n      <th>29</th>\n      <td>01HQY51HEQFYV08QSB2V020FZV</td>\n      <td>I was unimpressed with the interview process a...</td>\n      <td>The company culture at Formlabs is not as incl...</td>\n    </tr>\n    <tr>\n      <th>30</th>\n      <td>01HQY51HEQX605HS7AFTHF6TWG</td>\n      <td>The interviewers at Exiger seemed disintereste...</td>\n      <td>I've experienced a lack of support from my tea...</td>\n    </tr>\n    <tr>\n      <th>31</th>\n      <td>01HQY51HERHZ3A99GW63ZGNV74</td>\n      <td>I had a negative experience interviewing at Sp...</td>\n      <td>The workload at Spot Freight is overwhelming. ...</td>\n    </tr>\n    <tr>\n      <th>32</th>\n      <td>01HQY51HER8N58N8VFQANETRAF</td>\n      <td>The virtual interview with FreedomPay had tech...</td>\n      <td>I've noticed a high turnover rate at FreedomPa...</td>\n    </tr>\n    <tr>\n      <th>33</th>\n      <td>01HQY51HER4FPG661H5BAV1VK7</td>\n      <td>I felt unwelcome during my interview at Weiss ...</td>\n      <td>The training and development opportunities at ...</td>\n    </tr>\n    <tr>\n      <th>34</th>\n      <td>01HQY51HESEC88MTZ2EEXHXJ9F</td>\n      <td>The interview process at Navan (fka TripAction...</td>\n      <td>The office politics at Navan (fka TripActions)...</td>\n    </tr>\n    <tr>\n      <th>35</th>\n      <td>01HQY51HES690GSEHQXWTB6TAJ</td>\n      <td>I left the interview at WeRide feeling uncerta...</td>\n      <td>I've found the feedback culture at WeRide to b...</td>\n    </tr>\n    <tr>\n      <th>36</th>\n      <td>01HQY51HESCFDQNAV3MFRFE4TJ</td>\n      <td>The feedback after my interview with Tinder wa...</td>\n      <td>The benefits package at Tinder is subpar. It's...</td>\n    </tr>\n    <tr>\n      <th>37</th>\n      <td>01HQY51HES98RJAZ4FX6HTD13K</td>\n      <td>I found the interviewers at Tinder to be arrog...</td>\n      <td>I've encountered a lack of transparency at Tin...</td>\n    </tr>\n    <tr>\n      <th>38</th>\n      <td>01HQY51HETKQFMC0RAHWDEAW7N</td>\n      <td>The interview at Lacework lacked diversity. Al...</td>\n      <td>The innovation at Lacework is stagnant. There'...</td>\n    </tr>\n    <tr>\n      <th>39</th>\n      <td>01HQY51HETMNPKXH41GWHVNDFJ</td>\n      <td>My interview experience at Altera Digital Heal...</td>\n      <td>I've felt undervalued at Altera Digital Health...</td>\n    </tr>\n    <tr>\n      <th>40</th>\n      <td>01HQY51HETHD7DRSXMP8S5P92Z</td>\n      <td>I felt rushed during my interview at Voya Fina...</td>\n      <td>The work-life balance at Voya Financial is non...</td>\n    </tr>\n    <tr>\n      <th>41</th>\n      <td>01HQY51HEVCAWQ4G4NBD87DRR0</td>\n      <td>The questions asked during the interview at Sp...</td>\n      <td>I've noticed a lack of ethical practices at Sp...</td>\n    </tr>\n    <tr>\n      <th>42</th>\n      <td>01HQY51HEV2NW11GJN7FBH0GGV</td>\n      <td>I was disappointed by the lack of follow-up af...</td>\n      <td>The communication at EquipmentShare is poor. I...</td>\n    </tr>\n    <tr>\n      <th>43</th>\n      <td>01HQY51HEV3NWRRYF2GDEEEVR9</td>\n      <td>The interviewers at Western Digital seemed dis...</td>\n      <td>I've experienced a toxic work environment at W...</td>\n    </tr>\n    <tr>\n      <th>44</th>\n      <td>01HQY51HEVYM0CNC9J58PQ5YJV</td>\n      <td>I had a negative impression of Arsiem Corporat...</td>\n      <td>The leadership at Arsiem Corporation is discon...</td>\n    </tr>\n    <tr>\n      <th>45</th>\n      <td>01HQY51HEWHH6XK81D9BB79RB5</td>\n      <td>The interview process at Skyways felt imperson...</td>\n      <td>I've observed a lack of accountability at Skyw...</td>\n    </tr>\n    <tr>\n      <th>46</th>\n      <td>01HQY51HEW253RJGBJT248ZZEJ</td>\n      <td>I was put off by the aggressive questioning du...</td>\n      <td>The focus on short-term gains at dunnhumby is ...</td>\n    </tr>\n    <tr>\n      <th>47</th>\n      <td>01HQY51HEW4T14ZS9H39TQJWG4</td>\n      <td>The lack of enthusiasm from the interviewers a...</td>\n      <td>I've found the performance evaluation process ...</td>\n    </tr>\n    <tr>\n      <th>48</th>\n      <td>01HQY51HEXQXKPHCM4A4F3S963</td>\n      <td>I found the interview at Hex Technologies to b...</td>\n      <td>The work environment at Hex Technologies is un...</td>\n    </tr>\n    <tr>\n      <th>49</th>\n      <td>01HQY51HEYCF72DRBB8P92XBG3</td>\n      <td>My interview experience at Ample was disappoin...</td>\n      <td>I've felt isolated at Ample. There's a lack of...</td>\n    </tr>\n  </tbody>\n</table>\n</div>"
     },
     "execution_count": 121,
     "metadata": {},
     "output_type": "execute_result"
    }
   ],
   "source": [
    "# Output final Review dataframe\n",
    "review_df = pd.concat([review_mock_df.reset_index(drop=True), reviews_df], axis=1)\n",
    "review_df"
   ],
   "metadata": {
    "collapsed": false,
    "ExecuteTime": {
     "end_time": "2024-03-02T01:24:07.669420Z",
     "start_time": "2024-03-02T01:24:07.661475Z"
    }
   },
   "id": "a17fd85a0b5b77f3",
   "execution_count": 121
  },
  {
   "cell_type": "code",
   "outputs": [],
   "source": [
    "review_df.to_csv('data/Review.csv', index=False)"
   ],
   "metadata": {
    "collapsed": false,
    "ExecuteTime": {
     "end_time": "2024-03-02T01:24:22.412037Z",
     "start_time": "2024-03-02T01:24:22.408736Z"
    }
   },
   "id": "334565ece186896b",
   "execution_count": 122
  }
 ],
 "metadata": {
  "kernelspec": {
   "display_name": "Python 3",
   "language": "python",
   "name": "python3"
  },
  "language_info": {
   "codemirror_mode": {
    "name": "ipython",
    "version": 2
   },
   "file_extension": ".py",
   "mimetype": "text/x-python",
   "name": "python",
   "nbconvert_exporter": "python",
   "pygments_lexer": "ipython2",
   "version": "2.7.6"
  }
 },
 "nbformat": 4,
 "nbformat_minor": 5
}
