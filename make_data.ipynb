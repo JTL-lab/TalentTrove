{
 "cells": [
  {
   "cell_type": "markdown",
   "source": [
    "## Talent Trove Data Generation"
   ],
   "metadata": {
    "collapsed": false
   },
   "id": "1d7b5e30237646f"
  },
  {
   "cell_type": "markdown",
   "source": [
    "In order to populate our Talent Trove database, we used real job postings from job aggregators online (e.g. Simplify by Michael Yan) for our job postings, and Mockaroo for our other tables. Additionally, we use an LLM as shown below to generate authentic-seeming reviews for the Review table text. \n",
    "\n",
    "The procedure used to obtain and preprocess each data CSV for the Talent Trove Database relations is described under its respective heading."
   ],
   "metadata": {
    "collapsed": false
   },
   "id": "ec0fd8522aae10ad"
  },
  {
   "cell_type": "markdown",
   "source": [
    "### Import Statements"
   ],
   "metadata": {
    "collapsed": false
   },
   "id": "7b276d44ce60d5be"
  },
  {
   "cell_type": "code",
   "outputs": [],
   "source": [
    "import pandas as pd\n",
    "import numpy as np\n",
    "import random"
   ],
   "metadata": {
    "collapsed": false,
    "ExecuteTime": {
     "end_time": "2024-03-01T02:54:12.398248Z",
     "start_time": "2024-03-01T02:54:12.137665Z"
    }
   },
   "id": "ec01320404d9f943",
   "execution_count": 1
  },
  {
   "cell_type": "markdown",
   "source": [
    "### Full Time Job\n",
    "- The data scraped from the above included the Role, Location, Application Link, and Date Posted for each tuple. \n",
    "\n",
    "#### Preprocessing: \n",
    "- \n",
    "- "
   ],
   "metadata": {
    "collapsed": false
   },
   "id": "1447f0172d039c04"
  },
  {
   "cell_type": "code",
   "outputs": [
    {
     "data": {
      "text/plain": "                    Company                                    Role  \\\n0       Squarepoint Capital                       Financing Trader    \n1     Altera Digital Health   Associate Software Engineer - Remote    \n2     Altera Digital Health   Associate Software Engineer - Remote    \n3                     Lucid                           Data Analyst    \n4                     Lucid                           Data Analyst    \n..                      ...                                     ...   \n475        Virtu Financial              Trading Operations Analyst    \n476  Tower Research Capital          Quantitative Research Analyst    \n477                Harmony                     AI Backend Engineer    \n478           IXL Learning          Software Engineer ‚Äì New Grad    \n479           Konrad Group      Software Developer ‚Äì Entry Level    \n\n                                              Location  \\\n0                                          London, UK    \n1                                       Remote in USA    \n2                                       Remote in USA    \n3                                         Raleigh, NC    \n4                                  Salt Lake City, UT    \n..                                                 ...   \n475                                        Austin, TX    \n476   <details><summary>**5 locations**</summary>La...   \n477                                     Palo Alto, CA    \n478                                       Raleigh, NC    \n479                             Vancouver, BC, Canada    \n\n                                      Application/Link Date Posted  \n0     <a href=\"https://boards.greenhouse.io/embed/j...     Feb 28   \n1     <a href=\"https://boards.greenhouse.io/alterad...     Feb 28   \n2     <a href=\"https://boards.greenhouse.io/alterad...     Feb 28   \n3     <a href=\"https://boards.greenhouse.io/lucidso...     Feb 28   \n4     <a href=\"https://boards.greenhouse.io/lucidso...     Feb 28   \n..                                                 ...         ...  \n475                                              üîí      Jul 19   \n476   <a href=\"https://www.tower-research.com/open-...     Jul 19   \n477                                              üîí      Jul 19   \n478                                              üîí      Jul 19   \n479                                              üîí      Jul 19   \n\n[480 rows x 5 columns]",
      "text/html": "<div>\n<style scoped>\n    .dataframe tbody tr th:only-of-type {\n        vertical-align: middle;\n    }\n\n    .dataframe tbody tr th {\n        vertical-align: top;\n    }\n\n    .dataframe thead th {\n        text-align: right;\n    }\n</style>\n<table border=\"1\" class=\"dataframe\">\n  <thead>\n    <tr style=\"text-align: right;\">\n      <th></th>\n      <th>Company</th>\n      <th>Role</th>\n      <th>Location</th>\n      <th>Application/Link</th>\n      <th>Date Posted</th>\n    </tr>\n  </thead>\n  <tbody>\n    <tr>\n      <th>0</th>\n      <td>Squarepoint Capital</td>\n      <td>Financing Trader</td>\n      <td>London, UK</td>\n      <td>&lt;a href=\"https://boards.greenhouse.io/embed/j...</td>\n      <td>Feb 28</td>\n    </tr>\n    <tr>\n      <th>1</th>\n      <td>Altera Digital Health</td>\n      <td>Associate Software Engineer - Remote</td>\n      <td>Remote in USA</td>\n      <td>&lt;a href=\"https://boards.greenhouse.io/alterad...</td>\n      <td>Feb 28</td>\n    </tr>\n    <tr>\n      <th>2</th>\n      <td>Altera Digital Health</td>\n      <td>Associate Software Engineer - Remote</td>\n      <td>Remote in USA</td>\n      <td>&lt;a href=\"https://boards.greenhouse.io/alterad...</td>\n      <td>Feb 28</td>\n    </tr>\n    <tr>\n      <th>3</th>\n      <td>Lucid</td>\n      <td>Data Analyst</td>\n      <td>Raleigh, NC</td>\n      <td>&lt;a href=\"https://boards.greenhouse.io/lucidso...</td>\n      <td>Feb 28</td>\n    </tr>\n    <tr>\n      <th>4</th>\n      <td>Lucid</td>\n      <td>Data Analyst</td>\n      <td>Salt Lake City, UT</td>\n      <td>&lt;a href=\"https://boards.greenhouse.io/lucidso...</td>\n      <td>Feb 28</td>\n    </tr>\n    <tr>\n      <th>...</th>\n      <td>...</td>\n      <td>...</td>\n      <td>...</td>\n      <td>...</td>\n      <td>...</td>\n    </tr>\n    <tr>\n      <th>475</th>\n      <td>Virtu Financial</td>\n      <td>Trading Operations Analyst</td>\n      <td>Austin, TX</td>\n      <td>üîí</td>\n      <td>Jul 19</td>\n    </tr>\n    <tr>\n      <th>476</th>\n      <td>Tower Research Capital</td>\n      <td>Quantitative Research Analyst</td>\n      <td>&lt;details&gt;&lt;summary&gt;**5 locations**&lt;/summary&gt;La...</td>\n      <td>&lt;a href=\"https://www.tower-research.com/open-...</td>\n      <td>Jul 19</td>\n    </tr>\n    <tr>\n      <th>477</th>\n      <td>Harmony</td>\n      <td>AI Backend Engineer</td>\n      <td>Palo Alto, CA</td>\n      <td>üîí</td>\n      <td>Jul 19</td>\n    </tr>\n    <tr>\n      <th>478</th>\n      <td>IXL Learning</td>\n      <td>Software Engineer ‚Äì New Grad</td>\n      <td>Raleigh, NC</td>\n      <td>üîí</td>\n      <td>Jul 19</td>\n    </tr>\n    <tr>\n      <th>479</th>\n      <td>Konrad Group</td>\n      <td>Software Developer ‚Äì Entry Level</td>\n      <td>Vancouver, BC, Canada</td>\n      <td>üîí</td>\n      <td>Jul 19</td>\n    </tr>\n  </tbody>\n</table>\n<p>480 rows × 5 columns</p>\n</div>"
     },
     "execution_count": 10,
     "metadata": {},
     "output_type": "execute_result"
    }
   ],
   "source": [
    "full_time_job_df = pd.read_csv('data/Tech_Full_Time_Roles.csv', header=0)\n",
    "full_time_job_df"
   ],
   "metadata": {
    "collapsed": false,
    "ExecuteTime": {
     "end_time": "2024-03-01T03:58:27.713008Z",
     "start_time": "2024-03-01T03:58:27.706053Z"
    }
   },
   "id": "cc12f2e657b05cf8",
   "execution_count": 10
  },
  {
   "cell_type": "code",
   "outputs": [],
   "source": [],
   "metadata": {
    "collapsed": false
   },
   "id": "5a820f8f1385b4d2"
  },
  {
   "cell_type": "code",
   "outputs": [],
   "source": [
    "full_time_requirements = ['Tableau data analyst certification', 'AWS Cloud Practitioner certification']"
   ],
   "metadata": {
    "collapsed": false
   },
   "id": "89e41f4ac87e6273"
  },
  {
   "cell_type": "code",
   "outputs": [],
   "source": [
    "# Save final job postings df for full time roles in 'Full_Time_Job.csv' for Full_Time_Job relation!"
   ],
   "metadata": {
    "collapsed": false
   },
   "id": "85601a15a5fe6983"
  },
  {
   "cell_type": "markdown",
   "source": [
    "### Internship\n",
    "- Our original internship data, stored in Tech_Internship.csv, was sourced from the Github page \"Summer 2024 Tech Internships by Pitt CSC & Simplify\" owned by Simplify, found here, on February 28th: https://github.com/SimplifyJobs/Summer2024-Internships\n",
    "- This included Company, Role, Location, Application/Link, and Date Posted for each role. \n",
    "- For our Internship_Job table, we need Job_ID, Experience, Location, Requirements, Skills, Salaried (boolean), and Duration attributes.\n",
    " \n",
    "#### Preprocessing: \n",
    "- In the initial data scraped from Github, a 'Ü≥' symbol was present in certain rows' 'Company' column denoting that the company name is the same as in the row before it. We impute the correct company name for each occurrence of this symbol.\n",
    "- We dropped the Application/Link and Date Posted columns. \n",
    "- We generate a unique integer Job_ID for each internship posting.\n",
    "- We randomly impute a value for the Experience, Requirements, Skills, Saliaried, and Duration attributes."
   ],
   "metadata": {
    "collapsed": false
   },
   "id": "de460f19d689cd59"
  },
  {
   "cell_type": "code",
   "outputs": [
    {
     "data": {
      "text/plain": "                Company                                               Role  \\\n0                 Chime         Software Engineer Intern - Growth Funding    \n1                  CACI         Software Development Intern - Summer 2024    \n2       Western Digital           Summer 2024 Software Engineering Intern    \n3              Veracode   Solutions Architecture and Security Consultin...   \n4                  Roku                  Machine Learning Engineer Intern    \n...                 ...                                                ...   \n2480            Zurich                                Internship Program     \n2481              BTIG                           Software Engineer Intern    \n2482   Internet Brands                           Intern Software Engineer    \n2483         Panasonic                Software Electrical Engineer Intern    \n2484        Capital One                  Product Development Intern  üõÇ    \n\n                        Location  \\\n0                            SF    \n1                 Remote in USA    \n2                  Longmont, CO    \n3                Burlington, MA    \n4                  San Jose, CA    \n...                          ...   \n2480         Multiple Locations    \n2481         Multiple Locations    \n2482    Los Angeles, California    \n2483                         TX    \n2484   McLean, VA</br>Plano, TX    \n\n                                       Application/Link Date Posted  \n0      <a href=\"https://boards.greenhouse.io/chime/j...     Feb 28   \n1      <a href=\"https://caci.wd1.myworkdayjobs.com/E...     Feb 28   \n2      <a href=\"https://jobs.smartrecruiters.com/Wes...     Feb 27   \n3      <a href=\"https://www.veracode.com/career/job?...     Feb 27   \n4      <a href=\"https://www.weareroku.com/jobs/57580...     Feb 27   \n...                                                 ...         ...  \n2480                                              üîí    May 2023   \n2481                                              üîí    May 2023   \n2482                                              üîí    May 2023   \n2483                                              üîí    May 2023   \n2484                                              üîí    May 2023   \n\n[2485 rows x 5 columns]",
      "text/html": "<div>\n<style scoped>\n    .dataframe tbody tr th:only-of-type {\n        vertical-align: middle;\n    }\n\n    .dataframe tbody tr th {\n        vertical-align: top;\n    }\n\n    .dataframe thead th {\n        text-align: right;\n    }\n</style>\n<table border=\"1\" class=\"dataframe\">\n  <thead>\n    <tr style=\"text-align: right;\">\n      <th></th>\n      <th>Company</th>\n      <th>Role</th>\n      <th>Location</th>\n      <th>Application/Link</th>\n      <th>Date Posted</th>\n    </tr>\n  </thead>\n  <tbody>\n    <tr>\n      <th>0</th>\n      <td>Chime</td>\n      <td>Software Engineer Intern - Growth Funding</td>\n      <td>SF</td>\n      <td>&lt;a href=\"https://boards.greenhouse.io/chime/j...</td>\n      <td>Feb 28</td>\n    </tr>\n    <tr>\n      <th>1</th>\n      <td>CACI</td>\n      <td>Software Development Intern - Summer 2024</td>\n      <td>Remote in USA</td>\n      <td>&lt;a href=\"https://caci.wd1.myworkdayjobs.com/E...</td>\n      <td>Feb 28</td>\n    </tr>\n    <tr>\n      <th>2</th>\n      <td>Western Digital</td>\n      <td>Summer 2024 Software Engineering Intern</td>\n      <td>Longmont, CO</td>\n      <td>&lt;a href=\"https://jobs.smartrecruiters.com/Wes...</td>\n      <td>Feb 27</td>\n    </tr>\n    <tr>\n      <th>3</th>\n      <td>Veracode</td>\n      <td>Solutions Architecture and Security Consultin...</td>\n      <td>Burlington, MA</td>\n      <td>&lt;a href=\"https://www.veracode.com/career/job?...</td>\n      <td>Feb 27</td>\n    </tr>\n    <tr>\n      <th>4</th>\n      <td>Roku</td>\n      <td>Machine Learning Engineer Intern</td>\n      <td>San Jose, CA</td>\n      <td>&lt;a href=\"https://www.weareroku.com/jobs/57580...</td>\n      <td>Feb 27</td>\n    </tr>\n    <tr>\n      <th>...</th>\n      <td>...</td>\n      <td>...</td>\n      <td>...</td>\n      <td>...</td>\n      <td>...</td>\n    </tr>\n    <tr>\n      <th>2480</th>\n      <td>Zurich</td>\n      <td>Internship Program</td>\n      <td>Multiple Locations</td>\n      <td>üîí</td>\n      <td>May 2023</td>\n    </tr>\n    <tr>\n      <th>2481</th>\n      <td>BTIG</td>\n      <td>Software Engineer Intern</td>\n      <td>Multiple Locations</td>\n      <td>üîí</td>\n      <td>May 2023</td>\n    </tr>\n    <tr>\n      <th>2482</th>\n      <td>Internet Brands</td>\n      <td>Intern Software Engineer</td>\n      <td>Los Angeles, California</td>\n      <td>üîí</td>\n      <td>May 2023</td>\n    </tr>\n    <tr>\n      <th>2483</th>\n      <td>Panasonic</td>\n      <td>Software Electrical Engineer Intern</td>\n      <td>TX</td>\n      <td>üîí</td>\n      <td>May 2023</td>\n    </tr>\n    <tr>\n      <th>2484</th>\n      <td>Capital One</td>\n      <td>Product Development Intern  üõÇ</td>\n      <td>McLean, VA&lt;/br&gt;Plano, TX</td>\n      <td>üîí</td>\n      <td>May 2023</td>\n    </tr>\n  </tbody>\n</table>\n<p>2485 rows × 5 columns</p>\n</div>"
     },
     "execution_count": 22,
     "metadata": {},
     "output_type": "execute_result"
    }
   ],
   "source": [
    "internship_df = pd.read_csv('data/Tech_Internship.csv', header=0)\n",
    "internship_df"
   ],
   "metadata": {
    "collapsed": false,
    "ExecuteTime": {
     "end_time": "2024-03-01T04:41:06.617293Z",
     "start_time": "2024-03-01T04:41:06.604728Z"
    }
   },
   "id": "9c357b972e4cabf9",
   "execution_count": 22
  },
  {
   "cell_type": "code",
   "outputs": [
    {
     "name": "stdout",
     "output_type": "stream",
     "text": [
      "There are no more 'Ü≥' symbols in the 'Company' column!\n"
     ]
    },
    {
     "data": {
      "text/plain": "                Company                                               Role  \\\n0                 Chime         Software Engineer Intern - Growth Funding    \n1                  CACI         Software Development Intern - Summer 2024    \n2       Western Digital           Summer 2024 Software Engineering Intern    \n3              Veracode   Solutions Architecture and Security Consultin...   \n4                  Roku                  Machine Learning Engineer Intern    \n...                 ...                                                ...   \n2480            Zurich                                Internship Program     \n2481              BTIG                           Software Engineer Intern    \n2482   Internet Brands                           Intern Software Engineer    \n2483         Panasonic                Software Electrical Engineer Intern    \n2484        Capital One                  Product Development Intern  üõÇ    \n\n                        Location  \\\n0                            SF    \n1                 Remote in USA    \n2                  Longmont, CO    \n3                Burlington, MA    \n4                  San Jose, CA    \n...                          ...   \n2480         Multiple Locations    \n2481         Multiple Locations    \n2482    Los Angeles, California    \n2483                         TX    \n2484   McLean, VA</br>Plano, TX    \n\n                                       Application/Link Date Posted  \n0      <a href=\"https://boards.greenhouse.io/chime/j...     Feb 28   \n1      <a href=\"https://caci.wd1.myworkdayjobs.com/E...     Feb 28   \n2      <a href=\"https://jobs.smartrecruiters.com/Wes...     Feb 27   \n3      <a href=\"https://www.veracode.com/career/job?...     Feb 27   \n4      <a href=\"https://www.weareroku.com/jobs/57580...     Feb 27   \n...                                                 ...         ...  \n2480                                              üîí    May 2023   \n2481                                              üîí    May 2023   \n2482                                              üîí    May 2023   \n2483                                              üîí    May 2023   \n2484                                              üîí    May 2023   \n\n[2485 rows x 5 columns]",
      "text/html": "<div>\n<style scoped>\n    .dataframe tbody tr th:only-of-type {\n        vertical-align: middle;\n    }\n\n    .dataframe tbody tr th {\n        vertical-align: top;\n    }\n\n    .dataframe thead th {\n        text-align: right;\n    }\n</style>\n<table border=\"1\" class=\"dataframe\">\n  <thead>\n    <tr style=\"text-align: right;\">\n      <th></th>\n      <th>Company</th>\n      <th>Role</th>\n      <th>Location</th>\n      <th>Application/Link</th>\n      <th>Date Posted</th>\n    </tr>\n  </thead>\n  <tbody>\n    <tr>\n      <th>0</th>\n      <td>Chime</td>\n      <td>Software Engineer Intern - Growth Funding</td>\n      <td>SF</td>\n      <td>&lt;a href=\"https://boards.greenhouse.io/chime/j...</td>\n      <td>Feb 28</td>\n    </tr>\n    <tr>\n      <th>1</th>\n      <td>CACI</td>\n      <td>Software Development Intern - Summer 2024</td>\n      <td>Remote in USA</td>\n      <td>&lt;a href=\"https://caci.wd1.myworkdayjobs.com/E...</td>\n      <td>Feb 28</td>\n    </tr>\n    <tr>\n      <th>2</th>\n      <td>Western Digital</td>\n      <td>Summer 2024 Software Engineering Intern</td>\n      <td>Longmont, CO</td>\n      <td>&lt;a href=\"https://jobs.smartrecruiters.com/Wes...</td>\n      <td>Feb 27</td>\n    </tr>\n    <tr>\n      <th>3</th>\n      <td>Veracode</td>\n      <td>Solutions Architecture and Security Consultin...</td>\n      <td>Burlington, MA</td>\n      <td>&lt;a href=\"https://www.veracode.com/career/job?...</td>\n      <td>Feb 27</td>\n    </tr>\n    <tr>\n      <th>4</th>\n      <td>Roku</td>\n      <td>Machine Learning Engineer Intern</td>\n      <td>San Jose, CA</td>\n      <td>&lt;a href=\"https://www.weareroku.com/jobs/57580...</td>\n      <td>Feb 27</td>\n    </tr>\n    <tr>\n      <th>...</th>\n      <td>...</td>\n      <td>...</td>\n      <td>...</td>\n      <td>...</td>\n      <td>...</td>\n    </tr>\n    <tr>\n      <th>2480</th>\n      <td>Zurich</td>\n      <td>Internship Program</td>\n      <td>Multiple Locations</td>\n      <td>üîí</td>\n      <td>May 2023</td>\n    </tr>\n    <tr>\n      <th>2481</th>\n      <td>BTIG</td>\n      <td>Software Engineer Intern</td>\n      <td>Multiple Locations</td>\n      <td>üîí</td>\n      <td>May 2023</td>\n    </tr>\n    <tr>\n      <th>2482</th>\n      <td>Internet Brands</td>\n      <td>Intern Software Engineer</td>\n      <td>Los Angeles, California</td>\n      <td>üîí</td>\n      <td>May 2023</td>\n    </tr>\n    <tr>\n      <th>2483</th>\n      <td>Panasonic</td>\n      <td>Software Electrical Engineer Intern</td>\n      <td>TX</td>\n      <td>üîí</td>\n      <td>May 2023</td>\n    </tr>\n    <tr>\n      <th>2484</th>\n      <td>Capital One</td>\n      <td>Product Development Intern  üõÇ</td>\n      <td>McLean, VA&lt;/br&gt;Plano, TX</td>\n      <td>üîí</td>\n      <td>May 2023</td>\n    </tr>\n  </tbody>\n</table>\n<p>2485 rows × 5 columns</p>\n</div>"
     },
     "execution_count": 23,
     "metadata": {},
     "output_type": "execute_result"
    }
   ],
   "source": [
    "# Replace 'Ü≥' symbols with correct company names, i.e. company name before that row\n",
    "for i in range(len(internship_df)): \n",
    "    if internship_df.loc[i, 'Company'] == 'Ü≥ ' or internship_df.loc[i, 'Company'] == ' ‚Ü≥ ':\n",
    "        internship_df.loc[i, 'Company'] = internship_df.loc[i-1, 'Company']\n",
    "        \n",
    "# Verify this was done correctly for all tuples\n",
    "if not (internship_df['Company'] == 'Ü≥').any() or (internship_df['Company'] == ',Ü≥').any():\n",
    "    print(\"There are no more 'Ü≥' symbols in the 'Company' column!\")\n",
    "internship_df"
   ],
   "metadata": {
    "collapsed": false,
    "ExecuteTime": {
     "end_time": "2024-03-01T04:41:07.385838Z",
     "start_time": "2024-03-01T04:41:07.303759Z"
    }
   },
   "id": "14b468a2a9279a6f",
   "execution_count": 23
  },
  {
   "cell_type": "code",
   "outputs": [
    {
     "data": {
      "text/plain": "                Company                                               Role  \\\n0                 Chime         Software Engineer Intern - Growth Funding    \n1                  CACI         Software Development Intern - Summer 2024    \n2       Western Digital           Summer 2024 Software Engineering Intern    \n3              Veracode   Solutions Architecture and Security Consultin...   \n4                  Roku                  Machine Learning Engineer Intern    \n...                 ...                                                ...   \n2480            Zurich                                Internship Program     \n2481              BTIG                           Software Engineer Intern    \n2482   Internet Brands                           Intern Software Engineer    \n2483         Panasonic                Software Electrical Engineer Intern    \n2484        Capital One                  Product Development Intern  üõÇ    \n\n                        Location  \\\n0                            SF    \n1                 Remote in USA    \n2                  Longmont, CO    \n3                Burlington, MA    \n4                  San Jose, CA    \n...                          ...   \n2480         Multiple Locations    \n2481         Multiple Locations    \n2482    Los Angeles, California    \n2483                         TX    \n2484   McLean, VA</br>Plano, TX    \n\n                                       Application/Link Date Posted  \n0      <a href=\"https://boards.greenhouse.io/chime/j...     Feb 28   \n1      <a href=\"https://caci.wd1.myworkdayjobs.com/E...     Feb 28   \n2      <a href=\"https://jobs.smartrecruiters.com/Wes...     Feb 27   \n3      <a href=\"https://www.veracode.com/career/job?...     Feb 27   \n4      <a href=\"https://www.weareroku.com/jobs/57580...     Feb 27   \n...                                                 ...         ...  \n2480                                              üîí    May 2023   \n2481                                              üîí    May 2023   \n2482                                              üîí    May 2023   \n2483                                              üîí    May 2023   \n2484                                              üîí    May 2023   \n\n[2438 rows x 5 columns]",
      "text/html": "<div>\n<style scoped>\n    .dataframe tbody tr th:only-of-type {\n        vertical-align: middle;\n    }\n\n    .dataframe tbody tr th {\n        vertical-align: top;\n    }\n\n    .dataframe thead th {\n        text-align: right;\n    }\n</style>\n<table border=\"1\" class=\"dataframe\">\n  <thead>\n    <tr style=\"text-align: right;\">\n      <th></th>\n      <th>Company</th>\n      <th>Role</th>\n      <th>Location</th>\n      <th>Application/Link</th>\n      <th>Date Posted</th>\n    </tr>\n  </thead>\n  <tbody>\n    <tr>\n      <th>0</th>\n      <td>Chime</td>\n      <td>Software Engineer Intern - Growth Funding</td>\n      <td>SF</td>\n      <td>&lt;a href=\"https://boards.greenhouse.io/chime/j...</td>\n      <td>Feb 28</td>\n    </tr>\n    <tr>\n      <th>1</th>\n      <td>CACI</td>\n      <td>Software Development Intern - Summer 2024</td>\n      <td>Remote in USA</td>\n      <td>&lt;a href=\"https://caci.wd1.myworkdayjobs.com/E...</td>\n      <td>Feb 28</td>\n    </tr>\n    <tr>\n      <th>2</th>\n      <td>Western Digital</td>\n      <td>Summer 2024 Software Engineering Intern</td>\n      <td>Longmont, CO</td>\n      <td>&lt;a href=\"https://jobs.smartrecruiters.com/Wes...</td>\n      <td>Feb 27</td>\n    </tr>\n    <tr>\n      <th>3</th>\n      <td>Veracode</td>\n      <td>Solutions Architecture and Security Consultin...</td>\n      <td>Burlington, MA</td>\n      <td>&lt;a href=\"https://www.veracode.com/career/job?...</td>\n      <td>Feb 27</td>\n    </tr>\n    <tr>\n      <th>4</th>\n      <td>Roku</td>\n      <td>Machine Learning Engineer Intern</td>\n      <td>San Jose, CA</td>\n      <td>&lt;a href=\"https://www.weareroku.com/jobs/57580...</td>\n      <td>Feb 27</td>\n    </tr>\n    <tr>\n      <th>...</th>\n      <td>...</td>\n      <td>...</td>\n      <td>...</td>\n      <td>...</td>\n      <td>...</td>\n    </tr>\n    <tr>\n      <th>2480</th>\n      <td>Zurich</td>\n      <td>Internship Program</td>\n      <td>Multiple Locations</td>\n      <td>üîí</td>\n      <td>May 2023</td>\n    </tr>\n    <tr>\n      <th>2481</th>\n      <td>BTIG</td>\n      <td>Software Engineer Intern</td>\n      <td>Multiple Locations</td>\n      <td>üîí</td>\n      <td>May 2023</td>\n    </tr>\n    <tr>\n      <th>2482</th>\n      <td>Internet Brands</td>\n      <td>Intern Software Engineer</td>\n      <td>Los Angeles, California</td>\n      <td>üîí</td>\n      <td>May 2023</td>\n    </tr>\n    <tr>\n      <th>2483</th>\n      <td>Panasonic</td>\n      <td>Software Electrical Engineer Intern</td>\n      <td>TX</td>\n      <td>üîí</td>\n      <td>May 2023</td>\n    </tr>\n    <tr>\n      <th>2484</th>\n      <td>Capital One</td>\n      <td>Product Development Intern  üõÇ</td>\n      <td>McLean, VA&lt;/br&gt;Plano, TX</td>\n      <td>üîí</td>\n      <td>May 2023</td>\n    </tr>\n  </tbody>\n</table>\n<p>2438 rows × 5 columns</p>\n</div>"
     },
     "execution_count": 25,
     "metadata": {},
     "output_type": "execute_result"
    }
   ],
   "source": [
    "# Drop duplicate rows\n",
    "internship_df.drop_duplicates(inplace=True)\n",
    "internship_df"
   ],
   "metadata": {
    "collapsed": false,
    "ExecuteTime": {
     "end_time": "2024-03-01T04:41:41.104599Z",
     "start_time": "2024-03-01T04:41:41.093050Z"
    }
   },
   "id": "4ab296b7e7eb0aaa",
   "execution_count": 25
  },
  {
   "cell_type": "code",
   "outputs": [],
   "source": [
    "# Assign a Job_ID to each internship\n"
   ],
   "metadata": {
    "collapsed": false
   },
   "id": "a79016ecd4935abb"
  },
  {
   "cell_type": "code",
   "outputs": [],
   "source": [
    "# Randomly impute a value for the Experience, Requirements, Skills, Saliaried, and Duration attributes for each tuple \n",
    "intern_experience_vals = ['None Required', 'Previous industry internship experience required (>=3 months)', 'Previous research/academic experience required (>=3 months)', 'Minimum 1 year previous industry internship experience required', 'Previous research/academic highly desirable']\n",
    "intern_requirements_vals = ['Willing to relocate', 'Willing to travel up to 20%', 'Must meet base technical criteria', 'Must be proficient in Microsoft Office Suite', 'Good sense of humor', 'Ability to work independently', 'Familiar with Agile methodologies', 'Must have valid license', 'Must tolerate dogs in the workplace']\n",
    "intern_skills_vals = ['Python', 'Scala', 'Pandas', 'AI/ML frameworks', 'PyTorch', 'Keras', 'Tensorflow', 'AWS', 'Azure', 'Google Cloud Platform', 'SQL', 'Oracle Databases', 'Databases', 'Java', 'Ruby', 'Ruby SQL', 'Flask', 'SQLite', 'PostGreSQL', 'Tableau', 'PowerBI', 'Software Development', 'C++', 'C#', 'HTML/CSS', 'JavaScript', 'MongoDB', 'Neo4j', 'Agile', 'Scrum', 'Vue.js', 'React', 'Angular', 'Docker', 'Kubernetes', 'Sphinx', 'Jupyter', 'Git', 'Algorithms', 'Django', 'Problem-Solving', 'Leadership', 'Communication', 'Web Development', 'Frontend Stack', 'Backend Stack']\n",
    "duration_vals = ['4 weeks', '8 weeks', '12 weeks', '16 weeks']\n",
    "\n",
    "# Make only 5% of values Salaried = False because I don't want to live in a database world where most companies benefit off the backs of innocent, eager interns \n"
   ],
   "metadata": {
    "collapsed": false
   },
   "id": "63b36dce4f491d4c"
  },
  {
   "cell_type": "code",
   "outputs": [],
   "source": [
    "# Save final internships df in 'Internship_Job.csv' for Internship_Job relation!"
   ],
   "metadata": {
    "collapsed": false
   },
   "id": "c4cc73d184b7eb95"
  },
  {
   "cell_type": "markdown",
   "source": [
    "### Coop Job"
   ],
   "metadata": {
    "collapsed": false
   },
   "id": "8c46e1e59eb544c4"
  },
  {
   "cell_type": "code",
   "outputs": [],
   "source": [],
   "metadata": {
    "collapsed": false
   },
   "id": "4dfa36adc18aee06"
  },
  {
   "cell_type": "code",
   "outputs": [],
   "source": [],
   "metadata": {
    "collapsed": false
   },
   "id": "2604483ab9c3529"
  },
  {
   "cell_type": "markdown",
   "source": [
    "### Company\n",
    "- Mockaroo was used to obtain the Company_ID, Location, and Name column values for N rows, where N was the number of unique companies identified in our job postings. \n",
    "- Because the location option on Mockaroo was only a street address, we impute a random city, state, and zip code as shown below.\n",
    "- Additionally, we assign a random company type for the Type column."
   ],
   "metadata": {
    "collapsed": false
   },
   "id": "9f8aeefe9e4c110f"
  },
  {
   "cell_type": "code",
   "outputs": [
    {
     "data": {
      "text/plain": "                    Company_ID                  Location         Name  Type\n0   01HQSF3HE735NYXMMF8P342E6T    3 Morningstar Crossing       Skyndu   NaN\n1   01HQSF3HE7BFVW5G7FTRPYCPPD         14 Larry Crossing     Brainbox   NaN\n2   01HQSF3HE7HVGEV8MWDNR9D7YQ           734 Sloan Place      Gabcube   NaN\n3   01HQSF3HE8NH4YYAPK2WZQ8ZEM        93710 Dovetail Way         Geba   NaN\n4   01HQSF3HE8D5A288CKDZ5CBK05          3267 Alpine Pass         Katz   NaN\n5   01HQSF3HE82WBJVMKAVJ6Q7DXS           30 Onsgard Pass       Avavee   NaN\n6   01HQSF3HE9VT5B1GE1EB33EANA            1 Walton Court      Yakidoo   NaN\n7   01HQSF3HE9J9HB659PHBKB1CC2       71 American Terrace       Wikizz   NaN\n8   01HQSF3HE9BRSCSWJM9EDENREN     38087 Golf Course Way        Skiba   NaN\n9   01HQSF3HEAAF1FRKHJQHQPBM3K              1 Kim Center         Oozz   NaN\n10  01HQSF3HEAAQ2027HTP5KQ040K               461 1st Way       Devbug   NaN\n11  01HQSF3HEATQ5JG77MDMW3VD49  10793 Burning Wood Plaza      Edgetag   NaN\n12  01HQSF3HEBQ8YTAW4N47DREHEB         4615 Thompson Way         Muxo   NaN\n13  01HQSF3HEB7TZHZEFM83YBGSS5         4313 Donald Place       Skyble   NaN\n14  01HQSF3HEBN4T1TRSSN1CW81HF         15 Caliangt Trail      Blogpad   NaN\n15  01HQSF3HEBECFJMM8BKSKPAYGA       180 Fallview Street       Skivee   NaN\n16  01HQSF3HEBF1MEW2BE8XTA7TY6         749 Farwell Trail     Edgeclub   NaN\n17  01HQSF3HEB4WTA0CXWS442K4EB           97204 Eagan Way       Skinte   NaN\n18  01HQSF3HECEAAMVRQDRPYCBNXM      73587 Caliangt Court        Mycat   NaN\n19  01HQSF3HEC3RS60QWHH7JX71PK     41142 Glendale Circle       Meezzy   NaN\n20  01HQSF3HECX5RN3R74Y5ZSP8TD      2565 Carpenter Place       Tambee   NaN\n21  01HQSF3HECPBW3XX8WQCGCHF8H        156 Tennyson Drive         Ooba   NaN\n22  01HQSF3HEDE7EKP5GYC8B489V4            09 East Avenue      Kwilith   NaN\n23  01HQSF3HEDD5KK6RJD81ZWRH5B             6 Harper Pass        InnoZ   NaN\n24  01HQSF3HED0QVVJTB8JC9FGTX4           751 Carioca Way  Shufflester   NaN\n25  01HQSF3HEE3JRDB9YKVN1BYETY       3 Buena Vista Court    Photobean   NaN\n26  01HQSF3HEEQQMQFVKBTWY8AQ4P        108 Arapahoe Trail   Jabbertype   NaN\n27  01HQSF3HEEQBTMB8X71XKKMYJP            1 Quincy Trail  Jabberstorm   NaN\n28  01HQSF3HEFCS3KR2C3525GAAZ0            46 Stang Drive        Roomm   NaN\n29  01HQSF3HEFQX4ZA3J3Y27WCB2Q      40137 Quincy Parkway        Avamm   NaN\n30  01HQSF3HEG11WX301GKV85M61J       64349 Warbler Point    Wordpedia   NaN\n31  01HQSF3HEGX6MX42P6YX5R4JXC           20 Brown Center     Flashset   NaN\n32  01HQSF3HEG56ES80M4K8PMAXBH         265 Cherokee Road        Zooxo   NaN\n33  01HQSF3HEHZS56RNCB1TZ02ZRE              27 Haas Road       Meevee   NaN\n34  01HQSF3HEH521376011FZWX4ZJ            13 Laurel Hill      Kwimbee   NaN\n35  01HQSF3HEH9N1KQBKR32BC287V         7 Schiller Avenue      Youtags   NaN\n36  01HQSF3HEJTT2AFRN7MVA76HM1         1 Di Loreto Plaza      Feedbug   NaN\n37  01HQSF3HEJF3M7C44EYM03JT43          33 Comanche Lane       Skimia   NaN\n38  01HQSF3HEJ0V3DDMH4CW46PSXH          7428 Clove Drive        Aimbu   NaN\n39  01HQSF3HEJV0TCT0X2Y7RH5EQC           876 Oxford Lane      Gabvine   NaN\n40  01HQSF3HEJPD9C9E854V64A2Z3            46 Erie Circle    Topicware   NaN\n41  01HQSF3HEJQ9QYVJ24E5DKB67K             7 Myrtle Pass       Mybuzz   NaN\n42  01HQSF3HEK828MTAWXBSTNAQ1T        768 Thackeray Pass  Brainlounge   NaN\n43  01HQSF3HEKYXPZ7TDER11TP0AK           6210 Upham Road     Livefish   NaN\n44  01HQSF3HEKQDV6V7YX4WYMRGQ5       61027 Westend Place      Tagtune   NaN\n45  01HQSF3HEK5NPYQH6KNHBGWZ1W       52090 Redwing Drive       Eimbee   NaN",
      "text/html": "<div>\n<style scoped>\n    .dataframe tbody tr th:only-of-type {\n        vertical-align: middle;\n    }\n\n    .dataframe tbody tr th {\n        vertical-align: top;\n    }\n\n    .dataframe thead th {\n        text-align: right;\n    }\n</style>\n<table border=\"1\" class=\"dataframe\">\n  <thead>\n    <tr style=\"text-align: right;\">\n      <th></th>\n      <th>Company_ID</th>\n      <th>Location</th>\n      <th>Name</th>\n      <th>Type</th>\n    </tr>\n  </thead>\n  <tbody>\n    <tr>\n      <th>0</th>\n      <td>01HQSF3HE735NYXMMF8P342E6T</td>\n      <td>3 Morningstar Crossing</td>\n      <td>Skyndu</td>\n      <td>NaN</td>\n    </tr>\n    <tr>\n      <th>1</th>\n      <td>01HQSF3HE7BFVW5G7FTRPYCPPD</td>\n      <td>14 Larry Crossing</td>\n      <td>Brainbox</td>\n      <td>NaN</td>\n    </tr>\n    <tr>\n      <th>2</th>\n      <td>01HQSF3HE7HVGEV8MWDNR9D7YQ</td>\n      <td>734 Sloan Place</td>\n      <td>Gabcube</td>\n      <td>NaN</td>\n    </tr>\n    <tr>\n      <th>3</th>\n      <td>01HQSF3HE8NH4YYAPK2WZQ8ZEM</td>\n      <td>93710 Dovetail Way</td>\n      <td>Geba</td>\n      <td>NaN</td>\n    </tr>\n    <tr>\n      <th>4</th>\n      <td>01HQSF3HE8D5A288CKDZ5CBK05</td>\n      <td>3267 Alpine Pass</td>\n      <td>Katz</td>\n      <td>NaN</td>\n    </tr>\n    <tr>\n      <th>5</th>\n      <td>01HQSF3HE82WBJVMKAVJ6Q7DXS</td>\n      <td>30 Onsgard Pass</td>\n      <td>Avavee</td>\n      <td>NaN</td>\n    </tr>\n    <tr>\n      <th>6</th>\n      <td>01HQSF3HE9VT5B1GE1EB33EANA</td>\n      <td>1 Walton Court</td>\n      <td>Yakidoo</td>\n      <td>NaN</td>\n    </tr>\n    <tr>\n      <th>7</th>\n      <td>01HQSF3HE9J9HB659PHBKB1CC2</td>\n      <td>71 American Terrace</td>\n      <td>Wikizz</td>\n      <td>NaN</td>\n    </tr>\n    <tr>\n      <th>8</th>\n      <td>01HQSF3HE9BRSCSWJM9EDENREN</td>\n      <td>38087 Golf Course Way</td>\n      <td>Skiba</td>\n      <td>NaN</td>\n    </tr>\n    <tr>\n      <th>9</th>\n      <td>01HQSF3HEAAF1FRKHJQHQPBM3K</td>\n      <td>1 Kim Center</td>\n      <td>Oozz</td>\n      <td>NaN</td>\n    </tr>\n    <tr>\n      <th>10</th>\n      <td>01HQSF3HEAAQ2027HTP5KQ040K</td>\n      <td>461 1st Way</td>\n      <td>Devbug</td>\n      <td>NaN</td>\n    </tr>\n    <tr>\n      <th>11</th>\n      <td>01HQSF3HEATQ5JG77MDMW3VD49</td>\n      <td>10793 Burning Wood Plaza</td>\n      <td>Edgetag</td>\n      <td>NaN</td>\n    </tr>\n    <tr>\n      <th>12</th>\n      <td>01HQSF3HEBQ8YTAW4N47DREHEB</td>\n      <td>4615 Thompson Way</td>\n      <td>Muxo</td>\n      <td>NaN</td>\n    </tr>\n    <tr>\n      <th>13</th>\n      <td>01HQSF3HEB7TZHZEFM83YBGSS5</td>\n      <td>4313 Donald Place</td>\n      <td>Skyble</td>\n      <td>NaN</td>\n    </tr>\n    <tr>\n      <th>14</th>\n      <td>01HQSF3HEBN4T1TRSSN1CW81HF</td>\n      <td>15 Caliangt Trail</td>\n      <td>Blogpad</td>\n      <td>NaN</td>\n    </tr>\n    <tr>\n      <th>15</th>\n      <td>01HQSF3HEBECFJMM8BKSKPAYGA</td>\n      <td>180 Fallview Street</td>\n      <td>Skivee</td>\n      <td>NaN</td>\n    </tr>\n    <tr>\n      <th>16</th>\n      <td>01HQSF3HEBF1MEW2BE8XTA7TY6</td>\n      <td>749 Farwell Trail</td>\n      <td>Edgeclub</td>\n      <td>NaN</td>\n    </tr>\n    <tr>\n      <th>17</th>\n      <td>01HQSF3HEB4WTA0CXWS442K4EB</td>\n      <td>97204 Eagan Way</td>\n      <td>Skinte</td>\n      <td>NaN</td>\n    </tr>\n    <tr>\n      <th>18</th>\n      <td>01HQSF3HECEAAMVRQDRPYCBNXM</td>\n      <td>73587 Caliangt Court</td>\n      <td>Mycat</td>\n      <td>NaN</td>\n    </tr>\n    <tr>\n      <th>19</th>\n      <td>01HQSF3HEC3RS60QWHH7JX71PK</td>\n      <td>41142 Glendale Circle</td>\n      <td>Meezzy</td>\n      <td>NaN</td>\n    </tr>\n    <tr>\n      <th>20</th>\n      <td>01HQSF3HECX5RN3R74Y5ZSP8TD</td>\n      <td>2565 Carpenter Place</td>\n      <td>Tambee</td>\n      <td>NaN</td>\n    </tr>\n    <tr>\n      <th>21</th>\n      <td>01HQSF3HECPBW3XX8WQCGCHF8H</td>\n      <td>156 Tennyson Drive</td>\n      <td>Ooba</td>\n      <td>NaN</td>\n    </tr>\n    <tr>\n      <th>22</th>\n      <td>01HQSF3HEDE7EKP5GYC8B489V4</td>\n      <td>09 East Avenue</td>\n      <td>Kwilith</td>\n      <td>NaN</td>\n    </tr>\n    <tr>\n      <th>23</th>\n      <td>01HQSF3HEDD5KK6RJD81ZWRH5B</td>\n      <td>6 Harper Pass</td>\n      <td>InnoZ</td>\n      <td>NaN</td>\n    </tr>\n    <tr>\n      <th>24</th>\n      <td>01HQSF3HED0QVVJTB8JC9FGTX4</td>\n      <td>751 Carioca Way</td>\n      <td>Shufflester</td>\n      <td>NaN</td>\n    </tr>\n    <tr>\n      <th>25</th>\n      <td>01HQSF3HEE3JRDB9YKVN1BYETY</td>\n      <td>3 Buena Vista Court</td>\n      <td>Photobean</td>\n      <td>NaN</td>\n    </tr>\n    <tr>\n      <th>26</th>\n      <td>01HQSF3HEEQQMQFVKBTWY8AQ4P</td>\n      <td>108 Arapahoe Trail</td>\n      <td>Jabbertype</td>\n      <td>NaN</td>\n    </tr>\n    <tr>\n      <th>27</th>\n      <td>01HQSF3HEEQBTMB8X71XKKMYJP</td>\n      <td>1 Quincy Trail</td>\n      <td>Jabberstorm</td>\n      <td>NaN</td>\n    </tr>\n    <tr>\n      <th>28</th>\n      <td>01HQSF3HEFCS3KR2C3525GAAZ0</td>\n      <td>46 Stang Drive</td>\n      <td>Roomm</td>\n      <td>NaN</td>\n    </tr>\n    <tr>\n      <th>29</th>\n      <td>01HQSF3HEFQX4ZA3J3Y27WCB2Q</td>\n      <td>40137 Quincy Parkway</td>\n      <td>Avamm</td>\n      <td>NaN</td>\n    </tr>\n    <tr>\n      <th>30</th>\n      <td>01HQSF3HEG11WX301GKV85M61J</td>\n      <td>64349 Warbler Point</td>\n      <td>Wordpedia</td>\n      <td>NaN</td>\n    </tr>\n    <tr>\n      <th>31</th>\n      <td>01HQSF3HEGX6MX42P6YX5R4JXC</td>\n      <td>20 Brown Center</td>\n      <td>Flashset</td>\n      <td>NaN</td>\n    </tr>\n    <tr>\n      <th>32</th>\n      <td>01HQSF3HEG56ES80M4K8PMAXBH</td>\n      <td>265 Cherokee Road</td>\n      <td>Zooxo</td>\n      <td>NaN</td>\n    </tr>\n    <tr>\n      <th>33</th>\n      <td>01HQSF3HEHZS56RNCB1TZ02ZRE</td>\n      <td>27 Haas Road</td>\n      <td>Meevee</td>\n      <td>NaN</td>\n    </tr>\n    <tr>\n      <th>34</th>\n      <td>01HQSF3HEH521376011FZWX4ZJ</td>\n      <td>13 Laurel Hill</td>\n      <td>Kwimbee</td>\n      <td>NaN</td>\n    </tr>\n    <tr>\n      <th>35</th>\n      <td>01HQSF3HEH9N1KQBKR32BC287V</td>\n      <td>7 Schiller Avenue</td>\n      <td>Youtags</td>\n      <td>NaN</td>\n    </tr>\n    <tr>\n      <th>36</th>\n      <td>01HQSF3HEJTT2AFRN7MVA76HM1</td>\n      <td>1 Di Loreto Plaza</td>\n      <td>Feedbug</td>\n      <td>NaN</td>\n    </tr>\n    <tr>\n      <th>37</th>\n      <td>01HQSF3HEJF3M7C44EYM03JT43</td>\n      <td>33 Comanche Lane</td>\n      <td>Skimia</td>\n      <td>NaN</td>\n    </tr>\n    <tr>\n      <th>38</th>\n      <td>01HQSF3HEJ0V3DDMH4CW46PSXH</td>\n      <td>7428 Clove Drive</td>\n      <td>Aimbu</td>\n      <td>NaN</td>\n    </tr>\n    <tr>\n      <th>39</th>\n      <td>01HQSF3HEJV0TCT0X2Y7RH5EQC</td>\n      <td>876 Oxford Lane</td>\n      <td>Gabvine</td>\n      <td>NaN</td>\n    </tr>\n    <tr>\n      <th>40</th>\n      <td>01HQSF3HEJPD9C9E854V64A2Z3</td>\n      <td>46 Erie Circle</td>\n      <td>Topicware</td>\n      <td>NaN</td>\n    </tr>\n    <tr>\n      <th>41</th>\n      <td>01HQSF3HEJQ9QYVJ24E5DKB67K</td>\n      <td>7 Myrtle Pass</td>\n      <td>Mybuzz</td>\n      <td>NaN</td>\n    </tr>\n    <tr>\n      <th>42</th>\n      <td>01HQSF3HEK828MTAWXBSTNAQ1T</td>\n      <td>768 Thackeray Pass</td>\n      <td>Brainlounge</td>\n      <td>NaN</td>\n    </tr>\n    <tr>\n      <th>43</th>\n      <td>01HQSF3HEKYXPZ7TDER11TP0AK</td>\n      <td>6210 Upham Road</td>\n      <td>Livefish</td>\n      <td>NaN</td>\n    </tr>\n    <tr>\n      <th>44</th>\n      <td>01HQSF3HEKQDV6V7YX4WYMRGQ5</td>\n      <td>61027 Westend Place</td>\n      <td>Tagtune</td>\n      <td>NaN</td>\n    </tr>\n    <tr>\n      <th>45</th>\n      <td>01HQSF3HEK5NPYQH6KNHBGWZ1W</td>\n      <td>52090 Redwing Drive</td>\n      <td>Eimbee</td>\n      <td>NaN</td>\n    </tr>\n  </tbody>\n</table>\n</div>"
     },
     "execution_count": 4,
     "metadata": {},
     "output_type": "execute_result"
    }
   ],
   "source": [
    "company_df = pd.read_csv('data/Company.csv', header=0)\n",
    "company_df"
   ],
   "metadata": {
    "collapsed": false,
    "ExecuteTime": {
     "end_time": "2024-03-01T02:55:32.857565Z",
     "start_time": "2024-03-01T02:55:32.846031Z"
    }
   },
   "id": "b27b3dea9e75b14b",
   "execution_count": 4
  },
  {
   "cell_type": "code",
   "outputs": [],
   "source": [
    "# Mapping of 'tech hub' cities, their state, and some example zip codes (making sure the city, state, and zip codes are coherent relative to each other). \n",
    "# Zip codes were obtained from Google searches. \n",
    "tech_hub_cities_mapping = {\n",
    "    'New York': {'state': 'New York', 'zip_codes': ['10001', '10002', '10003']},\n",
    "    'San Francisco': {'state': 'California', 'zip_codes': ['94102', '94103', '94107']},\n",
    "    'Los Angeles': {'state': 'California', 'zip_codes': ['90001', '90002', '90003']},\n",
    "    'Austin': {'state': 'Texas', 'zip_codes': ['73301', '73344', '778613']},\n",
    "    'Dallas': {'state': 'Texas', 'zip_codes': ['75001', '75019', '75032']},\n",
    "    'Seattle': {'state': 'Washington', 'zip_codes': ['98101', '98102', '98103']},\n",
    "    'Atlanta': {'state': 'Georgia', 'zip_codes': ['30033', '30301', '30303']},\n",
    "    'Denver': {'state': 'Colorado', 'zip_codes': ['80014', '80019', '80022']},\n",
    "    'Chicago': {'state': 'Illinois', 'zip_codes': ['60007', '60018', '60106']},\n",
    "    'Miami': {'state': 'Florida', 'zip_codes': ['33101', '33109', '33126']},\n",
    "    'Tampa': {'state': 'Florida', 'zip_codes': ['33592', '33601', '33602']},\n",
    "    'Boston': {'state': 'Massachusetts', 'zip_codes': ['02108', '02110', '02111']}\n",
    "}\n",
    "\n",
    "def generate_address():\n",
    "    \"\"\"Randomly selects a city and corresponding state and zip code from tech hub cities dictionary above.\"\"\"\n",
    "    city = random.choice(list(tech_hub_cities_mapping.keys()))\n",
    "    state = tech_hub_cities_mapping[city]['state']\n",
    "    zip_code = random.choice(tech_hub_cities_mapping[city]['zip_codes'])\n",
    "    return f\"{city}, {state}, {zip_code}\"\n",
    "\n",
    "# Assign random city, state, and zip code to each address\n",
    "#company_df['Address'] = company_df['Address'].apply(lambda x: generate_address())\n",
    "#company_df "
   ],
   "metadata": {
    "collapsed": false,
    "ExecuteTime": {
     "end_time": "2024-03-01T03:42:10.154221Z",
     "start_time": "2024-03-01T03:42:10.149831Z"
    }
   },
   "id": "6c8ab412613aed29",
   "execution_count": 5
  },
  {
   "cell_type": "code",
   "outputs": [],
   "source": [
    "# Assign each company a random 'type' from some preset company types\n",
    "company_types = ['Private Corporation', 'Non-Profit Organization']"
   ],
   "metadata": {
    "collapsed": false
   },
   "id": "bd795f77d1f776d5"
  },
  {
   "cell_type": "code",
   "outputs": [],
   "source": [],
   "metadata": {
    "collapsed": false
   },
   "id": "21ca833163510b73"
  },
  {
   "cell_type": "markdown",
   "source": [
    "### Employee\n",
    "- Mockaroo was used to generate the Employee_ID, Name, Job Title, Department, and Company column values. \n",
    "- However, because Mockaroo generates either fake or random real company names that may or may not have been represented in our (real) job postings data, we modified the Company column by imputing it with random Company names sourced from our Company relation. This improves our application data's realism significantly by making the two relations more consistent with each other."
   ],
   "metadata": {
    "collapsed": false
   },
   "id": "99ad15cd8f14d769"
  },
  {
   "cell_type": "code",
   "outputs": [
    {
     "data": {
      "text/plain": "                   Employee_ID               Name  \\\n0   01HQ9SN558SBTGP3CJ0SFCNX58       Johan Debold   \n1   01HQ9SN559DXNCX8PZGSPX86DQ      Aaron Janicki   \n2   01HQ9SN55ADXDE35WM2X25FRFN   Atalanta Watting   \n3   01HQ9SN55BJ68WCF69VZ75WN9D       Kippie Caple   \n4   01HQ9SN55B1AQ4A44XRSQYVQ4B   Francklyn Jansey   \n..                         ...                ...   \n94  01HQ9SN57BECEEC1DEDFDV2HPN  Katheryn Joannidi   \n95  01HQ9SN57B6SHA3DBMQQWB97AV       Irwin Giffen   \n96  01HQ9SN57C19SH5TQ03KMD41XB      Sarette Cheel   \n97  01HQ9SN57DA8AY2Y6M4EE0KYVJ        Hillel Pero   \n98  01HQ9SN57DHCJ84D75BYFBF1JV      Natty Dagwell   \n\n                         Job Title            Department  \\\n0                  Design Engineer            Accounting   \n1   Payment Adjustment Coordinator            Accounting   \n2                Marketing Manager  Business Development   \n3                Director of Sales               Support   \n4           Administrative Officer                 Sales   \n..                             ...                   ...   \n94                       Professor               Support   \n95              Help Desk Operator              Services   \n96              Speech Pathologist    Product Management   \n97        Senior Financial Analyst  Business Development   \n98               Assistant Manager                 Sales   \n\n                      Company  \n0                    Lendbuzz  \n1                  Zeno Group  \n2        Second Order Effects  \n3                        Domo  \n4              Comerica Bank   \n..                        ...  \n94                     Tempus  \n95        Northwestern Mutual  \n96                     Skydio  \n97   The Walt Disney Company   \n98                      Ebay   \n\n[99 rows x 5 columns]",
      "text/html": "<div>\n<style scoped>\n    .dataframe tbody tr th:only-of-type {\n        vertical-align: middle;\n    }\n\n    .dataframe tbody tr th {\n        vertical-align: top;\n    }\n\n    .dataframe thead th {\n        text-align: right;\n    }\n</style>\n<table border=\"1\" class=\"dataframe\">\n  <thead>\n    <tr style=\"text-align: right;\">\n      <th></th>\n      <th>Employee_ID</th>\n      <th>Name</th>\n      <th>Job Title</th>\n      <th>Department</th>\n      <th>Company</th>\n    </tr>\n  </thead>\n  <tbody>\n    <tr>\n      <th>0</th>\n      <td>01HQ9SN558SBTGP3CJ0SFCNX58</td>\n      <td>Johan Debold</td>\n      <td>Design Engineer</td>\n      <td>Accounting</td>\n      <td>Lendbuzz</td>\n    </tr>\n    <tr>\n      <th>1</th>\n      <td>01HQ9SN559DXNCX8PZGSPX86DQ</td>\n      <td>Aaron Janicki</td>\n      <td>Payment Adjustment Coordinator</td>\n      <td>Accounting</td>\n      <td>Zeno Group</td>\n    </tr>\n    <tr>\n      <th>2</th>\n      <td>01HQ9SN55ADXDE35WM2X25FRFN</td>\n      <td>Atalanta Watting</td>\n      <td>Marketing Manager</td>\n      <td>Business Development</td>\n      <td>Second Order Effects</td>\n    </tr>\n    <tr>\n      <th>3</th>\n      <td>01HQ9SN55BJ68WCF69VZ75WN9D</td>\n      <td>Kippie Caple</td>\n      <td>Director of Sales</td>\n      <td>Support</td>\n      <td>Domo</td>\n    </tr>\n    <tr>\n      <th>4</th>\n      <td>01HQ9SN55B1AQ4A44XRSQYVQ4B</td>\n      <td>Francklyn Jansey</td>\n      <td>Administrative Officer</td>\n      <td>Sales</td>\n      <td>Comerica Bank</td>\n    </tr>\n    <tr>\n      <th>...</th>\n      <td>...</td>\n      <td>...</td>\n      <td>...</td>\n      <td>...</td>\n      <td>...</td>\n    </tr>\n    <tr>\n      <th>94</th>\n      <td>01HQ9SN57BECEEC1DEDFDV2HPN</td>\n      <td>Katheryn Joannidi</td>\n      <td>Professor</td>\n      <td>Support</td>\n      <td>Tempus</td>\n    </tr>\n    <tr>\n      <th>95</th>\n      <td>01HQ9SN57B6SHA3DBMQQWB97AV</td>\n      <td>Irwin Giffen</td>\n      <td>Help Desk Operator</td>\n      <td>Services</td>\n      <td>Northwestern Mutual</td>\n    </tr>\n    <tr>\n      <th>96</th>\n      <td>01HQ9SN57C19SH5TQ03KMD41XB</td>\n      <td>Sarette Cheel</td>\n      <td>Speech Pathologist</td>\n      <td>Product Management</td>\n      <td>Skydio</td>\n    </tr>\n    <tr>\n      <th>97</th>\n      <td>01HQ9SN57DA8AY2Y6M4EE0KYVJ</td>\n      <td>Hillel Pero</td>\n      <td>Senior Financial Analyst</td>\n      <td>Business Development</td>\n      <td>The Walt Disney Company</td>\n    </tr>\n    <tr>\n      <th>98</th>\n      <td>01HQ9SN57DHCJ84D75BYFBF1JV</td>\n      <td>Natty Dagwell</td>\n      <td>Assistant Manager</td>\n      <td>Sales</td>\n      <td>Ebay</td>\n    </tr>\n  </tbody>\n</table>\n<p>99 rows × 5 columns</p>\n</div>"
     },
     "execution_count": 26,
     "metadata": {},
     "output_type": "execute_result"
    }
   ],
   "source": [
    "employee_df = pd.read_csv('data/Employee.csv')\n",
    "employee_df"
   ],
   "metadata": {
    "collapsed": false,
    "ExecuteTime": {
     "end_time": "2024-03-01T04:52:19.149489Z",
     "start_time": "2024-03-01T04:52:19.139420Z"
    }
   },
   "id": "272eb4fdb7124a14",
   "execution_count": 26
  },
  {
   "cell_type": "markdown",
   "source": [
    "### Recruiter"
   ],
   "metadata": {
    "collapsed": false
   },
   "id": "b566e16fedfd48cf"
  },
  {
   "cell_type": "code",
   "outputs": [],
   "source": [],
   "metadata": {
    "collapsed": false,
    "ExecuteTime": {
     "end_time": "2024-03-01T02:50:18.610512Z",
     "start_time": "2024-03-01T02:50:18.608802Z"
    }
   },
   "id": "3a19d9c69b0639af",
   "execution_count": 0
  },
  {
   "cell_type": "markdown",
   "source": [
    "### Candidate"
   ],
   "metadata": {
    "collapsed": false
   },
   "id": "57e8f87ab026ba31"
  },
  {
   "cell_type": "code",
   "outputs": [],
   "source": [],
   "metadata": {
    "collapsed": false,
    "ExecuteTime": {
     "end_time": "2024-03-01T02:50:18.612821Z",
     "start_time": "2024-03-01T02:50:18.611362Z"
    }
   },
   "id": "cc073338c0689875",
   "execution_count": 0
  },
  {
   "cell_type": "markdown",
   "source": [
    "### Job Portal"
   ],
   "metadata": {
    "collapsed": false
   },
   "id": "7bb48c4278f22c01"
  },
  {
   "cell_type": "code",
   "outputs": [],
   "source": [],
   "metadata": {
    "collapsed": false,
    "ExecuteTime": {
     "end_time": "2024-03-01T02:50:18.614876Z",
     "start_time": "2024-03-01T02:50:18.613484Z"
    }
   },
   "id": "42d12b2cefb12cb7",
   "execution_count": 0
  },
  {
   "cell_type": "markdown",
   "source": [
    "### Job Posting"
   ],
   "metadata": {
    "collapsed": false
   },
   "id": "9e60b5ca33ed382c"
  },
  {
   "cell_type": "code",
   "outputs": [],
   "source": [],
   "metadata": {
    "collapsed": false,
    "ExecuteTime": {
     "end_time": "2024-03-01T02:50:18.768750Z",
     "start_time": "2024-03-01T02:50:18.766635Z"
    }
   },
   "id": "7f1223f34e585ca1",
   "execution_count": 0
  },
  {
   "cell_type": "markdown",
   "source": [
    "### Review"
   ],
   "metadata": {
    "collapsed": false
   },
   "id": "dfed14da682bf298"
  },
  {
   "cell_type": "code",
   "outputs": [],
   "source": [
    "# Generate Reviews using random review ID and an LLM for the Review body"
   ],
   "metadata": {
    "collapsed": false,
    "ExecuteTime": {
     "end_time": "2024-03-01T02:50:30.183414Z",
     "start_time": "2024-03-01T02:50:30.181397Z"
    }
   },
   "id": "65f8348474bf9868",
   "execution_count": null
  },
  {
   "cell_type": "code",
   "outputs": [],
   "source": [],
   "metadata": {
    "collapsed": false
   },
   "id": "497c50fd1e2f8100"
  }
 ],
 "metadata": {
  "kernelspec": {
   "display_name": "Python 3",
   "language": "python",
   "name": "python3"
  },
  "language_info": {
   "codemirror_mode": {
    "name": "ipython",
    "version": 2
   },
   "file_extension": ".py",
   "mimetype": "text/x-python",
   "name": "python",
   "nbconvert_exporter": "python",
   "pygments_lexer": "ipython2",
   "version": "2.7.6"
  }
 },
 "nbformat": 4,
 "nbformat_minor": 5
}
