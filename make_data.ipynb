{
 "cells": [
  {
   "cell_type": "markdown",
   "source": [
    "## Talent Trove Data Generation"
   ],
   "metadata": {
    "collapsed": false
   },
   "id": "1d7b5e30237646f"
  },
  {
   "cell_type": "markdown",
   "source": [
    "In order to populate our Talent Trove database, we used real job postings from job aggregators online (e.g. Simplify by Michael Yan) for our job postings, and Mockaroo for our other tables. Additionally, we use an LLM as shown below to generate authentic-seeming reviews for the Review table text. \n",
    "\n",
    "The procedure used to obtain and preprocess each data CSV for the Talent Trove Database relations is described under its respective heading."
   ],
   "metadata": {
    "collapsed": false
   },
   "id": "ec0fd8522aae10ad"
  },
  {
   "cell_type": "markdown",
   "source": [
    "### Import Statements"
   ],
   "metadata": {
    "collapsed": false
   },
   "id": "7b276d44ce60d5be"
  },
  {
   "cell_type": "code",
   "outputs": [
    {
     "name": "stdout",
     "output_type": "stream",
     "text": [
      "Requirement already satisfied: openai in ./.venv/lib/python3.10/site-packages (1.13.3)\r\n",
      "Requirement already satisfied: anyio<5,>=3.5.0 in ./.venv/lib/python3.10/site-packages (from openai) (4.3.0)\r\n",
      "Requirement already satisfied: distro<2,>=1.7.0 in ./.venv/lib/python3.10/site-packages (from openai) (1.9.0)\r\n",
      "Requirement already satisfied: httpx<1,>=0.23.0 in ./.venv/lib/python3.10/site-packages (from openai) (0.27.0)\r\n",
      "Requirement already satisfied: pydantic<3,>=1.9.0 in ./.venv/lib/python3.10/site-packages (from openai) (2.6.3)\r\n",
      "Requirement already satisfied: sniffio in ./.venv/lib/python3.10/site-packages (from openai) (1.3.1)\r\n",
      "Requirement already satisfied: tqdm>4 in ./.venv/lib/python3.10/site-packages (from openai) (4.66.2)\r\n",
      "Requirement already satisfied: typing-extensions<5,>=4.7 in ./.venv/lib/python3.10/site-packages (from openai) (4.10.0)\r\n",
      "Requirement already satisfied: idna>=2.8 in ./.venv/lib/python3.10/site-packages (from anyio<5,>=3.5.0->openai) (3.6)\r\n",
      "Requirement already satisfied: exceptiongroup>=1.0.2 in ./.venv/lib/python3.10/site-packages (from anyio<5,>=3.5.0->openai) (1.2.0)\r\n",
      "Requirement already satisfied: certifi in ./.venv/lib/python3.10/site-packages (from httpx<1,>=0.23.0->openai) (2024.2.2)\r\n",
      "Requirement already satisfied: httpcore==1.* in ./.venv/lib/python3.10/site-packages (from httpx<1,>=0.23.0->openai) (1.0.4)\r\n",
      "Requirement already satisfied: h11<0.15,>=0.13 in ./.venv/lib/python3.10/site-packages (from httpcore==1.*->httpx<1,>=0.23.0->openai) (0.14.0)\r\n",
      "Requirement already satisfied: annotated-types>=0.4.0 in ./.venv/lib/python3.10/site-packages (from pydantic<3,>=1.9.0->openai) (0.6.0)\r\n",
      "Requirement already satisfied: pydantic-core==2.16.3 in ./.venv/lib/python3.10/site-packages (from pydantic<3,>=1.9.0->openai) (2.16.3)\r\n",
      "\r\n",
      "\u001B[1m[\u001B[0m\u001B[34;49mnotice\u001B[0m\u001B[1;39;49m]\u001B[0m\u001B[39;49m A new release of pip is available: \u001B[0m\u001B[31;49m23.2.1\u001B[0m\u001B[39;49m -> \u001B[0m\u001B[32;49m24.0\u001B[0m\r\n",
      "\u001B[1m[\u001B[0m\u001B[34;49mnotice\u001B[0m\u001B[1;39;49m]\u001B[0m\u001B[39;49m To update, run: \u001B[0m\u001B[32;49mpip install --upgrade pip\u001B[0m\r\n"
     ]
    }
   ],
   "source": [
    "import os\n",
    "import time\n",
    "import random\n",
    "! pip install openai\n",
    "import openai\n",
    "import pandas as pd\n",
    "import numpy as np\n",
    "import torch"
   ],
   "metadata": {
    "collapsed": false,
    "ExecuteTime": {
     "end_time": "2024-03-01T22:51:02.532637Z",
     "start_time": "2024-03-01T22:51:01.115700Z"
    }
   },
   "id": "ec01320404d9f943",
   "execution_count": 55
  },
  {
   "cell_type": "code",
   "outputs": [],
   "source": [
    "# Set OPENAI_API_KEY\n",
    "os.environ['OPENAI_API_KEY'] = ''"
   ],
   "metadata": {
    "collapsed": false,
    "ExecuteTime": {
     "end_time": "2024-03-01T22:41:40.767088Z",
     "start_time": "2024-03-01T22:41:40.764777Z"
    }
   },
   "id": "4cb2e2cb9de0f416",
   "execution_count": 47
  },
  {
   "cell_type": "markdown",
   "source": [
    "### Full Time Job\n",
    "- The data scraped from the above included the Role, Location, Application Link, and Date Posted for each tuple. \n",
    "\n",
    "#### Preprocessing: \n",
    "- \n",
    "- "
   ],
   "metadata": {
    "collapsed": false
   },
   "id": "1447f0172d039c04"
  },
  {
   "cell_type": "code",
   "outputs": [
    {
     "data": {
      "text/plain": "                    Company                                    Role  \\\n0       Squarepoint Capital                       Financing Trader    \n1     Altera Digital Health   Associate Software Engineer - Remote    \n2     Altera Digital Health   Associate Software Engineer - Remote    \n3                     Lucid                           Data Analyst    \n4                     Lucid                           Data Analyst    \n..                      ...                                     ...   \n475        Virtu Financial              Trading Operations Analyst    \n476  Tower Research Capital          Quantitative Research Analyst    \n477                Harmony                     AI Backend Engineer    \n478           IXL Learning          Software Engineer ‚Äì New Grad    \n479           Konrad Group      Software Developer ‚Äì Entry Level    \n\n                                              Location  \\\n0                                          London, UK    \n1                                       Remote in USA    \n2                                       Remote in USA    \n3                                         Raleigh, NC    \n4                                  Salt Lake City, UT    \n..                                                 ...   \n475                                        Austin, TX    \n476   <details><summary>**5 locations**</summary>La...   \n477                                     Palo Alto, CA    \n478                                       Raleigh, NC    \n479                             Vancouver, BC, Canada    \n\n                                      Application/Link Date Posted  \n0     <a href=\"https://boards.greenhouse.io/embed/j...     Feb 28   \n1     <a href=\"https://boards.greenhouse.io/alterad...     Feb 28   \n2     <a href=\"https://boards.greenhouse.io/alterad...     Feb 28   \n3     <a href=\"https://boards.greenhouse.io/lucidso...     Feb 28   \n4     <a href=\"https://boards.greenhouse.io/lucidso...     Feb 28   \n..                                                 ...         ...  \n475                                              üîí      Jul 19   \n476   <a href=\"https://www.tower-research.com/open-...     Jul 19   \n477                                              üîí      Jul 19   \n478                                              üîí      Jul 19   \n479                                              üîí      Jul 19   \n\n[480 rows x 5 columns]",
      "text/html": "<div>\n<style scoped>\n    .dataframe tbody tr th:only-of-type {\n        vertical-align: middle;\n    }\n\n    .dataframe tbody tr th {\n        vertical-align: top;\n    }\n\n    .dataframe thead th {\n        text-align: right;\n    }\n</style>\n<table border=\"1\" class=\"dataframe\">\n  <thead>\n    <tr style=\"text-align: right;\">\n      <th></th>\n      <th>Company</th>\n      <th>Role</th>\n      <th>Location</th>\n      <th>Application/Link</th>\n      <th>Date Posted</th>\n    </tr>\n  </thead>\n  <tbody>\n    <tr>\n      <th>0</th>\n      <td>Squarepoint Capital</td>\n      <td>Financing Trader</td>\n      <td>London, UK</td>\n      <td>&lt;a href=\"https://boards.greenhouse.io/embed/j...</td>\n      <td>Feb 28</td>\n    </tr>\n    <tr>\n      <th>1</th>\n      <td>Altera Digital Health</td>\n      <td>Associate Software Engineer - Remote</td>\n      <td>Remote in USA</td>\n      <td>&lt;a href=\"https://boards.greenhouse.io/alterad...</td>\n      <td>Feb 28</td>\n    </tr>\n    <tr>\n      <th>2</th>\n      <td>Altera Digital Health</td>\n      <td>Associate Software Engineer - Remote</td>\n      <td>Remote in USA</td>\n      <td>&lt;a href=\"https://boards.greenhouse.io/alterad...</td>\n      <td>Feb 28</td>\n    </tr>\n    <tr>\n      <th>3</th>\n      <td>Lucid</td>\n      <td>Data Analyst</td>\n      <td>Raleigh, NC</td>\n      <td>&lt;a href=\"https://boards.greenhouse.io/lucidso...</td>\n      <td>Feb 28</td>\n    </tr>\n    <tr>\n      <th>4</th>\n      <td>Lucid</td>\n      <td>Data Analyst</td>\n      <td>Salt Lake City, UT</td>\n      <td>&lt;a href=\"https://boards.greenhouse.io/lucidso...</td>\n      <td>Feb 28</td>\n    </tr>\n    <tr>\n      <th>...</th>\n      <td>...</td>\n      <td>...</td>\n      <td>...</td>\n      <td>...</td>\n      <td>...</td>\n    </tr>\n    <tr>\n      <th>475</th>\n      <td>Virtu Financial</td>\n      <td>Trading Operations Analyst</td>\n      <td>Austin, TX</td>\n      <td>üîí</td>\n      <td>Jul 19</td>\n    </tr>\n    <tr>\n      <th>476</th>\n      <td>Tower Research Capital</td>\n      <td>Quantitative Research Analyst</td>\n      <td>&lt;details&gt;&lt;summary&gt;**5 locations**&lt;/summary&gt;La...</td>\n      <td>&lt;a href=\"https://www.tower-research.com/open-...</td>\n      <td>Jul 19</td>\n    </tr>\n    <tr>\n      <th>477</th>\n      <td>Harmony</td>\n      <td>AI Backend Engineer</td>\n      <td>Palo Alto, CA</td>\n      <td>üîí</td>\n      <td>Jul 19</td>\n    </tr>\n    <tr>\n      <th>478</th>\n      <td>IXL Learning</td>\n      <td>Software Engineer ‚Äì New Grad</td>\n      <td>Raleigh, NC</td>\n      <td>üîí</td>\n      <td>Jul 19</td>\n    </tr>\n    <tr>\n      <th>479</th>\n      <td>Konrad Group</td>\n      <td>Software Developer ‚Äì Entry Level</td>\n      <td>Vancouver, BC, Canada</td>\n      <td>üîí</td>\n      <td>Jul 19</td>\n    </tr>\n  </tbody>\n</table>\n<p>480 rows × 5 columns</p>\n</div>"
     },
     "execution_count": 2,
     "metadata": {},
     "output_type": "execute_result"
    }
   ],
   "source": [
    "full_time_job_df = pd.read_csv('data/Tech_Full_Time_Roles.csv', header=0)\n",
    "full_time_job_df"
   ],
   "metadata": {
    "collapsed": false,
    "ExecuteTime": {
     "end_time": "2024-03-01T22:12:11.127641Z",
     "start_time": "2024-03-01T22:12:11.104712Z"
    }
   },
   "id": "cc12f2e657b05cf8",
   "execution_count": 2
  },
  {
   "cell_type": "code",
   "outputs": [
    {
     "name": "stdout",
     "output_type": "stream",
     "text": [
      "300\n"
     ]
    }
   ],
   "source": [
    "# Keep only 300 rows\n",
    "full_time_job_df = full_time_job_df[:300]\n",
    "print(len(full_time_job_df))"
   ],
   "metadata": {
    "collapsed": false,
    "ExecuteTime": {
     "end_time": "2024-03-01T22:12:12.354651Z",
     "start_time": "2024-03-01T22:12:12.351976Z"
    }
   },
   "id": "4cc355842ceccc8",
   "execution_count": 3
  },
  {
   "cell_type": "code",
   "outputs": [],
   "source": [],
   "metadata": {
    "collapsed": false,
    "ExecuteTime": {
     "end_time": "2024-03-01T22:12:13.557916Z",
     "start_time": "2024-03-01T22:12:13.556268Z"
    }
   },
   "id": "5a820f8f1385b4d2",
   "execution_count": 3
  },
  {
   "cell_type": "code",
   "outputs": [],
   "source": [
    "full_time_requirements = ['Tableau data analyst certification', 'AWS Cloud Practitioner certification']"
   ],
   "metadata": {
    "collapsed": false,
    "ExecuteTime": {
     "end_time": "2024-03-01T22:12:13.973863Z",
     "start_time": "2024-03-01T22:12:13.971046Z"
    }
   },
   "id": "89e41f4ac87e6273",
   "execution_count": 4
  },
  {
   "cell_type": "code",
   "outputs": [],
   "source": [
    "# Save final job postings df for full time roles in 'Full_Time_Job.csv' for Full_Time_Job relation!"
   ],
   "metadata": {
    "collapsed": false,
    "ExecuteTime": {
     "end_time": "2024-03-01T22:12:14.389868Z",
     "start_time": "2024-03-01T22:12:14.387401Z"
    }
   },
   "id": "85601a15a5fe6983",
   "execution_count": 5
  },
  {
   "cell_type": "markdown",
   "source": [
    "### Internship\n",
    "- Our original internship data, stored in Tech_Internship.csv, was sourced from the Github page \"Summer 2024 Tech Internships by Pitt CSC & Simplify\" owned by Simplify, found here, on February 28th: https://github.com/SimplifyJobs/Summer2024-Internships\n",
    "- This included Company, Role, Location, Application/Link, and Date Posted for each role. \n",
    "- For our Internship_Job table, we need Job_ID, Experience, Location, Requirements, Skills, Salaried (boolean), and Duration attributes.\n",
    " \n",
    "#### Preprocessing: \n",
    "- In the initial data scraped from Github, a 'Ü≥' symbol was present in certain rows' 'Company' column denoting that the company name is the same as in the row before it. We impute the correct company name for each occurrence of this symbol.\n",
    "- We dropped the Application/Link and Date Posted columns. \n",
    "- We generate a unique integer Job_ID for each internship posting.\n",
    "- We randomly impute a value for the Experience, Requirements, Skills, Saliaried, and Duration attributes."
   ],
   "metadata": {
    "collapsed": false
   },
   "id": "de460f19d689cd59"
  },
  {
   "cell_type": "code",
   "outputs": [
    {
     "data": {
      "text/plain": "                Company                                               Role  \\\n0                 Chime         Software Engineer Intern - Growth Funding    \n1                  CACI         Software Development Intern - Summer 2024    \n2       Western Digital           Summer 2024 Software Engineering Intern    \n3              Veracode   Solutions Architecture and Security Consultin...   \n4                  Roku                  Machine Learning Engineer Intern    \n...                 ...                                                ...   \n2480            Zurich                                Internship Program     \n2481              BTIG                           Software Engineer Intern    \n2482   Internet Brands                           Intern Software Engineer    \n2483         Panasonic                Software Electrical Engineer Intern    \n2484        Capital One                  Product Development Intern  üõÇ    \n\n                        Location  \\\n0                            SF    \n1                 Remote in USA    \n2                  Longmont, CO    \n3                Burlington, MA    \n4                  San Jose, CA    \n...                          ...   \n2480         Multiple Locations    \n2481         Multiple Locations    \n2482    Los Angeles, California    \n2483                         TX    \n2484   McLean, VA</br>Plano, TX    \n\n                                       Application/Link Date Posted  \n0      <a href=\"https://boards.greenhouse.io/chime/j...     Feb 28   \n1      <a href=\"https://caci.wd1.myworkdayjobs.com/E...     Feb 28   \n2      <a href=\"https://jobs.smartrecruiters.com/Wes...     Feb 27   \n3      <a href=\"https://www.veracode.com/career/job?...     Feb 27   \n4      <a href=\"https://www.weareroku.com/jobs/57580...     Feb 27   \n...                                                 ...         ...  \n2480                                              üîí    May 2023   \n2481                                              üîí    May 2023   \n2482                                              üîí    May 2023   \n2483                                              üîí    May 2023   \n2484                                              üîí    May 2023   \n\n[2485 rows x 5 columns]",
      "text/html": "<div>\n<style scoped>\n    .dataframe tbody tr th:only-of-type {\n        vertical-align: middle;\n    }\n\n    .dataframe tbody tr th {\n        vertical-align: top;\n    }\n\n    .dataframe thead th {\n        text-align: right;\n    }\n</style>\n<table border=\"1\" class=\"dataframe\">\n  <thead>\n    <tr style=\"text-align: right;\">\n      <th></th>\n      <th>Company</th>\n      <th>Role</th>\n      <th>Location</th>\n      <th>Application/Link</th>\n      <th>Date Posted</th>\n    </tr>\n  </thead>\n  <tbody>\n    <tr>\n      <th>0</th>\n      <td>Chime</td>\n      <td>Software Engineer Intern - Growth Funding</td>\n      <td>SF</td>\n      <td>&lt;a href=\"https://boards.greenhouse.io/chime/j...</td>\n      <td>Feb 28</td>\n    </tr>\n    <tr>\n      <th>1</th>\n      <td>CACI</td>\n      <td>Software Development Intern - Summer 2024</td>\n      <td>Remote in USA</td>\n      <td>&lt;a href=\"https://caci.wd1.myworkdayjobs.com/E...</td>\n      <td>Feb 28</td>\n    </tr>\n    <tr>\n      <th>2</th>\n      <td>Western Digital</td>\n      <td>Summer 2024 Software Engineering Intern</td>\n      <td>Longmont, CO</td>\n      <td>&lt;a href=\"https://jobs.smartrecruiters.com/Wes...</td>\n      <td>Feb 27</td>\n    </tr>\n    <tr>\n      <th>3</th>\n      <td>Veracode</td>\n      <td>Solutions Architecture and Security Consultin...</td>\n      <td>Burlington, MA</td>\n      <td>&lt;a href=\"https://www.veracode.com/career/job?...</td>\n      <td>Feb 27</td>\n    </tr>\n    <tr>\n      <th>4</th>\n      <td>Roku</td>\n      <td>Machine Learning Engineer Intern</td>\n      <td>San Jose, CA</td>\n      <td>&lt;a href=\"https://www.weareroku.com/jobs/57580...</td>\n      <td>Feb 27</td>\n    </tr>\n    <tr>\n      <th>...</th>\n      <td>...</td>\n      <td>...</td>\n      <td>...</td>\n      <td>...</td>\n      <td>...</td>\n    </tr>\n    <tr>\n      <th>2480</th>\n      <td>Zurich</td>\n      <td>Internship Program</td>\n      <td>Multiple Locations</td>\n      <td>üîí</td>\n      <td>May 2023</td>\n    </tr>\n    <tr>\n      <th>2481</th>\n      <td>BTIG</td>\n      <td>Software Engineer Intern</td>\n      <td>Multiple Locations</td>\n      <td>üîí</td>\n      <td>May 2023</td>\n    </tr>\n    <tr>\n      <th>2482</th>\n      <td>Internet Brands</td>\n      <td>Intern Software Engineer</td>\n      <td>Los Angeles, California</td>\n      <td>üîí</td>\n      <td>May 2023</td>\n    </tr>\n    <tr>\n      <th>2483</th>\n      <td>Panasonic</td>\n      <td>Software Electrical Engineer Intern</td>\n      <td>TX</td>\n      <td>üîí</td>\n      <td>May 2023</td>\n    </tr>\n    <tr>\n      <th>2484</th>\n      <td>Capital One</td>\n      <td>Product Development Intern  üõÇ</td>\n      <td>McLean, VA&lt;/br&gt;Plano, TX</td>\n      <td>üîí</td>\n      <td>May 2023</td>\n    </tr>\n  </tbody>\n</table>\n<p>2485 rows × 5 columns</p>\n</div>"
     },
     "execution_count": 6,
     "metadata": {},
     "output_type": "execute_result"
    }
   ],
   "source": [
    "internship_df = pd.read_csv('data/Tech_Internship.csv', header=0)\n",
    "internship_df"
   ],
   "metadata": {
    "collapsed": false,
    "ExecuteTime": {
     "end_time": "2024-03-01T22:12:18.041961Z",
     "start_time": "2024-03-01T22:12:18.021766Z"
    }
   },
   "id": "9c357b972e4cabf9",
   "execution_count": 6
  },
  {
   "cell_type": "code",
   "outputs": [
    {
     "name": "stdout",
     "output_type": "stream",
     "text": [
      "300\n"
     ]
    }
   ],
   "source": [
    "# Keep only 300 rows\n",
    "internship_df = internship_df[:300]\n",
    "print(len(internship_df))"
   ],
   "metadata": {
    "collapsed": false,
    "ExecuteTime": {
     "end_time": "2024-03-01T22:12:18.729811Z",
     "start_time": "2024-03-01T22:12:18.726685Z"
    }
   },
   "id": "1ff4213b78308e04",
   "execution_count": 7
  },
  {
   "cell_type": "code",
   "outputs": [
    {
     "name": "stdout",
     "output_type": "stream",
     "text": [
      "There are no more 'Ü≥' symbols in the 'Company' column!\n"
     ]
    },
    {
     "name": "stderr",
     "output_type": "stream",
     "text": [
      "/tmp/ipykernel_49711/1524265969.py:4: SettingWithCopyWarning: \n",
      "A value is trying to be set on a copy of a slice from a DataFrame\n",
      "\n",
      "See the caveats in the documentation: https://pandas.pydata.org/pandas-docs/stable/user_guide/indexing.html#returning-a-view-versus-a-copy\n",
      "  internship_df.loc[i, 'Company'] = internship_df.loc[i-1, 'Company']\n"
     ]
    },
    {
     "data": {
      "text/plain": "               Company                                               Role  \\\n0                Chime         Software Engineer Intern - Growth Funding    \n1                 CACI         Software Development Intern - Summer 2024    \n2      Western Digital           Summer 2024 Software Engineering Intern    \n3             Veracode   Solutions Architecture and Security Consultin...   \n4                 Roku                  Machine Learning Engineer Intern    \n..                 ...                                                ...   \n295  Inari Agriculture                    Enterprise Data Quality Intern    \n296          Quantcast         Software Engineering Intern - Summer 2024    \n297  Electric Hydrogen                       Firmware Intern Summer 2024    \n298           Niantic                        Software Engineering Intern    \n299     Marshall Wace           Technology Internship (Summer 2024) üõÇ    \n\n                Location                                   Application/Link  \\\n0                    SF    <a href=\"https://boards.greenhouse.io/chime/j...   \n1         Remote in USA    <a href=\"https://caci.wd1.myworkdayjobs.com/E...   \n2          Longmont, CO    <a href=\"https://jobs.smartrecruiters.com/Wes...   \n3        Burlington, MA    <a href=\"https://www.veracode.com/career/job?...   \n4          San Jose, CA    <a href=\"https://www.weareroku.com/jobs/57580...   \n..                   ...                                                ...   \n295       Cambridge, MA    <a href=\"https://boards.greenhouse.io/inariag...   \n296         Seattle, WA    <a href=\"https://jobs.lever.co/quantcast/9ab8...   \n297        San Jose, CA    <a href=\"https://eh2.com/careers?gh_jid=43477...   \n298   San Francisco, CA    <a href=\"https://app.ripplematch.com/v2/publi...   \n299        New York, NY    <a href=\"https://www.mwam.com/news/internship...   \n\n    Date Posted  \n0       Feb 28   \n1       Feb 28   \n2       Feb 27   \n3       Feb 27   \n4       Feb 27   \n..          ...  \n295     Dec 08   \n296     Dec 07   \n297     Dec 07   \n298     Dec 06   \n299     Dec 06   \n\n[300 rows x 5 columns]",
      "text/html": "<div>\n<style scoped>\n    .dataframe tbody tr th:only-of-type {\n        vertical-align: middle;\n    }\n\n    .dataframe tbody tr th {\n        vertical-align: top;\n    }\n\n    .dataframe thead th {\n        text-align: right;\n    }\n</style>\n<table border=\"1\" class=\"dataframe\">\n  <thead>\n    <tr style=\"text-align: right;\">\n      <th></th>\n      <th>Company</th>\n      <th>Role</th>\n      <th>Location</th>\n      <th>Application/Link</th>\n      <th>Date Posted</th>\n    </tr>\n  </thead>\n  <tbody>\n    <tr>\n      <th>0</th>\n      <td>Chime</td>\n      <td>Software Engineer Intern - Growth Funding</td>\n      <td>SF</td>\n      <td>&lt;a href=\"https://boards.greenhouse.io/chime/j...</td>\n      <td>Feb 28</td>\n    </tr>\n    <tr>\n      <th>1</th>\n      <td>CACI</td>\n      <td>Software Development Intern - Summer 2024</td>\n      <td>Remote in USA</td>\n      <td>&lt;a href=\"https://caci.wd1.myworkdayjobs.com/E...</td>\n      <td>Feb 28</td>\n    </tr>\n    <tr>\n      <th>2</th>\n      <td>Western Digital</td>\n      <td>Summer 2024 Software Engineering Intern</td>\n      <td>Longmont, CO</td>\n      <td>&lt;a href=\"https://jobs.smartrecruiters.com/Wes...</td>\n      <td>Feb 27</td>\n    </tr>\n    <tr>\n      <th>3</th>\n      <td>Veracode</td>\n      <td>Solutions Architecture and Security Consultin...</td>\n      <td>Burlington, MA</td>\n      <td>&lt;a href=\"https://www.veracode.com/career/job?...</td>\n      <td>Feb 27</td>\n    </tr>\n    <tr>\n      <th>4</th>\n      <td>Roku</td>\n      <td>Machine Learning Engineer Intern</td>\n      <td>San Jose, CA</td>\n      <td>&lt;a href=\"https://www.weareroku.com/jobs/57580...</td>\n      <td>Feb 27</td>\n    </tr>\n    <tr>\n      <th>...</th>\n      <td>...</td>\n      <td>...</td>\n      <td>...</td>\n      <td>...</td>\n      <td>...</td>\n    </tr>\n    <tr>\n      <th>295</th>\n      <td>Inari Agriculture</td>\n      <td>Enterprise Data Quality Intern</td>\n      <td>Cambridge, MA</td>\n      <td>&lt;a href=\"https://boards.greenhouse.io/inariag...</td>\n      <td>Dec 08</td>\n    </tr>\n    <tr>\n      <th>296</th>\n      <td>Quantcast</td>\n      <td>Software Engineering Intern - Summer 2024</td>\n      <td>Seattle, WA</td>\n      <td>&lt;a href=\"https://jobs.lever.co/quantcast/9ab8...</td>\n      <td>Dec 07</td>\n    </tr>\n    <tr>\n      <th>297</th>\n      <td>Electric Hydrogen</td>\n      <td>Firmware Intern Summer 2024</td>\n      <td>San Jose, CA</td>\n      <td>&lt;a href=\"https://eh2.com/careers?gh_jid=43477...</td>\n      <td>Dec 07</td>\n    </tr>\n    <tr>\n      <th>298</th>\n      <td>Niantic</td>\n      <td>Software Engineering Intern</td>\n      <td>San Francisco, CA</td>\n      <td>&lt;a href=\"https://app.ripplematch.com/v2/publi...</td>\n      <td>Dec 06</td>\n    </tr>\n    <tr>\n      <th>299</th>\n      <td>Marshall Wace</td>\n      <td>Technology Internship (Summer 2024) üõÇ</td>\n      <td>New York, NY</td>\n      <td>&lt;a href=\"https://www.mwam.com/news/internship...</td>\n      <td>Dec 06</td>\n    </tr>\n  </tbody>\n</table>\n<p>300 rows × 5 columns</p>\n</div>"
     },
     "execution_count": 8,
     "metadata": {},
     "output_type": "execute_result"
    }
   ],
   "source": [
    "# Replace 'Ü≥' symbols with correct company names, i.e. company name before that row\n",
    "for i in range(len(internship_df)): \n",
    "    if internship_df.loc[i, 'Company'] == 'Ü≥ ' or internship_df.loc[i, 'Company'] == ' ‚Ü≥ ':\n",
    "        internship_df.loc[i, 'Company'] = internship_df.loc[i-1, 'Company']\n",
    "        \n",
    "# Verify this was done correctly for all tuples\n",
    "if not (internship_df['Company'] == 'Ü≥').any() or (internship_df['Company'] == ',Ü≥').any():\n",
    "    print(\"There are no more 'Ü≥' symbols in the 'Company' column!\")\n",
    "internship_df"
   ],
   "metadata": {
    "collapsed": false,
    "ExecuteTime": {
     "end_time": "2024-03-01T22:12:19.587253Z",
     "start_time": "2024-03-01T22:12:19.570482Z"
    }
   },
   "id": "14b468a2a9279a6f",
   "execution_count": 8
  },
  {
   "cell_type": "code",
   "outputs": [
    {
     "name": "stderr",
     "output_type": "stream",
     "text": [
      "/tmp/ipykernel_49711/919899477.py:2: SettingWithCopyWarning: \n",
      "A value is trying to be set on a copy of a slice from a DataFrame\n",
      "\n",
      "See the caveats in the documentation: https://pandas.pydata.org/pandas-docs/stable/user_guide/indexing.html#returning-a-view-versus-a-copy\n",
      "  internship_df.drop_duplicates(inplace=True)\n"
     ]
    },
    {
     "data": {
      "text/plain": "               Company                                               Role  \\\n0                Chime         Software Engineer Intern - Growth Funding    \n1                 CACI         Software Development Intern - Summer 2024    \n2      Western Digital           Summer 2024 Software Engineering Intern    \n3             Veracode   Solutions Architecture and Security Consultin...   \n4                 Roku                  Machine Learning Engineer Intern    \n..                 ...                                                ...   \n295  Inari Agriculture                    Enterprise Data Quality Intern    \n296          Quantcast         Software Engineering Intern - Summer 2024    \n297  Electric Hydrogen                       Firmware Intern Summer 2024    \n298           Niantic                        Software Engineering Intern    \n299     Marshall Wace           Technology Internship (Summer 2024) üõÇ    \n\n                Location                                   Application/Link  \\\n0                    SF    <a href=\"https://boards.greenhouse.io/chime/j...   \n1         Remote in USA    <a href=\"https://caci.wd1.myworkdayjobs.com/E...   \n2          Longmont, CO    <a href=\"https://jobs.smartrecruiters.com/Wes...   \n3        Burlington, MA    <a href=\"https://www.veracode.com/career/job?...   \n4          San Jose, CA    <a href=\"https://www.weareroku.com/jobs/57580...   \n..                   ...                                                ...   \n295       Cambridge, MA    <a href=\"https://boards.greenhouse.io/inariag...   \n296         Seattle, WA    <a href=\"https://jobs.lever.co/quantcast/9ab8...   \n297        San Jose, CA    <a href=\"https://eh2.com/careers?gh_jid=43477...   \n298   San Francisco, CA    <a href=\"https://app.ripplematch.com/v2/publi...   \n299        New York, NY    <a href=\"https://www.mwam.com/news/internship...   \n\n    Date Posted  \n0       Feb 28   \n1       Feb 28   \n2       Feb 27   \n3       Feb 27   \n4       Feb 27   \n..          ...  \n295     Dec 08   \n296     Dec 07   \n297     Dec 07   \n298     Dec 06   \n299     Dec 06   \n\n[300 rows x 5 columns]",
      "text/html": "<div>\n<style scoped>\n    .dataframe tbody tr th:only-of-type {\n        vertical-align: middle;\n    }\n\n    .dataframe tbody tr th {\n        vertical-align: top;\n    }\n\n    .dataframe thead th {\n        text-align: right;\n    }\n</style>\n<table border=\"1\" class=\"dataframe\">\n  <thead>\n    <tr style=\"text-align: right;\">\n      <th></th>\n      <th>Company</th>\n      <th>Role</th>\n      <th>Location</th>\n      <th>Application/Link</th>\n      <th>Date Posted</th>\n    </tr>\n  </thead>\n  <tbody>\n    <tr>\n      <th>0</th>\n      <td>Chime</td>\n      <td>Software Engineer Intern - Growth Funding</td>\n      <td>SF</td>\n      <td>&lt;a href=\"https://boards.greenhouse.io/chime/j...</td>\n      <td>Feb 28</td>\n    </tr>\n    <tr>\n      <th>1</th>\n      <td>CACI</td>\n      <td>Software Development Intern - Summer 2024</td>\n      <td>Remote in USA</td>\n      <td>&lt;a href=\"https://caci.wd1.myworkdayjobs.com/E...</td>\n      <td>Feb 28</td>\n    </tr>\n    <tr>\n      <th>2</th>\n      <td>Western Digital</td>\n      <td>Summer 2024 Software Engineering Intern</td>\n      <td>Longmont, CO</td>\n      <td>&lt;a href=\"https://jobs.smartrecruiters.com/Wes...</td>\n      <td>Feb 27</td>\n    </tr>\n    <tr>\n      <th>3</th>\n      <td>Veracode</td>\n      <td>Solutions Architecture and Security Consultin...</td>\n      <td>Burlington, MA</td>\n      <td>&lt;a href=\"https://www.veracode.com/career/job?...</td>\n      <td>Feb 27</td>\n    </tr>\n    <tr>\n      <th>4</th>\n      <td>Roku</td>\n      <td>Machine Learning Engineer Intern</td>\n      <td>San Jose, CA</td>\n      <td>&lt;a href=\"https://www.weareroku.com/jobs/57580...</td>\n      <td>Feb 27</td>\n    </tr>\n    <tr>\n      <th>...</th>\n      <td>...</td>\n      <td>...</td>\n      <td>...</td>\n      <td>...</td>\n      <td>...</td>\n    </tr>\n    <tr>\n      <th>295</th>\n      <td>Inari Agriculture</td>\n      <td>Enterprise Data Quality Intern</td>\n      <td>Cambridge, MA</td>\n      <td>&lt;a href=\"https://boards.greenhouse.io/inariag...</td>\n      <td>Dec 08</td>\n    </tr>\n    <tr>\n      <th>296</th>\n      <td>Quantcast</td>\n      <td>Software Engineering Intern - Summer 2024</td>\n      <td>Seattle, WA</td>\n      <td>&lt;a href=\"https://jobs.lever.co/quantcast/9ab8...</td>\n      <td>Dec 07</td>\n    </tr>\n    <tr>\n      <th>297</th>\n      <td>Electric Hydrogen</td>\n      <td>Firmware Intern Summer 2024</td>\n      <td>San Jose, CA</td>\n      <td>&lt;a href=\"https://eh2.com/careers?gh_jid=43477...</td>\n      <td>Dec 07</td>\n    </tr>\n    <tr>\n      <th>298</th>\n      <td>Niantic</td>\n      <td>Software Engineering Intern</td>\n      <td>San Francisco, CA</td>\n      <td>&lt;a href=\"https://app.ripplematch.com/v2/publi...</td>\n      <td>Dec 06</td>\n    </tr>\n    <tr>\n      <th>299</th>\n      <td>Marshall Wace</td>\n      <td>Technology Internship (Summer 2024) üõÇ</td>\n      <td>New York, NY</td>\n      <td>&lt;a href=\"https://www.mwam.com/news/internship...</td>\n      <td>Dec 06</td>\n    </tr>\n  </tbody>\n</table>\n<p>300 rows × 5 columns</p>\n</div>"
     },
     "execution_count": 9,
     "metadata": {},
     "output_type": "execute_result"
    }
   ],
   "source": [
    "# Drop duplicate rows\n",
    "internship_df.drop_duplicates(inplace=True)\n",
    "internship_df"
   ],
   "metadata": {
    "collapsed": false,
    "ExecuteTime": {
     "end_time": "2024-03-01T22:12:20.972617Z",
     "start_time": "2024-03-01T22:12:20.956135Z"
    }
   },
   "id": "4ab296b7e7eb0aaa",
   "execution_count": 9
  },
  {
   "cell_type": "code",
   "outputs": [],
   "source": [
    "# Drop Date Posted"
   ],
   "metadata": {
    "collapsed": false,
    "ExecuteTime": {
     "end_time": "2024-03-01T22:12:24.128800Z",
     "start_time": "2024-03-01T22:12:24.126604Z"
    }
   },
   "id": "8b20563327d03015",
   "execution_count": 10
  },
  {
   "cell_type": "code",
   "outputs": [],
   "source": [
    "# Assign a Job_ID to each internship\n"
   ],
   "metadata": {
    "collapsed": false,
    "ExecuteTime": {
     "end_time": "2024-03-01T22:12:24.458206Z",
     "start_time": "2024-03-01T22:12:24.455682Z"
    }
   },
   "id": "a79016ecd4935abb",
   "execution_count": 11
  },
  {
   "cell_type": "code",
   "outputs": [],
   "source": [
    "# Randomly impute a value for the Experience, Requirements, Skills, Saliaried, and Duration attributes for each tuple \n",
    "intern_experience_vals = ['None Required', 'Previous industry internship experience required (>=3 months)', 'Previous research/academic experience required (>=3 months)', 'Minimum 1 year previous industry internship experience required', 'Previous research/academic highly desirable']"
   ],
   "metadata": {
    "collapsed": false,
    "ExecuteTime": {
     "end_time": "2024-03-01T22:12:24.754562Z",
     "start_time": "2024-03-01T22:12:24.751924Z"
    }
   },
   "id": "63b36dce4f491d4c",
   "execution_count": 12
  },
  {
   "cell_type": "code",
   "outputs": [],
   "source": [
    "intern_requirements_vals = ['Willing to relocate', 'Willing to travel up to 20%', 'Must meet base technical criteria', 'Must be proficient in Microsoft Office Suite', 'Good sense of humor', 'Ability to work independently', 'Familiar with Agile methodologies', 'Must have valid license', 'Must tolerate dogs in the workplace']"
   ],
   "metadata": {
    "collapsed": false,
    "ExecuteTime": {
     "end_time": "2024-03-01T22:12:25.254708Z",
     "start_time": "2024-03-01T22:12:25.251460Z"
    }
   },
   "id": "a2c745b7eb211d3b",
   "execution_count": 13
  },
  {
   "cell_type": "code",
   "outputs": [],
   "source": [
    "job_skills = ['Python', 'Scala', 'Pandas', 'AI/ML frameworks', 'PyTorch', 'Keras', 'Tensorflow', 'AWS', 'Azure', 'Google Cloud Platform', 'SQL', 'Oracle Databases', 'Databases', 'Java', 'Julia', 'Pascal', 'Perl', 'LaTeX', 'Scheme', 'Ruby', 'Ruby SQL', 'Flask', 'SQLite', 'PostgreSQL', 'MySQL', 'Tableau', 'PowerBI', 'Software Development', 'C++', 'C#', 'HTML/CSS/JavaScript', 'HTML/CSS', 'JavaScript', 'MongoDB', 'Neo4j', 'Agile', 'Scrum', 'Vue.js', 'React', 'Angular', 'Docker', 'Kubernetes', 'Sphinx', 'Jupyter', 'Git', 'Algorithms', 'Django', 'Problem-Solving', 'Leadership', 'Communication', 'Web Development', 'Frontend Stack', 'Backend Stack', 'Adobe Creative Suite', 'Financial modeling', 'Spanish', 'French', 'Hindi', 'Urdu', 'German', 'Italian', 'American Sign Language', 'Cybersecurity', 'Linux', 'Bash Scripting', 'Customer Support', 'Project Management', 'Networking Fundamentals', 'Algorithms', 'Jenkins', 'Kotlin', 'Swift', 'OOP', 'Ansible', 'Snowflake', 'Databricks', 'Budgeting', 'UX/UI Design', 'Graphic Design', 'Content Marketing', 'Technical Writing', 'SEO/SEM', 'Social Media Marketing', 'Hootsuite']\n",
    "\n",
    "def get_random_skills(job_skills):\n",
    "    # Pick random number of skills between 3 and 12\n",
    "    num_skills = random.randint(5, 12)\n",
    "    skills = []\n",
    "    for i in range(num_skills):\n",
    "        skills.append(random.choice(job_skills))\n",
    "    skills = list(set(skills))\n",
    "    skills_str = ', '.join(skills)\n",
    "    return skills_str"
   ],
   "metadata": {
    "collapsed": false,
    "ExecuteTime": {
     "end_time": "2024-03-01T22:12:25.647945Z",
     "start_time": "2024-03-01T22:12:25.643557Z"
    }
   },
   "id": "d16211046a323238",
   "execution_count": 14
  },
  {
   "cell_type": "code",
   "outputs": [],
   "source": [
    "duration_vals = ['4 weeks', '8 weeks', '12 weeks', '16 weeks']"
   ],
   "metadata": {
    "collapsed": false,
    "ExecuteTime": {
     "end_time": "2024-03-01T22:12:26.948313Z",
     "start_time": "2024-03-01T22:12:26.945498Z"
    }
   },
   "id": "a1e58152af7c8f0e",
   "execution_count": 15
  },
  {
   "cell_type": "code",
   "outputs": [
    {
     "name": "stderr",
     "output_type": "stream",
     "text": [
      "/tmp/ipykernel_47495/898184630.py:4: SettingWithCopyWarning: \n",
      "A value is trying to be set on a copy of a slice from a DataFrame.\n",
      "Try using .loc[row_indexer,col_indexer] = value instead\n",
      "\n",
      "See the caveats in the documentation: https://pandas.pydata.org/pandas-docs/stable/user_guide/indexing.html#returning-a-view-versus-a-copy\n",
      "  internship_df['Salaried'] = np.random.choice(salaried, size=len(internship_df), p=salary_probs)\n"
     ]
    },
    {
     "data": {
      "text/plain": "               Company                                               Role  \\\n0                Chime         Software Engineer Intern - Growth Funding    \n1                 CACI         Software Development Intern - Summer 2024    \n2      Western Digital           Summer 2024 Software Engineering Intern    \n3             Veracode   Solutions Architecture and Security Consultin...   \n4                 Roku                  Machine Learning Engineer Intern    \n..                 ...                                                ...   \n295  Inari Agriculture                    Enterprise Data Quality Intern    \n296          Quantcast         Software Engineering Intern - Summer 2024    \n297  Electric Hydrogen                       Firmware Intern Summer 2024    \n298           Niantic                        Software Engineering Intern    \n299     Marshall Wace           Technology Internship (Summer 2024) üõÇ    \n\n                Location                                   Application/Link  \\\n0                    SF    <a href=\"https://boards.greenhouse.io/chime/j...   \n1         Remote in USA    <a href=\"https://caci.wd1.myworkdayjobs.com/E...   \n2          Longmont, CO    <a href=\"https://jobs.smartrecruiters.com/Wes...   \n3        Burlington, MA    <a href=\"https://www.veracode.com/career/job?...   \n4          San Jose, CA    <a href=\"https://www.weareroku.com/jobs/57580...   \n..                   ...                                                ...   \n295       Cambridge, MA    <a href=\"https://boards.greenhouse.io/inariag...   \n296         Seattle, WA    <a href=\"https://jobs.lever.co/quantcast/9ab8...   \n297        San Jose, CA    <a href=\"https://eh2.com/careers?gh_jid=43477...   \n298   San Francisco, CA    <a href=\"https://app.ripplematch.com/v2/publi...   \n299        New York, NY    <a href=\"https://www.mwam.com/news/internship...   \n\n    Date Posted  Salaried  \n0       Feb 28       True  \n1       Feb 28       True  \n2       Feb 27       True  \n3       Feb 27       True  \n4       Feb 27       True  \n..          ...       ...  \n295     Dec 08       True  \n296     Dec 07       True  \n297     Dec 07       True  \n298     Dec 06       True  \n299     Dec 06       True  \n\n[300 rows x 6 columns]",
      "text/html": "<div>\n<style scoped>\n    .dataframe tbody tr th:only-of-type {\n        vertical-align: middle;\n    }\n\n    .dataframe tbody tr th {\n        vertical-align: top;\n    }\n\n    .dataframe thead th {\n        text-align: right;\n    }\n</style>\n<table border=\"1\" class=\"dataframe\">\n  <thead>\n    <tr style=\"text-align: right;\">\n      <th></th>\n      <th>Company</th>\n      <th>Role</th>\n      <th>Location</th>\n      <th>Application/Link</th>\n      <th>Date Posted</th>\n      <th>Salaried</th>\n    </tr>\n  </thead>\n  <tbody>\n    <tr>\n      <th>0</th>\n      <td>Chime</td>\n      <td>Software Engineer Intern - Growth Funding</td>\n      <td>SF</td>\n      <td>&lt;a href=\"https://boards.greenhouse.io/chime/j...</td>\n      <td>Feb 28</td>\n      <td>True</td>\n    </tr>\n    <tr>\n      <th>1</th>\n      <td>CACI</td>\n      <td>Software Development Intern - Summer 2024</td>\n      <td>Remote in USA</td>\n      <td>&lt;a href=\"https://caci.wd1.myworkdayjobs.com/E...</td>\n      <td>Feb 28</td>\n      <td>True</td>\n    </tr>\n    <tr>\n      <th>2</th>\n      <td>Western Digital</td>\n      <td>Summer 2024 Software Engineering Intern</td>\n      <td>Longmont, CO</td>\n      <td>&lt;a href=\"https://jobs.smartrecruiters.com/Wes...</td>\n      <td>Feb 27</td>\n      <td>True</td>\n    </tr>\n    <tr>\n      <th>3</th>\n      <td>Veracode</td>\n      <td>Solutions Architecture and Security Consultin...</td>\n      <td>Burlington, MA</td>\n      <td>&lt;a href=\"https://www.veracode.com/career/job?...</td>\n      <td>Feb 27</td>\n      <td>True</td>\n    </tr>\n    <tr>\n      <th>4</th>\n      <td>Roku</td>\n      <td>Machine Learning Engineer Intern</td>\n      <td>San Jose, CA</td>\n      <td>&lt;a href=\"https://www.weareroku.com/jobs/57580...</td>\n      <td>Feb 27</td>\n      <td>True</td>\n    </tr>\n    <tr>\n      <th>...</th>\n      <td>...</td>\n      <td>...</td>\n      <td>...</td>\n      <td>...</td>\n      <td>...</td>\n      <td>...</td>\n    </tr>\n    <tr>\n      <th>295</th>\n      <td>Inari Agriculture</td>\n      <td>Enterprise Data Quality Intern</td>\n      <td>Cambridge, MA</td>\n      <td>&lt;a href=\"https://boards.greenhouse.io/inariag...</td>\n      <td>Dec 08</td>\n      <td>True</td>\n    </tr>\n    <tr>\n      <th>296</th>\n      <td>Quantcast</td>\n      <td>Software Engineering Intern - Summer 2024</td>\n      <td>Seattle, WA</td>\n      <td>&lt;a href=\"https://jobs.lever.co/quantcast/9ab8...</td>\n      <td>Dec 07</td>\n      <td>True</td>\n    </tr>\n    <tr>\n      <th>297</th>\n      <td>Electric Hydrogen</td>\n      <td>Firmware Intern Summer 2024</td>\n      <td>San Jose, CA</td>\n      <td>&lt;a href=\"https://eh2.com/careers?gh_jid=43477...</td>\n      <td>Dec 07</td>\n      <td>True</td>\n    </tr>\n    <tr>\n      <th>298</th>\n      <td>Niantic</td>\n      <td>Software Engineering Intern</td>\n      <td>San Francisco, CA</td>\n      <td>&lt;a href=\"https://app.ripplematch.com/v2/publi...</td>\n      <td>Dec 06</td>\n      <td>True</td>\n    </tr>\n    <tr>\n      <th>299</th>\n      <td>Marshall Wace</td>\n      <td>Technology Internship (Summer 2024) üõÇ</td>\n      <td>New York, NY</td>\n      <td>&lt;a href=\"https://www.mwam.com/news/internship...</td>\n      <td>Dec 06</td>\n      <td>True</td>\n    </tr>\n  </tbody>\n</table>\n<p>300 rows × 6 columns</p>\n</div>"
     },
     "execution_count": 16,
     "metadata": {},
     "output_type": "execute_result"
    }
   ],
   "source": [
    "# Make only 3% of values Salaried = False because I don't want to live in a database world where most companies benefit off the backs of innocent, eager interns \n",
    "salaried = [True, False]\n",
    "salary_probs = [0.97, 0.03]\n",
    "internship_df['Salaried'] = np.random.choice(salaried, size=len(internship_df), p=salary_probs)\n",
    "internship_df"
   ],
   "metadata": {
    "collapsed": false,
    "ExecuteTime": {
     "end_time": "2024-03-01T20:39:20.592730Z",
     "start_time": "2024-03-01T20:39:20.574616Z"
    }
   },
   "id": "3b439eb062b99e42",
   "execution_count": 16
  },
  {
   "cell_type": "code",
   "outputs": [],
   "source": [
    "# Save final internships df in 'Internship_Job.csv' for Internship_Job relation!"
   ],
   "metadata": {
    "collapsed": false
   },
   "id": "c4cc73d184b7eb95"
  },
  {
   "cell_type": "markdown",
   "source": [
    "### Coop Job"
   ],
   "metadata": {
    "collapsed": false
   },
   "id": "8c46e1e59eb544c4"
  },
  {
   "cell_type": "code",
   "outputs": [],
   "source": [],
   "metadata": {
    "collapsed": false
   },
   "id": "4dfa36adc18aee06"
  },
  {
   "cell_type": "code",
   "outputs": [],
   "source": [],
   "metadata": {
    "collapsed": false
   },
   "id": "2604483ab9c3529"
  },
  {
   "cell_type": "markdown",
   "source": [
    "### Company\n",
    "- Mockaroo was used to obtain the Company_ID, Location, and Name column values for N rows, where N was the number of unique companies identified in our job postings. \n",
    "- We imput the Name attribute for the Company relation with Company names obtained from our job posting sources (namely, both full time roles and internship roles). There should be one entry in the Company table for each unique company found in either job postings CSV. \n",
    "- Because the location option on Mockaroo was only a street address, we impute a random city, state, and zip code as shown below.\n",
    "- Additionally, we assign a random company type for the Type column. We arbitrarily deem 80% of the companies as private corporations, 5% as non-profit, and 15% as startups. "
   ],
   "metadata": {
    "collapsed": false
   },
   "id": "9f8aeefe9e4c110f"
  },
  {
   "cell_type": "code",
   "outputs": [
    {
     "data": {
      "text/plain": "                     Company_ID                 Address          Name  Type\n0    01HQXAVCMWEXEJYR1CVK9QPZQ7          414 Havey Hill  Dazzlesphere   NaN\n1    01HQXAVCMXRWCNSE1XGC88Z5KR      8989 Swallow Plaza         Skiba   NaN\n2    01HQXAVCMXTRC4Y81YV23C1ZQ8          4778 Sage Lane      Edgeclub   NaN\n3    01HQXAVCMXCRNPED9KR90QAGJN          42 Corben Road      Gigazoom   NaN\n4    01HQXAVCMXJ11TZ0EJQNZST6SP      3 Sycamore Parkway         Quire   NaN\n..                          ...                     ...           ...   ...\n306  01HQXAVCQZT7RE42HZ1RT90XT3         23 Corscot Road        Meezzy   NaN\n307  01HQXAVCQZYF5N9HVP8QNCXW97     566 Cordelia Center        BlogXS   NaN\n308  01HQXAVCR0PX1DP6TJNR6FAJ4M    935 Old Gate Parkway        Skyble   NaN\n309  01HQXAVCR0113ZBMBE6D7ARSM2  3792 Rutledge Crossing         Mydeo   NaN\n310  01HQXAVCR009GYX7Z739EYC6DQ       9204 East Parkway       Tagopia   NaN\n\n[311 rows x 4 columns]",
      "text/html": "<div>\n<style scoped>\n    .dataframe tbody tr th:only-of-type {\n        vertical-align: middle;\n    }\n\n    .dataframe tbody tr th {\n        vertical-align: top;\n    }\n\n    .dataframe thead th {\n        text-align: right;\n    }\n</style>\n<table border=\"1\" class=\"dataframe\">\n  <thead>\n    <tr style=\"text-align: right;\">\n      <th></th>\n      <th>Company_ID</th>\n      <th>Address</th>\n      <th>Name</th>\n      <th>Type</th>\n    </tr>\n  </thead>\n  <tbody>\n    <tr>\n      <th>0</th>\n      <td>01HQXAVCMWEXEJYR1CVK9QPZQ7</td>\n      <td>414 Havey Hill</td>\n      <td>Dazzlesphere</td>\n      <td>NaN</td>\n    </tr>\n    <tr>\n      <th>1</th>\n      <td>01HQXAVCMXRWCNSE1XGC88Z5KR</td>\n      <td>8989 Swallow Plaza</td>\n      <td>Skiba</td>\n      <td>NaN</td>\n    </tr>\n    <tr>\n      <th>2</th>\n      <td>01HQXAVCMXTRC4Y81YV23C1ZQ8</td>\n      <td>4778 Sage Lane</td>\n      <td>Edgeclub</td>\n      <td>NaN</td>\n    </tr>\n    <tr>\n      <th>3</th>\n      <td>01HQXAVCMXCRNPED9KR90QAGJN</td>\n      <td>42 Corben Road</td>\n      <td>Gigazoom</td>\n      <td>NaN</td>\n    </tr>\n    <tr>\n      <th>4</th>\n      <td>01HQXAVCMXJ11TZ0EJQNZST6SP</td>\n      <td>3 Sycamore Parkway</td>\n      <td>Quire</td>\n      <td>NaN</td>\n    </tr>\n    <tr>\n      <th>...</th>\n      <td>...</td>\n      <td>...</td>\n      <td>...</td>\n      <td>...</td>\n    </tr>\n    <tr>\n      <th>306</th>\n      <td>01HQXAVCQZT7RE42HZ1RT90XT3</td>\n      <td>23 Corscot Road</td>\n      <td>Meezzy</td>\n      <td>NaN</td>\n    </tr>\n    <tr>\n      <th>307</th>\n      <td>01HQXAVCQZYF5N9HVP8QNCXW97</td>\n      <td>566 Cordelia Center</td>\n      <td>BlogXS</td>\n      <td>NaN</td>\n    </tr>\n    <tr>\n      <th>308</th>\n      <td>01HQXAVCR0PX1DP6TJNR6FAJ4M</td>\n      <td>935 Old Gate Parkway</td>\n      <td>Skyble</td>\n      <td>NaN</td>\n    </tr>\n    <tr>\n      <th>309</th>\n      <td>01HQXAVCR0113ZBMBE6D7ARSM2</td>\n      <td>3792 Rutledge Crossing</td>\n      <td>Mydeo</td>\n      <td>NaN</td>\n    </tr>\n    <tr>\n      <th>310</th>\n      <td>01HQXAVCR009GYX7Z739EYC6DQ</td>\n      <td>9204 East Parkway</td>\n      <td>Tagopia</td>\n      <td>NaN</td>\n    </tr>\n  </tbody>\n</table>\n<p>311 rows × 4 columns</p>\n</div>"
     },
     "execution_count": 16,
     "metadata": {},
     "output_type": "execute_result"
    }
   ],
   "source": [
    "company_df = pd.read_csv('data/Mockaroo/Mockaroo-Company.csv', header=0)[:311]\n",
    "company_df"
   ],
   "metadata": {
    "collapsed": false,
    "ExecuteTime": {
     "end_time": "2024-03-01T22:12:32.015534Z",
     "start_time": "2024-03-01T22:12:32.005589Z"
    }
   },
   "id": "b27b3dea9e75b14b",
   "execution_count": 16
  },
  {
   "cell_type": "code",
   "outputs": [
    {
     "name": "stdout",
     "output_type": "stream",
     "text": [
      "There are 311 companies in the dataset.\n"
     ]
    }
   ],
   "source": [
    "# Get names of all unique companies represented in the database\n",
    "full_time_companies = full_time_job_df['Company'].unique().tolist()\n",
    "internship_companies = internship_df['Company'].unique().tolist()\n",
    "all_company_names = list(set(full_time_companies + internship_companies))\n",
    "print(f\"There are {len(all_company_names)} companies in the dataset.\")"
   ],
   "metadata": {
    "collapsed": false,
    "ExecuteTime": {
     "end_time": "2024-03-01T22:12:34.915987Z",
     "start_time": "2024-03-01T22:12:34.912631Z"
    }
   },
   "id": "c0597380547c7b0",
   "execution_count": 17
  },
  {
   "cell_type": "code",
   "outputs": [
    {
     "data": {
      "text/plain": "                     Company_ID                 Address              Name  \\\n0    01HQXAVCMWEXEJYR1CVK9QPZQ7          414 Havey Hill             Hudl    \n1    01HQXAVCMXRWCNSE1XGC88Z5KR      8989 Swallow Plaza         Alarm.com   \n2    01HQXAVCMXTRC4Y81YV23C1ZQ8          4778 Sage Lane            Forbes   \n3    01HQXAVCMXCRNPED9KR90QAGJN          42 Corben Road      Konrad Group   \n4    01HQXAVCMXJ11TZ0EJQNZST6SP      3 Sycamore Parkway  Ascend Analytics   \n..                          ...                     ...               ...   \n306  01HQXAVCQZT7RE42HZ1RT90XT3         23 Corscot Road            Zynga    \n307  01HQXAVCQZYF5N9HVP8QNCXW97     566 Cordelia Center          Workato    \n308  01HQXAVCR0PX1DP6TJNR6FAJ4M    935 Old Gate Parkway              Wisk   \n309  01HQXAVCR0113ZBMBE6D7ARSM2  3792 Rutledge Crossing         Moveworks   \n310  01HQXAVCR009GYX7Z739EYC6DQ       9204 East Parkway            PlusAI   \n\n     Type  \n0     NaN  \n1     NaN  \n2     NaN  \n3     NaN  \n4     NaN  \n..    ...  \n306   NaN  \n307   NaN  \n308   NaN  \n309   NaN  \n310   NaN  \n\n[311 rows x 4 columns]",
      "text/html": "<div>\n<style scoped>\n    .dataframe tbody tr th:only-of-type {\n        vertical-align: middle;\n    }\n\n    .dataframe tbody tr th {\n        vertical-align: top;\n    }\n\n    .dataframe thead th {\n        text-align: right;\n    }\n</style>\n<table border=\"1\" class=\"dataframe\">\n  <thead>\n    <tr style=\"text-align: right;\">\n      <th></th>\n      <th>Company_ID</th>\n      <th>Address</th>\n      <th>Name</th>\n      <th>Type</th>\n    </tr>\n  </thead>\n  <tbody>\n    <tr>\n      <th>0</th>\n      <td>01HQXAVCMWEXEJYR1CVK9QPZQ7</td>\n      <td>414 Havey Hill</td>\n      <td>Hudl</td>\n      <td>NaN</td>\n    </tr>\n    <tr>\n      <th>1</th>\n      <td>01HQXAVCMXRWCNSE1XGC88Z5KR</td>\n      <td>8989 Swallow Plaza</td>\n      <td>Alarm.com</td>\n      <td>NaN</td>\n    </tr>\n    <tr>\n      <th>2</th>\n      <td>01HQXAVCMXTRC4Y81YV23C1ZQ8</td>\n      <td>4778 Sage Lane</td>\n      <td>Forbes</td>\n      <td>NaN</td>\n    </tr>\n    <tr>\n      <th>3</th>\n      <td>01HQXAVCMXCRNPED9KR90QAGJN</td>\n      <td>42 Corben Road</td>\n      <td>Konrad Group</td>\n      <td>NaN</td>\n    </tr>\n    <tr>\n      <th>4</th>\n      <td>01HQXAVCMXJ11TZ0EJQNZST6SP</td>\n      <td>3 Sycamore Parkway</td>\n      <td>Ascend Analytics</td>\n      <td>NaN</td>\n    </tr>\n    <tr>\n      <th>...</th>\n      <td>...</td>\n      <td>...</td>\n      <td>...</td>\n      <td>...</td>\n    </tr>\n    <tr>\n      <th>306</th>\n      <td>01HQXAVCQZT7RE42HZ1RT90XT3</td>\n      <td>23 Corscot Road</td>\n      <td>Zynga</td>\n      <td>NaN</td>\n    </tr>\n    <tr>\n      <th>307</th>\n      <td>01HQXAVCQZYF5N9HVP8QNCXW97</td>\n      <td>566 Cordelia Center</td>\n      <td>Workato</td>\n      <td>NaN</td>\n    </tr>\n    <tr>\n      <th>308</th>\n      <td>01HQXAVCR0PX1DP6TJNR6FAJ4M</td>\n      <td>935 Old Gate Parkway</td>\n      <td>Wisk</td>\n      <td>NaN</td>\n    </tr>\n    <tr>\n      <th>309</th>\n      <td>01HQXAVCR0113ZBMBE6D7ARSM2</td>\n      <td>3792 Rutledge Crossing</td>\n      <td>Moveworks</td>\n      <td>NaN</td>\n    </tr>\n    <tr>\n      <th>310</th>\n      <td>01HQXAVCR009GYX7Z739EYC6DQ</td>\n      <td>9204 East Parkway</td>\n      <td>PlusAI</td>\n      <td>NaN</td>\n    </tr>\n  </tbody>\n</table>\n<p>311 rows × 4 columns</p>\n</div>"
     },
     "execution_count": 18,
     "metadata": {},
     "output_type": "execute_result"
    }
   ],
   "source": [
    "# Replace Company Name values with real names\n",
    "company_df['Name'] = all_company_names\n",
    "company_df"
   ],
   "metadata": {
    "collapsed": false,
    "ExecuteTime": {
     "end_time": "2024-03-01T22:12:41.638504Z",
     "start_time": "2024-03-01T22:12:41.631217Z"
    }
   },
   "id": "18a03e793dec80ce",
   "execution_count": 18
  },
  {
   "cell_type": "code",
   "outputs": [
    {
     "data": {
      "text/plain": "                     Company_ID  \\\n0    01HQXAVCMWEXEJYR1CVK9QPZQ7   \n1    01HQXAVCMXRWCNSE1XGC88Z5KR   \n2    01HQXAVCMXTRC4Y81YV23C1ZQ8   \n3    01HQXAVCMXCRNPED9KR90QAGJN   \n4    01HQXAVCMXJ11TZ0EJQNZST6SP   \n..                          ...   \n306  01HQXAVCQZT7RE42HZ1RT90XT3   \n307  01HQXAVCQZYF5N9HVP8QNCXW97   \n308  01HQXAVCR0PX1DP6TJNR6FAJ4M   \n309  01HQXAVCR0113ZBMBE6D7ARSM2   \n310  01HQXAVCR009GYX7Z739EYC6DQ   \n\n                                               Address              Name  Type  \n0                  414 Havey Hill, Austin, Texas 73344             Hudl    NaN  \n1    8989 Swallow Plaza, Los Angeles, California 90003         Alarm.com   NaN  \n2                  4778 Sage Lane, Dallas, Texas 75032            Forbes   NaN  \n3      42 Corben Road, San Francisco, California 94103      Konrad Group   NaN  \n4              3 Sycamore Parkway, Austin, Texas 73344  Ascend Analytics   NaN  \n..                                                 ...               ...   ...  \n306               23 Corscot Road, Austin, Texas 73301            Zynga    NaN  \n307      566 Cordelia Center, New York, New York 10001          Workato    NaN  \n308       935 Old Gate Parkway, Denver, Colorado 80019              Wisk   NaN  \n309  3792 Rutledge Crossing, Los Angeles, Californi...         Moveworks   NaN  \n310          9204 East Parkway, Atlanta, Georgia 30033            PlusAI   NaN  \n\n[311 rows x 4 columns]",
      "text/html": "<div>\n<style scoped>\n    .dataframe tbody tr th:only-of-type {\n        vertical-align: middle;\n    }\n\n    .dataframe tbody tr th {\n        vertical-align: top;\n    }\n\n    .dataframe thead th {\n        text-align: right;\n    }\n</style>\n<table border=\"1\" class=\"dataframe\">\n  <thead>\n    <tr style=\"text-align: right;\">\n      <th></th>\n      <th>Company_ID</th>\n      <th>Address</th>\n      <th>Name</th>\n      <th>Type</th>\n    </tr>\n  </thead>\n  <tbody>\n    <tr>\n      <th>0</th>\n      <td>01HQXAVCMWEXEJYR1CVK9QPZQ7</td>\n      <td>414 Havey Hill, Austin, Texas 73344</td>\n      <td>Hudl</td>\n      <td>NaN</td>\n    </tr>\n    <tr>\n      <th>1</th>\n      <td>01HQXAVCMXRWCNSE1XGC88Z5KR</td>\n      <td>8989 Swallow Plaza, Los Angeles, California 90003</td>\n      <td>Alarm.com</td>\n      <td>NaN</td>\n    </tr>\n    <tr>\n      <th>2</th>\n      <td>01HQXAVCMXTRC4Y81YV23C1ZQ8</td>\n      <td>4778 Sage Lane, Dallas, Texas 75032</td>\n      <td>Forbes</td>\n      <td>NaN</td>\n    </tr>\n    <tr>\n      <th>3</th>\n      <td>01HQXAVCMXCRNPED9KR90QAGJN</td>\n      <td>42 Corben Road, San Francisco, California 94103</td>\n      <td>Konrad Group</td>\n      <td>NaN</td>\n    </tr>\n    <tr>\n      <th>4</th>\n      <td>01HQXAVCMXJ11TZ0EJQNZST6SP</td>\n      <td>3 Sycamore Parkway, Austin, Texas 73344</td>\n      <td>Ascend Analytics</td>\n      <td>NaN</td>\n    </tr>\n    <tr>\n      <th>...</th>\n      <td>...</td>\n      <td>...</td>\n      <td>...</td>\n      <td>...</td>\n    </tr>\n    <tr>\n      <th>306</th>\n      <td>01HQXAVCQZT7RE42HZ1RT90XT3</td>\n      <td>23 Corscot Road, Austin, Texas 73301</td>\n      <td>Zynga</td>\n      <td>NaN</td>\n    </tr>\n    <tr>\n      <th>307</th>\n      <td>01HQXAVCQZYF5N9HVP8QNCXW97</td>\n      <td>566 Cordelia Center, New York, New York 10001</td>\n      <td>Workato</td>\n      <td>NaN</td>\n    </tr>\n    <tr>\n      <th>308</th>\n      <td>01HQXAVCR0PX1DP6TJNR6FAJ4M</td>\n      <td>935 Old Gate Parkway, Denver, Colorado 80019</td>\n      <td>Wisk</td>\n      <td>NaN</td>\n    </tr>\n    <tr>\n      <th>309</th>\n      <td>01HQXAVCR0113ZBMBE6D7ARSM2</td>\n      <td>3792 Rutledge Crossing, Los Angeles, Californi...</td>\n      <td>Moveworks</td>\n      <td>NaN</td>\n    </tr>\n    <tr>\n      <th>310</th>\n      <td>01HQXAVCR009GYX7Z739EYC6DQ</td>\n      <td>9204 East Parkway, Atlanta, Georgia 30033</td>\n      <td>PlusAI</td>\n      <td>NaN</td>\n    </tr>\n  </tbody>\n</table>\n<p>311 rows × 4 columns</p>\n</div>"
     },
     "execution_count": 19,
     "metadata": {},
     "output_type": "execute_result"
    }
   ],
   "source": [
    "# Mapping of 'tech hub' cities, their state, and some example zip codes (making sure the city, state, and zip codes are coherent relative to each other). \n",
    "# Zip codes were obtained from Google searches. \n",
    "tech_hub_cities_mapping = {\n",
    "    'New York': {'state': 'New York', 'zip_codes': ['10001', '10002', '10003']},\n",
    "    'San Francisco': {'state': 'California', 'zip_codes': ['94102', '94103', '94107']},\n",
    "    'Los Angeles': {'state': 'California', 'zip_codes': ['90001', '90002', '90003']},\n",
    "    'Austin': {'state': 'Texas', 'zip_codes': ['73301', '73344', '778613']},\n",
    "    'Dallas': {'state': 'Texas', 'zip_codes': ['75001', '75019', '75032']},\n",
    "    'Seattle': {'state': 'Washington', 'zip_codes': ['98101', '98102', '98103']},\n",
    "    'Atlanta': {'state': 'Georgia', 'zip_codes': ['30033', '30301', '30303']},\n",
    "    'Denver': {'state': 'Colorado', 'zip_codes': ['80014', '80019', '80022']},\n",
    "    'Chicago': {'state': 'Illinois', 'zip_codes': ['60007', '60018', '60106']},\n",
    "    'Miami': {'state': 'Florida', 'zip_codes': ['33101', '33109', '33126']},\n",
    "    'Tampa': {'state': 'Florida', 'zip_codes': ['33592', '33601', '33602']},\n",
    "    'Boston': {'state': 'Massachusetts', 'zip_codes': ['02108', '02110', '02111']}\n",
    "}\n",
    "\n",
    "def generate_address(str_address):\n",
    "    \"\"\"Randomly selects a city and corresponding state and zip code from tech hub cities dictionary above.\"\"\"\n",
    "    city = random.choice(list(tech_hub_cities_mapping.keys()))\n",
    "    state = tech_hub_cities_mapping[city]['state']\n",
    "    zip_code = random.choice(tech_hub_cities_mapping[city]['zip_codes'])\n",
    "    return str_address + ', ' + city + ', ' + state + ' ' + zip_code\n",
    "\n",
    "# Assign random city, state, and zip code to each address\n",
    "company_df['Address'] = company_df['Address'].apply(lambda x: generate_address(x).strip('\"'))\n",
    "company_df['Address'] = company_df['Address'].astype(str)\n",
    "company_df "
   ],
   "metadata": {
    "collapsed": false,
    "ExecuteTime": {
     "end_time": "2024-03-01T22:12:45.406771Z",
     "start_time": "2024-03-01T22:12:45.397233Z"
    }
   },
   "id": "6c8ab412613aed29",
   "execution_count": 19
  },
  {
   "cell_type": "code",
   "outputs": [
    {
     "data": {
      "text/plain": "                     Company_ID  \\\n0    01HQXAVCMWEXEJYR1CVK9QPZQ7   \n1    01HQXAVCMXRWCNSE1XGC88Z5KR   \n2    01HQXAVCMXTRC4Y81YV23C1ZQ8   \n3    01HQXAVCMXCRNPED9KR90QAGJN   \n4    01HQXAVCMXJ11TZ0EJQNZST6SP   \n..                          ...   \n306  01HQXAVCQZT7RE42HZ1RT90XT3   \n307  01HQXAVCQZYF5N9HVP8QNCXW97   \n308  01HQXAVCR0PX1DP6TJNR6FAJ4M   \n309  01HQXAVCR0113ZBMBE6D7ARSM2   \n310  01HQXAVCR009GYX7Z739EYC6DQ   \n\n                                               Address              Name  \\\n0                  414 Havey Hill, Austin, Texas 73344             Hudl    \n1    8989 Swallow Plaza, Los Angeles, California 90003         Alarm.com   \n2                  4778 Sage Lane, Dallas, Texas 75032            Forbes   \n3      42 Corben Road, San Francisco, California 94103      Konrad Group   \n4              3 Sycamore Parkway, Austin, Texas 73344  Ascend Analytics   \n..                                                 ...               ...   \n306               23 Corscot Road, Austin, Texas 73301            Zynga    \n307      566 Cordelia Center, New York, New York 10001          Workato    \n308       935 Old Gate Parkway, Denver, Colorado 80019              Wisk   \n309  3792 Rutledge Crossing, Los Angeles, Californi...         Moveworks   \n310          9204 East Parkway, Atlanta, Georgia 30033            PlusAI   \n\n                    Type  \n0    Private Corporation  \n1    Private Corporation  \n2                Startup  \n3    Private Corporation  \n4    Private Corporation  \n..                   ...  \n306  Private Corporation  \n307  Private Corporation  \n308  Private Corporation  \n309  Private Corporation  \n310  Private Corporation  \n\n[311 rows x 4 columns]",
      "text/html": "<div>\n<style scoped>\n    .dataframe tbody tr th:only-of-type {\n        vertical-align: middle;\n    }\n\n    .dataframe tbody tr th {\n        vertical-align: top;\n    }\n\n    .dataframe thead th {\n        text-align: right;\n    }\n</style>\n<table border=\"1\" class=\"dataframe\">\n  <thead>\n    <tr style=\"text-align: right;\">\n      <th></th>\n      <th>Company_ID</th>\n      <th>Address</th>\n      <th>Name</th>\n      <th>Type</th>\n    </tr>\n  </thead>\n  <tbody>\n    <tr>\n      <th>0</th>\n      <td>01HQXAVCMWEXEJYR1CVK9QPZQ7</td>\n      <td>414 Havey Hill, Austin, Texas 73344</td>\n      <td>Hudl</td>\n      <td>Private Corporation</td>\n    </tr>\n    <tr>\n      <th>1</th>\n      <td>01HQXAVCMXRWCNSE1XGC88Z5KR</td>\n      <td>8989 Swallow Plaza, Los Angeles, California 90003</td>\n      <td>Alarm.com</td>\n      <td>Private Corporation</td>\n    </tr>\n    <tr>\n      <th>2</th>\n      <td>01HQXAVCMXTRC4Y81YV23C1ZQ8</td>\n      <td>4778 Sage Lane, Dallas, Texas 75032</td>\n      <td>Forbes</td>\n      <td>Startup</td>\n    </tr>\n    <tr>\n      <th>3</th>\n      <td>01HQXAVCMXCRNPED9KR90QAGJN</td>\n      <td>42 Corben Road, San Francisco, California 94103</td>\n      <td>Konrad Group</td>\n      <td>Private Corporation</td>\n    </tr>\n    <tr>\n      <th>4</th>\n      <td>01HQXAVCMXJ11TZ0EJQNZST6SP</td>\n      <td>3 Sycamore Parkway, Austin, Texas 73344</td>\n      <td>Ascend Analytics</td>\n      <td>Private Corporation</td>\n    </tr>\n    <tr>\n      <th>...</th>\n      <td>...</td>\n      <td>...</td>\n      <td>...</td>\n      <td>...</td>\n    </tr>\n    <tr>\n      <th>306</th>\n      <td>01HQXAVCQZT7RE42HZ1RT90XT3</td>\n      <td>23 Corscot Road, Austin, Texas 73301</td>\n      <td>Zynga</td>\n      <td>Private Corporation</td>\n    </tr>\n    <tr>\n      <th>307</th>\n      <td>01HQXAVCQZYF5N9HVP8QNCXW97</td>\n      <td>566 Cordelia Center, New York, New York 10001</td>\n      <td>Workato</td>\n      <td>Private Corporation</td>\n    </tr>\n    <tr>\n      <th>308</th>\n      <td>01HQXAVCR0PX1DP6TJNR6FAJ4M</td>\n      <td>935 Old Gate Parkway, Denver, Colorado 80019</td>\n      <td>Wisk</td>\n      <td>Private Corporation</td>\n    </tr>\n    <tr>\n      <th>309</th>\n      <td>01HQXAVCR0113ZBMBE6D7ARSM2</td>\n      <td>3792 Rutledge Crossing, Los Angeles, Californi...</td>\n      <td>Moveworks</td>\n      <td>Private Corporation</td>\n    </tr>\n    <tr>\n      <th>310</th>\n      <td>01HQXAVCR009GYX7Z739EYC6DQ</td>\n      <td>9204 East Parkway, Atlanta, Georgia 30033</td>\n      <td>PlusAI</td>\n      <td>Private Corporation</td>\n    </tr>\n  </tbody>\n</table>\n<p>311 rows × 4 columns</p>\n</div>"
     },
     "execution_count": 20,
     "metadata": {},
     "output_type": "execute_result"
    }
   ],
   "source": [
    "# Assign each company a random 'type' from some preset company types\n",
    "company_types = ['Private Corporation', 'Non-Profit Organization', 'Startup']\n",
    "probabilities = [0.80, 0.05, 0.15]\n",
    "company_df['Type'] = np.random.choice(company_types, size=len(company_df), p=probabilities)\n",
    "company_df"
   ],
   "metadata": {
    "collapsed": false,
    "ExecuteTime": {
     "end_time": "2024-03-01T22:12:49.722208Z",
     "start_time": "2024-03-01T22:12:49.707052Z"
    }
   },
   "id": "bd795f77d1f776d5",
   "execution_count": 20
  },
  {
   "cell_type": "code",
   "outputs": [],
   "source": [
    "# Save final company data\n",
    "company_df.to_csv('data/Company.csv', index=False)"
   ],
   "metadata": {
    "collapsed": false,
    "ExecuteTime": {
     "end_time": "2024-03-01T16:18:15.479070Z",
     "start_time": "2024-03-01T16:18:15.473273Z"
    }
   },
   "id": "21ca833163510b73",
   "execution_count": 69
  },
  {
   "cell_type": "markdown",
   "source": [
    "### Employee\n",
    "- Mockaroo was used to generate the Employee_ID, Name, Job Title, Department, and Company column values. \n",
    "- However, because Mockaroo generates either fake or random real company names that may or may not have been represented in our (real) job postings data, we modified the Company column by imputing it with random Company names sourced from our Company relation. This improves our application data's realism significantly by making the two relations more consistent with each other."
   ],
   "metadata": {
    "collapsed": false
   },
   "id": "99ad15cd8f14d769"
  },
  {
   "cell_type": "code",
   "outputs": [
    {
     "data": {
      "text/plain": "                   Employee_ID               Name  \\\n0   01HQ9SN558SBTGP3CJ0SFCNX58       Johan Debold   \n1   01HQ9SN559DXNCX8PZGSPX86DQ      Aaron Janicki   \n2   01HQ9SN55ADXDE35WM2X25FRFN   Atalanta Watting   \n3   01HQ9SN55BJ68WCF69VZ75WN9D       Kippie Caple   \n4   01HQ9SN55B1AQ4A44XRSQYVQ4B   Francklyn Jansey   \n..                         ...                ...   \n94  01HQ9SN57BECEEC1DEDFDV2HPN  Katheryn Joannidi   \n95  01HQ9SN57B6SHA3DBMQQWB97AV       Irwin Giffen   \n96  01HQ9SN57C19SH5TQ03KMD41XB      Sarette Cheel   \n97  01HQ9SN57DA8AY2Y6M4EE0KYVJ        Hillel Pero   \n98  01HQ9SN57DHCJ84D75BYFBF1JV      Natty Dagwell   \n\n                         Job Title            Department  \\\n0                  Design Engineer            Accounting   \n1   Payment Adjustment Coordinator            Accounting   \n2                Marketing Manager  Business Development   \n3                Director of Sales               Support   \n4           Administrative Officer                 Sales   \n..                             ...                   ...   \n94                       Professor               Support   \n95              Help Desk Operator              Services   \n96              Speech Pathologist    Product Management   \n97        Senior Financial Analyst  Business Development   \n98               Assistant Manager                 Sales   \n\n                      Company  \n0                    Lendbuzz  \n1                  Zeno Group  \n2        Second Order Effects  \n3                        Domo  \n4              Comerica Bank   \n..                        ...  \n94                     Tempus  \n95        Northwestern Mutual  \n96                     Skydio  \n97   The Walt Disney Company   \n98                      Ebay   \n\n[99 rows x 5 columns]",
      "text/html": "<div>\n<style scoped>\n    .dataframe tbody tr th:only-of-type {\n        vertical-align: middle;\n    }\n\n    .dataframe tbody tr th {\n        vertical-align: top;\n    }\n\n    .dataframe thead th {\n        text-align: right;\n    }\n</style>\n<table border=\"1\" class=\"dataframe\">\n  <thead>\n    <tr style=\"text-align: right;\">\n      <th></th>\n      <th>Employee_ID</th>\n      <th>Name</th>\n      <th>Job Title</th>\n      <th>Department</th>\n      <th>Company</th>\n    </tr>\n  </thead>\n  <tbody>\n    <tr>\n      <th>0</th>\n      <td>01HQ9SN558SBTGP3CJ0SFCNX58</td>\n      <td>Johan Debold</td>\n      <td>Design Engineer</td>\n      <td>Accounting</td>\n      <td>Lendbuzz</td>\n    </tr>\n    <tr>\n      <th>1</th>\n      <td>01HQ9SN559DXNCX8PZGSPX86DQ</td>\n      <td>Aaron Janicki</td>\n      <td>Payment Adjustment Coordinator</td>\n      <td>Accounting</td>\n      <td>Zeno Group</td>\n    </tr>\n    <tr>\n      <th>2</th>\n      <td>01HQ9SN55ADXDE35WM2X25FRFN</td>\n      <td>Atalanta Watting</td>\n      <td>Marketing Manager</td>\n      <td>Business Development</td>\n      <td>Second Order Effects</td>\n    </tr>\n    <tr>\n      <th>3</th>\n      <td>01HQ9SN55BJ68WCF69VZ75WN9D</td>\n      <td>Kippie Caple</td>\n      <td>Director of Sales</td>\n      <td>Support</td>\n      <td>Domo</td>\n    </tr>\n    <tr>\n      <th>4</th>\n      <td>01HQ9SN55B1AQ4A44XRSQYVQ4B</td>\n      <td>Francklyn Jansey</td>\n      <td>Administrative Officer</td>\n      <td>Sales</td>\n      <td>Comerica Bank</td>\n    </tr>\n    <tr>\n      <th>...</th>\n      <td>...</td>\n      <td>...</td>\n      <td>...</td>\n      <td>...</td>\n      <td>...</td>\n    </tr>\n    <tr>\n      <th>94</th>\n      <td>01HQ9SN57BECEEC1DEDFDV2HPN</td>\n      <td>Katheryn Joannidi</td>\n      <td>Professor</td>\n      <td>Support</td>\n      <td>Tempus</td>\n    </tr>\n    <tr>\n      <th>95</th>\n      <td>01HQ9SN57B6SHA3DBMQQWB97AV</td>\n      <td>Irwin Giffen</td>\n      <td>Help Desk Operator</td>\n      <td>Services</td>\n      <td>Northwestern Mutual</td>\n    </tr>\n    <tr>\n      <th>96</th>\n      <td>01HQ9SN57C19SH5TQ03KMD41XB</td>\n      <td>Sarette Cheel</td>\n      <td>Speech Pathologist</td>\n      <td>Product Management</td>\n      <td>Skydio</td>\n    </tr>\n    <tr>\n      <th>97</th>\n      <td>01HQ9SN57DA8AY2Y6M4EE0KYVJ</td>\n      <td>Hillel Pero</td>\n      <td>Senior Financial Analyst</td>\n      <td>Business Development</td>\n      <td>The Walt Disney Company</td>\n    </tr>\n    <tr>\n      <th>98</th>\n      <td>01HQ9SN57DHCJ84D75BYFBF1JV</td>\n      <td>Natty Dagwell</td>\n      <td>Assistant Manager</td>\n      <td>Sales</td>\n      <td>Ebay</td>\n    </tr>\n  </tbody>\n</table>\n<p>99 rows × 5 columns</p>\n</div>"
     },
     "execution_count": 21,
     "metadata": {},
     "output_type": "execute_result"
    }
   ],
   "source": [
    "employee_df = pd.read_csv('data/Mockaroo/Mockaroo-Employee.csv')\n",
    "employee_df"
   ],
   "metadata": {
    "collapsed": false,
    "ExecuteTime": {
     "end_time": "2024-03-01T22:12:52.864027Z",
     "start_time": "2024-03-01T22:12:52.854582Z"
    }
   },
   "id": "272eb4fdb7124a14",
   "execution_count": 21
  },
  {
   "cell_type": "code",
   "outputs": [],
   "source": [
    "employee_df.to_csv('data/Employee.csv', index=False)"
   ],
   "metadata": {
    "collapsed": false,
    "ExecuteTime": {
     "end_time": "2024-03-01T16:27:20.975954Z",
     "start_time": "2024-03-01T16:27:20.971648Z"
    }
   },
   "id": "6510b7dc60aa33bb",
   "execution_count": 70
  },
  {
   "cell_type": "markdown",
   "source": [
    "### Recruiter\n",
    "- The initial Recruiter table data with a Username, Name, Address, Company, and Specialization for each row was generated using Mockaroo.\n",
    "- Similar to the above Employee table, we impute the random Company names with Company names that are represented in the job postings to add realism.\n",
    "- Similar to what was done for the Company table, given that Mockaroo can only generate street addresses, we also imputed each address with a random city and corresponding state and zip code."
   ],
   "metadata": {
    "collapsed": false
   },
   "id": "b566e16fedfd48cf"
  },
  {
   "cell_type": "code",
   "outputs": [
    {
     "data": {
      "text/plain": "         Username                 Name                   Address  \\\n0      fbrafield0  Fernandina Brafield          7272 Mesta Drive   \n1         cmeech1        Corrine Meech          582 Warner Drive   \n2       dfeander2      Dalston Feander        12567 Elgar Street   \n3      rbloggett3      Rawley Bloggett           533 Orin Street   \n4      ehoulston4    Etheline Houlston            06 Pond Center   \n5        bgascar5           Ban Gascar             1 Surrey Road   \n6          lvose6             Loy Vose         3 Forest Run Road   \n7       ffossitt7   Ferdinanda Fossitt         98 Eliot Junction   \n8        abeagin8        Angela Beagin            0 Miller Place   \n9      mcrowcher9      Miltie Crowcher  3824 Messerschmidt Plaza   \n10      obrechera         Olia Brecher             02 Buhler Way   \n11       ahoutbyb          Anni Houtby            9 Fallview Way   \n12    elicciardic  Ethelbert Licciardi     95 Pine View Junction   \n13         okiddd            Otho Kidd         723 Portage Alley   \n14    mcorbridgee      Morna Corbridge      281 Heffernan Street   \n15       cvenessf      Courtney Veness         5244 Crowley Pass   \n16    jlibermoreg        Jim Libermore      64384 Bluejay Street   \n17        ctowseh        Clarita Towse         8443 Sloan Circle   \n18      ohulburdi       Odella Hulburd         415 Farragut Park   \n19     mparbrookj        Moll Parbrook         65816 Melby Alley   \n20      jmcclochk       Joeann McCloch          3 Spohn Crossing   \n21       pgambiel         Paule Gambie     0478 Reindahl Terrace   \n22        ryerbym          Ringo Yerby      16008 Straubel Trail   \n23        dchelln           Derk Chell       3496 Loeprich Court   \n24       kbrehato       Kaleena Brehat        14 Mifflin Parkway   \n25      ckedwardp         Case Kedward           65 Spenser Pass   \n26       kvivashq        Kareem Vivash        97973 Warner Place   \n27    xalexanderr    Ximenez Alexander        3 Lake View Center   \n28     bgrunnells     Belicia Grunnell       0398 Rutledge Court   \n29        rasaaft       Rosaline Asaaf             171 Ohio Pass   \n30         gjohnu            Gian John         5053 Kedzie Court   \n31   mdzenisenkav     Merry Dzenisenka                07 3rd Way   \n32     zvendittow        Zola Venditto        76 Johnson Parkway   \n33       cmethamx         Claus Metham       75959 Oakridge Road   \n34      icatfordy       Ivonne Catford          0455 Debs Avenue   \n35     kcapewellz      Keslie Capewell       62782 Bobwhite Road   \n36       rtheis10           Rudy Theis  50441 Westerfield Circle   \n37   hvanyukhin11   Herminia Vanyukhin         591 Clarendon Way   \n38      gnaisby12      Gilligan Naisby        11305 Schurz Place   \n39     ebeaufoy13        Emmit Beaufoy   59171 Doe Crossing Park   \n40    xhugonnet14     Xaviera Hugonnet           77 Bayside Park   \n41  elangcastle15  Elsinore Langcastle          1 Lillian Circle   \n42     dfarries16       Dulcie Farries         5 Ridge Oak Alley   \n43    eworledge17        Esme Worledge         387 Derek Parkway   \n44       tburet18          Tyson Buret         713 Blaine Street   \n45     agimblet19     Adelheid Gimblet       28117 School Street   \n46     kcowoppe1a       Kessia Cowoppe            5 Kedzie Place   \n47    fallerton1b       Freda Allerton    25 Charing Cross Alley   \n48       ctrodd1c         Cecile Trodd         9 Summit Junction   \n49  ssignorelli1d      Swen Signorelli        67664 Moland Court   \n\n                    Company            Specialization  \n0            Comerica Bank                 Accounting  \n1                      Domo  Research and Development  \n2                     Five9                   Support  \n3                TS Imagine                     Legal  \n4         Align Technology                  Marketing  \n5                 Linkedin       Business Development  \n6      Hudson River Trading                 Marketing  \n7                      Ramp                Accounting  \n8                   Bodo.ai                   Support  \n9          Artisan Partners           Human Resources  \n10               TS Imagine           Human Resources  \n11             Chick-fil-a            Human Resources  \n12                   Mark43                     Sales  \n13                   Lumen       Business Development  \n14           Extreme Reach   Research and Development  \n15                 SIEMENS                   Services  \n16                  Workiva                  Services  \n17               Intuitive                 Accounting  \n18               Honeywell                   Training  \n19      Wabtec Corporation                   Training  \n20                   Skydio                  Training  \n21                  Workiva                  Services  \n22   Genuine Parts Company                      Legal  \n23                     Fizz           Human Resources  \n24               TS Imagine        Product Management  \n25               Mastercard           Human Resources  \n26                   Rivian                  Training  \n27                    Five9                 Marketing  \n28                   Lumen         Product Management  \n29               TS Imagine               Engineering  \n30                    Five9                  Services  \n31               Zeno Group                     Legal  \n32             Advisor360¬∞  Research and Development  \n33                 Comcast            Human Resources  \n34                  Kitware      Business Development  \n35                 Polaris                      Legal  \n36              CesiumAstro                 Marketing  \n37              Uncountable               Engineering  \n38                   Archer                   Support  \n39     Second Order Effects                  Services  \n40                Ancestry   Research and Development  \n41                  Anduril  Research and Development  \n42        Align Technology                      Sales  \n43                  Workiva        Product Management  \n44             Chick-fil-a       Business Development  \n45             MyFitnessPal                     Legal  \n46              CesiumAstro                     Legal  \n47    Erie Insurance Group                    Support  \n48               Proofpoint           Human Resources  \n49    Generac Clean Energy   Research and Development  ",
      "text/html": "<div>\n<style scoped>\n    .dataframe tbody tr th:only-of-type {\n        vertical-align: middle;\n    }\n\n    .dataframe tbody tr th {\n        vertical-align: top;\n    }\n\n    .dataframe thead th {\n        text-align: right;\n    }\n</style>\n<table border=\"1\" class=\"dataframe\">\n  <thead>\n    <tr style=\"text-align: right;\">\n      <th></th>\n      <th>Username</th>\n      <th>Name</th>\n      <th>Address</th>\n      <th>Company</th>\n      <th>Specialization</th>\n    </tr>\n  </thead>\n  <tbody>\n    <tr>\n      <th>0</th>\n      <td>fbrafield0</td>\n      <td>Fernandina Brafield</td>\n      <td>7272 Mesta Drive</td>\n      <td>Comerica Bank</td>\n      <td>Accounting</td>\n    </tr>\n    <tr>\n      <th>1</th>\n      <td>cmeech1</td>\n      <td>Corrine Meech</td>\n      <td>582 Warner Drive</td>\n      <td>Domo</td>\n      <td>Research and Development</td>\n    </tr>\n    <tr>\n      <th>2</th>\n      <td>dfeander2</td>\n      <td>Dalston Feander</td>\n      <td>12567 Elgar Street</td>\n      <td>Five9</td>\n      <td>Support</td>\n    </tr>\n    <tr>\n      <th>3</th>\n      <td>rbloggett3</td>\n      <td>Rawley Bloggett</td>\n      <td>533 Orin Street</td>\n      <td>TS Imagine</td>\n      <td>Legal</td>\n    </tr>\n    <tr>\n      <th>4</th>\n      <td>ehoulston4</td>\n      <td>Etheline Houlston</td>\n      <td>06 Pond Center</td>\n      <td>Align Technology</td>\n      <td>Marketing</td>\n    </tr>\n    <tr>\n      <th>5</th>\n      <td>bgascar5</td>\n      <td>Ban Gascar</td>\n      <td>1 Surrey Road</td>\n      <td>Linkedin</td>\n      <td>Business Development</td>\n    </tr>\n    <tr>\n      <th>6</th>\n      <td>lvose6</td>\n      <td>Loy Vose</td>\n      <td>3 Forest Run Road</td>\n      <td>Hudson River Trading</td>\n      <td>Marketing</td>\n    </tr>\n    <tr>\n      <th>7</th>\n      <td>ffossitt7</td>\n      <td>Ferdinanda Fossitt</td>\n      <td>98 Eliot Junction</td>\n      <td>Ramp</td>\n      <td>Accounting</td>\n    </tr>\n    <tr>\n      <th>8</th>\n      <td>abeagin8</td>\n      <td>Angela Beagin</td>\n      <td>0 Miller Place</td>\n      <td>Bodo.ai</td>\n      <td>Support</td>\n    </tr>\n    <tr>\n      <th>9</th>\n      <td>mcrowcher9</td>\n      <td>Miltie Crowcher</td>\n      <td>3824 Messerschmidt Plaza</td>\n      <td>Artisan Partners</td>\n      <td>Human Resources</td>\n    </tr>\n    <tr>\n      <th>10</th>\n      <td>obrechera</td>\n      <td>Olia Brecher</td>\n      <td>02 Buhler Way</td>\n      <td>TS Imagine</td>\n      <td>Human Resources</td>\n    </tr>\n    <tr>\n      <th>11</th>\n      <td>ahoutbyb</td>\n      <td>Anni Houtby</td>\n      <td>9 Fallview Way</td>\n      <td>Chick-fil-a</td>\n      <td>Human Resources</td>\n    </tr>\n    <tr>\n      <th>12</th>\n      <td>elicciardic</td>\n      <td>Ethelbert Licciardi</td>\n      <td>95 Pine View Junction</td>\n      <td>Mark43</td>\n      <td>Sales</td>\n    </tr>\n    <tr>\n      <th>13</th>\n      <td>okiddd</td>\n      <td>Otho Kidd</td>\n      <td>723 Portage Alley</td>\n      <td>Lumen</td>\n      <td>Business Development</td>\n    </tr>\n    <tr>\n      <th>14</th>\n      <td>mcorbridgee</td>\n      <td>Morna Corbridge</td>\n      <td>281 Heffernan Street</td>\n      <td>Extreme Reach</td>\n      <td>Research and Development</td>\n    </tr>\n    <tr>\n      <th>15</th>\n      <td>cvenessf</td>\n      <td>Courtney Veness</td>\n      <td>5244 Crowley Pass</td>\n      <td>SIEMENS</td>\n      <td>Services</td>\n    </tr>\n    <tr>\n      <th>16</th>\n      <td>jlibermoreg</td>\n      <td>Jim Libermore</td>\n      <td>64384 Bluejay Street</td>\n      <td>Workiva</td>\n      <td>Services</td>\n    </tr>\n    <tr>\n      <th>17</th>\n      <td>ctowseh</td>\n      <td>Clarita Towse</td>\n      <td>8443 Sloan Circle</td>\n      <td>Intuitive</td>\n      <td>Accounting</td>\n    </tr>\n    <tr>\n      <th>18</th>\n      <td>ohulburdi</td>\n      <td>Odella Hulburd</td>\n      <td>415 Farragut Park</td>\n      <td>Honeywell</td>\n      <td>Training</td>\n    </tr>\n    <tr>\n      <th>19</th>\n      <td>mparbrookj</td>\n      <td>Moll Parbrook</td>\n      <td>65816 Melby Alley</td>\n      <td>Wabtec Corporation</td>\n      <td>Training</td>\n    </tr>\n    <tr>\n      <th>20</th>\n      <td>jmcclochk</td>\n      <td>Joeann McCloch</td>\n      <td>3 Spohn Crossing</td>\n      <td>Skydio</td>\n      <td>Training</td>\n    </tr>\n    <tr>\n      <th>21</th>\n      <td>pgambiel</td>\n      <td>Paule Gambie</td>\n      <td>0478 Reindahl Terrace</td>\n      <td>Workiva</td>\n      <td>Services</td>\n    </tr>\n    <tr>\n      <th>22</th>\n      <td>ryerbym</td>\n      <td>Ringo Yerby</td>\n      <td>16008 Straubel Trail</td>\n      <td>Genuine Parts Company</td>\n      <td>Legal</td>\n    </tr>\n    <tr>\n      <th>23</th>\n      <td>dchelln</td>\n      <td>Derk Chell</td>\n      <td>3496 Loeprich Court</td>\n      <td>Fizz</td>\n      <td>Human Resources</td>\n    </tr>\n    <tr>\n      <th>24</th>\n      <td>kbrehato</td>\n      <td>Kaleena Brehat</td>\n      <td>14 Mifflin Parkway</td>\n      <td>TS Imagine</td>\n      <td>Product Management</td>\n    </tr>\n    <tr>\n      <th>25</th>\n      <td>ckedwardp</td>\n      <td>Case Kedward</td>\n      <td>65 Spenser Pass</td>\n      <td>Mastercard</td>\n      <td>Human Resources</td>\n    </tr>\n    <tr>\n      <th>26</th>\n      <td>kvivashq</td>\n      <td>Kareem Vivash</td>\n      <td>97973 Warner Place</td>\n      <td>Rivian</td>\n      <td>Training</td>\n    </tr>\n    <tr>\n      <th>27</th>\n      <td>xalexanderr</td>\n      <td>Ximenez Alexander</td>\n      <td>3 Lake View Center</td>\n      <td>Five9</td>\n      <td>Marketing</td>\n    </tr>\n    <tr>\n      <th>28</th>\n      <td>bgrunnells</td>\n      <td>Belicia Grunnell</td>\n      <td>0398 Rutledge Court</td>\n      <td>Lumen</td>\n      <td>Product Management</td>\n    </tr>\n    <tr>\n      <th>29</th>\n      <td>rasaaft</td>\n      <td>Rosaline Asaaf</td>\n      <td>171 Ohio Pass</td>\n      <td>TS Imagine</td>\n      <td>Engineering</td>\n    </tr>\n    <tr>\n      <th>30</th>\n      <td>gjohnu</td>\n      <td>Gian John</td>\n      <td>5053 Kedzie Court</td>\n      <td>Five9</td>\n      <td>Services</td>\n    </tr>\n    <tr>\n      <th>31</th>\n      <td>mdzenisenkav</td>\n      <td>Merry Dzenisenka</td>\n      <td>07 3rd Way</td>\n      <td>Zeno Group</td>\n      <td>Legal</td>\n    </tr>\n    <tr>\n      <th>32</th>\n      <td>zvendittow</td>\n      <td>Zola Venditto</td>\n      <td>76 Johnson Parkway</td>\n      <td>Advisor360¬∞</td>\n      <td>Research and Development</td>\n    </tr>\n    <tr>\n      <th>33</th>\n      <td>cmethamx</td>\n      <td>Claus Metham</td>\n      <td>75959 Oakridge Road</td>\n      <td>Comcast</td>\n      <td>Human Resources</td>\n    </tr>\n    <tr>\n      <th>34</th>\n      <td>icatfordy</td>\n      <td>Ivonne Catford</td>\n      <td>0455 Debs Avenue</td>\n      <td>Kitware</td>\n      <td>Business Development</td>\n    </tr>\n    <tr>\n      <th>35</th>\n      <td>kcapewellz</td>\n      <td>Keslie Capewell</td>\n      <td>62782 Bobwhite Road</td>\n      <td>Polaris</td>\n      <td>Legal</td>\n    </tr>\n    <tr>\n      <th>36</th>\n      <td>rtheis10</td>\n      <td>Rudy Theis</td>\n      <td>50441 Westerfield Circle</td>\n      <td>CesiumAstro</td>\n      <td>Marketing</td>\n    </tr>\n    <tr>\n      <th>37</th>\n      <td>hvanyukhin11</td>\n      <td>Herminia Vanyukhin</td>\n      <td>591 Clarendon Way</td>\n      <td>Uncountable</td>\n      <td>Engineering</td>\n    </tr>\n    <tr>\n      <th>38</th>\n      <td>gnaisby12</td>\n      <td>Gilligan Naisby</td>\n      <td>11305 Schurz Place</td>\n      <td>Archer</td>\n      <td>Support</td>\n    </tr>\n    <tr>\n      <th>39</th>\n      <td>ebeaufoy13</td>\n      <td>Emmit Beaufoy</td>\n      <td>59171 Doe Crossing Park</td>\n      <td>Second Order Effects</td>\n      <td>Services</td>\n    </tr>\n    <tr>\n      <th>40</th>\n      <td>xhugonnet14</td>\n      <td>Xaviera Hugonnet</td>\n      <td>77 Bayside Park</td>\n      <td>Ancestry</td>\n      <td>Research and Development</td>\n    </tr>\n    <tr>\n      <th>41</th>\n      <td>elangcastle15</td>\n      <td>Elsinore Langcastle</td>\n      <td>1 Lillian Circle</td>\n      <td>Anduril</td>\n      <td>Research and Development</td>\n    </tr>\n    <tr>\n      <th>42</th>\n      <td>dfarries16</td>\n      <td>Dulcie Farries</td>\n      <td>5 Ridge Oak Alley</td>\n      <td>Align Technology</td>\n      <td>Sales</td>\n    </tr>\n    <tr>\n      <th>43</th>\n      <td>eworledge17</td>\n      <td>Esme Worledge</td>\n      <td>387 Derek Parkway</td>\n      <td>Workiva</td>\n      <td>Product Management</td>\n    </tr>\n    <tr>\n      <th>44</th>\n      <td>tburet18</td>\n      <td>Tyson Buret</td>\n      <td>713 Blaine Street</td>\n      <td>Chick-fil-a</td>\n      <td>Business Development</td>\n    </tr>\n    <tr>\n      <th>45</th>\n      <td>agimblet19</td>\n      <td>Adelheid Gimblet</td>\n      <td>28117 School Street</td>\n      <td>MyFitnessPal</td>\n      <td>Legal</td>\n    </tr>\n    <tr>\n      <th>46</th>\n      <td>kcowoppe1a</td>\n      <td>Kessia Cowoppe</td>\n      <td>5 Kedzie Place</td>\n      <td>CesiumAstro</td>\n      <td>Legal</td>\n    </tr>\n    <tr>\n      <th>47</th>\n      <td>fallerton1b</td>\n      <td>Freda Allerton</td>\n      <td>25 Charing Cross Alley</td>\n      <td>Erie Insurance Group</td>\n      <td>Support</td>\n    </tr>\n    <tr>\n      <th>48</th>\n      <td>ctrodd1c</td>\n      <td>Cecile Trodd</td>\n      <td>9 Summit Junction</td>\n      <td>Proofpoint</td>\n      <td>Human Resources</td>\n    </tr>\n    <tr>\n      <th>49</th>\n      <td>ssignorelli1d</td>\n      <td>Swen Signorelli</td>\n      <td>67664 Moland Court</td>\n      <td>Generac Clean Energy</td>\n      <td>Research and Development</td>\n    </tr>\n  </tbody>\n</table>\n</div>"
     },
     "execution_count": 22,
     "metadata": {},
     "output_type": "execute_result"
    }
   ],
   "source": [
    "recruiter_df = pd.read_csv('data/Mockaroo/Mockaroo-Recruiter.csv')\n",
    "recruiter_df"
   ],
   "metadata": {
    "collapsed": false,
    "ExecuteTime": {
     "end_time": "2024-03-01T22:12:55.630639Z",
     "start_time": "2024-03-01T22:12:55.612591Z"
    }
   },
   "id": "3a19d9c69b0639af",
   "execution_count": 22
  },
  {
   "cell_type": "code",
   "outputs": [
    {
     "data": {
      "text/plain": "         Username                 Name  \\\n0      fbrafield0  Fernandina Brafield   \n1         cmeech1        Corrine Meech   \n2       dfeander2      Dalston Feander   \n3      rbloggett3      Rawley Bloggett   \n4      ehoulston4    Etheline Houlston   \n5        bgascar5           Ban Gascar   \n6          lvose6             Loy Vose   \n7       ffossitt7   Ferdinanda Fossitt   \n8        abeagin8        Angela Beagin   \n9      mcrowcher9      Miltie Crowcher   \n10      obrechera         Olia Brecher   \n11       ahoutbyb          Anni Houtby   \n12    elicciardic  Ethelbert Licciardi   \n13         okiddd            Otho Kidd   \n14    mcorbridgee      Morna Corbridge   \n15       cvenessf      Courtney Veness   \n16    jlibermoreg        Jim Libermore   \n17        ctowseh        Clarita Towse   \n18      ohulburdi       Odella Hulburd   \n19     mparbrookj        Moll Parbrook   \n20      jmcclochk       Joeann McCloch   \n21       pgambiel         Paule Gambie   \n22        ryerbym          Ringo Yerby   \n23        dchelln           Derk Chell   \n24       kbrehato       Kaleena Brehat   \n25      ckedwardp         Case Kedward   \n26       kvivashq        Kareem Vivash   \n27    xalexanderr    Ximenez Alexander   \n28     bgrunnells     Belicia Grunnell   \n29        rasaaft       Rosaline Asaaf   \n30         gjohnu            Gian John   \n31   mdzenisenkav     Merry Dzenisenka   \n32     zvendittow        Zola Venditto   \n33       cmethamx         Claus Metham   \n34      icatfordy       Ivonne Catford   \n35     kcapewellz      Keslie Capewell   \n36       rtheis10           Rudy Theis   \n37   hvanyukhin11   Herminia Vanyukhin   \n38      gnaisby12      Gilligan Naisby   \n39     ebeaufoy13        Emmit Beaufoy   \n40    xhugonnet14     Xaviera Hugonnet   \n41  elangcastle15  Elsinore Langcastle   \n42     dfarries16       Dulcie Farries   \n43    eworledge17        Esme Worledge   \n44       tburet18          Tyson Buret   \n45     agimblet19     Adelheid Gimblet   \n46     kcowoppe1a       Kessia Cowoppe   \n47    fallerton1b       Freda Allerton   \n48       ctrodd1c         Cecile Trodd   \n49  ssignorelli1d      Swen Signorelli   \n\n                                              Address  \\\n0         7272 Mesta Drive, Seattle, Washington 98102   \n1            582 Warner Drive, Denver, Colorado 80019   \n2     12567 Elgar Street, Boston, Massachusetts 02110   \n3      533 Orin Street, Los Angeles, California 90002   \n4                 06 Pond Center, Austin, Texas 73301   \n5            1 Surrey Road, Seattle, Washington 98102   \n6    3 Forest Run Road, Los Angeles, California 90003   \n7             98 Eliot Junction, Miami, Florida 33126   \n8                 0 Miller Place, Dallas, Texas 75032   \n9      3824 Messerschmidt Plaza, Tampa, Florida 33592   \n10                 02 Buhler Way, Austin, Texas 73344   \n11            9 Fallview Way, Chicago, Illinois 60018   \n12  95 Pine View Junction, Los Angeles, California...   \n13  723 Portage Alley, San Francisco, California 9...   \n14         281 Heffernan Street, Austin, Texas 778613   \n15            5244 Crowley Pass, Tampa, Florida 33602   \n16  64384 Bluejay Street, Boston, Massachusetts 02110   \n17         8443 Sloan Circle, Chicago, Illinois 60007   \n18             415 Farragut Park, Austin, Texas 73301   \n19            65816 Melby Alley, Miami, Florida 33126   \n20             3 Spohn Crossing, Miami, Florida 33109   \n21   0478 Reindahl Terrace, Seattle, Washington 98101   \n22    16008 Straubel Trail, Seattle, Washington 98103   \n23          3496 Loeprich Court, Miami, Florida 33126   \n24            14 Mifflin Parkway, Dallas, Texas 75001   \n25     65 Spenser Pass, Los Angeles, California 90002   \n26       97973 Warner Place, New York, New York 10003   \n27         3 Lake View Center, Denver, Colorado 80014   \n28          0398 Rutledge Court, Miami, Florida 33101   \n29       171 Ohio Pass, Los Angeles, California 90003   \n30            5053 Kedzie Court, Tampa, Florida 33601   \n31                    07 3rd Way, Austin, Texas 73344   \n32           76 Johnson Parkway, Tampa, Florida 33601   \n33  75959 Oakridge Road, San Francisco, California...   \n34    0455 Debs Avenue, Los Angeles, California 90003   \n35   62782 Bobwhite Road, Boston, Massachusetts 02110   \n36  50441 Westerfield Circle, San Francisco, Calif...   \n37     591 Clarendon Way, Boston, Massachusetts 02111   \n38       11305 Schurz Place, New York, New York 10001   \n39  59171 Doe Crossing Park, New York, New York 10003   \n40              77 Bayside Park, Tampa, Florida 33592   \n41             1 Lillian Circle, Tampa, Florida 33602   \n42            5 Ridge Oak Alley, Tampa, Florida 33592   \n43            387 Derek Parkway, Tampa, Florida 33601   \n44            713 Blaine Street, Tampa, Florida 33592   \n45        28117 School Street, Atlanta, Georgia 30303   \n46        5 Kedzie Place, Boston, Massachusetts 02108   \n47     25 Charing Cross Alley, Atlanta, Georgia 30303   \n48        9 Summit Junction, New York, New York 10002   \n49        67664 Moland Court, Chicago, Illinois 60018   \n\n                    Company            Specialization  \n0            Comerica Bank                 Accounting  \n1                      Domo  Research and Development  \n2                     Five9                   Support  \n3                TS Imagine                     Legal  \n4         Align Technology                  Marketing  \n5                 Linkedin       Business Development  \n6      Hudson River Trading                 Marketing  \n7                      Ramp                Accounting  \n8                   Bodo.ai                   Support  \n9          Artisan Partners           Human Resources  \n10               TS Imagine           Human Resources  \n11             Chick-fil-a            Human Resources  \n12                   Mark43                     Sales  \n13                   Lumen       Business Development  \n14           Extreme Reach   Research and Development  \n15                 SIEMENS                   Services  \n16                  Workiva                  Services  \n17               Intuitive                 Accounting  \n18               Honeywell                   Training  \n19      Wabtec Corporation                   Training  \n20                   Skydio                  Training  \n21                  Workiva                  Services  \n22   Genuine Parts Company                      Legal  \n23                     Fizz           Human Resources  \n24               TS Imagine        Product Management  \n25               Mastercard           Human Resources  \n26                   Rivian                  Training  \n27                    Five9                 Marketing  \n28                   Lumen         Product Management  \n29               TS Imagine               Engineering  \n30                    Five9                  Services  \n31               Zeno Group                     Legal  \n32             Advisor360¬∞  Research and Development  \n33                 Comcast            Human Resources  \n34                  Kitware      Business Development  \n35                 Polaris                      Legal  \n36              CesiumAstro                 Marketing  \n37              Uncountable               Engineering  \n38                   Archer                   Support  \n39     Second Order Effects                  Services  \n40                Ancestry   Research and Development  \n41                  Anduril  Research and Development  \n42        Align Technology                      Sales  \n43                  Workiva        Product Management  \n44             Chick-fil-a       Business Development  \n45             MyFitnessPal                     Legal  \n46              CesiumAstro                     Legal  \n47    Erie Insurance Group                    Support  \n48               Proofpoint           Human Resources  \n49    Generac Clean Energy   Research and Development  ",
      "text/html": "<div>\n<style scoped>\n    .dataframe tbody tr th:only-of-type {\n        vertical-align: middle;\n    }\n\n    .dataframe tbody tr th {\n        vertical-align: top;\n    }\n\n    .dataframe thead th {\n        text-align: right;\n    }\n</style>\n<table border=\"1\" class=\"dataframe\">\n  <thead>\n    <tr style=\"text-align: right;\">\n      <th></th>\n      <th>Username</th>\n      <th>Name</th>\n      <th>Address</th>\n      <th>Company</th>\n      <th>Specialization</th>\n    </tr>\n  </thead>\n  <tbody>\n    <tr>\n      <th>0</th>\n      <td>fbrafield0</td>\n      <td>Fernandina Brafield</td>\n      <td>7272 Mesta Drive, Seattle, Washington 98102</td>\n      <td>Comerica Bank</td>\n      <td>Accounting</td>\n    </tr>\n    <tr>\n      <th>1</th>\n      <td>cmeech1</td>\n      <td>Corrine Meech</td>\n      <td>582 Warner Drive, Denver, Colorado 80019</td>\n      <td>Domo</td>\n      <td>Research and Development</td>\n    </tr>\n    <tr>\n      <th>2</th>\n      <td>dfeander2</td>\n      <td>Dalston Feander</td>\n      <td>12567 Elgar Street, Boston, Massachusetts 02110</td>\n      <td>Five9</td>\n      <td>Support</td>\n    </tr>\n    <tr>\n      <th>3</th>\n      <td>rbloggett3</td>\n      <td>Rawley Bloggett</td>\n      <td>533 Orin Street, Los Angeles, California 90002</td>\n      <td>TS Imagine</td>\n      <td>Legal</td>\n    </tr>\n    <tr>\n      <th>4</th>\n      <td>ehoulston4</td>\n      <td>Etheline Houlston</td>\n      <td>06 Pond Center, Austin, Texas 73301</td>\n      <td>Align Technology</td>\n      <td>Marketing</td>\n    </tr>\n    <tr>\n      <th>5</th>\n      <td>bgascar5</td>\n      <td>Ban Gascar</td>\n      <td>1 Surrey Road, Seattle, Washington 98102</td>\n      <td>Linkedin</td>\n      <td>Business Development</td>\n    </tr>\n    <tr>\n      <th>6</th>\n      <td>lvose6</td>\n      <td>Loy Vose</td>\n      <td>3 Forest Run Road, Los Angeles, California 90003</td>\n      <td>Hudson River Trading</td>\n      <td>Marketing</td>\n    </tr>\n    <tr>\n      <th>7</th>\n      <td>ffossitt7</td>\n      <td>Ferdinanda Fossitt</td>\n      <td>98 Eliot Junction, Miami, Florida 33126</td>\n      <td>Ramp</td>\n      <td>Accounting</td>\n    </tr>\n    <tr>\n      <th>8</th>\n      <td>abeagin8</td>\n      <td>Angela Beagin</td>\n      <td>0 Miller Place, Dallas, Texas 75032</td>\n      <td>Bodo.ai</td>\n      <td>Support</td>\n    </tr>\n    <tr>\n      <th>9</th>\n      <td>mcrowcher9</td>\n      <td>Miltie Crowcher</td>\n      <td>3824 Messerschmidt Plaza, Tampa, Florida 33592</td>\n      <td>Artisan Partners</td>\n      <td>Human Resources</td>\n    </tr>\n    <tr>\n      <th>10</th>\n      <td>obrechera</td>\n      <td>Olia Brecher</td>\n      <td>02 Buhler Way, Austin, Texas 73344</td>\n      <td>TS Imagine</td>\n      <td>Human Resources</td>\n    </tr>\n    <tr>\n      <th>11</th>\n      <td>ahoutbyb</td>\n      <td>Anni Houtby</td>\n      <td>9 Fallview Way, Chicago, Illinois 60018</td>\n      <td>Chick-fil-a</td>\n      <td>Human Resources</td>\n    </tr>\n    <tr>\n      <th>12</th>\n      <td>elicciardic</td>\n      <td>Ethelbert Licciardi</td>\n      <td>95 Pine View Junction, Los Angeles, California...</td>\n      <td>Mark43</td>\n      <td>Sales</td>\n    </tr>\n    <tr>\n      <th>13</th>\n      <td>okiddd</td>\n      <td>Otho Kidd</td>\n      <td>723 Portage Alley, San Francisco, California 9...</td>\n      <td>Lumen</td>\n      <td>Business Development</td>\n    </tr>\n    <tr>\n      <th>14</th>\n      <td>mcorbridgee</td>\n      <td>Morna Corbridge</td>\n      <td>281 Heffernan Street, Austin, Texas 778613</td>\n      <td>Extreme Reach</td>\n      <td>Research and Development</td>\n    </tr>\n    <tr>\n      <th>15</th>\n      <td>cvenessf</td>\n      <td>Courtney Veness</td>\n      <td>5244 Crowley Pass, Tampa, Florida 33602</td>\n      <td>SIEMENS</td>\n      <td>Services</td>\n    </tr>\n    <tr>\n      <th>16</th>\n      <td>jlibermoreg</td>\n      <td>Jim Libermore</td>\n      <td>64384 Bluejay Street, Boston, Massachusetts 02110</td>\n      <td>Workiva</td>\n      <td>Services</td>\n    </tr>\n    <tr>\n      <th>17</th>\n      <td>ctowseh</td>\n      <td>Clarita Towse</td>\n      <td>8443 Sloan Circle, Chicago, Illinois 60007</td>\n      <td>Intuitive</td>\n      <td>Accounting</td>\n    </tr>\n    <tr>\n      <th>18</th>\n      <td>ohulburdi</td>\n      <td>Odella Hulburd</td>\n      <td>415 Farragut Park, Austin, Texas 73301</td>\n      <td>Honeywell</td>\n      <td>Training</td>\n    </tr>\n    <tr>\n      <th>19</th>\n      <td>mparbrookj</td>\n      <td>Moll Parbrook</td>\n      <td>65816 Melby Alley, Miami, Florida 33126</td>\n      <td>Wabtec Corporation</td>\n      <td>Training</td>\n    </tr>\n    <tr>\n      <th>20</th>\n      <td>jmcclochk</td>\n      <td>Joeann McCloch</td>\n      <td>3 Spohn Crossing, Miami, Florida 33109</td>\n      <td>Skydio</td>\n      <td>Training</td>\n    </tr>\n    <tr>\n      <th>21</th>\n      <td>pgambiel</td>\n      <td>Paule Gambie</td>\n      <td>0478 Reindahl Terrace, Seattle, Washington 98101</td>\n      <td>Workiva</td>\n      <td>Services</td>\n    </tr>\n    <tr>\n      <th>22</th>\n      <td>ryerbym</td>\n      <td>Ringo Yerby</td>\n      <td>16008 Straubel Trail, Seattle, Washington 98103</td>\n      <td>Genuine Parts Company</td>\n      <td>Legal</td>\n    </tr>\n    <tr>\n      <th>23</th>\n      <td>dchelln</td>\n      <td>Derk Chell</td>\n      <td>3496 Loeprich Court, Miami, Florida 33126</td>\n      <td>Fizz</td>\n      <td>Human Resources</td>\n    </tr>\n    <tr>\n      <th>24</th>\n      <td>kbrehato</td>\n      <td>Kaleena Brehat</td>\n      <td>14 Mifflin Parkway, Dallas, Texas 75001</td>\n      <td>TS Imagine</td>\n      <td>Product Management</td>\n    </tr>\n    <tr>\n      <th>25</th>\n      <td>ckedwardp</td>\n      <td>Case Kedward</td>\n      <td>65 Spenser Pass, Los Angeles, California 90002</td>\n      <td>Mastercard</td>\n      <td>Human Resources</td>\n    </tr>\n    <tr>\n      <th>26</th>\n      <td>kvivashq</td>\n      <td>Kareem Vivash</td>\n      <td>97973 Warner Place, New York, New York 10003</td>\n      <td>Rivian</td>\n      <td>Training</td>\n    </tr>\n    <tr>\n      <th>27</th>\n      <td>xalexanderr</td>\n      <td>Ximenez Alexander</td>\n      <td>3 Lake View Center, Denver, Colorado 80014</td>\n      <td>Five9</td>\n      <td>Marketing</td>\n    </tr>\n    <tr>\n      <th>28</th>\n      <td>bgrunnells</td>\n      <td>Belicia Grunnell</td>\n      <td>0398 Rutledge Court, Miami, Florida 33101</td>\n      <td>Lumen</td>\n      <td>Product Management</td>\n    </tr>\n    <tr>\n      <th>29</th>\n      <td>rasaaft</td>\n      <td>Rosaline Asaaf</td>\n      <td>171 Ohio Pass, Los Angeles, California 90003</td>\n      <td>TS Imagine</td>\n      <td>Engineering</td>\n    </tr>\n    <tr>\n      <th>30</th>\n      <td>gjohnu</td>\n      <td>Gian John</td>\n      <td>5053 Kedzie Court, Tampa, Florida 33601</td>\n      <td>Five9</td>\n      <td>Services</td>\n    </tr>\n    <tr>\n      <th>31</th>\n      <td>mdzenisenkav</td>\n      <td>Merry Dzenisenka</td>\n      <td>07 3rd Way, Austin, Texas 73344</td>\n      <td>Zeno Group</td>\n      <td>Legal</td>\n    </tr>\n    <tr>\n      <th>32</th>\n      <td>zvendittow</td>\n      <td>Zola Venditto</td>\n      <td>76 Johnson Parkway, Tampa, Florida 33601</td>\n      <td>Advisor360¬∞</td>\n      <td>Research and Development</td>\n    </tr>\n    <tr>\n      <th>33</th>\n      <td>cmethamx</td>\n      <td>Claus Metham</td>\n      <td>75959 Oakridge Road, San Francisco, California...</td>\n      <td>Comcast</td>\n      <td>Human Resources</td>\n    </tr>\n    <tr>\n      <th>34</th>\n      <td>icatfordy</td>\n      <td>Ivonne Catford</td>\n      <td>0455 Debs Avenue, Los Angeles, California 90003</td>\n      <td>Kitware</td>\n      <td>Business Development</td>\n    </tr>\n    <tr>\n      <th>35</th>\n      <td>kcapewellz</td>\n      <td>Keslie Capewell</td>\n      <td>62782 Bobwhite Road, Boston, Massachusetts 02110</td>\n      <td>Polaris</td>\n      <td>Legal</td>\n    </tr>\n    <tr>\n      <th>36</th>\n      <td>rtheis10</td>\n      <td>Rudy Theis</td>\n      <td>50441 Westerfield Circle, San Francisco, Calif...</td>\n      <td>CesiumAstro</td>\n      <td>Marketing</td>\n    </tr>\n    <tr>\n      <th>37</th>\n      <td>hvanyukhin11</td>\n      <td>Herminia Vanyukhin</td>\n      <td>591 Clarendon Way, Boston, Massachusetts 02111</td>\n      <td>Uncountable</td>\n      <td>Engineering</td>\n    </tr>\n    <tr>\n      <th>38</th>\n      <td>gnaisby12</td>\n      <td>Gilligan Naisby</td>\n      <td>11305 Schurz Place, New York, New York 10001</td>\n      <td>Archer</td>\n      <td>Support</td>\n    </tr>\n    <tr>\n      <th>39</th>\n      <td>ebeaufoy13</td>\n      <td>Emmit Beaufoy</td>\n      <td>59171 Doe Crossing Park, New York, New York 10003</td>\n      <td>Second Order Effects</td>\n      <td>Services</td>\n    </tr>\n    <tr>\n      <th>40</th>\n      <td>xhugonnet14</td>\n      <td>Xaviera Hugonnet</td>\n      <td>77 Bayside Park, Tampa, Florida 33592</td>\n      <td>Ancestry</td>\n      <td>Research and Development</td>\n    </tr>\n    <tr>\n      <th>41</th>\n      <td>elangcastle15</td>\n      <td>Elsinore Langcastle</td>\n      <td>1 Lillian Circle, Tampa, Florida 33602</td>\n      <td>Anduril</td>\n      <td>Research and Development</td>\n    </tr>\n    <tr>\n      <th>42</th>\n      <td>dfarries16</td>\n      <td>Dulcie Farries</td>\n      <td>5 Ridge Oak Alley, Tampa, Florida 33592</td>\n      <td>Align Technology</td>\n      <td>Sales</td>\n    </tr>\n    <tr>\n      <th>43</th>\n      <td>eworledge17</td>\n      <td>Esme Worledge</td>\n      <td>387 Derek Parkway, Tampa, Florida 33601</td>\n      <td>Workiva</td>\n      <td>Product Management</td>\n    </tr>\n    <tr>\n      <th>44</th>\n      <td>tburet18</td>\n      <td>Tyson Buret</td>\n      <td>713 Blaine Street, Tampa, Florida 33592</td>\n      <td>Chick-fil-a</td>\n      <td>Business Development</td>\n    </tr>\n    <tr>\n      <th>45</th>\n      <td>agimblet19</td>\n      <td>Adelheid Gimblet</td>\n      <td>28117 School Street, Atlanta, Georgia 30303</td>\n      <td>MyFitnessPal</td>\n      <td>Legal</td>\n    </tr>\n    <tr>\n      <th>46</th>\n      <td>kcowoppe1a</td>\n      <td>Kessia Cowoppe</td>\n      <td>5 Kedzie Place, Boston, Massachusetts 02108</td>\n      <td>CesiumAstro</td>\n      <td>Legal</td>\n    </tr>\n    <tr>\n      <th>47</th>\n      <td>fallerton1b</td>\n      <td>Freda Allerton</td>\n      <td>25 Charing Cross Alley, Atlanta, Georgia 30303</td>\n      <td>Erie Insurance Group</td>\n      <td>Support</td>\n    </tr>\n    <tr>\n      <th>48</th>\n      <td>ctrodd1c</td>\n      <td>Cecile Trodd</td>\n      <td>9 Summit Junction, New York, New York 10002</td>\n      <td>Proofpoint</td>\n      <td>Human Resources</td>\n    </tr>\n    <tr>\n      <th>49</th>\n      <td>ssignorelli1d</td>\n      <td>Swen Signorelli</td>\n      <td>67664 Moland Court, Chicago, Illinois 60018</td>\n      <td>Generac Clean Energy</td>\n      <td>Research and Development</td>\n    </tr>\n  </tbody>\n</table>\n</div>"
     },
     "execution_count": 23,
     "metadata": {},
     "output_type": "execute_result"
    }
   ],
   "source": [
    "# Adjust street addresses to also have city, state, and zip code\n",
    "recruiter_df['Address'] = recruiter_df['Address'].apply(lambda x: generate_address(x).strip('\"'))\n",
    "recruiter_df['Address'] = recruiter_df['Address'].astype(str)\n",
    "recruiter_df "
   ],
   "metadata": {
    "collapsed": false,
    "ExecuteTime": {
     "end_time": "2024-03-01T22:12:59.298039Z",
     "start_time": "2024-03-01T22:12:59.289360Z"
    }
   },
   "id": "216131982d95e93f",
   "execution_count": 23
  },
  {
   "cell_type": "code",
   "outputs": [],
   "source": [
    "recruiter_df.to_csv('data/Recruiter.csv', index=False)"
   ],
   "metadata": {
    "collapsed": false,
    "ExecuteTime": {
     "end_time": "2024-03-01T16:28:23.945509Z",
     "start_time": "2024-03-01T16:28:23.941910Z"
    }
   },
   "id": "8d63db3c66ffacb0",
   "execution_count": 73
  },
  {
   "cell_type": "markdown",
   "source": [
    "### Candidate\n",
    "- The original candidate data containing a Username, Name, Address, Education, and Email for each candidate was generated using Mockaroo.\n",
    "- We add a city, state, and zip code to each of the street addresses Mockaroo generated.\n",
    "- Because Mockaroo was only able to populate university names in the education column, we modify these entries below to include a random degree (followed by the university name).\n",
    "- Skills are populated randomly based on the list of skills used to populate job postings.\n",
    "- A plaintext resume for each candidate was generated using an OpenAI assistant as shown below. \n",
    "- The PastApplications column, which keeps track of the total number of applications a user has made in the past, is randomly generated."
   ],
   "metadata": {
    "collapsed": false
   },
   "id": "57e8f87ab026ba31"
  },
  {
   "cell_type": "code",
   "outputs": [
    {
     "data": {
      "text/plain": "         Username             Name                     Address  \\\n0        lsyvret0    Ludvig Syvret        29 Wayridge Crossing   \n1      ahourstan1   Adair Hourstan         7794 Rutledge Plaza   \n2      arosedale2  Aubert Rosedale         386 Old Shore Trail   \n3       dbushrod3   Dollie Bushrod         65560 Hallows Point   \n4        serskin4  Sarajane Erskin         2363 Tennessee Lane   \n..            ...              ...                         ...   \n295     gduthie87  Giuditta Duthie  43109 Lighthouse Bay Court   \n296    awetwood88   Andres Wetwood            1512 Havey Point   \n297  kcatterson89    Kin Catterson               94 Emmet Hill   \n298     eknight8a     Emile Knight              225 Oriole Way   \n299    rellaman8b   Rustin Ellaman               97 Linden Way   \n\n                                            Education  \\\n0                             Old Dominion University   \n1    Ecole Nationale Supérieure de Chimie de Mulhouse   \n2                               University of Colombo   \n3                                  Lanzhou University   \n4            Universitas Pesantren Darul Ulum Jombang   \n..                                                ...   \n295                  Holy Spirit University of Kaslik   \n296                Kyoritsu Pharmaceutical University   \n297                                 Chosun University   \n298                               University of Vaasa   \n299                            Penza State University   \n\n                            Email  \n0          lsyvret0@imageshack.us  \n1    ahourstan1@cocolog-nifty.com  \n2        arosedale2@amazonaws.com  \n3          dbushrod3@springer.com  \n4              serskin4@nifty.com  \n..                            ...  \n295             gduthie87@mtv.com  \n296          awetwood88@webmd.com  \n297        kcatterson89@phpbb.com  \n298           eknight8a@issuu.com  \n299      rellaman8b@economist.com  \n\n[300 rows x 5 columns]",
      "text/html": "<div>\n<style scoped>\n    .dataframe tbody tr th:only-of-type {\n        vertical-align: middle;\n    }\n\n    .dataframe tbody tr th {\n        vertical-align: top;\n    }\n\n    .dataframe thead th {\n        text-align: right;\n    }\n</style>\n<table border=\"1\" class=\"dataframe\">\n  <thead>\n    <tr style=\"text-align: right;\">\n      <th></th>\n      <th>Username</th>\n      <th>Name</th>\n      <th>Address</th>\n      <th>Education</th>\n      <th>Email</th>\n    </tr>\n  </thead>\n  <tbody>\n    <tr>\n      <th>0</th>\n      <td>lsyvret0</td>\n      <td>Ludvig Syvret</td>\n      <td>29 Wayridge Crossing</td>\n      <td>Old Dominion University</td>\n      <td>lsyvret0@imageshack.us</td>\n    </tr>\n    <tr>\n      <th>1</th>\n      <td>ahourstan1</td>\n      <td>Adair Hourstan</td>\n      <td>7794 Rutledge Plaza</td>\n      <td>Ecole Nationale Supérieure de Chimie de Mulhouse</td>\n      <td>ahourstan1@cocolog-nifty.com</td>\n    </tr>\n    <tr>\n      <th>2</th>\n      <td>arosedale2</td>\n      <td>Aubert Rosedale</td>\n      <td>386 Old Shore Trail</td>\n      <td>University of Colombo</td>\n      <td>arosedale2@amazonaws.com</td>\n    </tr>\n    <tr>\n      <th>3</th>\n      <td>dbushrod3</td>\n      <td>Dollie Bushrod</td>\n      <td>65560 Hallows Point</td>\n      <td>Lanzhou University</td>\n      <td>dbushrod3@springer.com</td>\n    </tr>\n    <tr>\n      <th>4</th>\n      <td>serskin4</td>\n      <td>Sarajane Erskin</td>\n      <td>2363 Tennessee Lane</td>\n      <td>Universitas Pesantren Darul Ulum Jombang</td>\n      <td>serskin4@nifty.com</td>\n    </tr>\n    <tr>\n      <th>...</th>\n      <td>...</td>\n      <td>...</td>\n      <td>...</td>\n      <td>...</td>\n      <td>...</td>\n    </tr>\n    <tr>\n      <th>295</th>\n      <td>gduthie87</td>\n      <td>Giuditta Duthie</td>\n      <td>43109 Lighthouse Bay Court</td>\n      <td>Holy Spirit University of Kaslik</td>\n      <td>gduthie87@mtv.com</td>\n    </tr>\n    <tr>\n      <th>296</th>\n      <td>awetwood88</td>\n      <td>Andres Wetwood</td>\n      <td>1512 Havey Point</td>\n      <td>Kyoritsu Pharmaceutical University</td>\n      <td>awetwood88@webmd.com</td>\n    </tr>\n    <tr>\n      <th>297</th>\n      <td>kcatterson89</td>\n      <td>Kin Catterson</td>\n      <td>94 Emmet Hill</td>\n      <td>Chosun University</td>\n      <td>kcatterson89@phpbb.com</td>\n    </tr>\n    <tr>\n      <th>298</th>\n      <td>eknight8a</td>\n      <td>Emile Knight</td>\n      <td>225 Oriole Way</td>\n      <td>University of Vaasa</td>\n      <td>eknight8a@issuu.com</td>\n    </tr>\n    <tr>\n      <th>299</th>\n      <td>rellaman8b</td>\n      <td>Rustin Ellaman</td>\n      <td>97 Linden Way</td>\n      <td>Penza State University</td>\n      <td>rellaman8b@economist.com</td>\n    </tr>\n  </tbody>\n</table>\n<p>300 rows × 5 columns</p>\n</div>"
     },
     "execution_count": 24,
     "metadata": {},
     "output_type": "execute_result"
    }
   ],
   "source": [
    "candidate_df = pd.read_csv('data/Mockaroo/Mockaroo-Candidate.csv')\n",
    "candidate_df"
   ],
   "metadata": {
    "collapsed": false,
    "ExecuteTime": {
     "end_time": "2024-03-01T22:13:03.140293Z",
     "start_time": "2024-03-01T22:13:03.123290Z"
    }
   },
   "id": "cc073338c0689875",
   "execution_count": 24
  },
  {
   "cell_type": "code",
   "outputs": [
    {
     "data": {
      "text/plain": "         Username             Name  \\\n0        lsyvret0    Ludvig Syvret   \n1      ahourstan1   Adair Hourstan   \n2      arosedale2  Aubert Rosedale   \n3       dbushrod3   Dollie Bushrod   \n4        serskin4  Sarajane Erskin   \n..            ...              ...   \n295     gduthie87  Giuditta Duthie   \n296    awetwood88   Andres Wetwood   \n297  kcatterson89    Kin Catterson   \n298     eknight8a     Emile Knight   \n299    rellaman8b   Rustin Ellaman   \n\n                                               Address  \\\n0            29 Wayridge Crossing, Dallas, Texas 75001   \n1             7794 Rutledge Plaza, Dallas, Texas 75019   \n2            386 Old Shore Trail, Tampa, Florida 33602   \n3         65560 Hallows Point, Chicago, Illinois 60007   \n4    2363 Tennessee Lane, San Francisco, California...   \n..                                                 ...   \n295    43109 Lighthouse Bay Court, Austin, Texas 73344   \n296        1512 Havey Point, Seattle, Washington 98102   \n297         94 Emmet Hill, Boston, Massachusetts 02108   \n298        225 Oriole Way, Boston, Massachusetts 02111   \n299                 97 Linden Way, Dallas, Texas 75001   \n\n                                            Education  \\\n0                             Old Dominion University   \n1    Ecole Nationale Supérieure de Chimie de Mulhouse   \n2                               University of Colombo   \n3                                  Lanzhou University   \n4            Universitas Pesantren Darul Ulum Jombang   \n..                                                ...   \n295                  Holy Spirit University of Kaslik   \n296                Kyoritsu Pharmaceutical University   \n297                                 Chosun University   \n298                               University of Vaasa   \n299                            Penza State University   \n\n                            Email  \n0          lsyvret0@imageshack.us  \n1    ahourstan1@cocolog-nifty.com  \n2        arosedale2@amazonaws.com  \n3          dbushrod3@springer.com  \n4              serskin4@nifty.com  \n..                            ...  \n295             gduthie87@mtv.com  \n296          awetwood88@webmd.com  \n297        kcatterson89@phpbb.com  \n298           eknight8a@issuu.com  \n299      rellaman8b@economist.com  \n\n[300 rows x 5 columns]",
      "text/html": "<div>\n<style scoped>\n    .dataframe tbody tr th:only-of-type {\n        vertical-align: middle;\n    }\n\n    .dataframe tbody tr th {\n        vertical-align: top;\n    }\n\n    .dataframe thead th {\n        text-align: right;\n    }\n</style>\n<table border=\"1\" class=\"dataframe\">\n  <thead>\n    <tr style=\"text-align: right;\">\n      <th></th>\n      <th>Username</th>\n      <th>Name</th>\n      <th>Address</th>\n      <th>Education</th>\n      <th>Email</th>\n    </tr>\n  </thead>\n  <tbody>\n    <tr>\n      <th>0</th>\n      <td>lsyvret0</td>\n      <td>Ludvig Syvret</td>\n      <td>29 Wayridge Crossing, Dallas, Texas 75001</td>\n      <td>Old Dominion University</td>\n      <td>lsyvret0@imageshack.us</td>\n    </tr>\n    <tr>\n      <th>1</th>\n      <td>ahourstan1</td>\n      <td>Adair Hourstan</td>\n      <td>7794 Rutledge Plaza, Dallas, Texas 75019</td>\n      <td>Ecole Nationale Supérieure de Chimie de Mulhouse</td>\n      <td>ahourstan1@cocolog-nifty.com</td>\n    </tr>\n    <tr>\n      <th>2</th>\n      <td>arosedale2</td>\n      <td>Aubert Rosedale</td>\n      <td>386 Old Shore Trail, Tampa, Florida 33602</td>\n      <td>University of Colombo</td>\n      <td>arosedale2@amazonaws.com</td>\n    </tr>\n    <tr>\n      <th>3</th>\n      <td>dbushrod3</td>\n      <td>Dollie Bushrod</td>\n      <td>65560 Hallows Point, Chicago, Illinois 60007</td>\n      <td>Lanzhou University</td>\n      <td>dbushrod3@springer.com</td>\n    </tr>\n    <tr>\n      <th>4</th>\n      <td>serskin4</td>\n      <td>Sarajane Erskin</td>\n      <td>2363 Tennessee Lane, San Francisco, California...</td>\n      <td>Universitas Pesantren Darul Ulum Jombang</td>\n      <td>serskin4@nifty.com</td>\n    </tr>\n    <tr>\n      <th>...</th>\n      <td>...</td>\n      <td>...</td>\n      <td>...</td>\n      <td>...</td>\n      <td>...</td>\n    </tr>\n    <tr>\n      <th>295</th>\n      <td>gduthie87</td>\n      <td>Giuditta Duthie</td>\n      <td>43109 Lighthouse Bay Court, Austin, Texas 73344</td>\n      <td>Holy Spirit University of Kaslik</td>\n      <td>gduthie87@mtv.com</td>\n    </tr>\n    <tr>\n      <th>296</th>\n      <td>awetwood88</td>\n      <td>Andres Wetwood</td>\n      <td>1512 Havey Point, Seattle, Washington 98102</td>\n      <td>Kyoritsu Pharmaceutical University</td>\n      <td>awetwood88@webmd.com</td>\n    </tr>\n    <tr>\n      <th>297</th>\n      <td>kcatterson89</td>\n      <td>Kin Catterson</td>\n      <td>94 Emmet Hill, Boston, Massachusetts 02108</td>\n      <td>Chosun University</td>\n      <td>kcatterson89@phpbb.com</td>\n    </tr>\n    <tr>\n      <th>298</th>\n      <td>eknight8a</td>\n      <td>Emile Knight</td>\n      <td>225 Oriole Way, Boston, Massachusetts 02111</td>\n      <td>University of Vaasa</td>\n      <td>eknight8a@issuu.com</td>\n    </tr>\n    <tr>\n      <th>299</th>\n      <td>rellaman8b</td>\n      <td>Rustin Ellaman</td>\n      <td>97 Linden Way, Dallas, Texas 75001</td>\n      <td>Penza State University</td>\n      <td>rellaman8b@economist.com</td>\n    </tr>\n  </tbody>\n</table>\n<p>300 rows × 5 columns</p>\n</div>"
     },
     "execution_count": 25,
     "metadata": {},
     "output_type": "execute_result"
    }
   ],
   "source": [
    "# Adjust street addresses to also have city, state, and zip code\n",
    "candidate_df['Address'] = candidate_df['Address'].apply(lambda x: generate_address(x).strip('\"'))\n",
    "candidate_df['Address'] = candidate_df['Address'].astype(str)\n",
    "candidate_df"
   ],
   "metadata": {
    "collapsed": false,
    "ExecuteTime": {
     "end_time": "2024-03-01T22:13:03.891562Z",
     "start_time": "2024-03-01T22:13:03.879251Z"
    }
   },
   "id": "89627a36a89bc04e",
   "execution_count": 25
  },
  {
   "cell_type": "code",
   "outputs": [
    {
     "data": {
      "text/plain": "         Username             Name  \\\n0        lsyvret0    Ludvig Syvret   \n1      ahourstan1   Adair Hourstan   \n2      arosedale2  Aubert Rosedale   \n3       dbushrod3   Dollie Bushrod   \n4        serskin4  Sarajane Erskin   \n..            ...              ...   \n295     gduthie87  Giuditta Duthie   \n296    awetwood88   Andres Wetwood   \n297  kcatterson89    Kin Catterson   \n298     eknight8a     Emile Knight   \n299    rellaman8b   Rustin Ellaman   \n\n                                               Address  \\\n0            29 Wayridge Crossing, Dallas, Texas 75001   \n1             7794 Rutledge Plaza, Dallas, Texas 75019   \n2            386 Old Shore Trail, Tampa, Florida 33602   \n3         65560 Hallows Point, Chicago, Illinois 60007   \n4    2363 Tennessee Lane, San Francisco, California...   \n..                                                 ...   \n295    43109 Lighthouse Bay Court, Austin, Texas 73344   \n296        1512 Havey Point, Seattle, Washington 98102   \n297         94 Emmet Hill, Boston, Massachusetts 02108   \n298        225 Oriole Way, Boston, Massachusetts 02111   \n299                 97 Linden Way, Dallas, Texas 75001   \n\n                                             Education  \\\n0         Bachelor of Science, Old Dominion University   \n1    Bachelor of Science, Ecole Nationale Supérieur...   \n2           Bachelor of Science, University of Colombo   \n3              Bachelor of Science, Lanzhou University   \n4    Bachelor of Science, Universitas Pesantren Dar...   \n..                                                 ...   \n295  Bachelor of Science, Holy Spirit University of...   \n296  Master of Science, Kyoritsu Pharmaceutical Uni...   \n297             Bachelor of Science, Chosun University   \n298           Bachelor of Science, University of Vaasa   \n299        Bachelor of Science, Penza State University   \n\n                            Email  \n0          lsyvret0@imageshack.us  \n1    ahourstan1@cocolog-nifty.com  \n2        arosedale2@amazonaws.com  \n3          dbushrod3@springer.com  \n4              serskin4@nifty.com  \n..                            ...  \n295             gduthie87@mtv.com  \n296          awetwood88@webmd.com  \n297        kcatterson89@phpbb.com  \n298           eknight8a@issuu.com  \n299      rellaman8b@economist.com  \n\n[300 rows x 5 columns]",
      "text/html": "<div>\n<style scoped>\n    .dataframe tbody tr th:only-of-type {\n        vertical-align: middle;\n    }\n\n    .dataframe tbody tr th {\n        vertical-align: top;\n    }\n\n    .dataframe thead th {\n        text-align: right;\n    }\n</style>\n<table border=\"1\" class=\"dataframe\">\n  <thead>\n    <tr style=\"text-align: right;\">\n      <th></th>\n      <th>Username</th>\n      <th>Name</th>\n      <th>Address</th>\n      <th>Education</th>\n      <th>Email</th>\n    </tr>\n  </thead>\n  <tbody>\n    <tr>\n      <th>0</th>\n      <td>lsyvret0</td>\n      <td>Ludvig Syvret</td>\n      <td>29 Wayridge Crossing, Dallas, Texas 75001</td>\n      <td>Bachelor of Science, Old Dominion University</td>\n      <td>lsyvret0@imageshack.us</td>\n    </tr>\n    <tr>\n      <th>1</th>\n      <td>ahourstan1</td>\n      <td>Adair Hourstan</td>\n      <td>7794 Rutledge Plaza, Dallas, Texas 75019</td>\n      <td>Bachelor of Science, Ecole Nationale Supérieur...</td>\n      <td>ahourstan1@cocolog-nifty.com</td>\n    </tr>\n    <tr>\n      <th>2</th>\n      <td>arosedale2</td>\n      <td>Aubert Rosedale</td>\n      <td>386 Old Shore Trail, Tampa, Florida 33602</td>\n      <td>Bachelor of Science, University of Colombo</td>\n      <td>arosedale2@amazonaws.com</td>\n    </tr>\n    <tr>\n      <th>3</th>\n      <td>dbushrod3</td>\n      <td>Dollie Bushrod</td>\n      <td>65560 Hallows Point, Chicago, Illinois 60007</td>\n      <td>Bachelor of Science, Lanzhou University</td>\n      <td>dbushrod3@springer.com</td>\n    </tr>\n    <tr>\n      <th>4</th>\n      <td>serskin4</td>\n      <td>Sarajane Erskin</td>\n      <td>2363 Tennessee Lane, San Francisco, California...</td>\n      <td>Bachelor of Science, Universitas Pesantren Dar...</td>\n      <td>serskin4@nifty.com</td>\n    </tr>\n    <tr>\n      <th>...</th>\n      <td>...</td>\n      <td>...</td>\n      <td>...</td>\n      <td>...</td>\n      <td>...</td>\n    </tr>\n    <tr>\n      <th>295</th>\n      <td>gduthie87</td>\n      <td>Giuditta Duthie</td>\n      <td>43109 Lighthouse Bay Court, Austin, Texas 73344</td>\n      <td>Bachelor of Science, Holy Spirit University of...</td>\n      <td>gduthie87@mtv.com</td>\n    </tr>\n    <tr>\n      <th>296</th>\n      <td>awetwood88</td>\n      <td>Andres Wetwood</td>\n      <td>1512 Havey Point, Seattle, Washington 98102</td>\n      <td>Master of Science, Kyoritsu Pharmaceutical Uni...</td>\n      <td>awetwood88@webmd.com</td>\n    </tr>\n    <tr>\n      <th>297</th>\n      <td>kcatterson89</td>\n      <td>Kin Catterson</td>\n      <td>94 Emmet Hill, Boston, Massachusetts 02108</td>\n      <td>Bachelor of Science, Chosun University</td>\n      <td>kcatterson89@phpbb.com</td>\n    </tr>\n    <tr>\n      <th>298</th>\n      <td>eknight8a</td>\n      <td>Emile Knight</td>\n      <td>225 Oriole Way, Boston, Massachusetts 02111</td>\n      <td>Bachelor of Science, University of Vaasa</td>\n      <td>eknight8a@issuu.com</td>\n    </tr>\n    <tr>\n      <th>299</th>\n      <td>rellaman8b</td>\n      <td>Rustin Ellaman</td>\n      <td>97 Linden Way, Dallas, Texas 75001</td>\n      <td>Bachelor of Science, Penza State University</td>\n      <td>rellaman8b@economist.com</td>\n    </tr>\n  </tbody>\n</table>\n<p>300 rows × 5 columns</p>\n</div>"
     },
     "execution_count": 26,
     "metadata": {},
     "output_type": "execute_result"
    }
   ],
   "source": [
    "# Populate Education column with random degrees \n",
    "degree_options = ['High School Diploma', 'Bachelor of Science', 'Bachelor of Arts', 'Master of Science', 'Master of Arts', 'PhD in Computer Science']\n",
    "probabilities_degree = [0.03, 0.60, 0.15, 0.15, 0.05, 0.02]\n",
    "degrees = np.random.choice(degree_options, size=len(candidate_df), p=probabilities_degree)\n",
    "candidate_df['Education'] = candidate_df.apply(lambda row: f\"{degrees[row.name]}, {row['Education']}\" if row['Education'] != 'High School Diploma' and degrees[row.name] != 'High School Diploma' else 'High School Diploma', axis=1)\n",
    "candidate_df"
   ],
   "metadata": {
    "collapsed": false,
    "ExecuteTime": {
     "end_time": "2024-03-01T22:13:04.667384Z",
     "start_time": "2024-03-01T22:13:04.658147Z"
    }
   },
   "id": "ec66aa57de77c844",
   "execution_count": 26
  },
  {
   "cell_type": "code",
   "outputs": [
    {
     "data": {
      "text/plain": "         Username             Name  \\\n0        lsyvret0    Ludvig Syvret   \n1      ahourstan1   Adair Hourstan   \n2      arosedale2  Aubert Rosedale   \n3       dbushrod3   Dollie Bushrod   \n4        serskin4  Sarajane Erskin   \n..            ...              ...   \n295     gduthie87  Giuditta Duthie   \n296    awetwood88   Andres Wetwood   \n297  kcatterson89    Kin Catterson   \n298     eknight8a     Emile Knight   \n299    rellaman8b   Rustin Ellaman   \n\n                                               Address  \\\n0            29 Wayridge Crossing, Dallas, Texas 75001   \n1             7794 Rutledge Plaza, Dallas, Texas 75019   \n2            386 Old Shore Trail, Tampa, Florida 33602   \n3         65560 Hallows Point, Chicago, Illinois 60007   \n4    2363 Tennessee Lane, San Francisco, California...   \n..                                                 ...   \n295    43109 Lighthouse Bay Court, Austin, Texas 73344   \n296        1512 Havey Point, Seattle, Washington 98102   \n297         94 Emmet Hill, Boston, Massachusetts 02108   \n298        225 Oriole Way, Boston, Massachusetts 02111   \n299                 97 Linden Way, Dallas, Texas 75001   \n\n                                             Education  \\\n0         Bachelor of Science, Old Dominion University   \n1    Bachelor of Science, Ecole Nationale Supérieur...   \n2           Bachelor of Science, University of Colombo   \n3              Bachelor of Science, Lanzhou University   \n4    Bachelor of Science, Universitas Pesantren Dar...   \n..                                                 ...   \n295  Bachelor of Science, Holy Spirit University of...   \n296  Master of Science, Kyoritsu Pharmaceutical Uni...   \n297             Bachelor of Science, Chosun University   \n298           Bachelor of Science, University of Vaasa   \n299        Bachelor of Science, Penza State University   \n\n                            Email  \\\n0          lsyvret0@imageshack.us   \n1    ahourstan1@cocolog-nifty.com   \n2        arosedale2@amazonaws.com   \n3          dbushrod3@springer.com   \n4              serskin4@nifty.com   \n..                            ...   \n295             gduthie87@mtv.com   \n296          awetwood88@webmd.com   \n297        kcatterson89@phpbb.com   \n298           eknight8a@issuu.com   \n299      rellaman8b@economist.com   \n\n                                                Skills  \n0    Kubernetes, Snowflake, Software Development, G...  \n1    Julia, Software Development, Databases, Web De...  \n2    Kubernetes, UX/UI Design, Sphinx, Italian, Ame...  \n3    SQL, Kubernetes, Django, Azure, C#, Kotlin, SQ...  \n4    Frontend Stack, Azure, C#, Google Cloud Platfo...  \n..                                                 ...  \n295            React, Perl, LaTeX, Tensorflow, Tableau  \n296       Urdu, SQL, C#, Docker, Leadership, Hootsuite  \n297  Git, Django, Customer Support, Google Cloud Pl...  \n298  Urdu, Spanish, Google Cloud Platform, Problem-...  \n299  Backend Stack, SQL, LaTeX, Technical Writing, ...  \n\n[300 rows x 6 columns]",
      "text/html": "<div>\n<style scoped>\n    .dataframe tbody tr th:only-of-type {\n        vertical-align: middle;\n    }\n\n    .dataframe tbody tr th {\n        vertical-align: top;\n    }\n\n    .dataframe thead th {\n        text-align: right;\n    }\n</style>\n<table border=\"1\" class=\"dataframe\">\n  <thead>\n    <tr style=\"text-align: right;\">\n      <th></th>\n      <th>Username</th>\n      <th>Name</th>\n      <th>Address</th>\n      <th>Education</th>\n      <th>Email</th>\n      <th>Skills</th>\n    </tr>\n  </thead>\n  <tbody>\n    <tr>\n      <th>0</th>\n      <td>lsyvret0</td>\n      <td>Ludvig Syvret</td>\n      <td>29 Wayridge Crossing, Dallas, Texas 75001</td>\n      <td>Bachelor of Science, Old Dominion University</td>\n      <td>lsyvret0@imageshack.us</td>\n      <td>Kubernetes, Snowflake, Software Development, G...</td>\n    </tr>\n    <tr>\n      <th>1</th>\n      <td>ahourstan1</td>\n      <td>Adair Hourstan</td>\n      <td>7794 Rutledge Plaza, Dallas, Texas 75019</td>\n      <td>Bachelor of Science, Ecole Nationale Supérieur...</td>\n      <td>ahourstan1@cocolog-nifty.com</td>\n      <td>Julia, Software Development, Databases, Web De...</td>\n    </tr>\n    <tr>\n      <th>2</th>\n      <td>arosedale2</td>\n      <td>Aubert Rosedale</td>\n      <td>386 Old Shore Trail, Tampa, Florida 33602</td>\n      <td>Bachelor of Science, University of Colombo</td>\n      <td>arosedale2@amazonaws.com</td>\n      <td>Kubernetes, UX/UI Design, Sphinx, Italian, Ame...</td>\n    </tr>\n    <tr>\n      <th>3</th>\n      <td>dbushrod3</td>\n      <td>Dollie Bushrod</td>\n      <td>65560 Hallows Point, Chicago, Illinois 60007</td>\n      <td>Bachelor of Science, Lanzhou University</td>\n      <td>dbushrod3@springer.com</td>\n      <td>SQL, Kubernetes, Django, Azure, C#, Kotlin, SQ...</td>\n    </tr>\n    <tr>\n      <th>4</th>\n      <td>serskin4</td>\n      <td>Sarajane Erskin</td>\n      <td>2363 Tennessee Lane, San Francisco, California...</td>\n      <td>Bachelor of Science, Universitas Pesantren Dar...</td>\n      <td>serskin4@nifty.com</td>\n      <td>Frontend Stack, Azure, C#, Google Cloud Platfo...</td>\n    </tr>\n    <tr>\n      <th>...</th>\n      <td>...</td>\n      <td>...</td>\n      <td>...</td>\n      <td>...</td>\n      <td>...</td>\n      <td>...</td>\n    </tr>\n    <tr>\n      <th>295</th>\n      <td>gduthie87</td>\n      <td>Giuditta Duthie</td>\n      <td>43109 Lighthouse Bay Court, Austin, Texas 73344</td>\n      <td>Bachelor of Science, Holy Spirit University of...</td>\n      <td>gduthie87@mtv.com</td>\n      <td>React, Perl, LaTeX, Tensorflow, Tableau</td>\n    </tr>\n    <tr>\n      <th>296</th>\n      <td>awetwood88</td>\n      <td>Andres Wetwood</td>\n      <td>1512 Havey Point, Seattle, Washington 98102</td>\n      <td>Master of Science, Kyoritsu Pharmaceutical Uni...</td>\n      <td>awetwood88@webmd.com</td>\n      <td>Urdu, SQL, C#, Docker, Leadership, Hootsuite</td>\n    </tr>\n    <tr>\n      <th>297</th>\n      <td>kcatterson89</td>\n      <td>Kin Catterson</td>\n      <td>94 Emmet Hill, Boston, Massachusetts 02108</td>\n      <td>Bachelor of Science, Chosun University</td>\n      <td>kcatterson89@phpbb.com</td>\n      <td>Git, Django, Customer Support, Google Cloud Pl...</td>\n    </tr>\n    <tr>\n      <th>298</th>\n      <td>eknight8a</td>\n      <td>Emile Knight</td>\n      <td>225 Oriole Way, Boston, Massachusetts 02111</td>\n      <td>Bachelor of Science, University of Vaasa</td>\n      <td>eknight8a@issuu.com</td>\n      <td>Urdu, Spanish, Google Cloud Platform, Problem-...</td>\n    </tr>\n    <tr>\n      <th>299</th>\n      <td>rellaman8b</td>\n      <td>Rustin Ellaman</td>\n      <td>97 Linden Way, Dallas, Texas 75001</td>\n      <td>Bachelor of Science, Penza State University</td>\n      <td>rellaman8b@economist.com</td>\n      <td>Backend Stack, SQL, LaTeX, Technical Writing, ...</td>\n    </tr>\n  </tbody>\n</table>\n<p>300 rows × 6 columns</p>\n</div>"
     },
     "execution_count": 27,
     "metadata": {},
     "output_type": "execute_result"
    }
   ],
   "source": [
    "# Populate Skills column randomly using skills used to populate job postings\n",
    "skills_vals = [get_random_skills(job_skills) for i in range(len(candidate_df))]\n",
    "candidate_df = candidate_df.assign(Skills=skills_vals)\n",
    "candidate_df"
   ],
   "metadata": {
    "collapsed": false,
    "ExecuteTime": {
     "end_time": "2024-03-01T22:13:05.567459Z",
     "start_time": "2024-03-01T22:13:05.559003Z"
    }
   },
   "id": "6d76d8f300d98943",
   "execution_count": 27
  },
  {
   "cell_type": "code",
   "outputs": [],
   "source": [
    "# Generate plaintext resume for each candidate tuple using OpenAI LLM\n",
    "client = openai.Client()\n",
    "assistant = client.beta.assistants.create(\n",
    "    name=\"Math Tutor\",\n",
    "    instructions=\"You are a personal resume writer who is very creative. You write plaintext resume examples for clients.\",\n",
    "    tools=[{\"type\": \"code_interpreter\"}],\n",
    "    model=\"gpt-3.5-turbo\"\n",
    ")\n",
    "\n",
    "thread = client.beta.threads.create()\n",
    "\n",
    "def generate_plaintext_resume(name, address, email, education, skills):\n",
    "    prompt = f\"Write a plaintext resume for {name}. Address: {address}. Email: {email}. Education: {education}. Skills: {skills}.\"\n",
    "    num_resumes = 1\n",
    "    for _ in range(num_resumes):\n",
    "        response = client.completions.create(\n",
    "            model=\"gpt-3.5-turbo\",\n",
    "            prompt=prompt,\n",
    "            max_tokens=200,\n",
    "        )\n",
    "        # print story\n",
    "        print(prompt + response.choices[0].text)\n",
    "    "
   ],
   "metadata": {
    "collapsed": false,
    "ExecuteTime": {
     "end_time": "2024-03-01T23:05:35.101404Z",
     "start_time": "2024-03-01T23:05:34.627494Z"
    }
   },
   "id": "a795598a75940762",
   "execution_count": 70
  },
  {
   "cell_type": "code",
   "outputs": [
    {
     "ename": "RateLimitError",
     "evalue": "Error code: 429 - {'error': {'message': 'You exceeded your current quota, please check your plan and billing details. For more information on this error, read the docs: https://platform.openai.com/docs/guides/error-codes/api-errors.', 'type': 'insufficient_quota', 'param': None, 'code': 'insufficient_quota'}}",
     "output_type": "error",
     "traceback": [
      "\u001B[0;31m---------------------------------------------------------------------------\u001B[0m",
      "\u001B[0;31mRateLimitError\u001B[0m                            Traceback (most recent call last)",
      "Cell \u001B[0;32mIn[71], line 3\u001B[0m\n\u001B[1;32m      1\u001B[0m \u001B[38;5;66;03m# Test run \u001B[39;00m\n\u001B[1;32m      2\u001B[0m test_row \u001B[38;5;241m=\u001B[39m \u001B[38;5;28mlist\u001B[39m(candidate_df\u001B[38;5;241m.\u001B[39miloc[\u001B[38;5;241m0\u001B[39m])\n\u001B[0;32m----> 3\u001B[0m \u001B[43mgenerate_plaintext_resume\u001B[49m\u001B[43m(\u001B[49m\u001B[43mtest_row\u001B[49m\u001B[43m[\u001B[49m\u001B[38;5;241;43m1\u001B[39;49m\u001B[43m]\u001B[49m\u001B[43m,\u001B[49m\u001B[43m \u001B[49m\u001B[43mtest_row\u001B[49m\u001B[43m[\u001B[49m\u001B[38;5;241;43m2\u001B[39;49m\u001B[43m]\u001B[49m\u001B[43m,\u001B[49m\u001B[43m \u001B[49m\u001B[43mtest_row\u001B[49m\u001B[43m[\u001B[49m\u001B[38;5;241;43m4\u001B[39;49m\u001B[43m]\u001B[49m\u001B[43m,\u001B[49m\u001B[43m \u001B[49m\u001B[43mtest_row\u001B[49m\u001B[43m[\u001B[49m\u001B[38;5;241;43m3\u001B[39;49m\u001B[43m]\u001B[49m\u001B[43m,\u001B[49m\u001B[43m \u001B[49m\u001B[43mtest_row\u001B[49m\u001B[43m[\u001B[49m\u001B[38;5;241;43m5\u001B[39;49m\u001B[43m]\u001B[49m\u001B[43m)\u001B[49m\n",
      "Cell \u001B[0;32mIn[70], line 16\u001B[0m, in \u001B[0;36mgenerate_plaintext_resume\u001B[0;34m(name, address, email, education, skills)\u001B[0m\n\u001B[1;32m     14\u001B[0m num_resumes \u001B[38;5;241m=\u001B[39m \u001B[38;5;241m1\u001B[39m\n\u001B[1;32m     15\u001B[0m \u001B[38;5;28;01mfor\u001B[39;00m _ \u001B[38;5;129;01min\u001B[39;00m \u001B[38;5;28mrange\u001B[39m(num_resumes):\n\u001B[0;32m---> 16\u001B[0m     response \u001B[38;5;241m=\u001B[39m \u001B[43mclient\u001B[49m\u001B[38;5;241;43m.\u001B[39;49m\u001B[43mcompletions\u001B[49m\u001B[38;5;241;43m.\u001B[39;49m\u001B[43mcreate\u001B[49m\u001B[43m(\u001B[49m\n\u001B[1;32m     17\u001B[0m \u001B[43m        \u001B[49m\u001B[43mmodel\u001B[49m\u001B[38;5;241;43m=\u001B[39;49m\u001B[38;5;124;43m\"\u001B[39;49m\u001B[38;5;124;43mgpt-3.5-turbo\u001B[39;49m\u001B[38;5;124;43m\"\u001B[39;49m\u001B[43m,\u001B[49m\n\u001B[1;32m     18\u001B[0m \u001B[43m        \u001B[49m\u001B[43mprompt\u001B[49m\u001B[38;5;241;43m=\u001B[39;49m\u001B[43mprompt\u001B[49m\u001B[43m,\u001B[49m\n\u001B[1;32m     19\u001B[0m \u001B[43m        \u001B[49m\u001B[43mmax_tokens\u001B[49m\u001B[38;5;241;43m=\u001B[39;49m\u001B[38;5;241;43m200\u001B[39;49m\u001B[43m,\u001B[49m\n\u001B[1;32m     20\u001B[0m \u001B[43m    \u001B[49m\u001B[43m)\u001B[49m\n\u001B[1;32m     21\u001B[0m     \u001B[38;5;66;03m# print story\u001B[39;00m\n\u001B[1;32m     22\u001B[0m     \u001B[38;5;28mprint\u001B[39m(prompt \u001B[38;5;241m+\u001B[39m response\u001B[38;5;241m.\u001B[39mchoices[\u001B[38;5;241m0\u001B[39m]\u001B[38;5;241m.\u001B[39mtext)\n",
      "File \u001B[0;32m~/Documents/GIT/TalentTrove/.venv/lib/python3.10/site-packages/openai/_utils/_utils.py:275\u001B[0m, in \u001B[0;36mrequired_args.<locals>.inner.<locals>.wrapper\u001B[0;34m(*args, **kwargs)\u001B[0m\n\u001B[1;32m    273\u001B[0m             msg \u001B[38;5;241m=\u001B[39m \u001B[38;5;124mf\u001B[39m\u001B[38;5;124m\"\u001B[39m\u001B[38;5;124mMissing required argument: \u001B[39m\u001B[38;5;132;01m{\u001B[39;00mquote(missing[\u001B[38;5;241m0\u001B[39m])\u001B[38;5;132;01m}\u001B[39;00m\u001B[38;5;124m\"\u001B[39m\n\u001B[1;32m    274\u001B[0m     \u001B[38;5;28;01mraise\u001B[39;00m \u001B[38;5;167;01mTypeError\u001B[39;00m(msg)\n\u001B[0;32m--> 275\u001B[0m \u001B[38;5;28;01mreturn\u001B[39;00m \u001B[43mfunc\u001B[49m\u001B[43m(\u001B[49m\u001B[38;5;241;43m*\u001B[39;49m\u001B[43margs\u001B[49m\u001B[43m,\u001B[49m\u001B[43m \u001B[49m\u001B[38;5;241;43m*\u001B[39;49m\u001B[38;5;241;43m*\u001B[39;49m\u001B[43mkwargs\u001B[49m\u001B[43m)\u001B[49m\n",
      "File \u001B[0;32m~/Documents/GIT/TalentTrove/.venv/lib/python3.10/site-packages/openai/resources/completions.py:506\u001B[0m, in \u001B[0;36mCompletions.create\u001B[0;34m(self, model, prompt, best_of, echo, frequency_penalty, logit_bias, logprobs, max_tokens, n, presence_penalty, seed, stop, stream, suffix, temperature, top_p, user, extra_headers, extra_query, extra_body, timeout)\u001B[0m\n\u001B[1;32m    478\u001B[0m \u001B[38;5;129m@required_args\u001B[39m([\u001B[38;5;124m\"\u001B[39m\u001B[38;5;124mmodel\u001B[39m\u001B[38;5;124m\"\u001B[39m, \u001B[38;5;124m\"\u001B[39m\u001B[38;5;124mprompt\u001B[39m\u001B[38;5;124m\"\u001B[39m], [\u001B[38;5;124m\"\u001B[39m\u001B[38;5;124mmodel\u001B[39m\u001B[38;5;124m\"\u001B[39m, \u001B[38;5;124m\"\u001B[39m\u001B[38;5;124mprompt\u001B[39m\u001B[38;5;124m\"\u001B[39m, \u001B[38;5;124m\"\u001B[39m\u001B[38;5;124mstream\u001B[39m\u001B[38;5;124m\"\u001B[39m])\n\u001B[1;32m    479\u001B[0m \u001B[38;5;28;01mdef\u001B[39;00m \u001B[38;5;21mcreate\u001B[39m(\n\u001B[1;32m    480\u001B[0m     \u001B[38;5;28mself\u001B[39m,\n\u001B[0;32m   (...)\u001B[0m\n\u001B[1;32m    504\u001B[0m     timeout: \u001B[38;5;28mfloat\u001B[39m \u001B[38;5;241m|\u001B[39m httpx\u001B[38;5;241m.\u001B[39mTimeout \u001B[38;5;241m|\u001B[39m \u001B[38;5;28;01mNone\u001B[39;00m \u001B[38;5;241m|\u001B[39m NotGiven \u001B[38;5;241m=\u001B[39m NOT_GIVEN,\n\u001B[1;32m    505\u001B[0m ) \u001B[38;5;241m-\u001B[39m\u001B[38;5;241m>\u001B[39m Completion \u001B[38;5;241m|\u001B[39m Stream[Completion]:\n\u001B[0;32m--> 506\u001B[0m     \u001B[38;5;28;01mreturn\u001B[39;00m \u001B[38;5;28;43mself\u001B[39;49m\u001B[38;5;241;43m.\u001B[39;49m\u001B[43m_post\u001B[49m\u001B[43m(\u001B[49m\n\u001B[1;32m    507\u001B[0m \u001B[43m        \u001B[49m\u001B[38;5;124;43m\"\u001B[39;49m\u001B[38;5;124;43m/completions\u001B[39;49m\u001B[38;5;124;43m\"\u001B[39;49m\u001B[43m,\u001B[49m\n\u001B[1;32m    508\u001B[0m \u001B[43m        \u001B[49m\u001B[43mbody\u001B[49m\u001B[38;5;241;43m=\u001B[39;49m\u001B[43mmaybe_transform\u001B[49m\u001B[43m(\u001B[49m\n\u001B[1;32m    509\u001B[0m \u001B[43m            \u001B[49m\u001B[43m{\u001B[49m\n\u001B[1;32m    510\u001B[0m \u001B[43m                \u001B[49m\u001B[38;5;124;43m\"\u001B[39;49m\u001B[38;5;124;43mmodel\u001B[39;49m\u001B[38;5;124;43m\"\u001B[39;49m\u001B[43m:\u001B[49m\u001B[43m \u001B[49m\u001B[43mmodel\u001B[49m\u001B[43m,\u001B[49m\n\u001B[1;32m    511\u001B[0m \u001B[43m                \u001B[49m\u001B[38;5;124;43m\"\u001B[39;49m\u001B[38;5;124;43mprompt\u001B[39;49m\u001B[38;5;124;43m\"\u001B[39;49m\u001B[43m:\u001B[49m\u001B[43m \u001B[49m\u001B[43mprompt\u001B[49m\u001B[43m,\u001B[49m\n\u001B[1;32m    512\u001B[0m \u001B[43m                \u001B[49m\u001B[38;5;124;43m\"\u001B[39;49m\u001B[38;5;124;43mbest_of\u001B[39;49m\u001B[38;5;124;43m\"\u001B[39;49m\u001B[43m:\u001B[49m\u001B[43m \u001B[49m\u001B[43mbest_of\u001B[49m\u001B[43m,\u001B[49m\n\u001B[1;32m    513\u001B[0m \u001B[43m                \u001B[49m\u001B[38;5;124;43m\"\u001B[39;49m\u001B[38;5;124;43mecho\u001B[39;49m\u001B[38;5;124;43m\"\u001B[39;49m\u001B[43m:\u001B[49m\u001B[43m \u001B[49m\u001B[43mecho\u001B[49m\u001B[43m,\u001B[49m\n\u001B[1;32m    514\u001B[0m \u001B[43m                \u001B[49m\u001B[38;5;124;43m\"\u001B[39;49m\u001B[38;5;124;43mfrequency_penalty\u001B[39;49m\u001B[38;5;124;43m\"\u001B[39;49m\u001B[43m:\u001B[49m\u001B[43m \u001B[49m\u001B[43mfrequency_penalty\u001B[49m\u001B[43m,\u001B[49m\n\u001B[1;32m    515\u001B[0m \u001B[43m                \u001B[49m\u001B[38;5;124;43m\"\u001B[39;49m\u001B[38;5;124;43mlogit_bias\u001B[39;49m\u001B[38;5;124;43m\"\u001B[39;49m\u001B[43m:\u001B[49m\u001B[43m \u001B[49m\u001B[43mlogit_bias\u001B[49m\u001B[43m,\u001B[49m\n\u001B[1;32m    516\u001B[0m \u001B[43m                \u001B[49m\u001B[38;5;124;43m\"\u001B[39;49m\u001B[38;5;124;43mlogprobs\u001B[39;49m\u001B[38;5;124;43m\"\u001B[39;49m\u001B[43m:\u001B[49m\u001B[43m \u001B[49m\u001B[43mlogprobs\u001B[49m\u001B[43m,\u001B[49m\n\u001B[1;32m    517\u001B[0m \u001B[43m                \u001B[49m\u001B[38;5;124;43m\"\u001B[39;49m\u001B[38;5;124;43mmax_tokens\u001B[39;49m\u001B[38;5;124;43m\"\u001B[39;49m\u001B[43m:\u001B[49m\u001B[43m \u001B[49m\u001B[43mmax_tokens\u001B[49m\u001B[43m,\u001B[49m\n\u001B[1;32m    518\u001B[0m \u001B[43m                \u001B[49m\u001B[38;5;124;43m\"\u001B[39;49m\u001B[38;5;124;43mn\u001B[39;49m\u001B[38;5;124;43m\"\u001B[39;49m\u001B[43m:\u001B[49m\u001B[43m \u001B[49m\u001B[43mn\u001B[49m\u001B[43m,\u001B[49m\n\u001B[1;32m    519\u001B[0m \u001B[43m                \u001B[49m\u001B[38;5;124;43m\"\u001B[39;49m\u001B[38;5;124;43mpresence_penalty\u001B[39;49m\u001B[38;5;124;43m\"\u001B[39;49m\u001B[43m:\u001B[49m\u001B[43m \u001B[49m\u001B[43mpresence_penalty\u001B[49m\u001B[43m,\u001B[49m\n\u001B[1;32m    520\u001B[0m \u001B[43m                \u001B[49m\u001B[38;5;124;43m\"\u001B[39;49m\u001B[38;5;124;43mseed\u001B[39;49m\u001B[38;5;124;43m\"\u001B[39;49m\u001B[43m:\u001B[49m\u001B[43m \u001B[49m\u001B[43mseed\u001B[49m\u001B[43m,\u001B[49m\n\u001B[1;32m    521\u001B[0m \u001B[43m                \u001B[49m\u001B[38;5;124;43m\"\u001B[39;49m\u001B[38;5;124;43mstop\u001B[39;49m\u001B[38;5;124;43m\"\u001B[39;49m\u001B[43m:\u001B[49m\u001B[43m \u001B[49m\u001B[43mstop\u001B[49m\u001B[43m,\u001B[49m\n\u001B[1;32m    522\u001B[0m \u001B[43m                \u001B[49m\u001B[38;5;124;43m\"\u001B[39;49m\u001B[38;5;124;43mstream\u001B[39;49m\u001B[38;5;124;43m\"\u001B[39;49m\u001B[43m:\u001B[49m\u001B[43m \u001B[49m\u001B[43mstream\u001B[49m\u001B[43m,\u001B[49m\n\u001B[1;32m    523\u001B[0m \u001B[43m                \u001B[49m\u001B[38;5;124;43m\"\u001B[39;49m\u001B[38;5;124;43msuffix\u001B[39;49m\u001B[38;5;124;43m\"\u001B[39;49m\u001B[43m:\u001B[49m\u001B[43m \u001B[49m\u001B[43msuffix\u001B[49m\u001B[43m,\u001B[49m\n\u001B[1;32m    524\u001B[0m \u001B[43m                \u001B[49m\u001B[38;5;124;43m\"\u001B[39;49m\u001B[38;5;124;43mtemperature\u001B[39;49m\u001B[38;5;124;43m\"\u001B[39;49m\u001B[43m:\u001B[49m\u001B[43m \u001B[49m\u001B[43mtemperature\u001B[49m\u001B[43m,\u001B[49m\n\u001B[1;32m    525\u001B[0m \u001B[43m                \u001B[49m\u001B[38;5;124;43m\"\u001B[39;49m\u001B[38;5;124;43mtop_p\u001B[39;49m\u001B[38;5;124;43m\"\u001B[39;49m\u001B[43m:\u001B[49m\u001B[43m \u001B[49m\u001B[43mtop_p\u001B[49m\u001B[43m,\u001B[49m\n\u001B[1;32m    526\u001B[0m \u001B[43m                \u001B[49m\u001B[38;5;124;43m\"\u001B[39;49m\u001B[38;5;124;43muser\u001B[39;49m\u001B[38;5;124;43m\"\u001B[39;49m\u001B[43m:\u001B[49m\u001B[43m \u001B[49m\u001B[43muser\u001B[49m\u001B[43m,\u001B[49m\n\u001B[1;32m    527\u001B[0m \u001B[43m            \u001B[49m\u001B[43m}\u001B[49m\u001B[43m,\u001B[49m\n\u001B[1;32m    528\u001B[0m \u001B[43m            \u001B[49m\u001B[43mcompletion_create_params\u001B[49m\u001B[38;5;241;43m.\u001B[39;49m\u001B[43mCompletionCreateParams\u001B[49m\u001B[43m,\u001B[49m\n\u001B[1;32m    529\u001B[0m \u001B[43m        \u001B[49m\u001B[43m)\u001B[49m\u001B[43m,\u001B[49m\n\u001B[1;32m    530\u001B[0m \u001B[43m        \u001B[49m\u001B[43moptions\u001B[49m\u001B[38;5;241;43m=\u001B[39;49m\u001B[43mmake_request_options\u001B[49m\u001B[43m(\u001B[49m\n\u001B[1;32m    531\u001B[0m \u001B[43m            \u001B[49m\u001B[43mextra_headers\u001B[49m\u001B[38;5;241;43m=\u001B[39;49m\u001B[43mextra_headers\u001B[49m\u001B[43m,\u001B[49m\u001B[43m \u001B[49m\u001B[43mextra_query\u001B[49m\u001B[38;5;241;43m=\u001B[39;49m\u001B[43mextra_query\u001B[49m\u001B[43m,\u001B[49m\u001B[43m \u001B[49m\u001B[43mextra_body\u001B[49m\u001B[38;5;241;43m=\u001B[39;49m\u001B[43mextra_body\u001B[49m\u001B[43m,\u001B[49m\u001B[43m \u001B[49m\u001B[43mtimeout\u001B[49m\u001B[38;5;241;43m=\u001B[39;49m\u001B[43mtimeout\u001B[49m\n\u001B[1;32m    532\u001B[0m \u001B[43m        \u001B[49m\u001B[43m)\u001B[49m\u001B[43m,\u001B[49m\n\u001B[1;32m    533\u001B[0m \u001B[43m        \u001B[49m\u001B[43mcast_to\u001B[49m\u001B[38;5;241;43m=\u001B[39;49m\u001B[43mCompletion\u001B[49m\u001B[43m,\u001B[49m\n\u001B[1;32m    534\u001B[0m \u001B[43m        \u001B[49m\u001B[43mstream\u001B[49m\u001B[38;5;241;43m=\u001B[39;49m\u001B[43mstream\u001B[49m\u001B[43m \u001B[49m\u001B[38;5;129;43;01mor\u001B[39;49;00m\u001B[43m \u001B[49m\u001B[38;5;28;43;01mFalse\u001B[39;49;00m\u001B[43m,\u001B[49m\n\u001B[1;32m    535\u001B[0m \u001B[43m        \u001B[49m\u001B[43mstream_cls\u001B[49m\u001B[38;5;241;43m=\u001B[39;49m\u001B[43mStream\u001B[49m\u001B[43m[\u001B[49m\u001B[43mCompletion\u001B[49m\u001B[43m]\u001B[49m\u001B[43m,\u001B[49m\n\u001B[1;32m    536\u001B[0m \u001B[43m    \u001B[49m\u001B[43m)\u001B[49m\n",
      "File \u001B[0;32m~/Documents/GIT/TalentTrove/.venv/lib/python3.10/site-packages/openai/_base_client.py:1200\u001B[0m, in \u001B[0;36mSyncAPIClient.post\u001B[0;34m(self, path, cast_to, body, options, files, stream, stream_cls)\u001B[0m\n\u001B[1;32m   1186\u001B[0m \u001B[38;5;28;01mdef\u001B[39;00m \u001B[38;5;21mpost\u001B[39m(\n\u001B[1;32m   1187\u001B[0m     \u001B[38;5;28mself\u001B[39m,\n\u001B[1;32m   1188\u001B[0m     path: \u001B[38;5;28mstr\u001B[39m,\n\u001B[0;32m   (...)\u001B[0m\n\u001B[1;32m   1195\u001B[0m     stream_cls: \u001B[38;5;28mtype\u001B[39m[_StreamT] \u001B[38;5;241m|\u001B[39m \u001B[38;5;28;01mNone\u001B[39;00m \u001B[38;5;241m=\u001B[39m \u001B[38;5;28;01mNone\u001B[39;00m,\n\u001B[1;32m   1196\u001B[0m ) \u001B[38;5;241m-\u001B[39m\u001B[38;5;241m>\u001B[39m ResponseT \u001B[38;5;241m|\u001B[39m _StreamT:\n\u001B[1;32m   1197\u001B[0m     opts \u001B[38;5;241m=\u001B[39m FinalRequestOptions\u001B[38;5;241m.\u001B[39mconstruct(\n\u001B[1;32m   1198\u001B[0m         method\u001B[38;5;241m=\u001B[39m\u001B[38;5;124m\"\u001B[39m\u001B[38;5;124mpost\u001B[39m\u001B[38;5;124m\"\u001B[39m, url\u001B[38;5;241m=\u001B[39mpath, json_data\u001B[38;5;241m=\u001B[39mbody, files\u001B[38;5;241m=\u001B[39mto_httpx_files(files), \u001B[38;5;241m*\u001B[39m\u001B[38;5;241m*\u001B[39moptions\n\u001B[1;32m   1199\u001B[0m     )\n\u001B[0;32m-> 1200\u001B[0m     \u001B[38;5;28;01mreturn\u001B[39;00m cast(ResponseT, \u001B[38;5;28;43mself\u001B[39;49m\u001B[38;5;241;43m.\u001B[39;49m\u001B[43mrequest\u001B[49m\u001B[43m(\u001B[49m\u001B[43mcast_to\u001B[49m\u001B[43m,\u001B[49m\u001B[43m \u001B[49m\u001B[43mopts\u001B[49m\u001B[43m,\u001B[49m\u001B[43m \u001B[49m\u001B[43mstream\u001B[49m\u001B[38;5;241;43m=\u001B[39;49m\u001B[43mstream\u001B[49m\u001B[43m,\u001B[49m\u001B[43m \u001B[49m\u001B[43mstream_cls\u001B[49m\u001B[38;5;241;43m=\u001B[39;49m\u001B[43mstream_cls\u001B[49m\u001B[43m)\u001B[49m)\n",
      "File \u001B[0;32m~/Documents/GIT/TalentTrove/.venv/lib/python3.10/site-packages/openai/_base_client.py:889\u001B[0m, in \u001B[0;36mSyncAPIClient.request\u001B[0;34m(self, cast_to, options, remaining_retries, stream, stream_cls)\u001B[0m\n\u001B[1;32m    880\u001B[0m \u001B[38;5;28;01mdef\u001B[39;00m \u001B[38;5;21mrequest\u001B[39m(\n\u001B[1;32m    881\u001B[0m     \u001B[38;5;28mself\u001B[39m,\n\u001B[1;32m    882\u001B[0m     cast_to: Type[ResponseT],\n\u001B[0;32m   (...)\u001B[0m\n\u001B[1;32m    887\u001B[0m     stream_cls: \u001B[38;5;28mtype\u001B[39m[_StreamT] \u001B[38;5;241m|\u001B[39m \u001B[38;5;28;01mNone\u001B[39;00m \u001B[38;5;241m=\u001B[39m \u001B[38;5;28;01mNone\u001B[39;00m,\n\u001B[1;32m    888\u001B[0m ) \u001B[38;5;241m-\u001B[39m\u001B[38;5;241m>\u001B[39m ResponseT \u001B[38;5;241m|\u001B[39m _StreamT:\n\u001B[0;32m--> 889\u001B[0m     \u001B[38;5;28;01mreturn\u001B[39;00m \u001B[38;5;28;43mself\u001B[39;49m\u001B[38;5;241;43m.\u001B[39;49m\u001B[43m_request\u001B[49m\u001B[43m(\u001B[49m\n\u001B[1;32m    890\u001B[0m \u001B[43m        \u001B[49m\u001B[43mcast_to\u001B[49m\u001B[38;5;241;43m=\u001B[39;49m\u001B[43mcast_to\u001B[49m\u001B[43m,\u001B[49m\n\u001B[1;32m    891\u001B[0m \u001B[43m        \u001B[49m\u001B[43moptions\u001B[49m\u001B[38;5;241;43m=\u001B[39;49m\u001B[43moptions\u001B[49m\u001B[43m,\u001B[49m\n\u001B[1;32m    892\u001B[0m \u001B[43m        \u001B[49m\u001B[43mstream\u001B[49m\u001B[38;5;241;43m=\u001B[39;49m\u001B[43mstream\u001B[49m\u001B[43m,\u001B[49m\n\u001B[1;32m    893\u001B[0m \u001B[43m        \u001B[49m\u001B[43mstream_cls\u001B[49m\u001B[38;5;241;43m=\u001B[39;49m\u001B[43mstream_cls\u001B[49m\u001B[43m,\u001B[49m\n\u001B[1;32m    894\u001B[0m \u001B[43m        \u001B[49m\u001B[43mremaining_retries\u001B[49m\u001B[38;5;241;43m=\u001B[39;49m\u001B[43mremaining_retries\u001B[49m\u001B[43m,\u001B[49m\n\u001B[1;32m    895\u001B[0m \u001B[43m    \u001B[49m\u001B[43m)\u001B[49m\n",
      "File \u001B[0;32m~/Documents/GIT/TalentTrove/.venv/lib/python3.10/site-packages/openai/_base_client.py:965\u001B[0m, in \u001B[0;36mSyncAPIClient._request\u001B[0;34m(self, cast_to, options, remaining_retries, stream, stream_cls)\u001B[0m\n\u001B[1;32m    963\u001B[0m \u001B[38;5;28;01mif\u001B[39;00m retries \u001B[38;5;241m>\u001B[39m \u001B[38;5;241m0\u001B[39m \u001B[38;5;129;01mand\u001B[39;00m \u001B[38;5;28mself\u001B[39m\u001B[38;5;241m.\u001B[39m_should_retry(err\u001B[38;5;241m.\u001B[39mresponse):\n\u001B[1;32m    964\u001B[0m     err\u001B[38;5;241m.\u001B[39mresponse\u001B[38;5;241m.\u001B[39mclose()\n\u001B[0;32m--> 965\u001B[0m     \u001B[38;5;28;01mreturn\u001B[39;00m \u001B[38;5;28;43mself\u001B[39;49m\u001B[38;5;241;43m.\u001B[39;49m\u001B[43m_retry_request\u001B[49m\u001B[43m(\u001B[49m\n\u001B[1;32m    966\u001B[0m \u001B[43m        \u001B[49m\u001B[43moptions\u001B[49m\u001B[43m,\u001B[49m\n\u001B[1;32m    967\u001B[0m \u001B[43m        \u001B[49m\u001B[43mcast_to\u001B[49m\u001B[43m,\u001B[49m\n\u001B[1;32m    968\u001B[0m \u001B[43m        \u001B[49m\u001B[43mretries\u001B[49m\u001B[43m,\u001B[49m\n\u001B[1;32m    969\u001B[0m \u001B[43m        \u001B[49m\u001B[43merr\u001B[49m\u001B[38;5;241;43m.\u001B[39;49m\u001B[43mresponse\u001B[49m\u001B[38;5;241;43m.\u001B[39;49m\u001B[43mheaders\u001B[49m\u001B[43m,\u001B[49m\n\u001B[1;32m    970\u001B[0m \u001B[43m        \u001B[49m\u001B[43mstream\u001B[49m\u001B[38;5;241;43m=\u001B[39;49m\u001B[43mstream\u001B[49m\u001B[43m,\u001B[49m\n\u001B[1;32m    971\u001B[0m \u001B[43m        \u001B[49m\u001B[43mstream_cls\u001B[49m\u001B[38;5;241;43m=\u001B[39;49m\u001B[43mstream_cls\u001B[49m\u001B[43m,\u001B[49m\n\u001B[1;32m    972\u001B[0m \u001B[43m    \u001B[49m\u001B[43m)\u001B[49m\n\u001B[1;32m    974\u001B[0m \u001B[38;5;66;03m# If the response is streamed then we need to explicitly read the response\u001B[39;00m\n\u001B[1;32m    975\u001B[0m \u001B[38;5;66;03m# to completion before attempting to access the response text.\u001B[39;00m\n\u001B[1;32m    976\u001B[0m \u001B[38;5;28;01mif\u001B[39;00m \u001B[38;5;129;01mnot\u001B[39;00m err\u001B[38;5;241m.\u001B[39mresponse\u001B[38;5;241m.\u001B[39mis_closed:\n",
      "File \u001B[0;32m~/Documents/GIT/TalentTrove/.venv/lib/python3.10/site-packages/openai/_base_client.py:1013\u001B[0m, in \u001B[0;36mSyncAPIClient._retry_request\u001B[0;34m(self, options, cast_to, remaining_retries, response_headers, stream, stream_cls)\u001B[0m\n\u001B[1;32m   1009\u001B[0m \u001B[38;5;66;03m# In a synchronous context we are blocking the entire thread. Up to the library user to run the client in a\u001B[39;00m\n\u001B[1;32m   1010\u001B[0m \u001B[38;5;66;03m# different thread if necessary.\u001B[39;00m\n\u001B[1;32m   1011\u001B[0m time\u001B[38;5;241m.\u001B[39msleep(timeout)\n\u001B[0;32m-> 1013\u001B[0m \u001B[38;5;28;01mreturn\u001B[39;00m \u001B[38;5;28;43mself\u001B[39;49m\u001B[38;5;241;43m.\u001B[39;49m\u001B[43m_request\u001B[49m\u001B[43m(\u001B[49m\n\u001B[1;32m   1014\u001B[0m \u001B[43m    \u001B[49m\u001B[43moptions\u001B[49m\u001B[38;5;241;43m=\u001B[39;49m\u001B[43moptions\u001B[49m\u001B[43m,\u001B[49m\n\u001B[1;32m   1015\u001B[0m \u001B[43m    \u001B[49m\u001B[43mcast_to\u001B[49m\u001B[38;5;241;43m=\u001B[39;49m\u001B[43mcast_to\u001B[49m\u001B[43m,\u001B[49m\n\u001B[1;32m   1016\u001B[0m \u001B[43m    \u001B[49m\u001B[43mremaining_retries\u001B[49m\u001B[38;5;241;43m=\u001B[39;49m\u001B[43mremaining\u001B[49m\u001B[43m,\u001B[49m\n\u001B[1;32m   1017\u001B[0m \u001B[43m    \u001B[49m\u001B[43mstream\u001B[49m\u001B[38;5;241;43m=\u001B[39;49m\u001B[43mstream\u001B[49m\u001B[43m,\u001B[49m\n\u001B[1;32m   1018\u001B[0m \u001B[43m    \u001B[49m\u001B[43mstream_cls\u001B[49m\u001B[38;5;241;43m=\u001B[39;49m\u001B[43mstream_cls\u001B[49m\u001B[43m,\u001B[49m\n\u001B[1;32m   1019\u001B[0m \u001B[43m\u001B[49m\u001B[43m)\u001B[49m\n",
      "File \u001B[0;32m~/Documents/GIT/TalentTrove/.venv/lib/python3.10/site-packages/openai/_base_client.py:965\u001B[0m, in \u001B[0;36mSyncAPIClient._request\u001B[0;34m(self, cast_to, options, remaining_retries, stream, stream_cls)\u001B[0m\n\u001B[1;32m    963\u001B[0m \u001B[38;5;28;01mif\u001B[39;00m retries \u001B[38;5;241m>\u001B[39m \u001B[38;5;241m0\u001B[39m \u001B[38;5;129;01mand\u001B[39;00m \u001B[38;5;28mself\u001B[39m\u001B[38;5;241m.\u001B[39m_should_retry(err\u001B[38;5;241m.\u001B[39mresponse):\n\u001B[1;32m    964\u001B[0m     err\u001B[38;5;241m.\u001B[39mresponse\u001B[38;5;241m.\u001B[39mclose()\n\u001B[0;32m--> 965\u001B[0m     \u001B[38;5;28;01mreturn\u001B[39;00m \u001B[38;5;28;43mself\u001B[39;49m\u001B[38;5;241;43m.\u001B[39;49m\u001B[43m_retry_request\u001B[49m\u001B[43m(\u001B[49m\n\u001B[1;32m    966\u001B[0m \u001B[43m        \u001B[49m\u001B[43moptions\u001B[49m\u001B[43m,\u001B[49m\n\u001B[1;32m    967\u001B[0m \u001B[43m        \u001B[49m\u001B[43mcast_to\u001B[49m\u001B[43m,\u001B[49m\n\u001B[1;32m    968\u001B[0m \u001B[43m        \u001B[49m\u001B[43mretries\u001B[49m\u001B[43m,\u001B[49m\n\u001B[1;32m    969\u001B[0m \u001B[43m        \u001B[49m\u001B[43merr\u001B[49m\u001B[38;5;241;43m.\u001B[39;49m\u001B[43mresponse\u001B[49m\u001B[38;5;241;43m.\u001B[39;49m\u001B[43mheaders\u001B[49m\u001B[43m,\u001B[49m\n\u001B[1;32m    970\u001B[0m \u001B[43m        \u001B[49m\u001B[43mstream\u001B[49m\u001B[38;5;241;43m=\u001B[39;49m\u001B[43mstream\u001B[49m\u001B[43m,\u001B[49m\n\u001B[1;32m    971\u001B[0m \u001B[43m        \u001B[49m\u001B[43mstream_cls\u001B[49m\u001B[38;5;241;43m=\u001B[39;49m\u001B[43mstream_cls\u001B[49m\u001B[43m,\u001B[49m\n\u001B[1;32m    972\u001B[0m \u001B[43m    \u001B[49m\u001B[43m)\u001B[49m\n\u001B[1;32m    974\u001B[0m \u001B[38;5;66;03m# If the response is streamed then we need to explicitly read the response\u001B[39;00m\n\u001B[1;32m    975\u001B[0m \u001B[38;5;66;03m# to completion before attempting to access the response text.\u001B[39;00m\n\u001B[1;32m    976\u001B[0m \u001B[38;5;28;01mif\u001B[39;00m \u001B[38;5;129;01mnot\u001B[39;00m err\u001B[38;5;241m.\u001B[39mresponse\u001B[38;5;241m.\u001B[39mis_closed:\n",
      "File \u001B[0;32m~/Documents/GIT/TalentTrove/.venv/lib/python3.10/site-packages/openai/_base_client.py:1013\u001B[0m, in \u001B[0;36mSyncAPIClient._retry_request\u001B[0;34m(self, options, cast_to, remaining_retries, response_headers, stream, stream_cls)\u001B[0m\n\u001B[1;32m   1009\u001B[0m \u001B[38;5;66;03m# In a synchronous context we are blocking the entire thread. Up to the library user to run the client in a\u001B[39;00m\n\u001B[1;32m   1010\u001B[0m \u001B[38;5;66;03m# different thread if necessary.\u001B[39;00m\n\u001B[1;32m   1011\u001B[0m time\u001B[38;5;241m.\u001B[39msleep(timeout)\n\u001B[0;32m-> 1013\u001B[0m \u001B[38;5;28;01mreturn\u001B[39;00m \u001B[38;5;28;43mself\u001B[39;49m\u001B[38;5;241;43m.\u001B[39;49m\u001B[43m_request\u001B[49m\u001B[43m(\u001B[49m\n\u001B[1;32m   1014\u001B[0m \u001B[43m    \u001B[49m\u001B[43moptions\u001B[49m\u001B[38;5;241;43m=\u001B[39;49m\u001B[43moptions\u001B[49m\u001B[43m,\u001B[49m\n\u001B[1;32m   1015\u001B[0m \u001B[43m    \u001B[49m\u001B[43mcast_to\u001B[49m\u001B[38;5;241;43m=\u001B[39;49m\u001B[43mcast_to\u001B[49m\u001B[43m,\u001B[49m\n\u001B[1;32m   1016\u001B[0m \u001B[43m    \u001B[49m\u001B[43mremaining_retries\u001B[49m\u001B[38;5;241;43m=\u001B[39;49m\u001B[43mremaining\u001B[49m\u001B[43m,\u001B[49m\n\u001B[1;32m   1017\u001B[0m \u001B[43m    \u001B[49m\u001B[43mstream\u001B[49m\u001B[38;5;241;43m=\u001B[39;49m\u001B[43mstream\u001B[49m\u001B[43m,\u001B[49m\n\u001B[1;32m   1018\u001B[0m \u001B[43m    \u001B[49m\u001B[43mstream_cls\u001B[49m\u001B[38;5;241;43m=\u001B[39;49m\u001B[43mstream_cls\u001B[49m\u001B[43m,\u001B[49m\n\u001B[1;32m   1019\u001B[0m \u001B[43m\u001B[49m\u001B[43m)\u001B[49m\n",
      "File \u001B[0;32m~/Documents/GIT/TalentTrove/.venv/lib/python3.10/site-packages/openai/_base_client.py:980\u001B[0m, in \u001B[0;36mSyncAPIClient._request\u001B[0;34m(self, cast_to, options, remaining_retries, stream, stream_cls)\u001B[0m\n\u001B[1;32m    977\u001B[0m         err\u001B[38;5;241m.\u001B[39mresponse\u001B[38;5;241m.\u001B[39mread()\n\u001B[1;32m    979\u001B[0m     log\u001B[38;5;241m.\u001B[39mdebug(\u001B[38;5;124m\"\u001B[39m\u001B[38;5;124mRe-raising status error\u001B[39m\u001B[38;5;124m\"\u001B[39m)\n\u001B[0;32m--> 980\u001B[0m     \u001B[38;5;28;01mraise\u001B[39;00m \u001B[38;5;28mself\u001B[39m\u001B[38;5;241m.\u001B[39m_make_status_error_from_response(err\u001B[38;5;241m.\u001B[39mresponse) \u001B[38;5;28;01mfrom\u001B[39;00m \u001B[38;5;28;01mNone\u001B[39;00m\n\u001B[1;32m    982\u001B[0m \u001B[38;5;28;01mreturn\u001B[39;00m \u001B[38;5;28mself\u001B[39m\u001B[38;5;241m.\u001B[39m_process_response(\n\u001B[1;32m    983\u001B[0m     cast_to\u001B[38;5;241m=\u001B[39mcast_to,\n\u001B[1;32m    984\u001B[0m     options\u001B[38;5;241m=\u001B[39moptions,\n\u001B[0;32m   (...)\u001B[0m\n\u001B[1;32m    987\u001B[0m     stream_cls\u001B[38;5;241m=\u001B[39mstream_cls,\n\u001B[1;32m    988\u001B[0m )\n",
      "\u001B[0;31mRateLimitError\u001B[0m: Error code: 429 - {'error': {'message': 'You exceeded your current quota, please check your plan and billing details. For more information on this error, read the docs: https://platform.openai.com/docs/guides/error-codes/api-errors.', 'type': 'insufficient_quota', 'param': None, 'code': 'insufficient_quota'}}"
     ]
    }
   ],
   "source": [
    "# Test run \n",
    "test_row = list(candidate_df.iloc[0])\n",
    "generate_plaintext_resume(test_row[1], test_row[2], test_row[4], test_row[3], test_row[5])"
   ],
   "metadata": {
    "collapsed": false,
    "ExecuteTime": {
     "end_time": "2024-03-01T23:05:38.256270Z",
     "start_time": "2024-03-01T23:05:35.564502Z"
    }
   },
   "id": "b78bce7119b4fef3",
   "execution_count": 71
  },
  {
   "cell_type": "code",
   "outputs": [],
   "source": [
    "# Populate PastApplications attribute values by randomly choosing a number between 0 and 50 for each candidate\n",
    "candidate_df = candidate_df.assign(PastApplications=[random.randint(0, 50) for _ in range(len(candidate_df))])\n",
    "candidate_df"
   ],
   "metadata": {
    "collapsed": false
   },
   "id": "67d390b8831be6f5"
  },
  {
   "cell_type": "code",
   "outputs": [],
   "source": [
    "candidate_df.to_csv('data/Candidate.csv', index=False)"
   ],
   "metadata": {
    "collapsed": false
   },
   "id": "16467c8718910fad"
  },
  {
   "cell_type": "markdown",
   "source": [
    "### Job Portal\n",
    "- For each Company represented in our data, we generated a random Portal ID and Name (corresponding to the Company name)."
   ],
   "metadata": {
    "collapsed": false
   },
   "id": "7bb48c4278f22c01"
  },
  {
   "cell_type": "code",
   "outputs": [
    {
     "data": {
      "text/plain": "                      Portal_ID     Company\n0    01HQY4F1HC1XGPARVQC09JMXXB      Skinte\n1    01HQY4F1HCVSC3ECXQQ0181Z9Y   Topicware\n2    01HQY4F1HDQFA6E50X5N6AB7P7     Yakidoo\n3    01HQY4F1HDDE43MHBEJD2ZG5AB    Innotype\n4    01HQY4F1HDZAG3B5F4D146GEXR      Meeveo\n..                          ...         ...\n306  01HQY4F1KTJGBN9QB2FVECCD3F      Tekfly\n307  01HQY4F1KTTVY1YM1ZAMPGP66N        Mita\n308  01HQY4F1KTD55SYC08WZ3410WP  Browseblab\n309  01HQY4F1KTGG0WCW2SH8FCMM4G      Podcat\n310  01HQY4F1KVW1FK5ACZ1DCRFFYG      Wikido\n\n[311 rows x 2 columns]",
      "text/html": "<div>\n<style scoped>\n    .dataframe tbody tr th:only-of-type {\n        vertical-align: middle;\n    }\n\n    .dataframe tbody tr th {\n        vertical-align: top;\n    }\n\n    .dataframe thead th {\n        text-align: right;\n    }\n</style>\n<table border=\"1\" class=\"dataframe\">\n  <thead>\n    <tr style=\"text-align: right;\">\n      <th></th>\n      <th>Portal_ID</th>\n      <th>Company</th>\n    </tr>\n  </thead>\n  <tbody>\n    <tr>\n      <th>0</th>\n      <td>01HQY4F1HC1XGPARVQC09JMXXB</td>\n      <td>Skinte</td>\n    </tr>\n    <tr>\n      <th>1</th>\n      <td>01HQY4F1HCVSC3ECXQQ0181Z9Y</td>\n      <td>Topicware</td>\n    </tr>\n    <tr>\n      <th>2</th>\n      <td>01HQY4F1HDQFA6E50X5N6AB7P7</td>\n      <td>Yakidoo</td>\n    </tr>\n    <tr>\n      <th>3</th>\n      <td>01HQY4F1HDDE43MHBEJD2ZG5AB</td>\n      <td>Innotype</td>\n    </tr>\n    <tr>\n      <th>4</th>\n      <td>01HQY4F1HDZAG3B5F4D146GEXR</td>\n      <td>Meeveo</td>\n    </tr>\n    <tr>\n      <th>...</th>\n      <td>...</td>\n      <td>...</td>\n    </tr>\n    <tr>\n      <th>306</th>\n      <td>01HQY4F1KTJGBN9QB2FVECCD3F</td>\n      <td>Tekfly</td>\n    </tr>\n    <tr>\n      <th>307</th>\n      <td>01HQY4F1KTTVY1YM1ZAMPGP66N</td>\n      <td>Mita</td>\n    </tr>\n    <tr>\n      <th>308</th>\n      <td>01HQY4F1KTD55SYC08WZ3410WP</td>\n      <td>Browseblab</td>\n    </tr>\n    <tr>\n      <th>309</th>\n      <td>01HQY4F1KTGG0WCW2SH8FCMM4G</td>\n      <td>Podcat</td>\n    </tr>\n    <tr>\n      <th>310</th>\n      <td>01HQY4F1KVW1FK5ACZ1DCRFFYG</td>\n      <td>Wikido</td>\n    </tr>\n  </tbody>\n</table>\n<p>311 rows × 2 columns</p>\n</div>"
     },
     "execution_count": 72,
     "metadata": {},
     "output_type": "execute_result"
    }
   ],
   "source": [
    "portal_df = pd.read_csv('data/Mockaroo/Mockaroo-Job_Portal.csv')\n",
    "portal_df"
   ],
   "metadata": {
    "collapsed": false,
    "ExecuteTime": {
     "end_time": "2024-03-01T23:10:26.426460Z",
     "start_time": "2024-03-01T23:10:26.419579Z"
    }
   },
   "id": "42d12b2cefb12cb7",
   "execution_count": 72
  },
  {
   "cell_type": "code",
   "outputs": [
    {
     "data": {
      "text/plain": "                      Portal_ID           Company\n0    01HQY4F1HC1XGPARVQC09JMXXB             Hudl \n1    01HQY4F1HCVSC3ECXQQ0181Z9Y         Alarm.com\n2    01HQY4F1HDQFA6E50X5N6AB7P7            Forbes\n3    01HQY4F1HDDE43MHBEJD2ZG5AB      Konrad Group\n4    01HQY4F1HDZAG3B5F4D146GEXR  Ascend Analytics\n..                          ...               ...\n306  01HQY4F1KTJGBN9QB2FVECCD3F            Zynga \n307  01HQY4F1KTTVY1YM1ZAMPGP66N          Workato \n308  01HQY4F1KTD55SYC08WZ3410WP              Wisk\n309  01HQY4F1KTGG0WCW2SH8FCMM4G         Moveworks\n310  01HQY4F1KVW1FK5ACZ1DCRFFYG            PlusAI\n\n[311 rows x 2 columns]",
      "text/html": "<div>\n<style scoped>\n    .dataframe tbody tr th:only-of-type {\n        vertical-align: middle;\n    }\n\n    .dataframe tbody tr th {\n        vertical-align: top;\n    }\n\n    .dataframe thead th {\n        text-align: right;\n    }\n</style>\n<table border=\"1\" class=\"dataframe\">\n  <thead>\n    <tr style=\"text-align: right;\">\n      <th></th>\n      <th>Portal_ID</th>\n      <th>Company</th>\n    </tr>\n  </thead>\n  <tbody>\n    <tr>\n      <th>0</th>\n      <td>01HQY4F1HC1XGPARVQC09JMXXB</td>\n      <td>Hudl</td>\n    </tr>\n    <tr>\n      <th>1</th>\n      <td>01HQY4F1HCVSC3ECXQQ0181Z9Y</td>\n      <td>Alarm.com</td>\n    </tr>\n    <tr>\n      <th>2</th>\n      <td>01HQY4F1HDQFA6E50X5N6AB7P7</td>\n      <td>Forbes</td>\n    </tr>\n    <tr>\n      <th>3</th>\n      <td>01HQY4F1HDDE43MHBEJD2ZG5AB</td>\n      <td>Konrad Group</td>\n    </tr>\n    <tr>\n      <th>4</th>\n      <td>01HQY4F1HDZAG3B5F4D146GEXR</td>\n      <td>Ascend Analytics</td>\n    </tr>\n    <tr>\n      <th>...</th>\n      <td>...</td>\n      <td>...</td>\n    </tr>\n    <tr>\n      <th>306</th>\n      <td>01HQY4F1KTJGBN9QB2FVECCD3F</td>\n      <td>Zynga</td>\n    </tr>\n    <tr>\n      <th>307</th>\n      <td>01HQY4F1KTTVY1YM1ZAMPGP66N</td>\n      <td>Workato</td>\n    </tr>\n    <tr>\n      <th>308</th>\n      <td>01HQY4F1KTD55SYC08WZ3410WP</td>\n      <td>Wisk</td>\n    </tr>\n    <tr>\n      <th>309</th>\n      <td>01HQY4F1KTGG0WCW2SH8FCMM4G</td>\n      <td>Moveworks</td>\n    </tr>\n    <tr>\n      <th>310</th>\n      <td>01HQY4F1KVW1FK5ACZ1DCRFFYG</td>\n      <td>PlusAI</td>\n    </tr>\n  </tbody>\n</table>\n<p>311 rows × 2 columns</p>\n</div>"
     },
     "execution_count": 74,
     "metadata": {},
     "output_type": "execute_result"
    }
   ],
   "source": [
    "portal_df['Company'] = all_company_names\n",
    "portal_df"
   ],
   "metadata": {
    "collapsed": false,
    "ExecuteTime": {
     "end_time": "2024-03-01T23:12:04.149353Z",
     "start_time": "2024-03-01T23:12:04.142539Z"
    }
   },
   "id": "7f1223f34e585ca1",
   "execution_count": 74
  },
  {
   "cell_type": "code",
   "outputs": [],
   "source": [
    "portal_df.to_csv('data/Job_Portal.csv', index=False)"
   ],
   "metadata": {
    "collapsed": false,
    "ExecuteTime": {
     "end_time": "2024-03-01T23:12:29.066709Z",
     "start_time": "2024-03-01T23:12:29.053213Z"
    }
   },
   "id": "287e1116e4b84b60",
   "execution_count": 75
  },
  {
   "cell_type": "markdown",
   "source": [
    "### Review"
   ],
   "metadata": {
    "collapsed": false
   },
   "id": "dfed14da682bf298"
  },
  {
   "cell_type": "code",
   "outputs": [],
   "source": [
    "# Generate Reviews using random review ID and an LLM for the Review body"
   ],
   "metadata": {
    "collapsed": false,
    "ExecuteTime": {
     "end_time": "2024-03-01T02:50:30.183414Z",
     "start_time": "2024-03-01T02:50:30.181397Z"
    }
   },
   "id": "65f8348474bf9868",
   "execution_count": null
  },
  {
   "cell_type": "code",
   "outputs": [],
   "source": [],
   "metadata": {
    "collapsed": false
   },
   "id": "497c50fd1e2f8100"
  }
 ],
 "metadata": {
  "kernelspec": {
   "display_name": "Python 3",
   "language": "python",
   "name": "python3"
  },
  "language_info": {
   "codemirror_mode": {
    "name": "ipython",
    "version": 2
   },
   "file_extension": ".py",
   "mimetype": "text/x-python",
   "name": "python",
   "nbconvert_exporter": "python",
   "pygments_lexer": "ipython2",
   "version": "2.7.6"
  }
 },
 "nbformat": 4,
 "nbformat_minor": 5
}
